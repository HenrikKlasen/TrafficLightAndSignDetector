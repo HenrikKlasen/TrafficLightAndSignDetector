{
 "cells": [
  {
   "cell_type": "markdown",
   "metadata": {},
   "source": [
    "# Training the model"
   ]
  },
  {
   "cell_type": "markdown",
   "metadata": {},
   "source": [
    "Import all necessary libraries (cv2, ultralytics), as well as helper libraries (os for removing the KMP_DUPLICATE_LIB_OK error and tqdm for progressbars in training process)"
   ]
  },
  {
   "cell_type": "code",
   "execution_count": 1,
   "metadata": {},
   "outputs": [],
   "source": [
    "import cv2\n",
    "import os\n",
    "os.environ[\"KMP_DUPLICATE_LIB_OK\"]=\"TRUE\"\n",
    "\n",
    "from ultralytics import YOLO\n",
    "from tqdm import tqdm"
   ]
  },
  {
   "cell_type": "markdown",
   "metadata": {},
   "source": [
    "Import the model"
   ]
  },
  {
   "cell_type": "code",
   "execution_count": 4,
   "metadata": {},
   "outputs": [],
   "source": [
    "model = YOLO(\"yolov10b.pt\")"
   ]
  },
  {
   "cell_type": "markdown",
   "metadata": {},
   "source": [
    "Define all methods for prediction"
   ]
  },
  {
   "cell_type": "code",
   "execution_count": 5,
   "metadata": {},
   "outputs": [],
   "source": [
    "def predict(chosen_model, img, classes=[], conf=0.5):\n",
    "    if classes:\n",
    "        results = chosen_model.predict(img, classes=classes, conf=conf)\n",
    "    else:\n",
    "        results = chosen_model.predict(img, conf=conf)\n",
    "\n",
    "    return results\n",
    "\n",
    "\n",
    "def predict_and_detect(chosen_model, img, classes=[], conf=0.5, rectangle_thickness=2, text_thickness=1):\n",
    "    results = predict(chosen_model, img, classes, conf=conf)\n",
    "    for result in results:\n",
    "        for box in result.boxes:\n",
    "            cv2.rectangle(img, (int(box.xyxy[0][0]), int(box.xyxy[0][1])),\n",
    "                          (int(box.xyxy[0][2]), int(box.xyxy[0][3])), (255, 0, 0), rectangle_thickness)\n",
    "            cv2.putText(img, f\"{result.names[int(box.cls[0])]}\",\n",
    "                        (int(box.xyxy[0][0]), int(box.xyxy[0][1]) - 10),\n",
    "                        cv2.FONT_HERSHEY_PLAIN, 1, (255, 0, 0), text_thickness)\n",
    "    return img, results\n",
    "\n",
    "# read the image\n",
    "#results = model.train(data=\"data.yaml\", epochs=50, imgsz=320, device=0)\n",
    "#image = cv2.imread(\"test/images/00000_00000_00003_png.rf.d18afc3c9625ffb1974029d3e3762aee.jpg\")\n",
    "#result_img, _ = predict_and_detect(model, image, classes=[], conf=0.5)\n",
    "\n",
    "#cv2.imshow(\"Image\", result_img)\n",
    "#cv2.imwrite(\"target/target.png\", result_img)\n",
    "#cv2.waitKey(0)"
   ]
  },
  {
   "cell_type": "markdown",
   "metadata": {},
   "source": [
    "Train model"
   ]
  },
  {
   "cell_type": "code",
   "execution_count": 6,
   "metadata": {},
   "outputs": [
    {
     "name": "stdout",
     "output_type": "stream",
     "text": [
      "New https://pypi.org/project/ultralytics/8.3.65 available  Update with 'pip install -U ultralytics'\n",
      "Ultralytics 8.3.6  Python-3.9.18 torch-2.4.1 CUDA:0 (NVIDIA GeForce RTX 3060 Laptop GPU, 6144MiB)\n",
      "\u001b[34m\u001b[1mengine\\trainer: \u001b[0mtask=detect, mode=train, model=yolov10b.pt, data=data.yaml, epochs=50, time=None, patience=100, batch=16, imgsz=448, save=True, save_period=-1, cache=False, device=None, workers=8, project=None, name=train26, exist_ok=False, pretrained=True, optimizer=auto, verbose=True, seed=0, deterministic=True, single_cls=False, rect=False, cos_lr=False, close_mosaic=10, resume=False, amp=True, fraction=1.0, profile=False, freeze=None, multi_scale=False, overlap_mask=True, mask_ratio=4, dropout=0.0, val=True, split=val, save_json=False, save_hybrid=False, conf=None, iou=0.7, max_det=300, half=False, dnn=False, plots=True, source=None, vid_stride=1, stream_buffer=False, visualize=False, augment=False, agnostic_nms=False, classes=None, retina_masks=False, embed=None, show=False, save_frames=False, save_txt=False, save_conf=False, save_crop=False, show_labels=True, show_conf=True, show_boxes=True, line_width=None, format=torchscript, keras=False, optimize=False, int8=False, dynamic=False, simplify=True, opset=None, workspace=4, nms=False, lr0=0.01, lrf=0.01, momentum=0.937, weight_decay=0.0005, warmup_epochs=3.0, warmup_momentum=0.8, warmup_bias_lr=0.1, box=7.5, cls=0.5, dfl=1.5, pose=12.0, kobj=1.0, label_smoothing=0.0, nbs=64, hsv_h=0.015, hsv_s=0.7, hsv_v=0.4, degrees=0.0, translate=0.1, scale=0.5, shear=0.0, perspective=0.0, flipud=0.0, fliplr=0.5, bgr=0.0, mosaic=1.0, mixup=0.0, copy_paste=0.0, copy_paste_mode=flip, auto_augment=randaugment, erasing=0.4, crop_fraction=1.0, cfg=None, tracker=botsort.yaml, save_dir=runs\\detect\\train26\n",
      "Overriding model.yaml nc=80 with nc=22\n",
      "WARNING  no model scale passed. Assuming scale='b'.\n",
      "\n",
      "                   from  n    params  module                                       arguments                     \n",
      "  0                  -1  1      1856  ultralytics.nn.modules.conv.Conv             [3, 64, 3, 2]                 \n",
      "  1                  -1  1     73984  ultralytics.nn.modules.conv.Conv             [64, 128, 3, 2]               \n",
      "  2                  -1  2    197632  ultralytics.nn.modules.block.C2f             [128, 128, 2, True]           \n",
      "  3                  -1  1    295424  ultralytics.nn.modules.conv.Conv             [128, 256, 3, 2]              \n",
      "  4                  -1  4   1444864  ultralytics.nn.modules.block.C2f             [256, 256, 4, True]           \n",
      "  5                  -1  1    137728  ultralytics.nn.modules.block.SCDown          [256, 512, 3, 2]              \n",
      "  6                  -1  4   5773312  ultralytics.nn.modules.block.C2f             [512, 512, 4, True]           \n",
      "  7                  -1  1    268800  ultralytics.nn.modules.block.SCDown          [512, 512, 3, 2]              \n",
      "  8                  -1  2   1338368  ultralytics.nn.modules.block.C2fCIB          [512, 512, 2, True]           \n",
      "  9                  -1  1    656896  ultralytics.nn.modules.block.SPPF            [512, 512, 5]                 \n",
      " 10                  -1  1    990976  ultralytics.nn.modules.block.PSA             [512, 512]                    \n",
      " 11                  -1  1         0  torch.nn.modules.upsampling.Upsample         [None, 2, 'nearest']          \n",
      " 12             [-1, 6]  1         0  ultralytics.nn.modules.conv.Concat           [1]                           \n",
      " 13                  -1  2   1600512  ultralytics.nn.modules.block.C2fCIB          [1024, 512, 2, True]          \n",
      " 14                  -1  1         0  torch.nn.modules.upsampling.Upsample         [None, 2, 'nearest']          \n",
      " 15             [-1, 4]  1         0  ultralytics.nn.modules.conv.Concat           [1]                           \n",
      " 16                  -1  2    919552  ultralytics.nn.modules.block.C2f             [768, 256, 2]                 \n",
      " 17                  -1  1    590336  ultralytics.nn.modules.conv.Conv             [256, 256, 3, 2]              \n",
      " 18            [-1, 13]  1         0  ultralytics.nn.modules.conv.Concat           [1]                           \n",
      " 19                  -1  2   1469440  ultralytics.nn.modules.block.C2fCIB          [768, 512, 2, True]           \n",
      " 20                  -1  1    268800  ultralytics.nn.modules.block.SCDown          [512, 512, 3, 2]              \n",
      " 21            [-1, 10]  1         0  ultralytics.nn.modules.conv.Concat           [1]                           \n",
      " 22                  -1  2   1600512  ultralytics.nn.modules.block.C2fCIB          [1024, 512, 2, True]          \n"
     ]
    },
    {
     "name": "stderr",
     "output_type": "stream",
     "text": [
      "c:\\Users\\henri\\anaconda3\\envs\\tf-gpu\\lib\\site-packages\\tensorflow\\python\\framework\\dtypes.py:585: FutureWarning: In the future `np.object` will be defined as the corresponding NumPy scalar.\n",
      "  np.object,\n"
     ]
    },
    {
     "name": "stdout",
     "output_type": "stream",
     "text": [
      " 23        [16, 19, 22]  1   2855956  ultralytics.nn.modules.head.v10Detect        [22, [256, 512, 512]]         \n",
      "YOLOv10b summary: 518 layers, 20,484,948 parameters, 20,484,932 gradients, 98.9 GFLOPs\n",
      "\n",
      "Transferred 823/835 items from pretrained weights\n",
      "Freezing layer 'model.23.dfl.conv.weight'\n",
      "\u001b[34m\u001b[1mAMP: \u001b[0mrunning Automatic Mixed Precision (AMP) checks with YOLO11n...\n"
     ]
    },
    {
     "ename": "KeyboardInterrupt",
     "evalue": "",
     "output_type": "error",
     "traceback": [
      "\u001b[1;31m---------------------------------------------------------------------------\u001b[0m",
      "\u001b[1;31mKeyboardInterrupt\u001b[0m                         Traceback (most recent call last)",
      "Cell \u001b[1;32mIn[6], line 1\u001b[0m\n\u001b[1;32m----> 1\u001b[0m results \u001b[38;5;241m=\u001b[39m \u001b[43mmodel\u001b[49m\u001b[38;5;241;43m.\u001b[39;49m\u001b[43mtrain\u001b[49m\u001b[43m(\u001b[49m\u001b[43mdata\u001b[49m\u001b[38;5;241;43m=\u001b[39;49m\u001b[38;5;124;43m\"\u001b[39;49m\u001b[38;5;124;43mdata.yaml\u001b[39;49m\u001b[38;5;124;43m\"\u001b[39;49m\u001b[43m,\u001b[49m\u001b[43m \u001b[49m\u001b[43mepochs\u001b[49m\u001b[38;5;241;43m=\u001b[39;49m\u001b[38;5;241;43m50\u001b[39;49m\u001b[43m,\u001b[49m\u001b[43m \u001b[49m\u001b[43mimgsz\u001b[49m\u001b[38;5;241;43m=\u001b[39;49m\u001b[38;5;241;43m448\u001b[39;49m\u001b[43m)\u001b[49m\n\u001b[0;32m      2\u001b[0m \u001b[38;5;66;03m#image = cv2.imread(\"test/images/00000_00000_00003_png.rf.d18afc3c9625ffb1974029d3e3762aee.jpg\")\u001b[39;00m\n\u001b[0;32m      3\u001b[0m \u001b[38;5;66;03m#result_img, _ = predict_and_detect(model, image, classes=[], conf=0.5)\u001b[39;00m\n\u001b[0;32m      4\u001b[0m \u001b[38;5;66;03m#cv2.imshow(\"Image\", result_img)\u001b[39;00m\n\u001b[0;32m      5\u001b[0m \u001b[38;5;66;03m#cv2.imwrite(\"target/target.png\", result_img)\u001b[39;00m\n\u001b[0;32m      6\u001b[0m \u001b[38;5;66;03m#cv2.waitKey(0)\u001b[39;00m\n",
      "File \u001b[1;32mc:\\Users\\henri\\anaconda3\\envs\\tf-gpu\\lib\\site-packages\\ultralytics\\engine\\model.py:802\u001b[0m, in \u001b[0;36mModel.train\u001b[1;34m(self, trainer, **kwargs)\u001b[0m\n\u001b[0;32m    799\u001b[0m     \u001b[38;5;28mself\u001b[39m\u001b[38;5;241m.\u001b[39mmodel \u001b[38;5;241m=\u001b[39m \u001b[38;5;28mself\u001b[39m\u001b[38;5;241m.\u001b[39mtrainer\u001b[38;5;241m.\u001b[39mmodel\n\u001b[0;32m    801\u001b[0m \u001b[38;5;28mself\u001b[39m\u001b[38;5;241m.\u001b[39mtrainer\u001b[38;5;241m.\u001b[39mhub_session \u001b[38;5;241m=\u001b[39m \u001b[38;5;28mself\u001b[39m\u001b[38;5;241m.\u001b[39msession  \u001b[38;5;66;03m# attach optional HUB session\u001b[39;00m\n\u001b[1;32m--> 802\u001b[0m \u001b[38;5;28;43mself\u001b[39;49m\u001b[38;5;241;43m.\u001b[39;49m\u001b[43mtrainer\u001b[49m\u001b[38;5;241;43m.\u001b[39;49m\u001b[43mtrain\u001b[49m\u001b[43m(\u001b[49m\u001b[43m)\u001b[49m\n\u001b[0;32m    803\u001b[0m \u001b[38;5;66;03m# Update model and cfg after training\u001b[39;00m\n\u001b[0;32m    804\u001b[0m \u001b[38;5;28;01mif\u001b[39;00m RANK \u001b[38;5;129;01min\u001b[39;00m {\u001b[38;5;241m-\u001b[39m\u001b[38;5;241m1\u001b[39m, \u001b[38;5;241m0\u001b[39m}:\n",
      "File \u001b[1;32mc:\\Users\\henri\\anaconda3\\envs\\tf-gpu\\lib\\site-packages\\ultralytics\\engine\\trainer.py:207\u001b[0m, in \u001b[0;36mBaseTrainer.train\u001b[1;34m(self)\u001b[0m\n\u001b[0;32m    204\u001b[0m         ddp_cleanup(\u001b[38;5;28mself\u001b[39m, \u001b[38;5;28mstr\u001b[39m(file))\n\u001b[0;32m    206\u001b[0m \u001b[38;5;28;01melse\u001b[39;00m:\n\u001b[1;32m--> 207\u001b[0m     \u001b[38;5;28;43mself\u001b[39;49m\u001b[38;5;241;43m.\u001b[39;49m\u001b[43m_do_train\u001b[49m\u001b[43m(\u001b[49m\u001b[43mworld_size\u001b[49m\u001b[43m)\u001b[49m\n",
      "File \u001b[1;32mc:\\Users\\henri\\anaconda3\\envs\\tf-gpu\\lib\\site-packages\\ultralytics\\engine\\trainer.py:327\u001b[0m, in \u001b[0;36mBaseTrainer._do_train\u001b[1;34m(self, world_size)\u001b[0m\n\u001b[0;32m    325\u001b[0m \u001b[38;5;28;01mif\u001b[39;00m world_size \u001b[38;5;241m>\u001b[39m \u001b[38;5;241m1\u001b[39m:\n\u001b[0;32m    326\u001b[0m     \u001b[38;5;28mself\u001b[39m\u001b[38;5;241m.\u001b[39m_setup_ddp(world_size)\n\u001b[1;32m--> 327\u001b[0m \u001b[38;5;28;43mself\u001b[39;49m\u001b[38;5;241;43m.\u001b[39;49m\u001b[43m_setup_train\u001b[49m\u001b[43m(\u001b[49m\u001b[43mworld_size\u001b[49m\u001b[43m)\u001b[49m\n\u001b[0;32m    329\u001b[0m nb \u001b[38;5;241m=\u001b[39m \u001b[38;5;28mlen\u001b[39m(\u001b[38;5;28mself\u001b[39m\u001b[38;5;241m.\u001b[39mtrain_loader)  \u001b[38;5;66;03m# number of batches\u001b[39;00m\n\u001b[0;32m    330\u001b[0m nw \u001b[38;5;241m=\u001b[39m \u001b[38;5;28mmax\u001b[39m(\u001b[38;5;28mround\u001b[39m(\u001b[38;5;28mself\u001b[39m\u001b[38;5;241m.\u001b[39margs\u001b[38;5;241m.\u001b[39mwarmup_epochs \u001b[38;5;241m*\u001b[39m nb), \u001b[38;5;241m100\u001b[39m) \u001b[38;5;28;01mif\u001b[39;00m \u001b[38;5;28mself\u001b[39m\u001b[38;5;241m.\u001b[39margs\u001b[38;5;241m.\u001b[39mwarmup_epochs \u001b[38;5;241m>\u001b[39m \u001b[38;5;241m0\u001b[39m \u001b[38;5;28;01melse\u001b[39;00m \u001b[38;5;241m-\u001b[39m\u001b[38;5;241m1\u001b[39m  \u001b[38;5;66;03m# warmup iterations\u001b[39;00m\n",
      "File \u001b[1;32mc:\\Users\\henri\\anaconda3\\envs\\tf-gpu\\lib\\site-packages\\ultralytics\\engine\\trainer.py:264\u001b[0m, in \u001b[0;36mBaseTrainer._setup_train\u001b[1;34m(self, world_size)\u001b[0m\n\u001b[0;32m    262\u001b[0m \u001b[38;5;28;01mif\u001b[39;00m \u001b[38;5;28mself\u001b[39m\u001b[38;5;241m.\u001b[39mamp \u001b[38;5;129;01mand\u001b[39;00m RANK \u001b[38;5;129;01min\u001b[39;00m {\u001b[38;5;241m-\u001b[39m\u001b[38;5;241m1\u001b[39m, \u001b[38;5;241m0\u001b[39m}:  \u001b[38;5;66;03m# Single-GPU and DDP\u001b[39;00m\n\u001b[0;32m    263\u001b[0m     callbacks_backup \u001b[38;5;241m=\u001b[39m callbacks\u001b[38;5;241m.\u001b[39mdefault_callbacks\u001b[38;5;241m.\u001b[39mcopy()  \u001b[38;5;66;03m# backup callbacks as check_amp() resets them\u001b[39;00m\n\u001b[1;32m--> 264\u001b[0m     \u001b[38;5;28mself\u001b[39m\u001b[38;5;241m.\u001b[39mamp \u001b[38;5;241m=\u001b[39m torch\u001b[38;5;241m.\u001b[39mtensor(\u001b[43mcheck_amp\u001b[49m\u001b[43m(\u001b[49m\u001b[38;5;28;43mself\u001b[39;49m\u001b[38;5;241;43m.\u001b[39;49m\u001b[43mmodel\u001b[49m\u001b[43m)\u001b[49m, device\u001b[38;5;241m=\u001b[39m\u001b[38;5;28mself\u001b[39m\u001b[38;5;241m.\u001b[39mdevice)\n\u001b[0;32m    265\u001b[0m     callbacks\u001b[38;5;241m.\u001b[39mdefault_callbacks \u001b[38;5;241m=\u001b[39m callbacks_backup  \u001b[38;5;66;03m# restore callbacks\u001b[39;00m\n\u001b[0;32m    266\u001b[0m \u001b[38;5;28;01mif\u001b[39;00m RANK \u001b[38;5;241m>\u001b[39m \u001b[38;5;241m-\u001b[39m\u001b[38;5;241m1\u001b[39m \u001b[38;5;129;01mand\u001b[39;00m world_size \u001b[38;5;241m>\u001b[39m \u001b[38;5;241m1\u001b[39m:  \u001b[38;5;66;03m# DDP\u001b[39;00m\n",
      "File \u001b[1;32mc:\\Users\\henri\\anaconda3\\envs\\tf-gpu\\lib\\site-packages\\ultralytics\\utils\\checks.py:690\u001b[0m, in \u001b[0;36mcheck_amp\u001b[1;34m(model)\u001b[0m\n\u001b[0;32m    687\u001b[0m \u001b[38;5;28;01mtry\u001b[39;00m:\n\u001b[0;32m    688\u001b[0m     \u001b[38;5;28;01mfrom\u001b[39;00m \u001b[38;5;21;01multralytics\u001b[39;00m \u001b[38;5;28;01mimport\u001b[39;00m YOLO\n\u001b[1;32m--> 690\u001b[0m     \u001b[38;5;28;01massert\u001b[39;00m \u001b[43mamp_allclose\u001b[49m\u001b[43m(\u001b[49m\u001b[43mYOLO\u001b[49m\u001b[43m(\u001b[49m\u001b[38;5;124;43m\"\u001b[39;49m\u001b[38;5;124;43myolo11n.pt\u001b[39;49m\u001b[38;5;124;43m\"\u001b[39;49m\u001b[43m)\u001b[49m\u001b[43m,\u001b[49m\u001b[43m \u001b[49m\u001b[43mim\u001b[49m\u001b[43m)\u001b[49m\n\u001b[0;32m    691\u001b[0m     LOGGER\u001b[38;5;241m.\u001b[39minfo(\u001b[38;5;124mf\u001b[39m\u001b[38;5;124m\"\u001b[39m\u001b[38;5;132;01m{\u001b[39;00mprefix\u001b[38;5;132;01m}\u001b[39;00m\u001b[38;5;124mchecks passed ✅\u001b[39m\u001b[38;5;124m\"\u001b[39m)\n\u001b[0;32m    692\u001b[0m \u001b[38;5;28;01mexcept\u001b[39;00m \u001b[38;5;167;01mConnectionError\u001b[39;00m:\n",
      "File \u001b[1;32mc:\\Users\\henri\\anaconda3\\envs\\tf-gpu\\lib\\site-packages\\ultralytics\\utils\\checks.py:677\u001b[0m, in \u001b[0;36mcheck_amp.<locals>.amp_allclose\u001b[1;34m(m, im)\u001b[0m\n\u001b[0;32m    675\u001b[0m batch \u001b[38;5;241m=\u001b[39m [im] \u001b[38;5;241m*\u001b[39m \u001b[38;5;241m8\u001b[39m\n\u001b[0;32m    676\u001b[0m imgsz \u001b[38;5;241m=\u001b[39m \u001b[38;5;28mmax\u001b[39m(\u001b[38;5;241m256\u001b[39m, \u001b[38;5;28mint\u001b[39m(model\u001b[38;5;241m.\u001b[39mstride\u001b[38;5;241m.\u001b[39mmax() \u001b[38;5;241m*\u001b[39m \u001b[38;5;241m4\u001b[39m))  \u001b[38;5;66;03m# max stride P5-32 and P6-64\u001b[39;00m\n\u001b[1;32m--> 677\u001b[0m a \u001b[38;5;241m=\u001b[39m \u001b[43mm\u001b[49m\u001b[43m(\u001b[49m\u001b[43mbatch\u001b[49m\u001b[43m,\u001b[49m\u001b[43m \u001b[49m\u001b[43mimgsz\u001b[49m\u001b[38;5;241;43m=\u001b[39;49m\u001b[43mimgsz\u001b[49m\u001b[43m,\u001b[49m\u001b[43m \u001b[49m\u001b[43mdevice\u001b[49m\u001b[38;5;241;43m=\u001b[39;49m\u001b[43mdevice\u001b[49m\u001b[43m,\u001b[49m\u001b[43m \u001b[49m\u001b[43mverbose\u001b[49m\u001b[38;5;241;43m=\u001b[39;49m\u001b[38;5;28;43;01mFalse\u001b[39;49;00m\u001b[43m)\u001b[49m[\u001b[38;5;241m0\u001b[39m]\u001b[38;5;241m.\u001b[39mboxes\u001b[38;5;241m.\u001b[39mdata  \u001b[38;5;66;03m# FP32 inference\u001b[39;00m\n\u001b[0;32m    678\u001b[0m \u001b[38;5;28;01mwith\u001b[39;00m autocast(enabled\u001b[38;5;241m=\u001b[39m\u001b[38;5;28;01mTrue\u001b[39;00m):\n\u001b[0;32m    679\u001b[0m     b \u001b[38;5;241m=\u001b[39m m(batch, imgsz\u001b[38;5;241m=\u001b[39mimgsz, device\u001b[38;5;241m=\u001b[39mdevice, verbose\u001b[38;5;241m=\u001b[39m\u001b[38;5;28;01mFalse\u001b[39;00m)[\u001b[38;5;241m0\u001b[39m]\u001b[38;5;241m.\u001b[39mboxes\u001b[38;5;241m.\u001b[39mdata  \u001b[38;5;66;03m# AMP inference\u001b[39;00m\n",
      "File \u001b[1;32mc:\\Users\\henri\\anaconda3\\envs\\tf-gpu\\lib\\site-packages\\ultralytics\\engine\\model.py:176\u001b[0m, in \u001b[0;36mModel.__call__\u001b[1;34m(self, source, stream, **kwargs)\u001b[0m\n\u001b[0;32m    147\u001b[0m \u001b[38;5;28;01mdef\u001b[39;00m \u001b[38;5;21m__call__\u001b[39m(\n\u001b[0;32m    148\u001b[0m     \u001b[38;5;28mself\u001b[39m,\n\u001b[0;32m    149\u001b[0m     source: Union[\u001b[38;5;28mstr\u001b[39m, Path, \u001b[38;5;28mint\u001b[39m, Image\u001b[38;5;241m.\u001b[39mImage, \u001b[38;5;28mlist\u001b[39m, \u001b[38;5;28mtuple\u001b[39m, np\u001b[38;5;241m.\u001b[39mndarray, torch\u001b[38;5;241m.\u001b[39mTensor] \u001b[38;5;241m=\u001b[39m \u001b[38;5;28;01mNone\u001b[39;00m,\n\u001b[0;32m    150\u001b[0m     stream: \u001b[38;5;28mbool\u001b[39m \u001b[38;5;241m=\u001b[39m \u001b[38;5;28;01mFalse\u001b[39;00m,\n\u001b[0;32m    151\u001b[0m     \u001b[38;5;241m*\u001b[39m\u001b[38;5;241m*\u001b[39mkwargs,\n\u001b[0;32m    152\u001b[0m ) \u001b[38;5;241m-\u001b[39m\u001b[38;5;241m>\u001b[39m \u001b[38;5;28mlist\u001b[39m:\n\u001b[0;32m    153\u001b[0m \u001b[38;5;250m    \u001b[39m\u001b[38;5;124;03m\"\"\"\u001b[39;00m\n\u001b[0;32m    154\u001b[0m \u001b[38;5;124;03m    Alias for the predict method, enabling the model instance to be callable for predictions.\u001b[39;00m\n\u001b[0;32m    155\u001b[0m \n\u001b[1;32m   (...)\u001b[0m\n\u001b[0;32m    174\u001b[0m \u001b[38;5;124;03m        ...     print(f\"Detected {len(r)} objects in image\")\u001b[39;00m\n\u001b[0;32m    175\u001b[0m \u001b[38;5;124;03m    \"\"\"\u001b[39;00m\n\u001b[1;32m--> 176\u001b[0m     \u001b[38;5;28;01mreturn\u001b[39;00m \u001b[38;5;28mself\u001b[39m\u001b[38;5;241m.\u001b[39mpredict(source, stream, \u001b[38;5;241m*\u001b[39m\u001b[38;5;241m*\u001b[39mkwargs)\n",
      "File \u001b[1;32mc:\\Users\\henri\\anaconda3\\envs\\tf-gpu\\lib\\site-packages\\ultralytics\\engine\\model.py:554\u001b[0m, in \u001b[0;36mModel.predict\u001b[1;34m(self, source, stream, predictor, **kwargs)\u001b[0m\n\u001b[0;32m    552\u001b[0m \u001b[38;5;28;01mif\u001b[39;00m prompts \u001b[38;5;129;01mand\u001b[39;00m \u001b[38;5;28mhasattr\u001b[39m(\u001b[38;5;28mself\u001b[39m\u001b[38;5;241m.\u001b[39mpredictor, \u001b[38;5;124m\"\u001b[39m\u001b[38;5;124mset_prompts\u001b[39m\u001b[38;5;124m\"\u001b[39m):  \u001b[38;5;66;03m# for SAM-type models\u001b[39;00m\n\u001b[0;32m    553\u001b[0m     \u001b[38;5;28mself\u001b[39m\u001b[38;5;241m.\u001b[39mpredictor\u001b[38;5;241m.\u001b[39mset_prompts(prompts)\n\u001b[1;32m--> 554\u001b[0m \u001b[38;5;28;01mreturn\u001b[39;00m \u001b[38;5;28mself\u001b[39m\u001b[38;5;241m.\u001b[39mpredictor\u001b[38;5;241m.\u001b[39mpredict_cli(source\u001b[38;5;241m=\u001b[39msource) \u001b[38;5;28;01mif\u001b[39;00m is_cli \u001b[38;5;28;01melse\u001b[39;00m \u001b[38;5;28;43mself\u001b[39;49m\u001b[38;5;241;43m.\u001b[39;49m\u001b[43mpredictor\u001b[49m\u001b[43m(\u001b[49m\u001b[43msource\u001b[49m\u001b[38;5;241;43m=\u001b[39;49m\u001b[43msource\u001b[49m\u001b[43m,\u001b[49m\u001b[43m \u001b[49m\u001b[43mstream\u001b[49m\u001b[38;5;241;43m=\u001b[39;49m\u001b[43mstream\u001b[49m\u001b[43m)\u001b[49m\n",
      "File \u001b[1;32mc:\\Users\\henri\\anaconda3\\envs\\tf-gpu\\lib\\site-packages\\ultralytics\\engine\\predictor.py:168\u001b[0m, in \u001b[0;36mBasePredictor.__call__\u001b[1;34m(self, source, model, stream, *args, **kwargs)\u001b[0m\n\u001b[0;32m    166\u001b[0m     \u001b[38;5;28;01mreturn\u001b[39;00m \u001b[38;5;28mself\u001b[39m\u001b[38;5;241m.\u001b[39mstream_inference(source, model, \u001b[38;5;241m*\u001b[39margs, \u001b[38;5;241m*\u001b[39m\u001b[38;5;241m*\u001b[39mkwargs)\n\u001b[0;32m    167\u001b[0m \u001b[38;5;28;01melse\u001b[39;00m:\n\u001b[1;32m--> 168\u001b[0m     \u001b[38;5;28;01mreturn\u001b[39;00m \u001b[38;5;28;43mlist\u001b[39;49m\u001b[43m(\u001b[49m\u001b[38;5;28;43mself\u001b[39;49m\u001b[38;5;241;43m.\u001b[39;49m\u001b[43mstream_inference\u001b[49m\u001b[43m(\u001b[49m\u001b[43msource\u001b[49m\u001b[43m,\u001b[49m\u001b[43m \u001b[49m\u001b[43mmodel\u001b[49m\u001b[43m,\u001b[49m\u001b[43m \u001b[49m\u001b[38;5;241;43m*\u001b[39;49m\u001b[43margs\u001b[49m\u001b[43m,\u001b[49m\u001b[43m \u001b[49m\u001b[38;5;241;43m*\u001b[39;49m\u001b[38;5;241;43m*\u001b[39;49m\u001b[43mkwargs\u001b[49m\u001b[43m)\u001b[49m\u001b[43m)\u001b[49m\n",
      "File \u001b[1;32mc:\\Users\\henri\\anaconda3\\envs\\tf-gpu\\lib\\site-packages\\torch\\utils\\_contextlib.py:36\u001b[0m, in \u001b[0;36m_wrap_generator.<locals>.generator_context\u001b[1;34m(*args, **kwargs)\u001b[0m\n\u001b[0;32m     33\u001b[0m \u001b[38;5;28;01mtry\u001b[39;00m:\n\u001b[0;32m     34\u001b[0m     \u001b[38;5;66;03m# Issuing `None` to a generator fires it up\u001b[39;00m\n\u001b[0;32m     35\u001b[0m     \u001b[38;5;28;01mwith\u001b[39;00m ctx_factory():\n\u001b[1;32m---> 36\u001b[0m         response \u001b[38;5;241m=\u001b[39m \u001b[43mgen\u001b[49m\u001b[38;5;241;43m.\u001b[39;49m\u001b[43msend\u001b[49m\u001b[43m(\u001b[49m\u001b[38;5;28;43;01mNone\u001b[39;49;00m\u001b[43m)\u001b[49m\n\u001b[0;32m     38\u001b[0m     \u001b[38;5;28;01mwhile\u001b[39;00m \u001b[38;5;28;01mTrue\u001b[39;00m:\n\u001b[0;32m     39\u001b[0m         \u001b[38;5;28;01mtry\u001b[39;00m:\n\u001b[0;32m     40\u001b[0m             \u001b[38;5;66;03m# Forward the response to our caller and get its next request\u001b[39;00m\n",
      "File \u001b[1;32mc:\\Users\\henri\\anaconda3\\envs\\tf-gpu\\lib\\site-packages\\ultralytics\\engine\\predictor.py:261\u001b[0m, in \u001b[0;36mBasePredictor.stream_inference\u001b[1;34m(self, source, model, *args, **kwargs)\u001b[0m\n\u001b[0;32m    259\u001b[0m \u001b[38;5;66;03m# Postprocess\u001b[39;00m\n\u001b[0;32m    260\u001b[0m \u001b[38;5;28;01mwith\u001b[39;00m profilers[\u001b[38;5;241m2\u001b[39m]:\n\u001b[1;32m--> 261\u001b[0m     \u001b[38;5;28mself\u001b[39m\u001b[38;5;241m.\u001b[39mresults \u001b[38;5;241m=\u001b[39m \u001b[38;5;28;43mself\u001b[39;49m\u001b[38;5;241;43m.\u001b[39;49m\u001b[43mpostprocess\u001b[49m\u001b[43m(\u001b[49m\u001b[43mpreds\u001b[49m\u001b[43m,\u001b[49m\u001b[43m \u001b[49m\u001b[43mim\u001b[49m\u001b[43m,\u001b[49m\u001b[43m \u001b[49m\u001b[43mim0s\u001b[49m\u001b[43m)\u001b[49m\n\u001b[0;32m    262\u001b[0m \u001b[38;5;28mself\u001b[39m\u001b[38;5;241m.\u001b[39mrun_callbacks(\u001b[38;5;124m\"\u001b[39m\u001b[38;5;124mon_predict_postprocess_end\u001b[39m\u001b[38;5;124m\"\u001b[39m)\n\u001b[0;32m    264\u001b[0m \u001b[38;5;66;03m# Visualize, save, write results\u001b[39;00m\n",
      "File \u001b[1;32mc:\\Users\\henri\\anaconda3\\envs\\tf-gpu\\lib\\site-packages\\ultralytics\\models\\yolo\\detect\\predict.py:25\u001b[0m, in \u001b[0;36mDetectionPredictor.postprocess\u001b[1;34m(self, preds, img, orig_imgs)\u001b[0m\n\u001b[0;32m     23\u001b[0m \u001b[38;5;28;01mdef\u001b[39;00m \u001b[38;5;21mpostprocess\u001b[39m(\u001b[38;5;28mself\u001b[39m, preds, img, orig_imgs):\n\u001b[0;32m     24\u001b[0m \u001b[38;5;250m    \u001b[39m\u001b[38;5;124;03m\"\"\"Post-processes predictions and returns a list of Results objects.\"\"\"\u001b[39;00m\n\u001b[1;32m---> 25\u001b[0m     preds \u001b[38;5;241m=\u001b[39m \u001b[43mops\u001b[49m\u001b[38;5;241;43m.\u001b[39;49m\u001b[43mnon_max_suppression\u001b[49m\u001b[43m(\u001b[49m\n\u001b[0;32m     26\u001b[0m \u001b[43m        \u001b[49m\u001b[43mpreds\u001b[49m\u001b[43m,\u001b[49m\n\u001b[0;32m     27\u001b[0m \u001b[43m        \u001b[49m\u001b[38;5;28;43mself\u001b[39;49m\u001b[38;5;241;43m.\u001b[39;49m\u001b[43margs\u001b[49m\u001b[38;5;241;43m.\u001b[39;49m\u001b[43mconf\u001b[49m\u001b[43m,\u001b[49m\n\u001b[0;32m     28\u001b[0m \u001b[43m        \u001b[49m\u001b[38;5;28;43mself\u001b[39;49m\u001b[38;5;241;43m.\u001b[39;49m\u001b[43margs\u001b[49m\u001b[38;5;241;43m.\u001b[39;49m\u001b[43miou\u001b[49m\u001b[43m,\u001b[49m\n\u001b[0;32m     29\u001b[0m \u001b[43m        \u001b[49m\u001b[43magnostic\u001b[49m\u001b[38;5;241;43m=\u001b[39;49m\u001b[38;5;28;43mself\u001b[39;49m\u001b[38;5;241;43m.\u001b[39;49m\u001b[43margs\u001b[49m\u001b[38;5;241;43m.\u001b[39;49m\u001b[43magnostic_nms\u001b[49m\u001b[43m,\u001b[49m\n\u001b[0;32m     30\u001b[0m \u001b[43m        \u001b[49m\u001b[43mmax_det\u001b[49m\u001b[38;5;241;43m=\u001b[39;49m\u001b[38;5;28;43mself\u001b[39;49m\u001b[38;5;241;43m.\u001b[39;49m\u001b[43margs\u001b[49m\u001b[38;5;241;43m.\u001b[39;49m\u001b[43mmax_det\u001b[49m\u001b[43m,\u001b[49m\n\u001b[0;32m     31\u001b[0m \u001b[43m        \u001b[49m\u001b[43mclasses\u001b[49m\u001b[38;5;241;43m=\u001b[39;49m\u001b[38;5;28;43mself\u001b[39;49m\u001b[38;5;241;43m.\u001b[39;49m\u001b[43margs\u001b[49m\u001b[38;5;241;43m.\u001b[39;49m\u001b[43mclasses\u001b[49m\u001b[43m,\u001b[49m\n\u001b[0;32m     32\u001b[0m \u001b[43m    \u001b[49m\u001b[43m)\u001b[49m\n\u001b[0;32m     34\u001b[0m     \u001b[38;5;28;01mif\u001b[39;00m \u001b[38;5;129;01mnot\u001b[39;00m \u001b[38;5;28misinstance\u001b[39m(orig_imgs, \u001b[38;5;28mlist\u001b[39m):  \u001b[38;5;66;03m# input images are a torch.Tensor, not a list\u001b[39;00m\n\u001b[0;32m     35\u001b[0m         orig_imgs \u001b[38;5;241m=\u001b[39m ops\u001b[38;5;241m.\u001b[39mconvert_torch2numpy_batch(orig_imgs)\n",
      "File \u001b[1;32mc:\\Users\\henri\\anaconda3\\envs\\tf-gpu\\lib\\site-packages\\ultralytics\\utils\\ops.py:292\u001b[0m, in \u001b[0;36mnon_max_suppression\u001b[1;34m(prediction, conf_thres, iou_thres, classes, agnostic, multi_label, labels, max_det, nc, max_time_img, max_nms, max_wh, in_place, rotated)\u001b[0m\n\u001b[0;32m    290\u001b[0m \u001b[38;5;28;01melse\u001b[39;00m:\n\u001b[0;32m    291\u001b[0m     boxes \u001b[38;5;241m=\u001b[39m x[:, :\u001b[38;5;241m4\u001b[39m] \u001b[38;5;241m+\u001b[39m c  \u001b[38;5;66;03m# boxes (offset by class)\u001b[39;00m\n\u001b[1;32m--> 292\u001b[0m     i \u001b[38;5;241m=\u001b[39m \u001b[43mtorchvision\u001b[49m\u001b[38;5;241;43m.\u001b[39;49m\u001b[43mops\u001b[49m\u001b[38;5;241;43m.\u001b[39;49m\u001b[43mnms\u001b[49m\u001b[43m(\u001b[49m\u001b[43mboxes\u001b[49m\u001b[43m,\u001b[49m\u001b[43m \u001b[49m\u001b[43mscores\u001b[49m\u001b[43m,\u001b[49m\u001b[43m \u001b[49m\u001b[43miou_thres\u001b[49m\u001b[43m)\u001b[49m  \u001b[38;5;66;03m# NMS\u001b[39;00m\n\u001b[0;32m    293\u001b[0m i \u001b[38;5;241m=\u001b[39m i[:max_det]  \u001b[38;5;66;03m# limit detections\u001b[39;00m\n\u001b[0;32m    295\u001b[0m \u001b[38;5;66;03m# # Experimental\u001b[39;00m\n\u001b[0;32m    296\u001b[0m \u001b[38;5;66;03m# merge = False  # use merge-NMS\u001b[39;00m\n\u001b[0;32m    297\u001b[0m \u001b[38;5;66;03m# if merge and (1 < n < 3E3):  # Merge NMS (boxes merged using weighted mean)\u001b[39;00m\n\u001b[1;32m   (...)\u001b[0m\n\u001b[0;32m    304\u001b[0m \u001b[38;5;66;03m#     if redundant:\u001b[39;00m\n\u001b[0;32m    305\u001b[0m \u001b[38;5;66;03m#         i = i[iou.sum(1) > 1]  # require redundancy\u001b[39;00m\n",
      "File \u001b[1;32mc:\\Users\\henri\\anaconda3\\envs\\tf-gpu\\lib\\site-packages\\torchvision\\ops\\boxes.py:41\u001b[0m, in \u001b[0;36mnms\u001b[1;34m(boxes, scores, iou_threshold)\u001b[0m\n\u001b[0;32m     39\u001b[0m     _log_api_usage_once(nms)\n\u001b[0;32m     40\u001b[0m _assert_has_ops()\n\u001b[1;32m---> 41\u001b[0m \u001b[38;5;28;01mreturn\u001b[39;00m \u001b[43mtorch\u001b[49m\u001b[38;5;241;43m.\u001b[39;49m\u001b[43mops\u001b[49m\u001b[38;5;241;43m.\u001b[39;49m\u001b[43mtorchvision\u001b[49m\u001b[38;5;241;43m.\u001b[39;49m\u001b[43mnms\u001b[49m\u001b[43m(\u001b[49m\u001b[43mboxes\u001b[49m\u001b[43m,\u001b[49m\u001b[43m \u001b[49m\u001b[43mscores\u001b[49m\u001b[43m,\u001b[49m\u001b[43m \u001b[49m\u001b[43miou_threshold\u001b[49m\u001b[43m)\u001b[49m\n",
      "File \u001b[1;32mc:\\Users\\henri\\anaconda3\\envs\\tf-gpu\\lib\\site-packages\\torch\\_ops.py:1061\u001b[0m, in \u001b[0;36mOpOverloadPacket.__call__\u001b[1;34m(self_, *args, **kwargs)\u001b[0m\n\u001b[0;32m   1059\u001b[0m \u001b[38;5;28;01mif\u001b[39;00m self_\u001b[38;5;241m.\u001b[39m_has_torchbind_op_overload \u001b[38;5;129;01mand\u001b[39;00m _must_dispatch_in_python(args, kwargs):\n\u001b[0;32m   1060\u001b[0m     \u001b[38;5;28;01mreturn\u001b[39;00m _call_overload_packet_from_python(self_, args, kwargs)\n\u001b[1;32m-> 1061\u001b[0m \u001b[38;5;28;01mreturn\u001b[39;00m self_\u001b[38;5;241m.\u001b[39m_op(\u001b[38;5;241m*\u001b[39margs, \u001b[38;5;241m*\u001b[39m\u001b[38;5;241m*\u001b[39m(kwargs \u001b[38;5;129;01mor\u001b[39;00m {}))\n",
      "\u001b[1;31mKeyboardInterrupt\u001b[0m: "
     ]
    }
   ],
   "source": [
    "results = model.train(data=\"data.yaml\", epochs=50, imgsz=448)\n",
    "#image = cv2.imread(\"test/images/00000_00000_00003_png.rf.d18afc3c9625ffb1974029d3e3762aee.jpg\")\n",
    "#result_img, _ = predict_and_detect(model, image, classes=[], conf=0.5)\n",
    "#cv2.imshow(\"Image\", result_img)\n",
    "#cv2.imwrite(\"target/target.png\", result_img)\n",
    "#cv2.waitKey(0)"
   ]
  },
  {
   "cell_type": "code",
   "execution_count": 4,
   "metadata": {},
   "outputs": [
    {
     "name": "stdout",
     "output_type": "stream",
     "text": [
      "New https://pypi.org/project/ultralytics/8.3.58 available  Update with 'pip install -U ultralytics'\n",
      "Ultralytics 8.3.6  Python-3.9.18 torch-2.4.1 CUDA:0 (NVIDIA GeForce RTX 3060 Laptop GPU, 6144MiB)\n",
      "\u001b[34m\u001b[1mengine\\trainer: \u001b[0mtask=detect, mode=train, model=yolov10b.pt, data=data.yaml, epochs=150, time=None, patience=100, batch=16, imgsz=448, save=True, save_period=-1, cache=False, device=None, workers=8, project=None, name=train25, exist_ok=False, pretrained=True, optimizer=auto, verbose=True, seed=0, deterministic=True, single_cls=False, rect=False, cos_lr=False, close_mosaic=10, resume=False, amp=True, fraction=1.0, profile=False, freeze=None, multi_scale=False, overlap_mask=True, mask_ratio=4, dropout=0.0, val=True, split=val, save_json=False, save_hybrid=False, conf=None, iou=0.7, max_det=300, half=False, dnn=False, plots=True, source=None, vid_stride=1, stream_buffer=False, visualize=False, augment=False, agnostic_nms=False, classes=None, retina_masks=False, embed=None, show=False, save_frames=False, save_txt=False, save_conf=False, save_crop=False, show_labels=True, show_conf=True, show_boxes=True, line_width=None, format=torchscript, keras=False, optimize=False, int8=False, dynamic=False, simplify=True, opset=None, workspace=4, nms=False, lr0=0.01, lrf=0.01, momentum=0.937, weight_decay=0.0005, warmup_epochs=3.0, warmup_momentum=0.8, warmup_bias_lr=0.1, box=7.5, cls=0.5, dfl=1.5, pose=12.0, kobj=1.0, label_smoothing=0.0, nbs=64, hsv_h=0.015, hsv_s=0.7, hsv_v=0.4, degrees=0.0, translate=0.1, scale=0.5, shear=0.0, perspective=0.0, flipud=0.0, fliplr=0.5, bgr=0.0, mosaic=1.0, mixup=0.0, copy_paste=0.0, copy_paste_mode=flip, auto_augment=randaugment, erasing=0.4, crop_fraction=1.0, cfg=None, tracker=botsort.yaml, save_dir=runs\\detect\\train25\n",
      "Overriding model.yaml nc=80 with nc=22\n",
      "WARNING  no model scale passed. Assuming scale='b'.\n",
      "\n",
      "                   from  n    params  module                                       arguments                     \n",
      "  0                  -1  1      1856  ultralytics.nn.modules.conv.Conv             [3, 64, 3, 2]                 \n",
      "  1                  -1  1     73984  ultralytics.nn.modules.conv.Conv             [64, 128, 3, 2]               \n",
      "  2                  -1  2    197632  ultralytics.nn.modules.block.C2f             [128, 128, 2, True]           \n",
      "  3                  -1  1    295424  ultralytics.nn.modules.conv.Conv             [128, 256, 3, 2]              \n",
      "  4                  -1  4   1444864  ultralytics.nn.modules.block.C2f             [256, 256, 4, True]           \n",
      "  5                  -1  1    137728  ultralytics.nn.modules.block.SCDown          [256, 512, 3, 2]              \n",
      "  6                  -1  4   5773312  ultralytics.nn.modules.block.C2f             [512, 512, 4, True]           \n",
      "  7                  -1  1    268800  ultralytics.nn.modules.block.SCDown          [512, 512, 3, 2]              \n",
      "  8                  -1  2   1338368  ultralytics.nn.modules.block.C2fCIB          [512, 512, 2, True]           \n",
      "  9                  -1  1    656896  ultralytics.nn.modules.block.SPPF            [512, 512, 5]                 \n",
      " 10                  -1  1    990976  ultralytics.nn.modules.block.PSA             [512, 512]                    \n",
      " 11                  -1  1         0  torch.nn.modules.upsampling.Upsample         [None, 2, 'nearest']          \n",
      " 12             [-1, 6]  1         0  ultralytics.nn.modules.conv.Concat           [1]                           \n",
      " 13                  -1  2   1600512  ultralytics.nn.modules.block.C2fCIB          [1024, 512, 2, True]          \n",
      " 14                  -1  1         0  torch.nn.modules.upsampling.Upsample         [None, 2, 'nearest']          \n",
      " 15             [-1, 4]  1         0  ultralytics.nn.modules.conv.Concat           [1]                           \n",
      " 16                  -1  2    919552  ultralytics.nn.modules.block.C2f             [768, 256, 2]                 \n",
      " 17                  -1  1    590336  ultralytics.nn.modules.conv.Conv             [256, 256, 3, 2]              \n",
      " 18            [-1, 13]  1         0  ultralytics.nn.modules.conv.Concat           [1]                           \n",
      " 19                  -1  2   1469440  ultralytics.nn.modules.block.C2fCIB          [768, 512, 2, True]           \n",
      " 20                  -1  1    268800  ultralytics.nn.modules.block.SCDown          [512, 512, 3, 2]              \n",
      " 21            [-1, 10]  1         0  ultralytics.nn.modules.conv.Concat           [1]                           \n",
      " 22                  -1  2   1600512  ultralytics.nn.modules.block.C2fCIB          [1024, 512, 2, True]          \n"
     ]
    },
    {
     "name": "stderr",
     "output_type": "stream",
     "text": [
      "c:\\Users\\henri\\anaconda3\\envs\\tf-gpu\\lib\\site-packages\\tensorflow\\python\\framework\\dtypes.py:585: FutureWarning: In the future `np.object` will be defined as the corresponding NumPy scalar.\n",
      "  np.object,\n"
     ]
    },
    {
     "name": "stdout",
     "output_type": "stream",
     "text": [
      " 23        [16, 19, 22]  1   2855956  ultralytics.nn.modules.head.v10Detect        [22, [256, 512, 512]]         \n",
      "YOLOv10b summary: 518 layers, 20,484,948 parameters, 20,484,932 gradients, 98.9 GFLOPs\n",
      "\n",
      "Transferred 823/835 items from pretrained weights\n",
      "Freezing layer 'model.23.dfl.conv.weight'\n",
      "\u001b[34m\u001b[1mAMP: \u001b[0mrunning Automatic Mixed Precision (AMP) checks with YOLO11n...\n",
      "\u001b[34m\u001b[1mAMP: \u001b[0mchecks passed \n"
     ]
    },
    {
     "name": "stderr",
     "output_type": "stream",
     "text": [
      "\u001b[34m\u001b[1mtrain: \u001b[0mScanning C:\\Users\\henri\\Documents\\Uni.lu\\Semester 5\\BSP\\Other joined DS\\datasets\\New_DS\\train\\labels.cache... 5721 images, 172 backgrounds, 4 corrupt: 100%|██████████| 5721/5721 [00:00<?, ?it/s]"
     ]
    },
    {
     "name": "stdout",
     "output_type": "stream",
     "text": [
      "\u001b[34m\u001b[1mtrain: \u001b[0mWARNING  C:\\Users\\henri\\Documents\\Uni.lu\\Semester 5\\BSP\\Other joined DS\\datasets\\New_DS\\train\\images\\DE_BBBR667_2015-04-21_17-11-22-950387_k0.jpg: ignoring corrupt image/label: negative label values [  -0.033203]\n",
      "\u001b[34m\u001b[1mtrain: \u001b[0mWARNING  C:\\Users\\henri\\Documents\\Uni.lu\\Semester 5\\BSP\\Other joined DS\\datasets\\New_DS\\train\\images\\DE_BBBR667_2015-04-21_17-24-08-217030_k0.jpg: ignoring corrupt image/label: negative label values [  -0.015625]\n",
      "\u001b[34m\u001b[1mtrain: \u001b[0mWARNING  C:\\Users\\henri\\Documents\\Uni.lu\\Semester 5\\BSP\\Other joined DS\\datasets\\New_DS\\train\\images\\DE_BBBR667_2015-04-21_17-34-26-946804_k0.jpg: ignoring corrupt image/label: negative label values [  -0.030273]\n",
      "\u001b[34m\u001b[1mtrain: \u001b[0mWARNING  C:\\Users\\henri\\Documents\\Uni.lu\\Semester 5\\BSP\\Other joined DS\\datasets\\New_DS\\train\\images\\DE_BBBR667_2015-04-22_12-31-19-492140_k0.jpg: ignoring corrupt image/label: non-normalized or out of bounds coordinates [     1.0024]\n"
     ]
    },
    {
     "name": "stderr",
     "output_type": "stream",
     "text": [
      "\n",
      "\u001b[34m\u001b[1mval: \u001b[0mScanning C:\\Users\\henri\\Documents\\Uni.lu\\Semester 5\\BSP\\Other joined DS\\datasets\\New_DS\\val\\labels.cache... 641 images, 0 backgrounds, 0 corrupt: 100%|██████████| 641/641 [00:00<?, ?it/s]\n"
     ]
    },
    {
     "name": "stdout",
     "output_type": "stream",
     "text": [
      "Plotting labels to runs\\detect\\train25\\labels.jpg... \n",
      "\u001b[34m\u001b[1moptimizer:\u001b[0m 'optimizer=auto' found, ignoring 'lr0=0.01' and 'momentum=0.937' and determining best 'optimizer', 'lr0' and 'momentum' automatically... \n",
      "\u001b[34m\u001b[1moptimizer:\u001b[0m SGD(lr=0.01, momentum=0.9) with parameter groups 135 weight(decay=0.0), 148 weight(decay=0.0005), 147 bias(decay=0.0)\n",
      "Image sizes 448 train, 448 val\n",
      "Using 8 dataloader workers\n",
      "Logging results to \u001b[1mruns\\detect\\train25\u001b[0m\n",
      "Starting training for 150 epochs...\n",
      "\n",
      "      Epoch    GPU_mem   box_loss   cls_loss   dfl_loss  Instances       Size\n"
     ]
    },
    {
     "name": "stderr",
     "output_type": "stream",
     "text": [
      "      1/150      5.83G      2.556      7.352      1.783          4        448: 100%|██████████| 358/358 [04:24<00:00,  1.35it/s]\n",
      "                 Class     Images  Instances      Box(P          R      mAP50  mAP50-95): 100%|██████████| 21/21 [00:26<00:00,  1.25s/it]"
     ]
    },
    {
     "name": "stdout",
     "output_type": "stream",
     "text": [
      "                   all        641        869      0.525      0.405      0.409       0.32\n"
     ]
    },
    {
     "name": "stderr",
     "output_type": "stream",
     "text": [
      "\n"
     ]
    },
    {
     "name": "stdout",
     "output_type": "stream",
     "text": [
      "\n",
      "      Epoch    GPU_mem   box_loss   cls_loss   dfl_loss  Instances       Size\n"
     ]
    },
    {
     "name": "stderr",
     "output_type": "stream",
     "text": [
      "      2/150      6.01G      2.771      3.267       1.82         14        448: 100%|██████████| 358/358 [08:54<00:00,  1.49s/it]\n",
      "                 Class     Images  Instances      Box(P          R      mAP50  mAP50-95): 100%|██████████| 21/21 [01:25<00:00,  4.06s/it]"
     ]
    },
    {
     "name": "stdout",
     "output_type": "stream",
     "text": [
      "                   all        641        869      0.497      0.409      0.403      0.294\n"
     ]
    },
    {
     "name": "stderr",
     "output_type": "stream",
     "text": [
      "\n"
     ]
    },
    {
     "name": "stdout",
     "output_type": "stream",
     "text": [
      "\n",
      "      Epoch    GPU_mem   box_loss   cls_loss   dfl_loss  Instances       Size\n"
     ]
    },
    {
     "name": "stderr",
     "output_type": "stream",
     "text": [
      "      3/150      5.99G      3.149      3.336      1.949         12        448: 100%|██████████| 358/358 [08:19<00:00,  1.39s/it]\n",
      "                 Class     Images  Instances      Box(P          R      mAP50  mAP50-95): 100%|██████████| 21/21 [00:50<00:00,  2.39s/it]"
     ]
    },
    {
     "name": "stdout",
     "output_type": "stream",
     "text": [
      "                   all        641        869      0.491      0.294      0.313       0.21\n"
     ]
    },
    {
     "name": "stderr",
     "output_type": "stream",
     "text": [
      "\n"
     ]
    },
    {
     "name": "stdout",
     "output_type": "stream",
     "text": [
      "\n",
      "      Epoch    GPU_mem   box_loss   cls_loss   dfl_loss  Instances       Size\n"
     ]
    },
    {
     "name": "stderr",
     "output_type": "stream",
     "text": [
      "      4/150      5.93G      3.324      3.437      2.026          6        448: 100%|██████████| 358/358 [06:07<00:00,  1.03s/it]\n",
      "                 Class     Images  Instances      Box(P          R      mAP50  mAP50-95): 100%|██████████| 21/21 [01:02<00:00,  2.97s/it]"
     ]
    },
    {
     "name": "stdout",
     "output_type": "stream",
     "text": [
      "                   all        641        869      0.449      0.381      0.354      0.241\n"
     ]
    },
    {
     "name": "stderr",
     "output_type": "stream",
     "text": [
      "\n"
     ]
    },
    {
     "name": "stdout",
     "output_type": "stream",
     "text": [
      "\n",
      "      Epoch    GPU_mem   box_loss   cls_loss   dfl_loss  Instances       Size\n"
     ]
    },
    {
     "name": "stderr",
     "output_type": "stream",
     "text": [
      "      5/150         6G      3.228      3.096      1.973         11        448: 100%|██████████| 358/358 [10:38<00:00,  1.78s/it]\n",
      "                 Class     Images  Instances      Box(P          R      mAP50  mAP50-95): 100%|██████████| 21/21 [00:47<00:00,  2.28s/it]"
     ]
    },
    {
     "name": "stdout",
     "output_type": "stream",
     "text": [
      "                   all        641        869      0.493       0.39      0.399      0.284\n"
     ]
    },
    {
     "name": "stderr",
     "output_type": "stream",
     "text": [
      "\n"
     ]
    },
    {
     "name": "stdout",
     "output_type": "stream",
     "text": [
      "\n",
      "      Epoch    GPU_mem   box_loss   cls_loss   dfl_loss  Instances       Size\n"
     ]
    },
    {
     "name": "stderr",
     "output_type": "stream",
     "text": [
      "      6/150      5.93G      2.983      2.828      1.957         10        448: 100%|██████████| 358/358 [07:38<00:00,  1.28s/it]\n",
      "                 Class     Images  Instances      Box(P          R      mAP50  mAP50-95): 100%|██████████| 21/21 [01:41<00:00,  4.83s/it]"
     ]
    },
    {
     "name": "stdout",
     "output_type": "stream",
     "text": [
      "                   all        641        869      0.488      0.358      0.407      0.297\n"
     ]
    },
    {
     "name": "stderr",
     "output_type": "stream",
     "text": [
      "\n"
     ]
    },
    {
     "name": "stdout",
     "output_type": "stream",
     "text": [
      "\n",
      "      Epoch    GPU_mem   box_loss   cls_loss   dfl_loss  Instances       Size\n"
     ]
    },
    {
     "name": "stderr",
     "output_type": "stream",
     "text": [
      "      7/150      5.98G      2.805      2.657      1.922          9        448: 100%|██████████| 358/358 [07:38<00:00,  1.28s/it]\n",
      "                 Class     Images  Instances      Box(P          R      mAP50  mAP50-95): 100%|██████████| 21/21 [00:36<00:00,  1.73s/it]"
     ]
    },
    {
     "name": "stdout",
     "output_type": "stream",
     "text": [
      "                   all        641        869      0.564      0.398      0.449       0.34\n"
     ]
    },
    {
     "name": "stderr",
     "output_type": "stream",
     "text": [
      "\n"
     ]
    },
    {
     "name": "stdout",
     "output_type": "stream",
     "text": [
      "\n",
      "      Epoch    GPU_mem   box_loss   cls_loss   dfl_loss  Instances       Size\n"
     ]
    },
    {
     "name": "stderr",
     "output_type": "stream",
     "text": [
      "      8/150      5.93G      2.786      2.545      1.894         12        448: 100%|██████████| 358/358 [03:09<00:00,  1.89it/s]\n",
      "                 Class     Images  Instances      Box(P          R      mAP50  mAP50-95): 100%|██████████| 21/21 [01:11<00:00,  3.39s/it]"
     ]
    },
    {
     "name": "stdout",
     "output_type": "stream",
     "text": [
      "                   all        641        869      0.612      0.403       0.48      0.366\n"
     ]
    },
    {
     "name": "stderr",
     "output_type": "stream",
     "text": [
      "\n"
     ]
    },
    {
     "name": "stdout",
     "output_type": "stream",
     "text": [
      "\n",
      "      Epoch    GPU_mem   box_loss   cls_loss   dfl_loss  Instances       Size\n"
     ]
    },
    {
     "name": "stderr",
     "output_type": "stream",
     "text": [
      "      9/150      5.98G      2.716      2.483      1.894         12        448: 100%|██████████| 358/358 [05:57<00:00,  1.00it/s]\n",
      "                 Class     Images  Instances      Box(P          R      mAP50  mAP50-95): 100%|██████████| 21/21 [00:31<00:00,  1.49s/it]"
     ]
    },
    {
     "name": "stdout",
     "output_type": "stream",
     "text": [
      "                   all        641        869      0.662      0.438      0.487      0.369\n"
     ]
    },
    {
     "name": "stderr",
     "output_type": "stream",
     "text": [
      "\n"
     ]
    },
    {
     "name": "stdout",
     "output_type": "stream",
     "text": [
      "\n",
      "      Epoch    GPU_mem   box_loss   cls_loss   dfl_loss  Instances       Size\n"
     ]
    },
    {
     "name": "stderr",
     "output_type": "stream",
     "text": [
      "     10/150      5.93G      2.629      2.321      1.851         14        448: 100%|██████████| 358/358 [02:55<00:00,  2.04it/s]\n",
      "                 Class     Images  Instances      Box(P          R      mAP50  mAP50-95): 100%|██████████| 21/21 [01:07<00:00,  3.20s/it]"
     ]
    },
    {
     "name": "stdout",
     "output_type": "stream",
     "text": [
      "                   all        641        869      0.505      0.513      0.504      0.385\n"
     ]
    },
    {
     "name": "stderr",
     "output_type": "stream",
     "text": [
      "\n"
     ]
    },
    {
     "name": "stdout",
     "output_type": "stream",
     "text": [
      "\n",
      "      Epoch    GPU_mem   box_loss   cls_loss   dfl_loss  Instances       Size\n"
     ]
    },
    {
     "name": "stderr",
     "output_type": "stream",
     "text": [
      "     11/150      5.99G      2.596      2.274      1.844          9        448: 100%|██████████| 358/358 [03:19<00:00,  1.79it/s]\n",
      "                 Class     Images  Instances      Box(P          R      mAP50  mAP50-95): 100%|██████████| 21/21 [00:36<00:00,  1.74s/it]"
     ]
    },
    {
     "name": "stdout",
     "output_type": "stream",
     "text": [
      "                   all        641        869      0.588      0.476      0.545      0.423\n"
     ]
    },
    {
     "name": "stderr",
     "output_type": "stream",
     "text": [
      "\n"
     ]
    },
    {
     "name": "stdout",
     "output_type": "stream",
     "text": [
      "\n",
      "      Epoch    GPU_mem   box_loss   cls_loss   dfl_loss  Instances       Size\n"
     ]
    },
    {
     "name": "stderr",
     "output_type": "stream",
     "text": [
      "     12/150      5.93G      2.511      2.202       1.83         16        448: 100%|██████████| 358/358 [03:15<00:00,  1.83it/s]\n",
      "                 Class     Images  Instances      Box(P          R      mAP50  mAP50-95): 100%|██████████| 21/21 [01:07<00:00,  3.23s/it]"
     ]
    },
    {
     "name": "stdout",
     "output_type": "stream",
     "text": [
      "                   all        641        869      0.455      0.539      0.516        0.4\n"
     ]
    },
    {
     "name": "stderr",
     "output_type": "stream",
     "text": [
      "\n"
     ]
    },
    {
     "name": "stdout",
     "output_type": "stream",
     "text": [
      "\n",
      "      Epoch    GPU_mem   box_loss   cls_loss   dfl_loss  Instances       Size\n"
     ]
    },
    {
     "name": "stderr",
     "output_type": "stream",
     "text": [
      "     13/150      5.98G       2.52      2.144       1.83         14        448: 100%|██████████| 358/358 [05:08<00:00,  1.16it/s]\n",
      "                 Class     Images  Instances      Box(P          R      mAP50  mAP50-95): 100%|██████████| 21/21 [00:25<00:00,  1.22s/it]"
     ]
    },
    {
     "name": "stdout",
     "output_type": "stream",
     "text": [
      "                   all        641        869      0.655      0.537      0.552      0.411\n"
     ]
    },
    {
     "name": "stderr",
     "output_type": "stream",
     "text": [
      "\n"
     ]
    },
    {
     "name": "stdout",
     "output_type": "stream",
     "text": [
      "\n",
      "      Epoch    GPU_mem   box_loss   cls_loss   dfl_loss  Instances       Size\n"
     ]
    },
    {
     "name": "stderr",
     "output_type": "stream",
     "text": [
      "     14/150      5.93G       2.45      2.037      1.826         14        448: 100%|██████████| 358/358 [02:53<00:00,  2.06it/s]\n",
      "                 Class     Images  Instances      Box(P          R      mAP50  mAP50-95): 100%|██████████| 21/21 [01:04<00:00,  3.05s/it]"
     ]
    },
    {
     "name": "stdout",
     "output_type": "stream",
     "text": [
      "                   all        641        869      0.582      0.547      0.573      0.454\n"
     ]
    },
    {
     "name": "stderr",
     "output_type": "stream",
     "text": [
      "\n"
     ]
    },
    {
     "name": "stdout",
     "output_type": "stream",
     "text": [
      "\n",
      "      Epoch    GPU_mem   box_loss   cls_loss   dfl_loss  Instances       Size\n"
     ]
    },
    {
     "name": "stderr",
     "output_type": "stream",
     "text": [
      "     15/150      5.99G      2.395      1.992      1.806          8        448: 100%|██████████| 358/358 [06:29<00:00,  1.09s/it]\n",
      "                 Class     Images  Instances      Box(P          R      mAP50  mAP50-95): 100%|██████████| 21/21 [00:49<00:00,  2.35s/it]"
     ]
    },
    {
     "name": "stdout",
     "output_type": "stream",
     "text": [
      "                   all        641        869       0.58      0.602      0.593      0.465\n"
     ]
    },
    {
     "name": "stderr",
     "output_type": "stream",
     "text": [
      "\n"
     ]
    },
    {
     "name": "stdout",
     "output_type": "stream",
     "text": [
      "\n",
      "      Epoch    GPU_mem   box_loss   cls_loss   dfl_loss  Instances       Size\n"
     ]
    },
    {
     "name": "stderr",
     "output_type": "stream",
     "text": [
      "     16/150      5.93G      2.401      1.985      1.817         12        448: 100%|██████████| 358/358 [03:00<00:00,  1.99it/s]\n",
      "                 Class     Images  Instances      Box(P          R      mAP50  mAP50-95): 100%|██████████| 21/21 [01:06<00:00,  3.17s/it]"
     ]
    },
    {
     "name": "stdout",
     "output_type": "stream",
     "text": [
      "                   all        641        869      0.531      0.612      0.601      0.474\n"
     ]
    },
    {
     "name": "stderr",
     "output_type": "stream",
     "text": [
      "\n"
     ]
    },
    {
     "name": "stdout",
     "output_type": "stream",
     "text": [
      "\n",
      "      Epoch    GPU_mem   box_loss   cls_loss   dfl_loss  Instances       Size\n"
     ]
    },
    {
     "name": "stderr",
     "output_type": "stream",
     "text": [
      "     17/150      5.99G      2.322       1.94      1.798         10        448: 100%|██████████| 358/358 [03:36<00:00,  1.66it/s]\n",
      "                 Class     Images  Instances      Box(P          R      mAP50  mAP50-95): 100%|██████████| 21/21 [00:30<00:00,  1.46s/it]"
     ]
    },
    {
     "name": "stdout",
     "output_type": "stream",
     "text": [
      "                   all        641        869      0.612       0.61      0.632      0.498\n"
     ]
    },
    {
     "name": "stderr",
     "output_type": "stream",
     "text": [
      "\n"
     ]
    },
    {
     "name": "stdout",
     "output_type": "stream",
     "text": [
      "\n",
      "      Epoch    GPU_mem   box_loss   cls_loss   dfl_loss  Instances       Size\n"
     ]
    },
    {
     "name": "stderr",
     "output_type": "stream",
     "text": [
      "     18/150      5.93G      2.361      1.892      1.789         13        448: 100%|██████████| 358/358 [03:00<00:00,  1.98it/s]\n",
      "                 Class     Images  Instances      Box(P          R      mAP50  mAP50-95): 100%|██████████| 21/21 [01:01<00:00,  2.91s/it]"
     ]
    },
    {
     "name": "stdout",
     "output_type": "stream",
     "text": [
      "                   all        641        869      0.525      0.621      0.604      0.472\n"
     ]
    },
    {
     "name": "stderr",
     "output_type": "stream",
     "text": [
      "\n"
     ]
    },
    {
     "name": "stdout",
     "output_type": "stream",
     "text": [
      "\n",
      "      Epoch    GPU_mem   box_loss   cls_loss   dfl_loss  Instances       Size\n"
     ]
    },
    {
     "name": "stderr",
     "output_type": "stream",
     "text": [
      "     19/150      5.98G      2.289      1.878      1.784         16        448: 100%|██████████| 358/358 [03:31<00:00,  1.69it/s]\n",
      "                 Class     Images  Instances      Box(P          R      mAP50  mAP50-95): 100%|██████████| 21/21 [00:30<00:00,  1.44s/it]"
     ]
    },
    {
     "name": "stdout",
     "output_type": "stream",
     "text": [
      "                   all        641        869      0.632      0.592      0.635      0.509\n"
     ]
    },
    {
     "name": "stderr",
     "output_type": "stream",
     "text": [
      "\n"
     ]
    },
    {
     "name": "stdout",
     "output_type": "stream",
     "text": [
      "\n",
      "      Epoch    GPU_mem   box_loss   cls_loss   dfl_loss  Instances       Size\n"
     ]
    },
    {
     "name": "stderr",
     "output_type": "stream",
     "text": [
      "     20/150      5.94G      2.316      1.843      1.775         12        448: 100%|██████████| 358/358 [03:00<00:00,  1.99it/s]\n",
      "                 Class     Images  Instances      Box(P          R      mAP50  mAP50-95): 100%|██████████| 21/21 [01:06<00:00,  3.15s/it]"
     ]
    },
    {
     "name": "stdout",
     "output_type": "stream",
     "text": [
      "                   all        641        869      0.698      0.624      0.653      0.516\n"
     ]
    },
    {
     "name": "stderr",
     "output_type": "stream",
     "text": [
      "\n"
     ]
    },
    {
     "name": "stdout",
     "output_type": "stream",
     "text": [
      "\n",
      "      Epoch    GPU_mem   box_loss   cls_loss   dfl_loss  Instances       Size\n"
     ]
    },
    {
     "name": "stderr",
     "output_type": "stream",
     "text": [
      "     21/150      5.99G      2.236      1.727      1.766         16        448: 100%|██████████| 358/358 [03:49<00:00,  1.56it/s]\n",
      "                 Class     Images  Instances      Box(P          R      mAP50  mAP50-95): 100%|██████████| 21/21 [00:33<00:00,  1.59s/it]"
     ]
    },
    {
     "name": "stdout",
     "output_type": "stream",
     "text": [
      "                   all        641        869      0.686      0.593      0.658      0.525\n"
     ]
    },
    {
     "name": "stderr",
     "output_type": "stream",
     "text": [
      "\n"
     ]
    },
    {
     "name": "stdout",
     "output_type": "stream",
     "text": [
      "\n",
      "      Epoch    GPU_mem   box_loss   cls_loss   dfl_loss  Instances       Size\n"
     ]
    },
    {
     "name": "stderr",
     "output_type": "stream",
     "text": [
      "     22/150      5.93G      2.241      1.726      1.782         13        448: 100%|██████████| 358/358 [02:59<00:00,  1.99it/s]\n",
      "                 Class     Images  Instances      Box(P          R      mAP50  mAP50-95): 100%|██████████| 21/21 [00:58<00:00,  2.80s/it]"
     ]
    },
    {
     "name": "stdout",
     "output_type": "stream",
     "text": [
      "                   all        641        869      0.752      0.641      0.692      0.546\n"
     ]
    },
    {
     "name": "stderr",
     "output_type": "stream",
     "text": [
      "\n"
     ]
    },
    {
     "name": "stdout",
     "output_type": "stream",
     "text": [
      "\n",
      "      Epoch    GPU_mem   box_loss   cls_loss   dfl_loss  Instances       Size\n"
     ]
    },
    {
     "name": "stderr",
     "output_type": "stream",
     "text": [
      "     23/150      5.97G      2.196       1.68      1.763         11        448: 100%|██████████| 358/358 [06:10<00:00,  1.03s/it]\n",
      "                 Class     Images  Instances      Box(P          R      mAP50  mAP50-95): 100%|██████████| 21/21 [00:26<00:00,  1.24s/it]"
     ]
    },
    {
     "name": "stdout",
     "output_type": "stream",
     "text": [
      "                   all        641        869      0.771      0.657      0.718      0.569\n"
     ]
    },
    {
     "name": "stderr",
     "output_type": "stream",
     "text": [
      "\n"
     ]
    },
    {
     "name": "stdout",
     "output_type": "stream",
     "text": [
      "\n",
      "      Epoch    GPU_mem   box_loss   cls_loss   dfl_loss  Instances       Size\n"
     ]
    },
    {
     "name": "stderr",
     "output_type": "stream",
     "text": [
      "     24/150      5.93G      2.209      1.677      1.779         11        448: 100%|██████████| 358/358 [03:00<00:00,  1.98it/s]\n",
      "                 Class     Images  Instances      Box(P          R      mAP50  mAP50-95): 100%|██████████| 21/21 [01:14<00:00,  3.57s/it]"
     ]
    },
    {
     "name": "stdout",
     "output_type": "stream",
     "text": [
      "                   all        641        869      0.775      0.598       0.67      0.531\n"
     ]
    },
    {
     "name": "stderr",
     "output_type": "stream",
     "text": [
      "\n"
     ]
    },
    {
     "name": "stdout",
     "output_type": "stream",
     "text": [
      "\n",
      "      Epoch    GPU_mem   box_loss   cls_loss   dfl_loss  Instances       Size\n"
     ]
    },
    {
     "name": "stderr",
     "output_type": "stream",
     "text": [
      "     25/150      5.99G      2.191      1.628      1.769         10        448: 100%|██████████| 358/358 [03:49<00:00,  1.56it/s]\n",
      "                 Class     Images  Instances      Box(P          R      mAP50  mAP50-95): 100%|██████████| 21/21 [00:32<00:00,  1.55s/it]"
     ]
    },
    {
     "name": "stdout",
     "output_type": "stream",
     "text": [
      "                   all        641        869      0.726      0.595      0.688      0.549\n"
     ]
    },
    {
     "name": "stderr",
     "output_type": "stream",
     "text": [
      "\n"
     ]
    },
    {
     "name": "stdout",
     "output_type": "stream",
     "text": [
      "\n",
      "      Epoch    GPU_mem   box_loss   cls_loss   dfl_loss  Instances       Size\n"
     ]
    },
    {
     "name": "stderr",
     "output_type": "stream",
     "text": [
      "     26/150      5.93G      2.153      1.644      1.767          7        448: 100%|██████████| 358/358 [03:05<00:00,  1.93it/s]\n",
      "                 Class     Images  Instances      Box(P          R      mAP50  mAP50-95): 100%|██████████| 21/21 [01:14<00:00,  3.53s/it]"
     ]
    },
    {
     "name": "stdout",
     "output_type": "stream",
     "text": [
      "                   all        641        869      0.795      0.597      0.716      0.567\n"
     ]
    },
    {
     "name": "stderr",
     "output_type": "stream",
     "text": [
      "\n"
     ]
    },
    {
     "name": "stdout",
     "output_type": "stream",
     "text": [
      "\n",
      "      Epoch    GPU_mem   box_loss   cls_loss   dfl_loss  Instances       Size\n"
     ]
    },
    {
     "name": "stderr",
     "output_type": "stream",
     "text": [
      "     27/150         6G      2.182      1.645      1.746         19        448: 100%|██████████| 358/358 [03:25<00:00,  1.75it/s]\n",
      "                 Class     Images  Instances      Box(P          R      mAP50  mAP50-95): 100%|██████████| 21/21 [00:29<00:00,  1.42s/it]"
     ]
    },
    {
     "name": "stdout",
     "output_type": "stream",
     "text": [
      "                   all        641        869      0.778      0.609       0.71      0.564\n"
     ]
    },
    {
     "name": "stderr",
     "output_type": "stream",
     "text": [
      "\n"
     ]
    },
    {
     "name": "stdout",
     "output_type": "stream",
     "text": [
      "\n",
      "      Epoch    GPU_mem   box_loss   cls_loss   dfl_loss  Instances       Size\n"
     ]
    },
    {
     "name": "stderr",
     "output_type": "stream",
     "text": [
      "     28/150      5.93G      2.125        1.6      1.753          7        448: 100%|██████████| 358/358 [02:59<00:00,  1.99it/s]\n",
      "                 Class     Images  Instances      Box(P          R      mAP50  mAP50-95): 100%|██████████| 21/21 [01:01<00:00,  2.93s/it]"
     ]
    },
    {
     "name": "stdout",
     "output_type": "stream",
     "text": [
      "                   all        641        869      0.759      0.674      0.729      0.574\n"
     ]
    },
    {
     "name": "stderr",
     "output_type": "stream",
     "text": [
      "\n"
     ]
    },
    {
     "name": "stdout",
     "output_type": "stream",
     "text": [
      "\n",
      "      Epoch    GPU_mem   box_loss   cls_loss   dfl_loss  Instances       Size\n"
     ]
    },
    {
     "name": "stderr",
     "output_type": "stream",
     "text": [
      "     29/150      5.98G      2.148      1.585      1.762         13        448: 100%|██████████| 358/358 [04:16<00:00,  1.40it/s]\n",
      "                 Class     Images  Instances      Box(P          R      mAP50  mAP50-95): 100%|██████████| 21/21 [00:32<00:00,  1.57s/it]"
     ]
    },
    {
     "name": "stdout",
     "output_type": "stream",
     "text": [
      "                   all        641        869      0.738      0.665      0.726      0.581\n"
     ]
    },
    {
     "name": "stderr",
     "output_type": "stream",
     "text": [
      "\n"
     ]
    },
    {
     "name": "stdout",
     "output_type": "stream",
     "text": [
      "\n",
      "      Epoch    GPU_mem   box_loss   cls_loss   dfl_loss  Instances       Size\n"
     ]
    },
    {
     "name": "stderr",
     "output_type": "stream",
     "text": [
      "     30/150      5.93G      2.108      1.541      1.751         16        448: 100%|██████████| 358/358 [03:06<00:00,  1.92it/s]\n",
      "                 Class     Images  Instances      Box(P          R      mAP50  mAP50-95): 100%|██████████| 21/21 [01:09<00:00,  3.32s/it]"
     ]
    },
    {
     "name": "stdout",
     "output_type": "stream",
     "text": [
      "                   all        641        869      0.813      0.673      0.745        0.6\n"
     ]
    },
    {
     "name": "stderr",
     "output_type": "stream",
     "text": [
      "\n"
     ]
    },
    {
     "name": "stdout",
     "output_type": "stream",
     "text": [
      "\n",
      "      Epoch    GPU_mem   box_loss   cls_loss   dfl_loss  Instances       Size\n"
     ]
    },
    {
     "name": "stderr",
     "output_type": "stream",
     "text": [
      "     31/150      5.98G      2.102      1.508       1.75         16        448: 100%|██████████| 358/358 [03:45<00:00,  1.59it/s]\n",
      "                 Class     Images  Instances      Box(P          R      mAP50  mAP50-95): 100%|██████████| 21/21 [00:29<00:00,  1.41s/it]"
     ]
    },
    {
     "name": "stdout",
     "output_type": "stream",
     "text": [
      "                   all        641        869        0.8      0.658      0.748      0.604\n"
     ]
    },
    {
     "name": "stderr",
     "output_type": "stream",
     "text": [
      "\n"
     ]
    },
    {
     "name": "stdout",
     "output_type": "stream",
     "text": [
      "\n",
      "      Epoch    GPU_mem   box_loss   cls_loss   dfl_loss  Instances       Size\n"
     ]
    },
    {
     "name": "stderr",
     "output_type": "stream",
     "text": [
      "     32/150      5.93G       2.04      1.497      1.745         11        448: 100%|██████████| 358/358 [03:06<00:00,  1.92it/s]\n",
      "                 Class     Images  Instances      Box(P          R      mAP50  mAP50-95): 100%|██████████| 21/21 [00:57<00:00,  2.74s/it]"
     ]
    },
    {
     "name": "stdout",
     "output_type": "stream",
     "text": [
      "                   all        641        869      0.845      0.663      0.765      0.612\n"
     ]
    },
    {
     "name": "stderr",
     "output_type": "stream",
     "text": [
      "\n"
     ]
    },
    {
     "name": "stdout",
     "output_type": "stream",
     "text": [
      "\n",
      "      Epoch    GPU_mem   box_loss   cls_loss   dfl_loss  Instances       Size\n"
     ]
    },
    {
     "name": "stderr",
     "output_type": "stream",
     "text": [
      "     33/150      5.99G      2.054      1.473      1.744         11        448: 100%|██████████| 358/358 [05:51<00:00,  1.02it/s]\n",
      "                 Class     Images  Instances      Box(P          R      mAP50  mAP50-95): 100%|██████████| 21/21 [00:41<00:00,  1.97s/it]"
     ]
    },
    {
     "name": "stdout",
     "output_type": "stream",
     "text": [
      "                   all        641        869      0.772      0.684      0.761      0.616\n"
     ]
    },
    {
     "name": "stderr",
     "output_type": "stream",
     "text": [
      "\n"
     ]
    },
    {
     "name": "stdout",
     "output_type": "stream",
     "text": [
      "\n",
      "      Epoch    GPU_mem   box_loss   cls_loss   dfl_loss  Instances       Size\n"
     ]
    },
    {
     "name": "stderr",
     "output_type": "stream",
     "text": [
      "     34/150      5.93G      2.073      1.483      1.736          7        448: 100%|██████████| 358/358 [03:00<00:00,  1.98it/s]\n",
      "                 Class     Images  Instances      Box(P          R      mAP50  mAP50-95): 100%|██████████| 21/21 [01:09<00:00,  3.30s/it]"
     ]
    },
    {
     "name": "stdout",
     "output_type": "stream",
     "text": [
      "                   all        641        869       0.79      0.699       0.76      0.613\n"
     ]
    },
    {
     "name": "stderr",
     "output_type": "stream",
     "text": [
      "\n"
     ]
    },
    {
     "name": "stdout",
     "output_type": "stream",
     "text": [
      "\n",
      "      Epoch    GPU_mem   box_loss   cls_loss   dfl_loss  Instances       Size\n"
     ]
    },
    {
     "name": "stderr",
     "output_type": "stream",
     "text": [
      "     35/150      5.98G       2.04      1.476      1.742          9        448: 100%|██████████| 358/358 [03:35<00:00,  1.66it/s]\n",
      "                 Class     Images  Instances      Box(P          R      mAP50  mAP50-95): 100%|██████████| 21/21 [00:32<00:00,  1.55s/it]"
     ]
    },
    {
     "name": "stdout",
     "output_type": "stream",
     "text": [
      "                   all        641        869      0.852      0.689      0.786      0.636\n"
     ]
    },
    {
     "name": "stderr",
     "output_type": "stream",
     "text": [
      "\n"
     ]
    },
    {
     "name": "stdout",
     "output_type": "stream",
     "text": [
      "\n",
      "      Epoch    GPU_mem   box_loss   cls_loss   dfl_loss  Instances       Size\n"
     ]
    },
    {
     "name": "stderr",
     "output_type": "stream",
     "text": [
      "     36/150      5.93G      2.022       1.46      1.746         14        448: 100%|██████████| 358/358 [03:06<00:00,  1.92it/s]\n",
      "                 Class     Images  Instances      Box(P          R      mAP50  mAP50-95): 100%|██████████| 21/21 [00:57<00:00,  2.73s/it]"
     ]
    },
    {
     "name": "stdout",
     "output_type": "stream",
     "text": [
      "                   all        641        869      0.845      0.644      0.786      0.638\n"
     ]
    },
    {
     "name": "stderr",
     "output_type": "stream",
     "text": [
      "\n"
     ]
    },
    {
     "name": "stdout",
     "output_type": "stream",
     "text": [
      "\n",
      "      Epoch    GPU_mem   box_loss   cls_loss   dfl_loss  Instances       Size\n"
     ]
    },
    {
     "name": "stderr",
     "output_type": "stream",
     "text": [
      "     37/150      5.98G      2.028      1.422      1.743         12        448: 100%|██████████| 358/358 [03:33<00:00,  1.68it/s]\n",
      "                 Class     Images  Instances      Box(P          R      mAP50  mAP50-95): 100%|██████████| 21/21 [00:30<00:00,  1.46s/it]"
     ]
    },
    {
     "name": "stdout",
     "output_type": "stream",
     "text": [
      "                   all        641        869      0.866      0.715      0.807      0.647\n"
     ]
    },
    {
     "name": "stderr",
     "output_type": "stream",
     "text": [
      "\n"
     ]
    },
    {
     "name": "stdout",
     "output_type": "stream",
     "text": [
      "\n",
      "      Epoch    GPU_mem   box_loss   cls_loss   dfl_loss  Instances       Size\n"
     ]
    },
    {
     "name": "stderr",
     "output_type": "stream",
     "text": [
      "     38/150      5.94G      2.017      1.405      1.734         21        448: 100%|██████████| 358/358 [03:00<00:00,  1.99it/s]\n",
      "                 Class     Images  Instances      Box(P          R      mAP50  mAP50-95): 100%|██████████| 21/21 [00:58<00:00,  2.78s/it]"
     ]
    },
    {
     "name": "stdout",
     "output_type": "stream",
     "text": [
      "                   all        641        869      0.779      0.722      0.773      0.624\n"
     ]
    },
    {
     "name": "stderr",
     "output_type": "stream",
     "text": [
      "\n"
     ]
    },
    {
     "name": "stdout",
     "output_type": "stream",
     "text": [
      "\n",
      "      Epoch    GPU_mem   box_loss   cls_loss   dfl_loss  Instances       Size\n"
     ]
    },
    {
     "name": "stderr",
     "output_type": "stream",
     "text": [
      "     39/150      5.99G      2.014      1.419      1.728         11        448: 100%|██████████| 358/358 [03:36<00:00,  1.66it/s]\n",
      "                 Class     Images  Instances      Box(P          R      mAP50  mAP50-95): 100%|██████████| 21/21 [00:30<00:00,  1.43s/it]"
     ]
    },
    {
     "name": "stdout",
     "output_type": "stream",
     "text": [
      "                   all        641        869      0.807      0.728      0.787      0.633\n"
     ]
    },
    {
     "name": "stderr",
     "output_type": "stream",
     "text": [
      "\n"
     ]
    },
    {
     "name": "stdout",
     "output_type": "stream",
     "text": [
      "\n",
      "      Epoch    GPU_mem   box_loss   cls_loss   dfl_loss  Instances       Size\n"
     ]
    },
    {
     "name": "stderr",
     "output_type": "stream",
     "text": [
      "     40/150      5.93G      1.975      1.369      1.723          5        448: 100%|██████████| 358/358 [03:05<00:00,  1.93it/s]\n",
      "                 Class     Images  Instances      Box(P          R      mAP50  mAP50-95): 100%|██████████| 21/21 [01:17<00:00,  3.71s/it]"
     ]
    },
    {
     "name": "stdout",
     "output_type": "stream",
     "text": [
      "                   all        641        869      0.822      0.716      0.794       0.64\n"
     ]
    },
    {
     "name": "stderr",
     "output_type": "stream",
     "text": [
      "\n"
     ]
    },
    {
     "name": "stdout",
     "output_type": "stream",
     "text": [
      "\n",
      "      Epoch    GPU_mem   box_loss   cls_loss   dfl_loss  Instances       Size\n"
     ]
    },
    {
     "name": "stderr",
     "output_type": "stream",
     "text": [
      "     41/150      5.98G      1.996      1.361      1.717         12        448: 100%|██████████| 358/358 [03:49<00:00,  1.56it/s]\n",
      "                 Class     Images  Instances      Box(P          R      mAP50  mAP50-95): 100%|██████████| 21/21 [00:45<00:00,  2.16s/it]"
     ]
    },
    {
     "name": "stdout",
     "output_type": "stream",
     "text": [
      "                   all        641        869      0.823      0.713      0.802       0.65\n"
     ]
    },
    {
     "name": "stderr",
     "output_type": "stream",
     "text": [
      "\n"
     ]
    },
    {
     "name": "stdout",
     "output_type": "stream",
     "text": [
      "\n",
      "      Epoch    GPU_mem   box_loss   cls_loss   dfl_loss  Instances       Size\n"
     ]
    },
    {
     "name": "stderr",
     "output_type": "stream",
     "text": [
      "     42/150      5.93G      1.966       1.31      1.726         15        448: 100%|██████████| 358/358 [03:11<00:00,  1.87it/s]\n",
      "                 Class     Images  Instances      Box(P          R      mAP50  mAP50-95): 100%|██████████| 21/21 [01:18<00:00,  3.72s/it]"
     ]
    },
    {
     "name": "stdout",
     "output_type": "stream",
     "text": [
      "                   all        641        869      0.762      0.734      0.786      0.641\n"
     ]
    },
    {
     "name": "stderr",
     "output_type": "stream",
     "text": [
      "\n"
     ]
    },
    {
     "name": "stdout",
     "output_type": "stream",
     "text": [
      "\n",
      "      Epoch    GPU_mem   box_loss   cls_loss   dfl_loss  Instances       Size\n"
     ]
    },
    {
     "name": "stderr",
     "output_type": "stream",
     "text": [
      "     43/150         6G      1.967      1.339      1.719         17        448: 100%|██████████| 358/358 [03:54<00:00,  1.52it/s]\n",
      "                 Class     Images  Instances      Box(P          R      mAP50  mAP50-95): 100%|██████████| 21/21 [00:34<00:00,  1.64s/it]"
     ]
    },
    {
     "name": "stdout",
     "output_type": "stream",
     "text": [
      "                   all        641        869       0.83      0.729       0.81      0.654\n"
     ]
    },
    {
     "name": "stderr",
     "output_type": "stream",
     "text": [
      "\n"
     ]
    },
    {
     "name": "stdout",
     "output_type": "stream",
     "text": [
      "\n",
      "      Epoch    GPU_mem   box_loss   cls_loss   dfl_loss  Instances       Size\n"
     ]
    },
    {
     "name": "stderr",
     "output_type": "stream",
     "text": [
      "     44/150      5.93G      1.942      1.298      1.716         11        448: 100%|██████████| 358/358 [03:00<00:00,  1.98it/s]\n",
      "                 Class     Images  Instances      Box(P          R      mAP50  mAP50-95): 100%|██████████| 21/21 [01:20<00:00,  3.85s/it]"
     ]
    },
    {
     "name": "stdout",
     "output_type": "stream",
     "text": [
      "                   all        641        869      0.839      0.722      0.808       0.65\n"
     ]
    },
    {
     "name": "stderr",
     "output_type": "stream",
     "text": [
      "\n"
     ]
    },
    {
     "name": "stdout",
     "output_type": "stream",
     "text": [
      "\n",
      "      Epoch    GPU_mem   box_loss   cls_loss   dfl_loss  Instances       Size\n"
     ]
    },
    {
     "name": "stderr",
     "output_type": "stream",
     "text": [
      "     45/150      5.98G      1.939      1.301      1.719         11        448: 100%|██████████| 358/358 [03:36<00:00,  1.65it/s]\n",
      "                 Class     Images  Instances      Box(P          R      mAP50  mAP50-95): 100%|██████████| 21/21 [00:33<00:00,  1.59s/it]"
     ]
    },
    {
     "name": "stdout",
     "output_type": "stream",
     "text": [
      "                   all        641        869      0.809      0.706      0.807      0.664\n"
     ]
    },
    {
     "name": "stderr",
     "output_type": "stream",
     "text": [
      "\n"
     ]
    },
    {
     "name": "stdout",
     "output_type": "stream",
     "text": [
      "\n",
      "      Epoch    GPU_mem   box_loss   cls_loss   dfl_loss  Instances       Size\n"
     ]
    },
    {
     "name": "stderr",
     "output_type": "stream",
     "text": [
      "     46/150      5.93G      1.944      1.262      1.707         11        448: 100%|██████████| 358/358 [02:55<00:00,  2.04it/s]\n",
      "                 Class     Images  Instances      Box(P          R      mAP50  mAP50-95): 100%|██████████| 21/21 [01:17<00:00,  3.67s/it]"
     ]
    },
    {
     "name": "stdout",
     "output_type": "stream",
     "text": [
      "                   all        641        869      0.867      0.724      0.824      0.674\n"
     ]
    },
    {
     "name": "stderr",
     "output_type": "stream",
     "text": [
      "\n"
     ]
    },
    {
     "name": "stdout",
     "output_type": "stream",
     "text": [
      "\n",
      "      Epoch    GPU_mem   box_loss   cls_loss   dfl_loss  Instances       Size\n"
     ]
    },
    {
     "name": "stderr",
     "output_type": "stream",
     "text": [
      "     47/150      5.99G       1.92      1.265      1.721         12        448: 100%|██████████| 358/358 [05:26<00:00,  1.10it/s]\n",
      "                 Class     Images  Instances      Box(P          R      mAP50  mAP50-95): 100%|██████████| 21/21 [00:29<00:00,  1.42s/it]"
     ]
    },
    {
     "name": "stdout",
     "output_type": "stream",
     "text": [
      "                   all        641        869      0.808      0.739      0.801      0.661\n"
     ]
    },
    {
     "name": "stderr",
     "output_type": "stream",
     "text": [
      "\n"
     ]
    },
    {
     "name": "stdout",
     "output_type": "stream",
     "text": [
      "\n",
      "      Epoch    GPU_mem   box_loss   cls_loss   dfl_loss  Instances       Size\n"
     ]
    },
    {
     "name": "stderr",
     "output_type": "stream",
     "text": [
      "     48/150      5.94G      1.903      1.272      1.714          7        448: 100%|██████████| 358/358 [02:59<00:00,  1.99it/s]\n",
      "                 Class     Images  Instances      Box(P          R      mAP50  mAP50-95): 100%|██████████| 21/21 [01:08<00:00,  3.26s/it]"
     ]
    },
    {
     "name": "stdout",
     "output_type": "stream",
     "text": [
      "                   all        641        869      0.813      0.715      0.798       0.65\n"
     ]
    },
    {
     "name": "stderr",
     "output_type": "stream",
     "text": [
      "\n"
     ]
    },
    {
     "name": "stdout",
     "output_type": "stream",
     "text": [
      "\n",
      "      Epoch    GPU_mem   box_loss   cls_loss   dfl_loss  Instances       Size\n"
     ]
    },
    {
     "name": "stderr",
     "output_type": "stream",
     "text": [
      "     49/150      5.99G      1.899      1.253      1.714         17        448: 100%|██████████| 358/358 [05:19<00:00,  1.12it/s]\n",
      "                 Class     Images  Instances      Box(P          R      mAP50  mAP50-95): 100%|██████████| 21/21 [00:26<00:00,  1.28s/it]"
     ]
    },
    {
     "name": "stdout",
     "output_type": "stream",
     "text": [
      "                   all        641        869       0.81      0.741      0.796      0.649\n"
     ]
    },
    {
     "name": "stderr",
     "output_type": "stream",
     "text": [
      "\n"
     ]
    },
    {
     "name": "stdout",
     "output_type": "stream",
     "text": [
      "\n",
      "      Epoch    GPU_mem   box_loss   cls_loss   dfl_loss  Instances       Size\n"
     ]
    },
    {
     "name": "stderr",
     "output_type": "stream",
     "text": [
      "     50/150      5.93G      1.883      1.243      1.714         16        448: 100%|██████████| 358/358 [03:11<00:00,  1.87it/s]\n",
      "                 Class     Images  Instances      Box(P          R      mAP50  mAP50-95): 100%|██████████| 21/21 [01:07<00:00,  3.22s/it]"
     ]
    },
    {
     "name": "stdout",
     "output_type": "stream",
     "text": [
      "                   all        641        869       0.85       0.71      0.798      0.656\n"
     ]
    },
    {
     "name": "stderr",
     "output_type": "stream",
     "text": [
      "\n"
     ]
    },
    {
     "name": "stdout",
     "output_type": "stream",
     "text": [
      "\n",
      "      Epoch    GPU_mem   box_loss   cls_loss   dfl_loss  Instances       Size\n"
     ]
    },
    {
     "name": "stderr",
     "output_type": "stream",
     "text": [
      "     51/150         6G      1.888      1.241      1.706         10        448: 100%|██████████| 358/358 [05:55<00:00,  1.01it/s]\n",
      "                 Class     Images  Instances      Box(P          R      mAP50  mAP50-95): 100%|██████████| 21/21 [00:36<00:00,  1.75s/it]"
     ]
    },
    {
     "name": "stdout",
     "output_type": "stream",
     "text": [
      "                   all        641        869      0.887      0.715      0.811      0.661\n"
     ]
    },
    {
     "name": "stderr",
     "output_type": "stream",
     "text": [
      "\n"
     ]
    },
    {
     "name": "stdout",
     "output_type": "stream",
     "text": [
      "\n",
      "      Epoch    GPU_mem   box_loss   cls_loss   dfl_loss  Instances       Size\n"
     ]
    },
    {
     "name": "stderr",
     "output_type": "stream",
     "text": [
      "     52/150      5.93G       1.91      1.257       1.71         13        448: 100%|██████████| 358/358 [04:41<00:00,  1.27it/s]\n",
      "                 Class     Images  Instances      Box(P          R      mAP50  mAP50-95): 100%|██████████| 21/21 [01:20<00:00,  3.85s/it]"
     ]
    },
    {
     "name": "stdout",
     "output_type": "stream",
     "text": [
      "                   all        641        869      0.865      0.739      0.832      0.678\n"
     ]
    },
    {
     "name": "stderr",
     "output_type": "stream",
     "text": [
      "\n"
     ]
    },
    {
     "name": "stdout",
     "output_type": "stream",
     "text": [
      "\n",
      "      Epoch    GPU_mem   box_loss   cls_loss   dfl_loss  Instances       Size\n"
     ]
    },
    {
     "name": "stderr",
     "output_type": "stream",
     "text": [
      "     53/150      5.98G      1.867      1.213      1.704         12        448: 100%|██████████| 358/358 [05:24<00:00,  1.10it/s]\n",
      "                 Class     Images  Instances      Box(P          R      mAP50  mAP50-95): 100%|██████████| 21/21 [00:26<00:00,  1.27s/it]"
     ]
    },
    {
     "name": "stdout",
     "output_type": "stream",
     "text": [
      "                   all        641        869      0.863       0.74      0.827      0.674\n"
     ]
    },
    {
     "name": "stderr",
     "output_type": "stream",
     "text": [
      "\n"
     ]
    },
    {
     "name": "stdout",
     "output_type": "stream",
     "text": [
      "\n",
      "      Epoch    GPU_mem   box_loss   cls_loss   dfl_loss  Instances       Size\n"
     ]
    },
    {
     "name": "stderr",
     "output_type": "stream",
     "text": [
      "     54/150      5.95G      1.885      1.228      1.711         15        448: 100%|██████████| 358/358 [04:46<00:00,  1.25it/s]\n",
      "                 Class     Images  Instances      Box(P          R      mAP50  mAP50-95): 100%|██████████| 21/21 [01:22<00:00,  3.92s/it]"
     ]
    },
    {
     "name": "stdout",
     "output_type": "stream",
     "text": [
      "                   all        641        869      0.868      0.737      0.823      0.675\n"
     ]
    },
    {
     "name": "stderr",
     "output_type": "stream",
     "text": [
      "\n"
     ]
    },
    {
     "name": "stdout",
     "output_type": "stream",
     "text": [
      "\n",
      "      Epoch    GPU_mem   box_loss   cls_loss   dfl_loss  Instances       Size\n"
     ]
    },
    {
     "name": "stderr",
     "output_type": "stream",
     "text": [
      "     55/150      5.99G      1.848       1.18      1.701         13        448: 100%|██████████| 358/358 [05:38<00:00,  1.06it/s]\n",
      "                 Class     Images  Instances      Box(P          R      mAP50  mAP50-95): 100%|██████████| 21/21 [00:28<00:00,  1.34s/it]"
     ]
    },
    {
     "name": "stdout",
     "output_type": "stream",
     "text": [
      "                   all        641        869      0.854       0.73      0.815      0.662\n"
     ]
    },
    {
     "name": "stderr",
     "output_type": "stream",
     "text": [
      "\n"
     ]
    },
    {
     "name": "stdout",
     "output_type": "stream",
     "text": [
      "\n",
      "      Epoch    GPU_mem   box_loss   cls_loss   dfl_loss  Instances       Size\n"
     ]
    },
    {
     "name": "stderr",
     "output_type": "stream",
     "text": [
      "     56/150      5.93G      1.832      1.176      1.697          5        448: 100%|██████████| 358/358 [03:50<00:00,  1.55it/s]\n",
      "                 Class     Images  Instances      Box(P          R      mAP50  mAP50-95): 100%|██████████| 21/21 [01:00<00:00,  2.87s/it]"
     ]
    },
    {
     "name": "stdout",
     "output_type": "stream",
     "text": [
      "                   all        641        869      0.874      0.762       0.84      0.687\n"
     ]
    },
    {
     "name": "stderr",
     "output_type": "stream",
     "text": [
      "\n"
     ]
    },
    {
     "name": "stdout",
     "output_type": "stream",
     "text": [
      "\n",
      "      Epoch    GPU_mem   box_loss   cls_loss   dfl_loss  Instances       Size\n"
     ]
    },
    {
     "name": "stderr",
     "output_type": "stream",
     "text": [
      "     57/150      5.99G      1.836      1.174      1.701         10        448: 100%|██████████| 358/358 [06:01<00:00,  1.01s/it]\n",
      "                 Class     Images  Instances      Box(P          R      mAP50  mAP50-95): 100%|██████████| 21/21 [00:26<00:00,  1.28s/it]"
     ]
    },
    {
     "name": "stdout",
     "output_type": "stream",
     "text": [
      "                   all        641        869      0.844      0.767      0.833      0.677\n"
     ]
    },
    {
     "name": "stderr",
     "output_type": "stream",
     "text": [
      "\n"
     ]
    },
    {
     "name": "stdout",
     "output_type": "stream",
     "text": [
      "\n",
      "      Epoch    GPU_mem   box_loss   cls_loss   dfl_loss  Instances       Size\n"
     ]
    },
    {
     "name": "stderr",
     "output_type": "stream",
     "text": [
      "     58/150      5.93G      1.832      1.195      1.711          7        448: 100%|██████████| 358/358 [04:28<00:00,  1.33it/s]\n",
      "                 Class     Images  Instances      Box(P          R      mAP50  mAP50-95): 100%|██████████| 21/21 [01:11<00:00,  3.41s/it]"
     ]
    },
    {
     "name": "stdout",
     "output_type": "stream",
     "text": [
      "                   all        641        869      0.887      0.749       0.83      0.679\n"
     ]
    },
    {
     "name": "stderr",
     "output_type": "stream",
     "text": [
      "\n"
     ]
    },
    {
     "name": "stdout",
     "output_type": "stream",
     "text": [
      "\n",
      "      Epoch    GPU_mem   box_loss   cls_loss   dfl_loss  Instances       Size\n"
     ]
    },
    {
     "name": "stderr",
     "output_type": "stream",
     "text": [
      "     59/150      5.98G       1.81      1.155      1.703         10        448: 100%|██████████| 358/358 [03:40<00:00,  1.63it/s]\n",
      "                 Class     Images  Instances      Box(P          R      mAP50  mAP50-95): 100%|██████████| 21/21 [00:31<00:00,  1.49s/it]"
     ]
    },
    {
     "name": "stdout",
     "output_type": "stream",
     "text": [
      "                   all        641        869      0.876       0.76      0.841      0.687\n"
     ]
    },
    {
     "name": "stderr",
     "output_type": "stream",
     "text": [
      "\n"
     ]
    },
    {
     "name": "stdout",
     "output_type": "stream",
     "text": [
      "\n",
      "      Epoch    GPU_mem   box_loss   cls_loss   dfl_loss  Instances       Size\n"
     ]
    },
    {
     "name": "stderr",
     "output_type": "stream",
     "text": [
      "     60/150      5.93G      1.827      1.178      1.693          8        448: 100%|██████████| 358/358 [04:46<00:00,  1.25it/s]\n",
      "                 Class     Images  Instances      Box(P          R      mAP50  mAP50-95): 100%|██████████| 21/21 [01:18<00:00,  3.74s/it]"
     ]
    },
    {
     "name": "stdout",
     "output_type": "stream",
     "text": [
      "                   all        641        869      0.884      0.757      0.835      0.687\n"
     ]
    },
    {
     "name": "stderr",
     "output_type": "stream",
     "text": [
      "\n"
     ]
    },
    {
     "name": "stdout",
     "output_type": "stream",
     "text": [
      "\n",
      "      Epoch    GPU_mem   box_loss   cls_loss   dfl_loss  Instances       Size\n"
     ]
    },
    {
     "name": "stderr",
     "output_type": "stream",
     "text": [
      "     61/150      5.99G      1.822      1.158      1.696         12        448: 100%|██████████| 358/358 [04:02<00:00,  1.48it/s]\n",
      "                 Class     Images  Instances      Box(P          R      mAP50  mAP50-95): 100%|██████████| 21/21 [00:33<00:00,  1.62s/it]"
     ]
    },
    {
     "name": "stdout",
     "output_type": "stream",
     "text": [
      "                   all        641        869      0.885      0.739      0.828      0.675\n"
     ]
    },
    {
     "name": "stderr",
     "output_type": "stream",
     "text": [
      "\n"
     ]
    },
    {
     "name": "stdout",
     "output_type": "stream",
     "text": [
      "\n",
      "      Epoch    GPU_mem   box_loss   cls_loss   dfl_loss  Instances       Size\n"
     ]
    },
    {
     "name": "stderr",
     "output_type": "stream",
     "text": [
      "     62/150      5.94G      1.795      1.145      1.709         11        448: 100%|██████████| 358/358 [03:13<00:00,  1.85it/s]\n",
      "                 Class     Images  Instances      Box(P          R      mAP50  mAP50-95): 100%|██████████| 21/21 [01:05<00:00,  3.13s/it]"
     ]
    },
    {
     "name": "stdout",
     "output_type": "stream",
     "text": [
      "                   all        641        869      0.885      0.745      0.829      0.683\n"
     ]
    },
    {
     "name": "stderr",
     "output_type": "stream",
     "text": [
      "\n"
     ]
    },
    {
     "name": "stdout",
     "output_type": "stream",
     "text": [
      "\n",
      "      Epoch    GPU_mem   box_loss   cls_loss   dfl_loss  Instances       Size\n"
     ]
    },
    {
     "name": "stderr",
     "output_type": "stream",
     "text": [
      "     63/150      5.99G      1.785      1.125      1.692         17        448: 100%|██████████| 358/358 [03:48<00:00,  1.57it/s]\n",
      "                 Class     Images  Instances      Box(P          R      mAP50  mAP50-95): 100%|██████████| 21/21 [00:31<00:00,  1.49s/it]"
     ]
    },
    {
     "name": "stdout",
     "output_type": "stream",
     "text": [
      "                   all        641        869      0.861      0.764      0.837      0.689\n"
     ]
    },
    {
     "name": "stderr",
     "output_type": "stream",
     "text": [
      "\n"
     ]
    },
    {
     "name": "stdout",
     "output_type": "stream",
     "text": [
      "\n",
      "      Epoch    GPU_mem   box_loss   cls_loss   dfl_loss  Instances       Size\n"
     ]
    },
    {
     "name": "stderr",
     "output_type": "stream",
     "text": [
      "     64/150      5.93G      1.775      1.114      1.685         14        448: 100%|██████████| 358/358 [03:30<00:00,  1.70it/s]\n",
      "                 Class     Images  Instances      Box(P          R      mAP50  mAP50-95): 100%|██████████| 21/21 [00:48<00:00,  2.31s/it]"
     ]
    },
    {
     "name": "stdout",
     "output_type": "stream",
     "text": [
      "                   all        641        869      0.891       0.75      0.835      0.686\n"
     ]
    },
    {
     "name": "stderr",
     "output_type": "stream",
     "text": [
      "\n"
     ]
    },
    {
     "name": "stdout",
     "output_type": "stream",
     "text": [
      "\n",
      "      Epoch    GPU_mem   box_loss   cls_loss   dfl_loss  Instances       Size\n"
     ]
    },
    {
     "name": "stderr",
     "output_type": "stream",
     "text": [
      "     65/150      5.99G      1.788      1.125      1.697         15        448: 100%|██████████| 358/358 [05:05<00:00,  1.17it/s]\n",
      "                 Class     Images  Instances      Box(P          R      mAP50  mAP50-95): 100%|██████████| 21/21 [00:37<00:00,  1.79s/it]"
     ]
    },
    {
     "name": "stdout",
     "output_type": "stream",
     "text": [
      "                   all        641        869      0.893      0.762      0.844      0.694\n"
     ]
    },
    {
     "name": "stderr",
     "output_type": "stream",
     "text": [
      "\n"
     ]
    },
    {
     "name": "stdout",
     "output_type": "stream",
     "text": [
      "\n",
      "      Epoch    GPU_mem   box_loss   cls_loss   dfl_loss  Instances       Size\n"
     ]
    },
    {
     "name": "stderr",
     "output_type": "stream",
     "text": [
      "     66/150      5.93G      1.771      1.102      1.704         11        448: 100%|██████████| 358/358 [03:45<00:00,  1.59it/s]\n",
      "                 Class     Images  Instances      Box(P          R      mAP50  mAP50-95): 100%|██████████| 21/21 [01:09<00:00,  3.31s/it]"
     ]
    },
    {
     "name": "stdout",
     "output_type": "stream",
     "text": [
      "                   all        641        869      0.919      0.762      0.849        0.7\n"
     ]
    },
    {
     "name": "stderr",
     "output_type": "stream",
     "text": [
      "\n"
     ]
    },
    {
     "name": "stdout",
     "output_type": "stream",
     "text": [
      "\n",
      "      Epoch    GPU_mem   box_loss   cls_loss   dfl_loss  Instances       Size\n"
     ]
    },
    {
     "name": "stderr",
     "output_type": "stream",
     "text": [
      "     67/150      5.99G      1.765      1.076      1.674         12        448: 100%|██████████| 358/358 [05:51<00:00,  1.02it/s]\n",
      "                 Class     Images  Instances      Box(P          R      mAP50  mAP50-95): 100%|██████████| 21/21 [00:28<00:00,  1.38s/it]"
     ]
    },
    {
     "name": "stdout",
     "output_type": "stream",
     "text": [
      "                   all        641        869      0.864       0.79      0.846      0.698\n"
     ]
    },
    {
     "name": "stderr",
     "output_type": "stream",
     "text": [
      "\n"
     ]
    },
    {
     "name": "stdout",
     "output_type": "stream",
     "text": [
      "\n",
      "      Epoch    GPU_mem   box_loss   cls_loss   dfl_loss  Instances       Size\n"
     ]
    },
    {
     "name": "stderr",
     "output_type": "stream",
     "text": [
      "     68/150      5.93G      1.781      1.125      1.696         11        448: 100%|██████████| 358/358 [03:44<00:00,  1.59it/s]\n",
      "                 Class     Images  Instances      Box(P          R      mAP50  mAP50-95): 100%|██████████| 21/21 [01:12<00:00,  3.45s/it]"
     ]
    },
    {
     "name": "stdout",
     "output_type": "stream",
     "text": [
      "                   all        641        869      0.873      0.757      0.828      0.678\n"
     ]
    },
    {
     "name": "stderr",
     "output_type": "stream",
     "text": [
      "\n"
     ]
    },
    {
     "name": "stdout",
     "output_type": "stream",
     "text": [
      "\n",
      "      Epoch    GPU_mem   box_loss   cls_loss   dfl_loss  Instances       Size\n"
     ]
    },
    {
     "name": "stderr",
     "output_type": "stream",
     "text": [
      "     69/150      5.98G      1.746      1.081      1.693         14        448: 100%|██████████| 358/358 [05:43<00:00,  1.04it/s]\n",
      "                 Class     Images  Instances      Box(P          R      mAP50  mAP50-95): 100%|██████████| 21/21 [00:25<00:00,  1.23s/it]"
     ]
    },
    {
     "name": "stdout",
     "output_type": "stream",
     "text": [
      "                   all        641        869      0.886      0.751      0.846      0.699\n"
     ]
    },
    {
     "name": "stderr",
     "output_type": "stream",
     "text": [
      "\n"
     ]
    },
    {
     "name": "stdout",
     "output_type": "stream",
     "text": [
      "\n",
      "      Epoch    GPU_mem   box_loss   cls_loss   dfl_loss  Instances       Size\n"
     ]
    },
    {
     "name": "stderr",
     "output_type": "stream",
     "text": [
      "     70/150      5.93G       1.75       1.09      1.684         12        448: 100%|██████████| 358/358 [03:11<00:00,  1.87it/s]\n",
      "                 Class     Images  Instances      Box(P          R      mAP50  mAP50-95): 100%|██████████| 21/21 [01:04<00:00,  3.07s/it]"
     ]
    },
    {
     "name": "stdout",
     "output_type": "stream",
     "text": [
      "                   all        641        869      0.893      0.752      0.831      0.681\n"
     ]
    },
    {
     "name": "stderr",
     "output_type": "stream",
     "text": [
      "\n"
     ]
    },
    {
     "name": "stdout",
     "output_type": "stream",
     "text": [
      "\n",
      "      Epoch    GPU_mem   box_loss   cls_loss   dfl_loss  Instances       Size\n"
     ]
    },
    {
     "name": "stderr",
     "output_type": "stream",
     "text": [
      "     71/150      5.98G      1.762        1.1      1.685         13        448: 100%|██████████| 358/358 [03:50<00:00,  1.55it/s]\n",
      "                 Class     Images  Instances      Box(P          R      mAP50  mAP50-95): 100%|██████████| 21/21 [00:32<00:00,  1.56s/it]"
     ]
    },
    {
     "name": "stdout",
     "output_type": "stream",
     "text": [
      "                   all        641        869      0.898      0.748      0.846        0.7\n"
     ]
    },
    {
     "name": "stderr",
     "output_type": "stream",
     "text": [
      "\n"
     ]
    },
    {
     "name": "stdout",
     "output_type": "stream",
     "text": [
      "\n",
      "      Epoch    GPU_mem   box_loss   cls_loss   dfl_loss  Instances       Size\n"
     ]
    },
    {
     "name": "stderr",
     "output_type": "stream",
     "text": [
      "     72/150      5.93G      1.724      1.067      1.681         14        448: 100%|██████████| 358/358 [03:10<00:00,  1.87it/s]\n",
      "                 Class     Images  Instances      Box(P          R      mAP50  mAP50-95): 100%|██████████| 21/21 [00:56<00:00,  2.68s/it]"
     ]
    },
    {
     "name": "stdout",
     "output_type": "stream",
     "text": [
      "                   all        641        869      0.875      0.799       0.85      0.703\n"
     ]
    },
    {
     "name": "stderr",
     "output_type": "stream",
     "text": [
      "\n"
     ]
    },
    {
     "name": "stdout",
     "output_type": "stream",
     "text": [
      "\n",
      "      Epoch    GPU_mem   box_loss   cls_loss   dfl_loss  Instances       Size\n"
     ]
    },
    {
     "name": "stderr",
     "output_type": "stream",
     "text": [
      "     73/150      5.99G      1.743      1.058       1.67          9        448: 100%|██████████| 358/358 [06:36<00:00,  1.11s/it]\n",
      "                 Class     Images  Instances      Box(P          R      mAP50  mAP50-95): 100%|██████████| 21/21 [00:51<00:00,  2.44s/it]"
     ]
    },
    {
     "name": "stdout",
     "output_type": "stream",
     "text": [
      "                   all        641        869      0.909      0.774      0.857      0.714\n"
     ]
    },
    {
     "name": "stderr",
     "output_type": "stream",
     "text": [
      "\n"
     ]
    },
    {
     "name": "stdout",
     "output_type": "stream",
     "text": [
      "\n",
      "      Epoch    GPU_mem   box_loss   cls_loss   dfl_loss  Instances       Size\n"
     ]
    },
    {
     "name": "stderr",
     "output_type": "stream",
     "text": [
      "     74/150      5.93G      1.695       1.04      1.678          9        448: 100%|██████████| 358/358 [03:22<00:00,  1.77it/s]\n",
      "                 Class     Images  Instances      Box(P          R      mAP50  mAP50-95): 100%|██████████| 21/21 [01:04<00:00,  3.06s/it]"
     ]
    },
    {
     "name": "stdout",
     "output_type": "stream",
     "text": [
      "                   all        641        869      0.928      0.723      0.843      0.697\n"
     ]
    },
    {
     "name": "stderr",
     "output_type": "stream",
     "text": [
      "\n"
     ]
    },
    {
     "name": "stdout",
     "output_type": "stream",
     "text": [
      "\n",
      "      Epoch    GPU_mem   box_loss   cls_loss   dfl_loss  Instances       Size\n"
     ]
    },
    {
     "name": "stderr",
     "output_type": "stream",
     "text": [
      "     75/150      5.99G      1.707      1.039      1.676         10        448: 100%|██████████| 358/358 [03:52<00:00,  1.54it/s]\n",
      "                 Class     Images  Instances      Box(P          R      mAP50  mAP50-95): 100%|██████████| 21/21 [00:30<00:00,  1.45s/it]"
     ]
    },
    {
     "name": "stdout",
     "output_type": "stream",
     "text": [
      "                   all        641        869        0.9      0.745      0.847      0.705\n"
     ]
    },
    {
     "name": "stderr",
     "output_type": "stream",
     "text": [
      "\n"
     ]
    },
    {
     "name": "stdout",
     "output_type": "stream",
     "text": [
      "\n",
      "      Epoch    GPU_mem   box_loss   cls_loss   dfl_loss  Instances       Size\n"
     ]
    },
    {
     "name": "stderr",
     "output_type": "stream",
     "text": [
      "     76/150      5.93G      1.725      1.025      1.679          6        448: 100%|██████████| 358/358 [03:11<00:00,  1.87it/s]\n",
      "                 Class     Images  Instances      Box(P          R      mAP50  mAP50-95): 100%|██████████| 21/21 [00:51<00:00,  2.43s/it]"
     ]
    },
    {
     "name": "stdout",
     "output_type": "stream",
     "text": [
      "                   all        641        869      0.912      0.721      0.838      0.696\n"
     ]
    },
    {
     "name": "stderr",
     "output_type": "stream",
     "text": [
      "\n"
     ]
    },
    {
     "name": "stdout",
     "output_type": "stream",
     "text": [
      "\n",
      "      Epoch    GPU_mem   box_loss   cls_loss   dfl_loss  Instances       Size\n"
     ]
    },
    {
     "name": "stderr",
     "output_type": "stream",
     "text": [
      "     77/150      5.98G      1.677      1.008      1.682          8        448: 100%|██████████| 358/358 [05:45<00:00,  1.04it/s]\n",
      "                 Class     Images  Instances      Box(P          R      mAP50  mAP50-95): 100%|██████████| 21/21 [00:27<00:00,  1.30s/it]"
     ]
    },
    {
     "name": "stdout",
     "output_type": "stream",
     "text": [
      "                   all        641        869      0.888      0.749      0.845      0.706\n"
     ]
    },
    {
     "name": "stderr",
     "output_type": "stream",
     "text": [
      "\n"
     ]
    },
    {
     "name": "stdout",
     "output_type": "stream",
     "text": [
      "\n",
      "      Epoch    GPU_mem   box_loss   cls_loss   dfl_loss  Instances       Size\n"
     ]
    },
    {
     "name": "stderr",
     "output_type": "stream",
     "text": [
      "     78/150      5.93G      1.696      1.018      1.672         13        448: 100%|██████████| 358/358 [03:25<00:00,  1.74it/s]\n",
      "                 Class     Images  Instances      Box(P          R      mAP50  mAP50-95): 100%|██████████| 21/21 [01:16<00:00,  3.66s/it]"
     ]
    },
    {
     "name": "stdout",
     "output_type": "stream",
     "text": [
      "                   all        641        869       0.91      0.731      0.837      0.696\n"
     ]
    },
    {
     "name": "stderr",
     "output_type": "stream",
     "text": [
      "\n"
     ]
    },
    {
     "name": "stdout",
     "output_type": "stream",
     "text": [
      "\n",
      "      Epoch    GPU_mem   box_loss   cls_loss   dfl_loss  Instances       Size\n"
     ]
    },
    {
     "name": "stderr",
     "output_type": "stream",
     "text": [
      "     79/150      5.98G      1.694      1.037      1.674         14        448: 100%|██████████| 358/358 [05:27<00:00,  1.09it/s]\n",
      "                 Class     Images  Instances      Box(P          R      mAP50  mAP50-95): 100%|██████████| 21/21 [00:26<00:00,  1.27s/it]"
     ]
    },
    {
     "name": "stdout",
     "output_type": "stream",
     "text": [
      "                   all        641        869      0.888      0.751      0.839      0.702\n"
     ]
    },
    {
     "name": "stderr",
     "output_type": "stream",
     "text": [
      "\n"
     ]
    },
    {
     "name": "stdout",
     "output_type": "stream",
     "text": [
      "\n",
      "      Epoch    GPU_mem   box_loss   cls_loss   dfl_loss  Instances       Size\n"
     ]
    },
    {
     "name": "stderr",
     "output_type": "stream",
     "text": [
      "     80/150      5.93G      1.684      1.029      1.675          9        448: 100%|██████████| 358/358 [03:12<00:00,  1.86it/s]\n",
      "                 Class     Images  Instances      Box(P          R      mAP50  mAP50-95): 100%|██████████| 21/21 [01:06<00:00,  3.16s/it]"
     ]
    },
    {
     "name": "stdout",
     "output_type": "stream",
     "text": [
      "                   all        641        869        0.9      0.743      0.837      0.692\n"
     ]
    },
    {
     "name": "stderr",
     "output_type": "stream",
     "text": [
      "\n"
     ]
    },
    {
     "name": "stdout",
     "output_type": "stream",
     "text": [
      "\n",
      "      Epoch    GPU_mem   box_loss   cls_loss   dfl_loss  Instances       Size\n"
     ]
    },
    {
     "name": "stderr",
     "output_type": "stream",
     "text": [
      "     81/150      5.99G      1.677      1.009      1.677         10        448: 100%|██████████| 358/358 [03:37<00:00,  1.65it/s]\n",
      "                 Class     Images  Instances      Box(P          R      mAP50  mAP50-95): 100%|██████████| 21/21 [00:30<00:00,  1.46s/it]"
     ]
    },
    {
     "name": "stdout",
     "output_type": "stream",
     "text": [
      "                   all        641        869      0.892      0.767      0.851      0.707\n"
     ]
    },
    {
     "name": "stderr",
     "output_type": "stream",
     "text": [
      "\n"
     ]
    },
    {
     "name": "stdout",
     "output_type": "stream",
     "text": [
      "\n",
      "      Epoch    GPU_mem   box_loss   cls_loss   dfl_loss  Instances       Size\n"
     ]
    },
    {
     "name": "stderr",
     "output_type": "stream",
     "text": [
      "     82/150      5.93G      1.675      1.005      1.667         14        448: 100%|██████████| 358/358 [03:12<00:00,  1.86it/s]\n",
      "                 Class     Images  Instances      Box(P          R      mAP50  mAP50-95): 100%|██████████| 21/21 [00:54<00:00,  2.62s/it]"
     ]
    },
    {
     "name": "stdout",
     "output_type": "stream",
     "text": [
      "                   all        641        869      0.869      0.781      0.848      0.702\n"
     ]
    },
    {
     "name": "stderr",
     "output_type": "stream",
     "text": [
      "\n"
     ]
    },
    {
     "name": "stdout",
     "output_type": "stream",
     "text": [
      "\n",
      "      Epoch    GPU_mem   box_loss   cls_loss   dfl_loss  Instances       Size\n"
     ]
    },
    {
     "name": "stderr",
     "output_type": "stream",
     "text": [
      "     83/150      5.99G      1.657     0.9922      1.668         11        448: 100%|██████████| 358/358 [03:53<00:00,  1.54it/s]\n",
      "                 Class     Images  Instances      Box(P          R      mAP50  mAP50-95): 100%|██████████| 21/21 [00:30<00:00,  1.44s/it]"
     ]
    },
    {
     "name": "stdout",
     "output_type": "stream",
     "text": [
      "                   all        641        869      0.908      0.764      0.854      0.712\n"
     ]
    },
    {
     "name": "stderr",
     "output_type": "stream",
     "text": [
      "\n"
     ]
    },
    {
     "name": "stdout",
     "output_type": "stream",
     "text": [
      "\n",
      "      Epoch    GPU_mem   box_loss   cls_loss   dfl_loss  Instances       Size\n"
     ]
    },
    {
     "name": "stderr",
     "output_type": "stream",
     "text": [
      "     84/150      5.93G      1.637      1.016      1.667         13        448: 100%|██████████| 358/358 [03:11<00:00,  1.87it/s]\n",
      "                 Class     Images  Instances      Box(P          R      mAP50  mAP50-95): 100%|██████████| 21/21 [00:57<00:00,  2.73s/it]"
     ]
    },
    {
     "name": "stdout",
     "output_type": "stream",
     "text": [
      "                   all        641        869      0.887      0.765      0.847      0.701\n"
     ]
    },
    {
     "name": "stderr",
     "output_type": "stream",
     "text": [
      "\n"
     ]
    },
    {
     "name": "stdout",
     "output_type": "stream",
     "text": [
      "\n",
      "      Epoch    GPU_mem   box_loss   cls_loss   dfl_loss  Instances       Size\n"
     ]
    },
    {
     "name": "stderr",
     "output_type": "stream",
     "text": [
      "     85/150      5.98G      1.665     0.9864      1.673         17        448: 100%|██████████| 358/358 [03:38<00:00,  1.63it/s]\n",
      "                 Class     Images  Instances      Box(P          R      mAP50  mAP50-95): 100%|██████████| 21/21 [00:30<00:00,  1.43s/it]"
     ]
    },
    {
     "name": "stdout",
     "output_type": "stream",
     "text": [
      "                   all        641        869      0.929      0.741      0.845      0.709\n"
     ]
    },
    {
     "name": "stderr",
     "output_type": "stream",
     "text": [
      "\n"
     ]
    },
    {
     "name": "stdout",
     "output_type": "stream",
     "text": [
      "\n",
      "      Epoch    GPU_mem   box_loss   cls_loss   dfl_loss  Instances       Size\n"
     ]
    },
    {
     "name": "stderr",
     "output_type": "stream",
     "text": [
      "     86/150      5.95G       1.63     0.9583      1.664          6        448: 100%|██████████| 358/358 [03:10<00:00,  1.88it/s]\n",
      "                 Class     Images  Instances      Box(P          R      mAP50  mAP50-95): 100%|██████████| 21/21 [00:56<00:00,  2.67s/it]"
     ]
    },
    {
     "name": "stdout",
     "output_type": "stream",
     "text": [
      "                   all        641        869      0.903       0.76      0.848      0.707\n"
     ]
    },
    {
     "name": "stderr",
     "output_type": "stream",
     "text": [
      "\n"
     ]
    },
    {
     "name": "stdout",
     "output_type": "stream",
     "text": [
      "\n",
      "      Epoch    GPU_mem   box_loss   cls_loss   dfl_loss  Instances       Size\n"
     ]
    },
    {
     "name": "stderr",
     "output_type": "stream",
     "text": [
      "     87/150      5.99G      1.633     0.9846      1.666          4        448: 100%|██████████| 358/358 [05:19<00:00,  1.12it/s]\n",
      "                 Class     Images  Instances      Box(P          R      mAP50  mAP50-95): 100%|██████████| 21/21 [00:29<00:00,  1.40s/it]"
     ]
    },
    {
     "name": "stdout",
     "output_type": "stream",
     "text": [
      "                   all        641        869      0.881      0.787      0.855      0.711\n"
     ]
    },
    {
     "name": "stderr",
     "output_type": "stream",
     "text": [
      "\n"
     ]
    },
    {
     "name": "stdout",
     "output_type": "stream",
     "text": [
      "\n",
      "      Epoch    GPU_mem   box_loss   cls_loss   dfl_loss  Instances       Size\n"
     ]
    },
    {
     "name": "stderr",
     "output_type": "stream",
     "text": [
      "     88/150      5.93G      1.619     0.9695       1.66         13        448: 100%|██████████| 358/358 [04:52<00:00,  1.22it/s]\n",
      "                 Class     Images  Instances      Box(P          R      mAP50  mAP50-95): 100%|██████████| 21/21 [01:08<00:00,  3.25s/it]"
     ]
    },
    {
     "name": "stdout",
     "output_type": "stream",
     "text": [
      "                   all        641        869      0.885      0.788      0.857      0.715\n"
     ]
    },
    {
     "name": "stderr",
     "output_type": "stream",
     "text": [
      "\n"
     ]
    },
    {
     "name": "stdout",
     "output_type": "stream",
     "text": [
      "\n",
      "      Epoch    GPU_mem   box_loss   cls_loss   dfl_loss  Instances       Size\n"
     ]
    },
    {
     "name": "stderr",
     "output_type": "stream",
     "text": [
      "     89/150      5.98G       1.62     0.9483      1.669         13        448: 100%|██████████| 358/358 [05:38<00:00,  1.06it/s]\n",
      "                 Class     Images  Instances      Box(P          R      mAP50  mAP50-95): 100%|██████████| 21/21 [00:26<00:00,  1.25s/it]"
     ]
    },
    {
     "name": "stdout",
     "output_type": "stream",
     "text": [
      "                   all        641        869      0.911      0.776      0.851      0.711\n"
     ]
    },
    {
     "name": "stderr",
     "output_type": "stream",
     "text": [
      "\n"
     ]
    },
    {
     "name": "stdout",
     "output_type": "stream",
     "text": [
      "\n",
      "      Epoch    GPU_mem   box_loss   cls_loss   dfl_loss  Instances       Size\n"
     ]
    },
    {
     "name": "stderr",
     "output_type": "stream",
     "text": [
      "     90/150      5.93G      1.613     0.9598      1.661         10        448: 100%|██████████| 358/358 [03:12<00:00,  1.86it/s]\n",
      "                 Class     Images  Instances      Box(P          R      mAP50  mAP50-95): 100%|██████████| 21/21 [01:14<00:00,  3.57s/it]"
     ]
    },
    {
     "name": "stdout",
     "output_type": "stream",
     "text": [
      "                   all        641        869      0.901      0.792      0.854      0.713\n"
     ]
    },
    {
     "name": "stderr",
     "output_type": "stream",
     "text": [
      "\n"
     ]
    },
    {
     "name": "stdout",
     "output_type": "stream",
     "text": [
      "\n",
      "      Epoch    GPU_mem   box_loss   cls_loss   dfl_loss  Instances       Size\n"
     ]
    },
    {
     "name": "stderr",
     "output_type": "stream",
     "text": [
      "     91/150      5.98G      1.621     0.9571      1.657          4        448: 100%|██████████| 358/358 [05:46<00:00,  1.03it/s]\n",
      "                 Class     Images  Instances      Box(P          R      mAP50  mAP50-95): 100%|██████████| 21/21 [00:42<00:00,  2.04s/it]"
     ]
    },
    {
     "name": "stdout",
     "output_type": "stream",
     "text": [
      "                   all        641        869      0.901      0.773      0.844      0.699\n"
     ]
    },
    {
     "name": "stderr",
     "output_type": "stream",
     "text": [
      "\n"
     ]
    },
    {
     "name": "stdout",
     "output_type": "stream",
     "text": [
      "\n",
      "      Epoch    GPU_mem   box_loss   cls_loss   dfl_loss  Instances       Size\n"
     ]
    },
    {
     "name": "stderr",
     "output_type": "stream",
     "text": [
      "     92/150      5.93G      1.574     0.9437      1.659         10        448: 100%|██████████| 358/358 [04:41<00:00,  1.27it/s]\n",
      "                 Class     Images  Instances      Box(P          R      mAP50  mAP50-95): 100%|██████████| 21/21 [01:15<00:00,  3.61s/it]"
     ]
    },
    {
     "name": "stdout",
     "output_type": "stream",
     "text": [
      "                   all        641        869      0.908      0.774      0.849      0.702\n"
     ]
    },
    {
     "name": "stderr",
     "output_type": "stream",
     "text": [
      "\n"
     ]
    },
    {
     "name": "stdout",
     "output_type": "stream",
     "text": [
      "\n",
      "      Epoch    GPU_mem   box_loss   cls_loss   dfl_loss  Instances       Size\n"
     ]
    },
    {
     "name": "stderr",
     "output_type": "stream",
     "text": [
      "     93/150      5.98G       1.59     0.9164      1.659          9        448: 100%|██████████| 358/358 [04:11<00:00,  1.42it/s]\n",
      "                 Class     Images  Instances      Box(P          R      mAP50  mAP50-95): 100%|██████████| 21/21 [00:31<00:00,  1.49s/it]"
     ]
    },
    {
     "name": "stdout",
     "output_type": "stream",
     "text": [
      "                   all        641        869      0.899      0.785      0.854      0.709\n"
     ]
    },
    {
     "name": "stderr",
     "output_type": "stream",
     "text": [
      "\n"
     ]
    },
    {
     "name": "stdout",
     "output_type": "stream",
     "text": [
      "\n",
      "      Epoch    GPU_mem   box_loss   cls_loss   dfl_loss  Instances       Size\n"
     ]
    },
    {
     "name": "stderr",
     "output_type": "stream",
     "text": [
      "     94/150      5.93G      1.571     0.9152      1.651         10        448: 100%|██████████| 358/358 [03:48<00:00,  1.57it/s]\n",
      "                 Class     Images  Instances      Box(P          R      mAP50  mAP50-95): 100%|██████████| 21/21 [01:11<00:00,  3.41s/it]"
     ]
    },
    {
     "name": "stdout",
     "output_type": "stream",
     "text": [
      "                   all        641        869      0.918      0.776      0.856      0.713\n"
     ]
    },
    {
     "name": "stderr",
     "output_type": "stream",
     "text": [
      "\n"
     ]
    },
    {
     "name": "stdout",
     "output_type": "stream",
     "text": [
      "\n",
      "      Epoch    GPU_mem   box_loss   cls_loss   dfl_loss  Instances       Size\n"
     ]
    },
    {
     "name": "stderr",
     "output_type": "stream",
     "text": [
      "     95/150      5.99G      1.569     0.9112      1.654         10        448: 100%|██████████| 358/358 [04:15<00:00,  1.40it/s]\n",
      "                 Class     Images  Instances      Box(P          R      mAP50  mAP50-95): 100%|██████████| 21/21 [00:34<00:00,  1.66s/it]"
     ]
    },
    {
     "name": "stdout",
     "output_type": "stream",
     "text": [
      "                   all        641        869      0.905      0.793      0.864      0.718\n"
     ]
    },
    {
     "name": "stderr",
     "output_type": "stream",
     "text": [
      "\n"
     ]
    },
    {
     "name": "stdout",
     "output_type": "stream",
     "text": [
      "\n",
      "      Epoch    GPU_mem   box_loss   cls_loss   dfl_loss  Instances       Size\n"
     ]
    },
    {
     "name": "stderr",
     "output_type": "stream",
     "text": [
      "     96/150      5.93G      1.591     0.9105      1.656         13        448: 100%|██████████| 358/358 [03:01<00:00,  1.97it/s]\n",
      "                 Class     Images  Instances      Box(P          R      mAP50  mAP50-95): 100%|██████████| 21/21 [01:08<00:00,  3.28s/it]"
     ]
    },
    {
     "name": "stdout",
     "output_type": "stream",
     "text": [
      "                   all        641        869      0.871      0.771      0.847      0.704\n"
     ]
    },
    {
     "name": "stderr",
     "output_type": "stream",
     "text": [
      "\n"
     ]
    },
    {
     "name": "stdout",
     "output_type": "stream",
     "text": [
      "\n",
      "      Epoch    GPU_mem   box_loss   cls_loss   dfl_loss  Instances       Size\n"
     ]
    },
    {
     "name": "stderr",
     "output_type": "stream",
     "text": [
      "     97/150      5.99G      1.564     0.8905      1.653         14        448: 100%|██████████| 358/358 [08:24<00:00,  1.41s/it]\n",
      "                 Class     Images  Instances      Box(P          R      mAP50  mAP50-95): 100%|██████████| 21/21 [00:27<00:00,  1.29s/it]"
     ]
    },
    {
     "name": "stdout",
     "output_type": "stream",
     "text": [
      "                   all        641        869      0.868      0.782      0.844      0.702\n"
     ]
    },
    {
     "name": "stderr",
     "output_type": "stream",
     "text": [
      "\n"
     ]
    },
    {
     "name": "stdout",
     "output_type": "stream",
     "text": [
      "\n",
      "      Epoch    GPU_mem   box_loss   cls_loss   dfl_loss  Instances       Size\n"
     ]
    },
    {
     "name": "stderr",
     "output_type": "stream",
     "text": [
      "     98/150      5.93G      1.542     0.8906      1.667         10        448: 100%|██████████| 358/358 [04:30<00:00,  1.32it/s]\n",
      "                 Class     Images  Instances      Box(P          R      mAP50  mAP50-95): 100%|██████████| 21/21 [01:20<00:00,  3.83s/it]"
     ]
    },
    {
     "name": "stdout",
     "output_type": "stream",
     "text": [
      "                   all        641        869      0.904      0.759      0.854      0.711\n"
     ]
    },
    {
     "name": "stderr",
     "output_type": "stream",
     "text": [
      "\n"
     ]
    },
    {
     "name": "stdout",
     "output_type": "stream",
     "text": [
      "\n",
      "      Epoch    GPU_mem   box_loss   cls_loss   dfl_loss  Instances       Size\n"
     ]
    },
    {
     "name": "stderr",
     "output_type": "stream",
     "text": [
      "     99/150         6G      1.535     0.8857      1.644          8        448: 100%|██████████| 358/358 [04:15<00:00,  1.40it/s]\n",
      "                 Class     Images  Instances      Box(P          R      mAP50  mAP50-95): 100%|██████████| 21/21 [00:34<00:00,  1.64s/it]"
     ]
    },
    {
     "name": "stdout",
     "output_type": "stream",
     "text": [
      "                   all        641        869      0.895      0.795      0.862       0.72\n"
     ]
    },
    {
     "name": "stderr",
     "output_type": "stream",
     "text": [
      "\n"
     ]
    },
    {
     "name": "stdout",
     "output_type": "stream",
     "text": [
      "\n",
      "      Epoch    GPU_mem   box_loss   cls_loss   dfl_loss  Instances       Size\n"
     ]
    },
    {
     "name": "stderr",
     "output_type": "stream",
     "text": [
      "    100/150      5.93G       1.56     0.8928       1.65         14        448: 100%|██████████| 358/358 [03:48<00:00,  1.57it/s]\n",
      "                 Class     Images  Instances      Box(P          R      mAP50  mAP50-95): 100%|██████████| 21/21 [01:07<00:00,  3.22s/it]"
     ]
    },
    {
     "name": "stdout",
     "output_type": "stream",
     "text": [
      "                   all        641        869      0.911      0.779      0.857      0.716\n"
     ]
    },
    {
     "name": "stderr",
     "output_type": "stream",
     "text": [
      "\n"
     ]
    },
    {
     "name": "stdout",
     "output_type": "stream",
     "text": [
      "\n",
      "      Epoch    GPU_mem   box_loss   cls_loss   dfl_loss  Instances       Size\n"
     ]
    },
    {
     "name": "stderr",
     "output_type": "stream",
     "text": [
      "    101/150         6G      1.531      0.885      1.643         18        448: 100%|██████████| 358/358 [06:10<00:00,  1.03s/it]\n",
      "                 Class     Images  Instances      Box(P          R      mAP50  mAP50-95): 100%|██████████| 21/21 [00:30<00:00,  1.43s/it]"
     ]
    },
    {
     "name": "stdout",
     "output_type": "stream",
     "text": [
      "                   all        641        869      0.936      0.779       0.86      0.721\n"
     ]
    },
    {
     "name": "stderr",
     "output_type": "stream",
     "text": [
      "\n"
     ]
    },
    {
     "name": "stdout",
     "output_type": "stream",
     "text": [
      "\n",
      "      Epoch    GPU_mem   box_loss   cls_loss   dfl_loss  Instances       Size\n"
     ]
    },
    {
     "name": "stderr",
     "output_type": "stream",
     "text": [
      "    102/150      5.93G      1.539     0.8839      1.659          5        448: 100%|██████████| 358/358 [05:51<00:00,  1.02it/s]\n",
      "                 Class     Images  Instances      Box(P          R      mAP50  mAP50-95): 100%|██████████| 21/21 [01:24<00:00,  4.00s/it]"
     ]
    },
    {
     "name": "stdout",
     "output_type": "stream",
     "text": [
      "                   all        641        869      0.924       0.78       0.86      0.718\n"
     ]
    },
    {
     "name": "stderr",
     "output_type": "stream",
     "text": [
      "\n"
     ]
    },
    {
     "name": "stdout",
     "output_type": "stream",
     "text": [
      "\n",
      "      Epoch    GPU_mem   box_loss   cls_loss   dfl_loss  Instances       Size\n"
     ]
    },
    {
     "name": "stderr",
     "output_type": "stream",
     "text": [
      "    103/150      5.98G      1.503     0.8508      1.657         10        448: 100%|██████████| 358/358 [05:46<00:00,  1.03it/s]\n",
      "                 Class     Images  Instances      Box(P          R      mAP50  mAP50-95): 100%|██████████| 21/21 [00:50<00:00,  2.42s/it]"
     ]
    },
    {
     "name": "stdout",
     "output_type": "stream",
     "text": [
      "                   all        641        869      0.919      0.792      0.865      0.721\n"
     ]
    },
    {
     "name": "stderr",
     "output_type": "stream",
     "text": [
      "\n"
     ]
    },
    {
     "name": "stdout",
     "output_type": "stream",
     "text": [
      "\n",
      "      Epoch    GPU_mem   box_loss   cls_loss   dfl_loss  Instances       Size\n"
     ]
    },
    {
     "name": "stderr",
     "output_type": "stream",
     "text": [
      "    104/150      5.93G      1.503      0.864      1.649         10        448: 100%|██████████| 358/358 [04:42<00:00,  1.27it/s]\n",
      "                 Class     Images  Instances      Box(P          R      mAP50  mAP50-95): 100%|██████████| 21/21 [01:15<00:00,  3.59s/it]"
     ]
    },
    {
     "name": "stdout",
     "output_type": "stream",
     "text": [
      "                   all        641        869       0.89      0.802      0.861      0.717\n"
     ]
    },
    {
     "name": "stderr",
     "output_type": "stream",
     "text": [
      "\n"
     ]
    },
    {
     "name": "stdout",
     "output_type": "stream",
     "text": [
      "\n",
      "      Epoch    GPU_mem   box_loss   cls_loss   dfl_loss  Instances       Size\n"
     ]
    },
    {
     "name": "stderr",
     "output_type": "stream",
     "text": [
      "    105/150      5.99G      1.521     0.8677      1.653          6        448: 100%|██████████| 358/358 [04:43<00:00,  1.26it/s]\n",
      "                 Class     Images  Instances      Box(P          R      mAP50  mAP50-95): 100%|██████████| 21/21 [00:42<00:00,  2.02s/it]"
     ]
    },
    {
     "name": "stdout",
     "output_type": "stream",
     "text": [
      "                   all        641        869      0.923      0.789       0.86       0.72\n"
     ]
    },
    {
     "name": "stderr",
     "output_type": "stream",
     "text": [
      "\n"
     ]
    },
    {
     "name": "stdout",
     "output_type": "stream",
     "text": [
      "\n",
      "      Epoch    GPU_mem   box_loss   cls_loss   dfl_loss  Instances       Size\n"
     ]
    },
    {
     "name": "stderr",
     "output_type": "stream",
     "text": [
      "    106/150      5.93G      1.491      0.851      1.653          7        448: 100%|██████████| 358/358 [04:20<00:00,  1.37it/s]\n",
      "                 Class     Images  Instances      Box(P          R      mAP50  mAP50-95): 100%|██████████| 21/21 [01:05<00:00,  3.11s/it]"
     ]
    },
    {
     "name": "stdout",
     "output_type": "stream",
     "text": [
      "                   all        641        869      0.916      0.789      0.857      0.719\n"
     ]
    },
    {
     "name": "stderr",
     "output_type": "stream",
     "text": [
      "\n"
     ]
    },
    {
     "name": "stdout",
     "output_type": "stream",
     "text": [
      "\n",
      "      Epoch    GPU_mem   box_loss   cls_loss   dfl_loss  Instances       Size\n"
     ]
    },
    {
     "name": "stderr",
     "output_type": "stream",
     "text": [
      "    107/150         6G      1.486     0.8403      1.637          8        448: 100%|██████████| 358/358 [06:21<00:00,  1.07s/it]\n",
      "                 Class     Images  Instances      Box(P          R      mAP50  mAP50-95): 100%|██████████| 21/21 [00:46<00:00,  2.21s/it]"
     ]
    },
    {
     "name": "stdout",
     "output_type": "stream",
     "text": [
      "                   all        641        869      0.901      0.789      0.856      0.715\n"
     ]
    },
    {
     "name": "stderr",
     "output_type": "stream",
     "text": [
      "\n"
     ]
    },
    {
     "name": "stdout",
     "output_type": "stream",
     "text": [
      "\n",
      "      Epoch    GPU_mem   box_loss   cls_loss   dfl_loss  Instances       Size\n"
     ]
    },
    {
     "name": "stderr",
     "output_type": "stream",
     "text": [
      "    108/150      5.93G      1.486     0.8321      1.645          7        448: 100%|██████████| 358/358 [04:45<00:00,  1.25it/s]\n",
      "                 Class     Images  Instances      Box(P          R      mAP50  mAP50-95): 100%|██████████| 21/21 [01:11<00:00,  3.39s/it]"
     ]
    },
    {
     "name": "stdout",
     "output_type": "stream",
     "text": [
      "                   all        641        869        0.9      0.792      0.857      0.718\n"
     ]
    },
    {
     "name": "stderr",
     "output_type": "stream",
     "text": [
      "\n"
     ]
    },
    {
     "name": "stdout",
     "output_type": "stream",
     "text": [
      "\n",
      "      Epoch    GPU_mem   box_loss   cls_loss   dfl_loss  Instances       Size\n"
     ]
    },
    {
     "name": "stderr",
     "output_type": "stream",
     "text": [
      "    109/150      5.98G      1.473     0.8209      1.638         18        448: 100%|██████████| 358/358 [05:55<00:00,  1.01it/s]\n",
      "                 Class     Images  Instances      Box(P          R      mAP50  mAP50-95): 100%|██████████| 21/21 [00:36<00:00,  1.75s/it]"
     ]
    },
    {
     "name": "stdout",
     "output_type": "stream",
     "text": [
      "                   all        641        869      0.903       0.77      0.855      0.713\n"
     ]
    },
    {
     "name": "stderr",
     "output_type": "stream",
     "text": [
      "\n"
     ]
    },
    {
     "name": "stdout",
     "output_type": "stream",
     "text": [
      "\n",
      "      Epoch    GPU_mem   box_loss   cls_loss   dfl_loss  Instances       Size\n"
     ]
    },
    {
     "name": "stderr",
     "output_type": "stream",
     "text": [
      "    110/150      5.95G      1.474     0.8189      1.641          9        448: 100%|██████████| 358/358 [05:48<00:00,  1.03it/s]\n",
      "                 Class     Images  Instances      Box(P          R      mAP50  mAP50-95): 100%|██████████| 21/21 [01:25<00:00,  4.09s/it]"
     ]
    },
    {
     "name": "stdout",
     "output_type": "stream",
     "text": [
      "                   all        641        869      0.912      0.766      0.852       0.71\n"
     ]
    },
    {
     "name": "stderr",
     "output_type": "stream",
     "text": [
      "\n"
     ]
    },
    {
     "name": "stdout",
     "output_type": "stream",
     "text": [
      "\n",
      "      Epoch    GPU_mem   box_loss   cls_loss   dfl_loss  Instances       Size\n"
     ]
    },
    {
     "name": "stderr",
     "output_type": "stream",
     "text": [
      "    111/150         6G      1.456     0.8159      1.638          9        448: 100%|██████████| 358/358 [05:43<00:00,  1.04it/s]\n",
      "                 Class     Images  Instances      Box(P          R      mAP50  mAP50-95): 100%|██████████| 21/21 [00:29<00:00,  1.40s/it]"
     ]
    },
    {
     "name": "stdout",
     "output_type": "stream",
     "text": [
      "                   all        641        869      0.917      0.784      0.858      0.716\n"
     ]
    },
    {
     "name": "stderr",
     "output_type": "stream",
     "text": [
      "\n"
     ]
    },
    {
     "name": "stdout",
     "output_type": "stream",
     "text": [
      "\n",
      "      Epoch    GPU_mem   box_loss   cls_loss   dfl_loss  Instances       Size\n"
     ]
    },
    {
     "name": "stderr",
     "output_type": "stream",
     "text": [
      "    112/150      5.93G      1.464     0.8209       1.64         15        448: 100%|██████████| 358/358 [04:41<00:00,  1.27it/s]\n",
      "                 Class     Images  Instances      Box(P          R      mAP50  mAP50-95): 100%|██████████| 21/21 [01:13<00:00,  3.52s/it]"
     ]
    },
    {
     "name": "stdout",
     "output_type": "stream",
     "text": [
      "                   all        641        869       0.92      0.763      0.854      0.716\n"
     ]
    },
    {
     "name": "stderr",
     "output_type": "stream",
     "text": [
      "\n"
     ]
    },
    {
     "name": "stdout",
     "output_type": "stream",
     "text": [
      "\n",
      "      Epoch    GPU_mem   box_loss   cls_loss   dfl_loss  Instances       Size\n"
     ]
    },
    {
     "name": "stderr",
     "output_type": "stream",
     "text": [
      "    113/150      5.98G      1.454     0.8075      1.631         14        448: 100%|██████████| 358/358 [07:09<00:00,  1.20s/it]\n",
      "                 Class     Images  Instances      Box(P          R      mAP50  mAP50-95): 100%|██████████| 21/21 [00:36<00:00,  1.73s/it]"
     ]
    },
    {
     "name": "stdout",
     "output_type": "stream",
     "text": [
      "                   all        641        869       0.88      0.777      0.852      0.716\n"
     ]
    },
    {
     "name": "stderr",
     "output_type": "stream",
     "text": [
      "\n"
     ]
    },
    {
     "name": "stdout",
     "output_type": "stream",
     "text": [
      "\n",
      "      Epoch    GPU_mem   box_loss   cls_loss   dfl_loss  Instances       Size\n"
     ]
    },
    {
     "name": "stderr",
     "output_type": "stream",
     "text": [
      "    114/150      5.93G      1.443     0.7989      1.639          7        448: 100%|██████████| 358/358 [05:57<00:00,  1.00it/s]\n",
      "                 Class     Images  Instances      Box(P          R      mAP50  mAP50-95): 100%|██████████| 21/21 [01:28<00:00,  4.20s/it]"
     ]
    },
    {
     "name": "stdout",
     "output_type": "stream",
     "text": [
      "                   all        641        869      0.904      0.761      0.849      0.714\n"
     ]
    },
    {
     "name": "stderr",
     "output_type": "stream",
     "text": [
      "\n"
     ]
    },
    {
     "name": "stdout",
     "output_type": "stream",
     "text": [
      "\n",
      "      Epoch    GPU_mem   box_loss   cls_loss   dfl_loss  Instances       Size\n"
     ]
    },
    {
     "name": "stderr",
     "output_type": "stream",
     "text": [
      "    115/150      5.98G      1.413      0.806      1.631          9        448: 100%|██████████| 358/358 [04:00<00:00,  1.49it/s]\n",
      "                 Class     Images  Instances      Box(P          R      mAP50  mAP50-95): 100%|██████████| 21/21 [00:47<00:00,  2.26s/it]"
     ]
    },
    {
     "name": "stdout",
     "output_type": "stream",
     "text": [
      "                   all        641        869      0.902      0.764       0.85      0.711\n"
     ]
    },
    {
     "name": "stderr",
     "output_type": "stream",
     "text": [
      "\n"
     ]
    },
    {
     "name": "stdout",
     "output_type": "stream",
     "text": [
      "\n",
      "      Epoch    GPU_mem   box_loss   cls_loss   dfl_loss  Instances       Size\n"
     ]
    },
    {
     "name": "stderr",
     "output_type": "stream",
     "text": [
      "    116/150      5.93G       1.42     0.8026      1.628         11        448: 100%|██████████| 358/358 [04:28<00:00,  1.33it/s]\n",
      "                 Class     Images  Instances      Box(P          R      mAP50  mAP50-95): 100%|██████████| 21/21 [01:18<00:00,  3.74s/it]"
     ]
    },
    {
     "name": "stdout",
     "output_type": "stream",
     "text": [
      "                   all        641        869      0.901      0.779      0.849      0.709\n"
     ]
    },
    {
     "name": "stderr",
     "output_type": "stream",
     "text": [
      "\n"
     ]
    },
    {
     "name": "stdout",
     "output_type": "stream",
     "text": [
      "\n",
      "      Epoch    GPU_mem   box_loss   cls_loss   dfl_loss  Instances       Size\n"
     ]
    },
    {
     "name": "stderr",
     "output_type": "stream",
     "text": [
      "    117/150      5.99G      1.415     0.7768      1.626         10        448: 100%|██████████| 358/358 [03:54<00:00,  1.53it/s]\n",
      "                 Class     Images  Instances      Box(P          R      mAP50  mAP50-95): 100%|██████████| 21/21 [00:33<00:00,  1.59s/it]"
     ]
    },
    {
     "name": "stdout",
     "output_type": "stream",
     "text": [
      "                   all        641        869      0.902      0.777      0.849      0.714\n"
     ]
    },
    {
     "name": "stderr",
     "output_type": "stream",
     "text": [
      "\n"
     ]
    },
    {
     "name": "stdout",
     "output_type": "stream",
     "text": [
      "\n",
      "      Epoch    GPU_mem   box_loss   cls_loss   dfl_loss  Instances       Size\n"
     ]
    },
    {
     "name": "stderr",
     "output_type": "stream",
     "text": [
      "    118/150      5.93G      1.401     0.7716      1.628          7        448: 100%|██████████| 358/358 [04:39<00:00,  1.28it/s]\n",
      "                 Class     Images  Instances      Box(P          R      mAP50  mAP50-95): 100%|██████████| 21/21 [01:18<00:00,  3.72s/it]"
     ]
    },
    {
     "name": "stdout",
     "output_type": "stream",
     "text": [
      "                   all        641        869      0.905      0.773      0.849      0.715\n"
     ]
    },
    {
     "name": "stderr",
     "output_type": "stream",
     "text": [
      "\n"
     ]
    },
    {
     "name": "stdout",
     "output_type": "stream",
     "text": [
      "\n",
      "      Epoch    GPU_mem   box_loss   cls_loss   dfl_loss  Instances       Size\n"
     ]
    },
    {
     "name": "stderr",
     "output_type": "stream",
     "text": [
      "    119/150      5.99G      1.419     0.7918      1.631         23        448: 100%|██████████| 358/358 [04:03<00:00,  1.47it/s]\n",
      "                 Class     Images  Instances      Box(P          R      mAP50  mAP50-95): 100%|██████████| 21/21 [00:39<00:00,  1.89s/it]"
     ]
    },
    {
     "name": "stdout",
     "output_type": "stream",
     "text": [
      "                   all        641        869      0.897      0.763      0.851      0.723\n"
     ]
    },
    {
     "name": "stderr",
     "output_type": "stream",
     "text": [
      "\n"
     ]
    },
    {
     "name": "stdout",
     "output_type": "stream",
     "text": [
      "\n",
      "      Epoch    GPU_mem   box_loss   cls_loss   dfl_loss  Instances       Size\n"
     ]
    },
    {
     "name": "stderr",
     "output_type": "stream",
     "text": [
      "    120/150      5.93G      1.422     0.7964       1.63         12        448: 100%|██████████| 358/358 [03:00<00:00,  1.98it/s]\n",
      "                 Class     Images  Instances      Box(P          R      mAP50  mAP50-95): 100%|██████████| 21/21 [01:10<00:00,  3.33s/it]"
     ]
    },
    {
     "name": "stdout",
     "output_type": "stream",
     "text": [
      "                   all        641        869      0.902      0.774      0.852      0.725\n"
     ]
    },
    {
     "name": "stderr",
     "output_type": "stream",
     "text": [
      "\n"
     ]
    },
    {
     "name": "stdout",
     "output_type": "stream",
     "text": [
      "\n",
      "      Epoch    GPU_mem   box_loss   cls_loss   dfl_loss  Instances       Size\n"
     ]
    },
    {
     "name": "stderr",
     "output_type": "stream",
     "text": [
      "    121/150      5.98G       1.42     0.7742      1.636         16        448: 100%|██████████| 358/358 [04:11<00:00,  1.42it/s]\n",
      "                 Class     Images  Instances      Box(P          R      mAP50  mAP50-95): 100%|██████████| 21/21 [00:36<00:00,  1.73s/it]"
     ]
    },
    {
     "name": "stdout",
     "output_type": "stream",
     "text": [
      "                   all        641        869        0.9      0.765      0.851      0.722\n"
     ]
    },
    {
     "name": "stderr",
     "output_type": "stream",
     "text": [
      "\n"
     ]
    },
    {
     "name": "stdout",
     "output_type": "stream",
     "text": [
      "\n",
      "      Epoch    GPU_mem   box_loss   cls_loss   dfl_loss  Instances       Size\n"
     ]
    },
    {
     "name": "stderr",
     "output_type": "stream",
     "text": [
      "    122/150      5.93G      1.401     0.7769      1.636          8        448: 100%|██████████| 358/358 [03:09<00:00,  1.89it/s]\n",
      "                 Class     Images  Instances      Box(P          R      mAP50  mAP50-95): 100%|██████████| 21/21 [01:09<00:00,  3.33s/it]"
     ]
    },
    {
     "name": "stdout",
     "output_type": "stream",
     "text": [
      "                   all        641        869      0.918      0.754       0.85      0.718\n"
     ]
    },
    {
     "name": "stderr",
     "output_type": "stream",
     "text": [
      "\n"
     ]
    },
    {
     "name": "stdout",
     "output_type": "stream",
     "text": [
      "\n",
      "      Epoch    GPU_mem   box_loss   cls_loss   dfl_loss  Instances       Size\n"
     ]
    },
    {
     "name": "stderr",
     "output_type": "stream",
     "text": [
      "    123/150      5.99G      1.378     0.7597      1.627         12        448: 100%|██████████| 358/358 [08:34<00:00,  1.44s/it]\n",
      "                 Class     Images  Instances      Box(P          R      mAP50  mAP50-95): 100%|██████████| 21/21 [00:54<00:00,  2.58s/it]"
     ]
    },
    {
     "name": "stdout",
     "output_type": "stream",
     "text": [
      "                   all        641        869      0.927      0.769       0.86      0.725\n"
     ]
    },
    {
     "name": "stderr",
     "output_type": "stream",
     "text": [
      "\n"
     ]
    },
    {
     "name": "stdout",
     "output_type": "stream",
     "text": [
      "\n",
      "      Epoch    GPU_mem   box_loss   cls_loss   dfl_loss  Instances       Size\n"
     ]
    },
    {
     "name": "stderr",
     "output_type": "stream",
     "text": [
      "    124/150      5.93G       1.37     0.7583       1.63         12        448: 100%|██████████| 358/358 [05:00<00:00,  1.19it/s]\n",
      "                 Class     Images  Instances      Box(P          R      mAP50  mAP50-95): 100%|██████████| 21/21 [01:16<00:00,  3.65s/it]"
     ]
    },
    {
     "name": "stdout",
     "output_type": "stream",
     "text": [
      "                   all        641        869      0.921       0.76      0.854      0.722\n"
     ]
    },
    {
     "name": "stderr",
     "output_type": "stream",
     "text": [
      "\n"
     ]
    },
    {
     "name": "stdout",
     "output_type": "stream",
     "text": [
      "\n",
      "      Epoch    GPU_mem   box_loss   cls_loss   dfl_loss  Instances       Size\n"
     ]
    },
    {
     "name": "stderr",
     "output_type": "stream",
     "text": [
      "    125/150      5.99G       1.35     0.7451      1.631          6        448: 100%|██████████| 358/358 [06:32<00:00,  1.10s/it]\n",
      "                 Class     Images  Instances      Box(P          R      mAP50  mAP50-95): 100%|██████████| 21/21 [00:34<00:00,  1.67s/it]"
     ]
    },
    {
     "name": "stdout",
     "output_type": "stream",
     "text": [
      "                   all        641        869      0.927      0.753      0.855      0.723\n"
     ]
    },
    {
     "name": "stderr",
     "output_type": "stream",
     "text": [
      "\n"
     ]
    },
    {
     "name": "stdout",
     "output_type": "stream",
     "text": [
      "\n",
      "      Epoch    GPU_mem   box_loss   cls_loss   dfl_loss  Instances       Size\n"
     ]
    },
    {
     "name": "stderr",
     "output_type": "stream",
     "text": [
      "    126/150      5.93G      1.355     0.7294      1.626          6        448: 100%|██████████| 358/358 [03:45<00:00,  1.59it/s]\n",
      "                 Class     Images  Instances      Box(P          R      mAP50  mAP50-95): 100%|██████████| 21/21 [01:28<00:00,  4.22s/it]"
     ]
    },
    {
     "name": "stdout",
     "output_type": "stream",
     "text": [
      "                   all        641        869      0.897      0.762      0.852      0.721\n"
     ]
    },
    {
     "name": "stderr",
     "output_type": "stream",
     "text": [
      "\n"
     ]
    },
    {
     "name": "stdout",
     "output_type": "stream",
     "text": [
      "\n",
      "      Epoch    GPU_mem   box_loss   cls_loss   dfl_loss  Instances       Size\n"
     ]
    },
    {
     "name": "stderr",
     "output_type": "stream",
     "text": [
      "    127/150         6G      1.347     0.7327      1.619         12        448: 100%|██████████| 358/358 [06:15<00:00,  1.05s/it]\n",
      "                 Class     Images  Instances      Box(P          R      mAP50  mAP50-95): 100%|██████████| 21/21 [00:35<00:00,  1.68s/it]"
     ]
    },
    {
     "name": "stdout",
     "output_type": "stream",
     "text": [
      "                   all        641        869      0.893      0.785      0.856      0.723\n"
     ]
    },
    {
     "name": "stderr",
     "output_type": "stream",
     "text": [
      "\n"
     ]
    },
    {
     "name": "stdout",
     "output_type": "stream",
     "text": [
      "\n",
      "      Epoch    GPU_mem   box_loss   cls_loss   dfl_loss  Instances       Size\n"
     ]
    },
    {
     "name": "stderr",
     "output_type": "stream",
     "text": [
      "    128/150      5.93G      1.338     0.7325      1.619         12        448: 100%|██████████| 358/358 [03:44<00:00,  1.59it/s]\n",
      "                 Class     Images  Instances      Box(P          R      mAP50  mAP50-95): 100%|██████████| 21/21 [01:04<00:00,  3.07s/it]"
     ]
    },
    {
     "name": "stdout",
     "output_type": "stream",
     "text": [
      "                   all        641        869      0.886      0.792      0.856      0.725\n"
     ]
    },
    {
     "name": "stderr",
     "output_type": "stream",
     "text": [
      "\n"
     ]
    },
    {
     "name": "stdout",
     "output_type": "stream",
     "text": [
      "\n",
      "      Epoch    GPU_mem   box_loss   cls_loss   dfl_loss  Instances       Size\n"
     ]
    },
    {
     "name": "stderr",
     "output_type": "stream",
     "text": [
      "    129/150      5.99G      1.338     0.7294      1.624          9        448: 100%|██████████| 358/358 [08:30<00:00,  1.43s/it]\n",
      "                 Class     Images  Instances      Box(P          R      mAP50  mAP50-95): 100%|██████████| 21/21 [00:42<00:00,  2.04s/it]"
     ]
    },
    {
     "name": "stdout",
     "output_type": "stream",
     "text": [
      "                   all        641        869      0.926      0.759      0.854      0.722\n"
     ]
    },
    {
     "name": "stderr",
     "output_type": "stream",
     "text": [
      "\n"
     ]
    },
    {
     "name": "stdout",
     "output_type": "stream",
     "text": [
      "\n",
      "      Epoch    GPU_mem   box_loss   cls_loss   dfl_loss  Instances       Size\n"
     ]
    },
    {
     "name": "stderr",
     "output_type": "stream",
     "text": [
      "    130/150      5.97G      1.322     0.7128       1.62          6        448: 100%|██████████| 358/358 [04:42<00:00,  1.27it/s]\n",
      "                 Class     Images  Instances      Box(P          R      mAP50  mAP50-95): 100%|██████████| 21/21 [00:47<00:00,  2.28s/it]"
     ]
    },
    {
     "name": "stdout",
     "output_type": "stream",
     "text": [
      "                   all        641        869      0.887      0.791      0.856      0.726\n"
     ]
    },
    {
     "name": "stderr",
     "output_type": "stream",
     "text": [
      "\n"
     ]
    },
    {
     "name": "stdout",
     "output_type": "stream",
     "text": [
      "\n",
      "      Epoch    GPU_mem   box_loss   cls_loss   dfl_loss  Instances       Size\n"
     ]
    },
    {
     "name": "stderr",
     "output_type": "stream",
     "text": [
      "    131/150      5.99G      1.316      0.713       1.62         12        448: 100%|██████████| 358/358 [06:12<00:00,  1.04s/it]\n",
      "                 Class     Images  Instances      Box(P          R      mAP50  mAP50-95): 100%|██████████| 21/21 [00:35<00:00,  1.67s/it]"
     ]
    },
    {
     "name": "stdout",
     "output_type": "stream",
     "text": [
      "                   all        641        869      0.881      0.792      0.856      0.727\n"
     ]
    },
    {
     "name": "stderr",
     "output_type": "stream",
     "text": [
      "\n"
     ]
    },
    {
     "name": "stdout",
     "output_type": "stream",
     "text": [
      "\n",
      "      Epoch    GPU_mem   box_loss   cls_loss   dfl_loss  Instances       Size\n"
     ]
    },
    {
     "name": "stderr",
     "output_type": "stream",
     "text": [
      "    132/150      5.93G       1.31     0.7153      1.613          8        448: 100%|██████████| 358/358 [03:10<00:00,  1.88it/s]\n",
      "                 Class     Images  Instances      Box(P          R      mAP50  mAP50-95): 100%|██████████| 21/21 [00:59<00:00,  2.85s/it]"
     ]
    },
    {
     "name": "stdout",
     "output_type": "stream",
     "text": [
      "                   all        641        869      0.933      0.757      0.858      0.728\n"
     ]
    },
    {
     "name": "stderr",
     "output_type": "stream",
     "text": [
      "\n"
     ]
    },
    {
     "name": "stdout",
     "output_type": "stream",
     "text": [
      "\n",
      "      Epoch    GPU_mem   box_loss   cls_loss   dfl_loss  Instances       Size\n"
     ]
    },
    {
     "name": "stderr",
     "output_type": "stream",
     "text": [
      "    133/150         6G      1.299      0.694      1.608         15        448: 100%|██████████| 358/358 [06:29<00:00,  1.09s/it]\n",
      "                 Class     Images  Instances      Box(P          R      mAP50  mAP50-95): 100%|██████████| 21/21 [00:51<00:00,  2.43s/it]"
     ]
    },
    {
     "name": "stdout",
     "output_type": "stream",
     "text": [
      "                   all        641        869      0.888      0.787      0.859      0.727\n"
     ]
    },
    {
     "name": "stderr",
     "output_type": "stream",
     "text": [
      "\n"
     ]
    },
    {
     "name": "stdout",
     "output_type": "stream",
     "text": [
      "\n",
      "      Epoch    GPU_mem   box_loss   cls_loss   dfl_loss  Instances       Size\n"
     ]
    },
    {
     "name": "stderr",
     "output_type": "stream",
     "text": [
      "    134/150      5.93G      1.288     0.6916      1.618         14        448: 100%|██████████| 358/358 [04:29<00:00,  1.33it/s]\n",
      "                 Class     Images  Instances      Box(P          R      mAP50  mAP50-95): 100%|██████████| 21/21 [01:07<00:00,  3.21s/it]"
     ]
    },
    {
     "name": "stdout",
     "output_type": "stream",
     "text": [
      "                   all        641        869      0.905      0.782      0.857      0.727\n"
     ]
    },
    {
     "name": "stderr",
     "output_type": "stream",
     "text": [
      "\n"
     ]
    },
    {
     "name": "stdout",
     "output_type": "stream",
     "text": [
      "\n",
      "      Epoch    GPU_mem   box_loss   cls_loss   dfl_loss  Instances       Size\n"
     ]
    },
    {
     "name": "stderr",
     "output_type": "stream",
     "text": [
      "    135/150         6G      1.295      0.701      1.609          9        448: 100%|██████████| 358/358 [08:27<00:00,  1.42s/it]\n",
      "                 Class     Images  Instances      Box(P          R      mAP50  mAP50-95): 100%|██████████| 21/21 [00:48<00:00,  2.33s/it]"
     ]
    },
    {
     "name": "stdout",
     "output_type": "stream",
     "text": [
      "                   all        641        869      0.898      0.781      0.856      0.726\n"
     ]
    },
    {
     "name": "stderr",
     "output_type": "stream",
     "text": [
      "\n"
     ]
    },
    {
     "name": "stdout",
     "output_type": "stream",
     "text": [
      "\n",
      "      Epoch    GPU_mem   box_loss   cls_loss   dfl_loss  Instances       Size\n"
     ]
    },
    {
     "name": "stderr",
     "output_type": "stream",
     "text": [
      "    136/150      5.93G      1.282     0.6833      1.613         11        448: 100%|██████████| 358/358 [03:47<00:00,  1.58it/s]\n",
      "                 Class     Images  Instances      Box(P          R      mAP50  mAP50-95): 100%|██████████| 21/21 [01:09<00:00,  3.29s/it]"
     ]
    },
    {
     "name": "stdout",
     "output_type": "stream",
     "text": [
      "                   all        641        869      0.884      0.786      0.852      0.724\n"
     ]
    },
    {
     "name": "stderr",
     "output_type": "stream",
     "text": [
      "\n"
     ]
    },
    {
     "name": "stdout",
     "output_type": "stream",
     "text": [
      "\n",
      "      Epoch    GPU_mem   box_loss   cls_loss   dfl_loss  Instances       Size\n"
     ]
    },
    {
     "name": "stderr",
     "output_type": "stream",
     "text": [
      "    137/150      5.98G      1.258     0.6747        1.6          8        448: 100%|██████████| 358/358 [08:46<00:00,  1.47s/it]\n",
      "                 Class     Images  Instances      Box(P          R      mAP50  mAP50-95): 100%|██████████| 21/21 [00:39<00:00,  1.89s/it]"
     ]
    },
    {
     "name": "stdout",
     "output_type": "stream",
     "text": [
      "                   all        641        869       0.89      0.784      0.853      0.725\n"
     ]
    },
    {
     "name": "stderr",
     "output_type": "stream",
     "text": [
      "\n"
     ]
    },
    {
     "name": "stdout",
     "output_type": "stream",
     "text": [
      "\n",
      "      Epoch    GPU_mem   box_loss   cls_loss   dfl_loss  Instances       Size\n"
     ]
    },
    {
     "name": "stderr",
     "output_type": "stream",
     "text": [
      "    138/150      5.93G      1.267     0.6614      1.611          5        448: 100%|██████████| 358/358 [04:26<00:00,  1.34it/s]\n",
      "                 Class     Images  Instances      Box(P          R      mAP50  mAP50-95): 100%|██████████| 21/21 [00:57<00:00,  2.72s/it]"
     ]
    },
    {
     "name": "stdout",
     "output_type": "stream",
     "text": [
      "                   all        641        869      0.902      0.782      0.854      0.726\n"
     ]
    },
    {
     "name": "stderr",
     "output_type": "stream",
     "text": [
      "\n"
     ]
    },
    {
     "name": "stdout",
     "output_type": "stream",
     "text": [
      "\n",
      "      Epoch    GPU_mem   box_loss   cls_loss   dfl_loss  Instances       Size\n"
     ]
    },
    {
     "name": "stderr",
     "output_type": "stream",
     "text": [
      "    139/150         6G      1.262     0.6729      1.611         10        448: 100%|██████████| 358/358 [06:01<00:00,  1.01s/it]\n",
      "                 Class     Images  Instances      Box(P          R      mAP50  mAP50-95): 100%|██████████| 21/21 [00:57<00:00,  2.75s/it]"
     ]
    },
    {
     "name": "stdout",
     "output_type": "stream",
     "text": [
      "                   all        641        869      0.912      0.777      0.854      0.726\n"
     ]
    },
    {
     "name": "stderr",
     "output_type": "stream",
     "text": [
      "\n"
     ]
    },
    {
     "name": "stdout",
     "output_type": "stream",
     "text": [
      "\n",
      "      Epoch    GPU_mem   box_loss   cls_loss   dfl_loss  Instances       Size\n"
     ]
    },
    {
     "name": "stderr",
     "output_type": "stream",
     "text": [
      "    140/150      5.93G      1.262     0.6695      1.614          6        448: 100%|██████████| 358/358 [06:16<00:00,  1.05s/it]\n",
      "                 Class     Images  Instances      Box(P          R      mAP50  mAP50-95): 100%|██████████| 21/21 [01:31<00:00,  4.38s/it]"
     ]
    },
    {
     "name": "stdout",
     "output_type": "stream",
     "text": [
      "                   all        641        869      0.904      0.775      0.853      0.725\n"
     ]
    },
    {
     "name": "stderr",
     "output_type": "stream",
     "text": [
      "\n"
     ]
    },
    {
     "name": "stdout",
     "output_type": "stream",
     "text": [
      "Closing dataloader mosaic\n",
      "\n",
      "      Epoch    GPU_mem   box_loss   cls_loss   dfl_loss  Instances       Size\n"
     ]
    },
    {
     "name": "stderr",
     "output_type": "stream",
     "text": [
      "    141/150      5.99G      1.214     0.5877       1.58          6        448: 100%|██████████| 358/358 [06:32<00:00,  1.10s/it]\n",
      "                 Class     Images  Instances      Box(P          R      mAP50  mAP50-95): 100%|██████████| 21/21 [00:38<00:00,  1.85s/it]"
     ]
    },
    {
     "name": "stdout",
     "output_type": "stream",
     "text": [
      "                   all        641        869      0.908      0.774      0.854      0.726\n"
     ]
    },
    {
     "name": "stderr",
     "output_type": "stream",
     "text": [
      "\n"
     ]
    },
    {
     "name": "stdout",
     "output_type": "stream",
     "text": [
      "\n",
      "      Epoch    GPU_mem   box_loss   cls_loss   dfl_loss  Instances       Size\n"
     ]
    },
    {
     "name": "stderr",
     "output_type": "stream",
     "text": [
      "    142/150      5.93G      1.196     0.5773      1.578          8        448: 100%|██████████| 358/358 [04:58<00:00,  1.20it/s]\n",
      "                 Class     Images  Instances      Box(P          R      mAP50  mAP50-95): 100%|██████████| 21/21 [00:58<00:00,  2.76s/it]"
     ]
    },
    {
     "name": "stdout",
     "output_type": "stream",
     "text": [
      "                   all        641        869      0.887      0.807      0.859      0.733\n"
     ]
    },
    {
     "name": "stderr",
     "output_type": "stream",
     "text": [
      "\n"
     ]
    },
    {
     "name": "stdout",
     "output_type": "stream",
     "text": [
      "\n",
      "      Epoch    GPU_mem   box_loss   cls_loss   dfl_loss  Instances       Size\n"
     ]
    },
    {
     "name": "stderr",
     "output_type": "stream",
     "text": [
      "    143/150      5.98G       1.17     0.5686      1.582          7        448: 100%|██████████| 358/358 [03:43<00:00,  1.60it/s]\n",
      "                 Class     Images  Instances      Box(P          R      mAP50  mAP50-95): 100%|██████████| 21/21 [00:40<00:00,  1.93s/it]"
     ]
    },
    {
     "name": "stdout",
     "output_type": "stream",
     "text": [
      "                   all        641        869      0.909       0.79       0.86      0.735\n"
     ]
    },
    {
     "name": "stderr",
     "output_type": "stream",
     "text": [
      "\n"
     ]
    },
    {
     "name": "stdout",
     "output_type": "stream",
     "text": [
      "\n",
      "      Epoch    GPU_mem   box_loss   cls_loss   dfl_loss  Instances       Size\n"
     ]
    },
    {
     "name": "stderr",
     "output_type": "stream",
     "text": [
      "    144/150      5.93G      1.167     0.5616      1.588          5        448: 100%|██████████| 358/358 [02:27<00:00,  2.42it/s]\n",
      "                 Class     Images  Instances      Box(P          R      mAP50  mAP50-95): 100%|██████████| 21/21 [02:19<00:00,  6.64s/it]"
     ]
    },
    {
     "name": "stdout",
     "output_type": "stream",
     "text": [
      "                   all        641        869      0.907      0.784       0.86      0.734\n"
     ]
    },
    {
     "name": "stderr",
     "output_type": "stream",
     "text": [
      "\n"
     ]
    },
    {
     "name": "stdout",
     "output_type": "stream",
     "text": [
      "\n",
      "      Epoch    GPU_mem   box_loss   cls_loss   dfl_loss  Instances       Size\n"
     ]
    },
    {
     "name": "stderr",
     "output_type": "stream",
     "text": [
      "    145/150      5.98G      1.148      0.545      1.575          5        448: 100%|██████████| 358/358 [07:18<00:00,  1.22s/it]\n",
      "                 Class     Images  Instances      Box(P          R      mAP50  mAP50-95): 100%|██████████| 21/21 [01:16<00:00,  3.67s/it]"
     ]
    },
    {
     "name": "stdout",
     "output_type": "stream",
     "text": [
      "                   all        641        869      0.873      0.808      0.859      0.735\n"
     ]
    },
    {
     "name": "stderr",
     "output_type": "stream",
     "text": [
      "\n"
     ]
    },
    {
     "name": "stdout",
     "output_type": "stream",
     "text": [
      "\n",
      "      Epoch    GPU_mem   box_loss   cls_loss   dfl_loss  Instances       Size\n"
     ]
    },
    {
     "name": "stderr",
     "output_type": "stream",
     "text": [
      "    146/150      5.93G      1.145     0.5606      1.581          7        448: 100%|██████████| 358/358 [04:39<00:00,  1.28it/s]\n",
      "                 Class     Images  Instances      Box(P          R      mAP50  mAP50-95): 100%|██████████| 21/21 [01:29<00:00,  4.27s/it]"
     ]
    },
    {
     "name": "stdout",
     "output_type": "stream",
     "text": [
      "                   all        641        869      0.873      0.809       0.86      0.736\n"
     ]
    },
    {
     "name": "stderr",
     "output_type": "stream",
     "text": [
      "\n"
     ]
    },
    {
     "name": "stdout",
     "output_type": "stream",
     "text": [
      "\n",
      "      Epoch    GPU_mem   box_loss   cls_loss   dfl_loss  Instances       Size\n"
     ]
    },
    {
     "name": "stderr",
     "output_type": "stream",
     "text": [
      "    147/150      5.99G      1.144     0.5545      1.575          6        448: 100%|██████████| 358/358 [04:45<00:00,  1.25it/s]\n",
      "                 Class     Images  Instances      Box(P          R      mAP50  mAP50-95): 100%|██████████| 21/21 [00:44<00:00,  2.10s/it]"
     ]
    },
    {
     "name": "stdout",
     "output_type": "stream",
     "text": [
      "                   all        641        869      0.898      0.791      0.861      0.737\n"
     ]
    },
    {
     "name": "stderr",
     "output_type": "stream",
     "text": [
      "\n"
     ]
    },
    {
     "name": "stdout",
     "output_type": "stream",
     "text": [
      "\n",
      "      Epoch    GPU_mem   box_loss   cls_loss   dfl_loss  Instances       Size\n"
     ]
    },
    {
     "name": "stderr",
     "output_type": "stream",
     "text": [
      "    148/150      5.93G       1.13     0.5407      1.575          6        448: 100%|██████████| 358/358 [04:04<00:00,  1.47it/s]\n",
      "                 Class     Images  Instances      Box(P          R      mAP50  mAP50-95): 100%|██████████| 21/21 [01:10<00:00,  3.34s/it]"
     ]
    },
    {
     "name": "stdout",
     "output_type": "stream",
     "text": [
      "                   all        641        869      0.886      0.799      0.861      0.741\n"
     ]
    },
    {
     "name": "stderr",
     "output_type": "stream",
     "text": [
      "\n"
     ]
    },
    {
     "name": "stdout",
     "output_type": "stream",
     "text": [
      "\n",
      "      Epoch    GPU_mem   box_loss   cls_loss   dfl_loss  Instances       Size\n"
     ]
    },
    {
     "name": "stderr",
     "output_type": "stream",
     "text": [
      "    149/150      5.99G      1.128     0.5375      1.572         10        448: 100%|██████████| 358/358 [06:41<00:00,  1.12s/it]\n",
      "                 Class     Images  Instances      Box(P          R      mAP50  mAP50-95): 100%|██████████| 21/21 [00:33<00:00,  1.61s/it]"
     ]
    },
    {
     "name": "stdout",
     "output_type": "stream",
     "text": [
      "                   all        641        869      0.907      0.785      0.861       0.74\n"
     ]
    },
    {
     "name": "stderr",
     "output_type": "stream",
     "text": [
      "\n"
     ]
    },
    {
     "name": "stdout",
     "output_type": "stream",
     "text": [
      "\n",
      "      Epoch    GPU_mem   box_loss   cls_loss   dfl_loss  Instances       Size\n"
     ]
    },
    {
     "name": "stderr",
     "output_type": "stream",
     "text": [
      "    150/150      5.93G      1.116     0.5432      1.577          4        448: 100%|██████████| 358/358 [04:33<00:00,  1.31it/s]\n",
      "                 Class     Images  Instances      Box(P          R      mAP50  mAP50-95): 100%|██████████| 21/21 [01:18<00:00,  3.75s/it]"
     ]
    },
    {
     "name": "stdout",
     "output_type": "stream",
     "text": [
      "                   all        641        869      0.895      0.791      0.861       0.74\n"
     ]
    },
    {
     "name": "stderr",
     "output_type": "stream",
     "text": [
      "\n"
     ]
    },
    {
     "name": "stdout",
     "output_type": "stream",
     "text": [
      "\n",
      "150 epochs completed in 13.919 hours.\n",
      "Optimizer stripped from runs\\detect\\train25\\weights\\last.pt, 41.5MB\n",
      "Optimizer stripped from runs\\detect\\train25\\weights\\best.pt, 41.5MB\n",
      "\n",
      "Validating runs\\detect\\train25\\weights\\best.pt...\n",
      "Ultralytics 8.3.6  Python-3.9.18 torch-2.4.1 CUDA:0 (NVIDIA GeForce RTX 3060 Laptop GPU, 6144MiB)\n",
      "YOLOv10b summary (fused): 383 layers, 20,445,076 parameters, 0 gradients, 98.1 GFLOPs\n"
     ]
    },
    {
     "name": "stderr",
     "output_type": "stream",
     "text": [
      "                 Class     Images  Instances      Box(P          R      mAP50  mAP50-95): 100%|██████████| 21/21 [00:09<00:00,  2.23it/s]\n"
     ]
    },
    {
     "name": "stdout",
     "output_type": "stream",
     "text": [
      "                   all        641        869      0.886      0.799      0.861      0.739\n",
      "                  STOP         64         67       0.94      0.806      0.882      0.759\n",
      "                 Yield         94         97      0.953      0.907      0.932      0.812\n",
      "       One-way traffic         43         44      0.953      0.932      0.961      0.841\n",
      "   Pedestrian crossing        106        113      0.944      0.982      0.992      0.882\n",
      "              No entry         48         50      0.945       0.86      0.907      0.763\n",
      "  Speed limit 100 km/h         28         34      0.963      0.776       0.89      0.796\n",
      "   Speed limit 20 km/h          7          7      0.672      0.714      0.792      0.654\n",
      "   Speed limit 30 km/h         74         75      0.889      0.853      0.921      0.773\n",
      "   Speed limit 40 km/h         43         45      0.862      0.693      0.848      0.724\n",
      "   Speed limit 50 km/h         29         32      0.846      0.685      0.781      0.667\n",
      "   Speed limit 60 km/h         24         27      0.584      0.704      0.671      0.556\n",
      "             Roadworks         40         45      0.838        0.8      0.802      0.678\n",
      "   Speed limit 80 km/h         44         52      0.839        0.8      0.894      0.765\n",
      "              Dead end         10         10      0.959          1      0.995      0.883\n",
      "    End of play street          5          5      0.879          1      0.995      0.895\n",
      "           Play street          3          3          1      0.913      0.995      0.982\n",
      "     Red traffic light         63        136      0.967      0.529      0.721      0.522\n",
      "   Green traffic light         15         27       0.92      0.426      0.512      0.352\n",
      "Speed: 0.1ms preprocess, 10.7ms inference, 0.0ms loss, 0.4ms postprocess per image\n",
      "Results saved to \u001b[1mruns\\detect\\train25\u001b[0m\n"
     ]
    }
   ],
   "source": [
    "results = model.train(data=\"data.yaml\", epochs=150, imgsz=448)"
   ]
  },
  {
   "cell_type": "code",
   "execution_count": 5,
   "metadata": {},
   "outputs": [
    {
     "data": {
      "text/plain": [
       "ultralytics.utils.metrics.DetMetrics object with attributes:\n",
       "\n",
       "ap_class_index: array([ 0,  1,  2,  3,  4,  5,  7,  8,  9, 10, 11, 12, 13, 14, 17, 18, 20, 21])\n",
       "box: ultralytics.utils.metrics.Metric object\n",
       "confusion_matrix: <ultralytics.utils.metrics.ConfusionMatrix object at 0x000001F30ACF3610>\n",
       "curves: ['Precision-Recall(B)', 'F1-Confidence(B)', 'Precision-Confidence(B)', 'Recall-Confidence(B)']\n",
       "curves_results: [[array([          0,    0.001001,    0.002002,    0.003003,    0.004004,    0.005005,    0.006006,    0.007007,    0.008008,    0.009009,     0.01001,    0.011011,    0.012012,    0.013013,    0.014014,    0.015015,    0.016016,    0.017017,    0.018018,    0.019019,     0.02002,    0.021021,    0.022022,    0.023023,\n",
       "          0.024024,    0.025025,    0.026026,    0.027027,    0.028028,    0.029029,     0.03003,    0.031031,    0.032032,    0.033033,    0.034034,    0.035035,    0.036036,    0.037037,    0.038038,    0.039039,     0.04004,    0.041041,    0.042042,    0.043043,    0.044044,    0.045045,    0.046046,    0.047047,\n",
       "          0.048048,    0.049049,     0.05005,    0.051051,    0.052052,    0.053053,    0.054054,    0.055055,    0.056056,    0.057057,    0.058058,    0.059059,     0.06006,    0.061061,    0.062062,    0.063063,    0.064064,    0.065065,    0.066066,    0.067067,    0.068068,    0.069069,     0.07007,    0.071071,\n",
       "          0.072072,    0.073073,    0.074074,    0.075075,    0.076076,    0.077077,    0.078078,    0.079079,     0.08008,    0.081081,    0.082082,    0.083083,    0.084084,    0.085085,    0.086086,    0.087087,    0.088088,    0.089089,     0.09009,    0.091091,    0.092092,    0.093093,    0.094094,    0.095095,\n",
       "          0.096096,    0.097097,    0.098098,    0.099099,      0.1001,      0.1011,      0.1021,      0.1031,      0.1041,     0.10511,     0.10611,     0.10711,     0.10811,     0.10911,     0.11011,     0.11111,     0.11211,     0.11311,     0.11411,     0.11512,     0.11612,     0.11712,     0.11812,     0.11912,\n",
       "           0.12012,     0.12112,     0.12212,     0.12312,     0.12412,     0.12513,     0.12613,     0.12713,     0.12813,     0.12913,     0.13013,     0.13113,     0.13213,     0.13313,     0.13413,     0.13514,     0.13614,     0.13714,     0.13814,     0.13914,     0.14014,     0.14114,     0.14214,     0.14314,\n",
       "           0.14414,     0.14515,     0.14615,     0.14715,     0.14815,     0.14915,     0.15015,     0.15115,     0.15215,     0.15315,     0.15415,     0.15516,     0.15616,     0.15716,     0.15816,     0.15916,     0.16016,     0.16116,     0.16216,     0.16316,     0.16416,     0.16517,     0.16617,     0.16717,\n",
       "           0.16817,     0.16917,     0.17017,     0.17117,     0.17217,     0.17317,     0.17417,     0.17518,     0.17618,     0.17718,     0.17818,     0.17918,     0.18018,     0.18118,     0.18218,     0.18318,     0.18418,     0.18519,     0.18619,     0.18719,     0.18819,     0.18919,     0.19019,     0.19119,\n",
       "           0.19219,     0.19319,     0.19419,      0.1952,      0.1962,      0.1972,      0.1982,      0.1992,      0.2002,      0.2012,      0.2022,      0.2032,      0.2042,     0.20521,     0.20621,     0.20721,     0.20821,     0.20921,     0.21021,     0.21121,     0.21221,     0.21321,     0.21421,     0.21522,\n",
       "           0.21622,     0.21722,     0.21822,     0.21922,     0.22022,     0.22122,     0.22222,     0.22322,     0.22422,     0.22523,     0.22623,     0.22723,     0.22823,     0.22923,     0.23023,     0.23123,     0.23223,     0.23323,     0.23423,     0.23524,     0.23624,     0.23724,     0.23824,     0.23924,\n",
       "           0.24024,     0.24124,     0.24224,     0.24324,     0.24424,     0.24525,     0.24625,     0.24725,     0.24825,     0.24925,     0.25025,     0.25125,     0.25225,     0.25325,     0.25425,     0.25526,     0.25626,     0.25726,     0.25826,     0.25926,     0.26026,     0.26126,     0.26226,     0.26326,\n",
       "           0.26426,     0.26527,     0.26627,     0.26727,     0.26827,     0.26927,     0.27027,     0.27127,     0.27227,     0.27327,     0.27427,     0.27528,     0.27628,     0.27728,     0.27828,     0.27928,     0.28028,     0.28128,     0.28228,     0.28328,     0.28428,     0.28529,     0.28629,     0.28729,\n",
       "           0.28829,     0.28929,     0.29029,     0.29129,     0.29229,     0.29329,     0.29429,      0.2953,      0.2963,      0.2973,      0.2983,      0.2993,      0.3003,      0.3013,      0.3023,      0.3033,      0.3043,     0.30531,     0.30631,     0.30731,     0.30831,     0.30931,     0.31031,     0.31131,\n",
       "           0.31231,     0.31331,     0.31431,     0.31532,     0.31632,     0.31732,     0.31832,     0.31932,     0.32032,     0.32132,     0.32232,     0.32332,     0.32432,     0.32533,     0.32633,     0.32733,     0.32833,     0.32933,     0.33033,     0.33133,     0.33233,     0.33333,     0.33433,     0.33534,\n",
       "           0.33634,     0.33734,     0.33834,     0.33934,     0.34034,     0.34134,     0.34234,     0.34334,     0.34434,     0.34535,     0.34635,     0.34735,     0.34835,     0.34935,     0.35035,     0.35135,     0.35235,     0.35335,     0.35435,     0.35536,     0.35636,     0.35736,     0.35836,     0.35936,\n",
       "           0.36036,     0.36136,     0.36236,     0.36336,     0.36436,     0.36537,     0.36637,     0.36737,     0.36837,     0.36937,     0.37037,     0.37137,     0.37237,     0.37337,     0.37437,     0.37538,     0.37638,     0.37738,     0.37838,     0.37938,     0.38038,     0.38138,     0.38238,     0.38338,\n",
       "           0.38438,     0.38539,     0.38639,     0.38739,     0.38839,     0.38939,     0.39039,     0.39139,     0.39239,     0.39339,     0.39439,      0.3954,      0.3964,      0.3974,      0.3984,      0.3994,      0.4004,      0.4014,      0.4024,      0.4034,      0.4044,     0.40541,     0.40641,     0.40741,\n",
       "           0.40841,     0.40941,     0.41041,     0.41141,     0.41241,     0.41341,     0.41441,     0.41542,     0.41642,     0.41742,     0.41842,     0.41942,     0.42042,     0.42142,     0.42242,     0.42342,     0.42442,     0.42543,     0.42643,     0.42743,     0.42843,     0.42943,     0.43043,     0.43143,\n",
       "           0.43243,     0.43343,     0.43443,     0.43544,     0.43644,     0.43744,     0.43844,     0.43944,     0.44044,     0.44144,     0.44244,     0.44344,     0.44444,     0.44545,     0.44645,     0.44745,     0.44845,     0.44945,     0.45045,     0.45145,     0.45245,     0.45345,     0.45445,     0.45546,\n",
       "           0.45646,     0.45746,     0.45846,     0.45946,     0.46046,     0.46146,     0.46246,     0.46346,     0.46446,     0.46547,     0.46647,     0.46747,     0.46847,     0.46947,     0.47047,     0.47147,     0.47247,     0.47347,     0.47447,     0.47548,     0.47648,     0.47748,     0.47848,     0.47948,\n",
       "           0.48048,     0.48148,     0.48248,     0.48348,     0.48448,     0.48549,     0.48649,     0.48749,     0.48849,     0.48949,     0.49049,     0.49149,     0.49249,     0.49349,     0.49449,      0.4955,      0.4965,      0.4975,      0.4985,      0.4995,      0.5005,      0.5015,      0.5025,      0.5035,\n",
       "            0.5045,     0.50551,     0.50651,     0.50751,     0.50851,     0.50951,     0.51051,     0.51151,     0.51251,     0.51351,     0.51451,     0.51552,     0.51652,     0.51752,     0.51852,     0.51952,     0.52052,     0.52152,     0.52252,     0.52352,     0.52452,     0.52553,     0.52653,     0.52753,\n",
       "           0.52853,     0.52953,     0.53053,     0.53153,     0.53253,     0.53353,     0.53453,     0.53554,     0.53654,     0.53754,     0.53854,     0.53954,     0.54054,     0.54154,     0.54254,     0.54354,     0.54454,     0.54555,     0.54655,     0.54755,     0.54855,     0.54955,     0.55055,     0.55155,\n",
       "           0.55255,     0.55355,     0.55455,     0.55556,     0.55656,     0.55756,     0.55856,     0.55956,     0.56056,     0.56156,     0.56256,     0.56356,     0.56456,     0.56557,     0.56657,     0.56757,     0.56857,     0.56957,     0.57057,     0.57157,     0.57257,     0.57357,     0.57457,     0.57558,\n",
       "           0.57658,     0.57758,     0.57858,     0.57958,     0.58058,     0.58158,     0.58258,     0.58358,     0.58458,     0.58559,     0.58659,     0.58759,     0.58859,     0.58959,     0.59059,     0.59159,     0.59259,     0.59359,     0.59459,      0.5956,      0.5966,      0.5976,      0.5986,      0.5996,\n",
       "            0.6006,      0.6016,      0.6026,      0.6036,      0.6046,     0.60561,     0.60661,     0.60761,     0.60861,     0.60961,     0.61061,     0.61161,     0.61261,     0.61361,     0.61461,     0.61562,     0.61662,     0.61762,     0.61862,     0.61962,     0.62062,     0.62162,     0.62262,     0.62362,\n",
       "           0.62462,     0.62563,     0.62663,     0.62763,     0.62863,     0.62963,     0.63063,     0.63163,     0.63263,     0.63363,     0.63463,     0.63564,     0.63664,     0.63764,     0.63864,     0.63964,     0.64064,     0.64164,     0.64264,     0.64364,     0.64464,     0.64565,     0.64665,     0.64765,\n",
       "           0.64865,     0.64965,     0.65065,     0.65165,     0.65265,     0.65365,     0.65465,     0.65566,     0.65666,     0.65766,     0.65866,     0.65966,     0.66066,     0.66166,     0.66266,     0.66366,     0.66466,     0.66567,     0.66667,     0.66767,     0.66867,     0.66967,     0.67067,     0.67167,\n",
       "           0.67267,     0.67367,     0.67467,     0.67568,     0.67668,     0.67768,     0.67868,     0.67968,     0.68068,     0.68168,     0.68268,     0.68368,     0.68468,     0.68569,     0.68669,     0.68769,     0.68869,     0.68969,     0.69069,     0.69169,     0.69269,     0.69369,     0.69469,      0.6957,\n",
       "            0.6967,      0.6977,      0.6987,      0.6997,      0.7007,      0.7017,      0.7027,      0.7037,      0.7047,     0.70571,     0.70671,     0.70771,     0.70871,     0.70971,     0.71071,     0.71171,     0.71271,     0.71371,     0.71471,     0.71572,     0.71672,     0.71772,     0.71872,     0.71972,\n",
       "           0.72072,     0.72172,     0.72272,     0.72372,     0.72472,     0.72573,     0.72673,     0.72773,     0.72873,     0.72973,     0.73073,     0.73173,     0.73273,     0.73373,     0.73473,     0.73574,     0.73674,     0.73774,     0.73874,     0.73974,     0.74074,     0.74174,     0.74274,     0.74374,\n",
       "           0.74474,     0.74575,     0.74675,     0.74775,     0.74875,     0.74975,     0.75075,     0.75175,     0.75275,     0.75375,     0.75475,     0.75576,     0.75676,     0.75776,     0.75876,     0.75976,     0.76076,     0.76176,     0.76276,     0.76376,     0.76476,     0.76577,     0.76677,     0.76777,\n",
       "           0.76877,     0.76977,     0.77077,     0.77177,     0.77277,     0.77377,     0.77477,     0.77578,     0.77678,     0.77778,     0.77878,     0.77978,     0.78078,     0.78178,     0.78278,     0.78378,     0.78478,     0.78579,     0.78679,     0.78779,     0.78879,     0.78979,     0.79079,     0.79179,\n",
       "           0.79279,     0.79379,     0.79479,      0.7958,      0.7968,      0.7978,      0.7988,      0.7998,      0.8008,      0.8018,      0.8028,      0.8038,      0.8048,     0.80581,     0.80681,     0.80781,     0.80881,     0.80981,     0.81081,     0.81181,     0.81281,     0.81381,     0.81481,     0.81582,\n",
       "           0.81682,     0.81782,     0.81882,     0.81982,     0.82082,     0.82182,     0.82282,     0.82382,     0.82482,     0.82583,     0.82683,     0.82783,     0.82883,     0.82983,     0.83083,     0.83183,     0.83283,     0.83383,     0.83483,     0.83584,     0.83684,     0.83784,     0.83884,     0.83984,\n",
       "           0.84084,     0.84184,     0.84284,     0.84384,     0.84484,     0.84585,     0.84685,     0.84785,     0.84885,     0.84985,     0.85085,     0.85185,     0.85285,     0.85385,     0.85485,     0.85586,     0.85686,     0.85786,     0.85886,     0.85986,     0.86086,     0.86186,     0.86286,     0.86386,\n",
       "           0.86486,     0.86587,     0.86687,     0.86787,     0.86887,     0.86987,     0.87087,     0.87187,     0.87287,     0.87387,     0.87487,     0.87588,     0.87688,     0.87788,     0.87888,     0.87988,     0.88088,     0.88188,     0.88288,     0.88388,     0.88488,     0.88589,     0.88689,     0.88789,\n",
       "           0.88889,     0.88989,     0.89089,     0.89189,     0.89289,     0.89389,     0.89489,      0.8959,      0.8969,      0.8979,      0.8989,      0.8999,      0.9009,      0.9019,      0.9029,      0.9039,      0.9049,     0.90591,     0.90691,     0.90791,     0.90891,     0.90991,     0.91091,     0.91191,\n",
       "           0.91291,     0.91391,     0.91491,     0.91592,     0.91692,     0.91792,     0.91892,     0.91992,     0.92092,     0.92192,     0.92292,     0.92392,     0.92492,     0.92593,     0.92693,     0.92793,     0.92893,     0.92993,     0.93093,     0.93193,     0.93293,     0.93393,     0.93493,     0.93594,\n",
       "           0.93694,     0.93794,     0.93894,     0.93994,     0.94094,     0.94194,     0.94294,     0.94394,     0.94494,     0.94595,     0.94695,     0.94795,     0.94895,     0.94995,     0.95095,     0.95195,     0.95295,     0.95395,     0.95495,     0.95596,     0.95696,     0.95796,     0.95896,     0.95996,\n",
       "           0.96096,     0.96196,     0.96296,     0.96396,     0.96496,     0.96597,     0.96697,     0.96797,     0.96897,     0.96997,     0.97097,     0.97197,     0.97297,     0.97397,     0.97497,     0.97598,     0.97698,     0.97798,     0.97898,     0.97998,     0.98098,     0.98198,     0.98298,     0.98398,\n",
       "           0.98498,     0.98599,     0.98699,     0.98799,     0.98899,     0.98999,     0.99099,     0.99199,     0.99299,     0.99399,     0.99499,       0.996,       0.997,       0.998,       0.999,           1]), array([[          1,           1,           1, ...,   0.0045916,   0.0022958,           0],\n",
       "       [          1,           1,           1, ...,   0.0090624,   0.0045312,           0],\n",
       "       [          1,           1,           1, ...,    0.016517,   0.0082583,           0],\n",
       "       ...,\n",
       "       [          1,           1,           1, ...,           1,           1,           0],\n",
       "       [          1,           1,           1, ...,   0.0027572,   0.0013786,           0],\n",
       "       [          1,           1,           1, ...,   0.0005824,   0.0002912,           0]]), 'Recall', 'Precision'], [array([          0,    0.001001,    0.002002,    0.003003,    0.004004,    0.005005,    0.006006,    0.007007,    0.008008,    0.009009,     0.01001,    0.011011,    0.012012,    0.013013,    0.014014,    0.015015,    0.016016,    0.017017,    0.018018,    0.019019,     0.02002,    0.021021,    0.022022,    0.023023,\n",
       "          0.024024,    0.025025,    0.026026,    0.027027,    0.028028,    0.029029,     0.03003,    0.031031,    0.032032,    0.033033,    0.034034,    0.035035,    0.036036,    0.037037,    0.038038,    0.039039,     0.04004,    0.041041,    0.042042,    0.043043,    0.044044,    0.045045,    0.046046,    0.047047,\n",
       "          0.048048,    0.049049,     0.05005,    0.051051,    0.052052,    0.053053,    0.054054,    0.055055,    0.056056,    0.057057,    0.058058,    0.059059,     0.06006,    0.061061,    0.062062,    0.063063,    0.064064,    0.065065,    0.066066,    0.067067,    0.068068,    0.069069,     0.07007,    0.071071,\n",
       "          0.072072,    0.073073,    0.074074,    0.075075,    0.076076,    0.077077,    0.078078,    0.079079,     0.08008,    0.081081,    0.082082,    0.083083,    0.084084,    0.085085,    0.086086,    0.087087,    0.088088,    0.089089,     0.09009,    0.091091,    0.092092,    0.093093,    0.094094,    0.095095,\n",
       "          0.096096,    0.097097,    0.098098,    0.099099,      0.1001,      0.1011,      0.1021,      0.1031,      0.1041,     0.10511,     0.10611,     0.10711,     0.10811,     0.10911,     0.11011,     0.11111,     0.11211,     0.11311,     0.11411,     0.11512,     0.11612,     0.11712,     0.11812,     0.11912,\n",
       "           0.12012,     0.12112,     0.12212,     0.12312,     0.12412,     0.12513,     0.12613,     0.12713,     0.12813,     0.12913,     0.13013,     0.13113,     0.13213,     0.13313,     0.13413,     0.13514,     0.13614,     0.13714,     0.13814,     0.13914,     0.14014,     0.14114,     0.14214,     0.14314,\n",
       "           0.14414,     0.14515,     0.14615,     0.14715,     0.14815,     0.14915,     0.15015,     0.15115,     0.15215,     0.15315,     0.15415,     0.15516,     0.15616,     0.15716,     0.15816,     0.15916,     0.16016,     0.16116,     0.16216,     0.16316,     0.16416,     0.16517,     0.16617,     0.16717,\n",
       "           0.16817,     0.16917,     0.17017,     0.17117,     0.17217,     0.17317,     0.17417,     0.17518,     0.17618,     0.17718,     0.17818,     0.17918,     0.18018,     0.18118,     0.18218,     0.18318,     0.18418,     0.18519,     0.18619,     0.18719,     0.18819,     0.18919,     0.19019,     0.19119,\n",
       "           0.19219,     0.19319,     0.19419,      0.1952,      0.1962,      0.1972,      0.1982,      0.1992,      0.2002,      0.2012,      0.2022,      0.2032,      0.2042,     0.20521,     0.20621,     0.20721,     0.20821,     0.20921,     0.21021,     0.21121,     0.21221,     0.21321,     0.21421,     0.21522,\n",
       "           0.21622,     0.21722,     0.21822,     0.21922,     0.22022,     0.22122,     0.22222,     0.22322,     0.22422,     0.22523,     0.22623,     0.22723,     0.22823,     0.22923,     0.23023,     0.23123,     0.23223,     0.23323,     0.23423,     0.23524,     0.23624,     0.23724,     0.23824,     0.23924,\n",
       "           0.24024,     0.24124,     0.24224,     0.24324,     0.24424,     0.24525,     0.24625,     0.24725,     0.24825,     0.24925,     0.25025,     0.25125,     0.25225,     0.25325,     0.25425,     0.25526,     0.25626,     0.25726,     0.25826,     0.25926,     0.26026,     0.26126,     0.26226,     0.26326,\n",
       "           0.26426,     0.26527,     0.26627,     0.26727,     0.26827,     0.26927,     0.27027,     0.27127,     0.27227,     0.27327,     0.27427,     0.27528,     0.27628,     0.27728,     0.27828,     0.27928,     0.28028,     0.28128,     0.28228,     0.28328,     0.28428,     0.28529,     0.28629,     0.28729,\n",
       "           0.28829,     0.28929,     0.29029,     0.29129,     0.29229,     0.29329,     0.29429,      0.2953,      0.2963,      0.2973,      0.2983,      0.2993,      0.3003,      0.3013,      0.3023,      0.3033,      0.3043,     0.30531,     0.30631,     0.30731,     0.30831,     0.30931,     0.31031,     0.31131,\n",
       "           0.31231,     0.31331,     0.31431,     0.31532,     0.31632,     0.31732,     0.31832,     0.31932,     0.32032,     0.32132,     0.32232,     0.32332,     0.32432,     0.32533,     0.32633,     0.32733,     0.32833,     0.32933,     0.33033,     0.33133,     0.33233,     0.33333,     0.33433,     0.33534,\n",
       "           0.33634,     0.33734,     0.33834,     0.33934,     0.34034,     0.34134,     0.34234,     0.34334,     0.34434,     0.34535,     0.34635,     0.34735,     0.34835,     0.34935,     0.35035,     0.35135,     0.35235,     0.35335,     0.35435,     0.35536,     0.35636,     0.35736,     0.35836,     0.35936,\n",
       "           0.36036,     0.36136,     0.36236,     0.36336,     0.36436,     0.36537,     0.36637,     0.36737,     0.36837,     0.36937,     0.37037,     0.37137,     0.37237,     0.37337,     0.37437,     0.37538,     0.37638,     0.37738,     0.37838,     0.37938,     0.38038,     0.38138,     0.38238,     0.38338,\n",
       "           0.38438,     0.38539,     0.38639,     0.38739,     0.38839,     0.38939,     0.39039,     0.39139,     0.39239,     0.39339,     0.39439,      0.3954,      0.3964,      0.3974,      0.3984,      0.3994,      0.4004,      0.4014,      0.4024,      0.4034,      0.4044,     0.40541,     0.40641,     0.40741,\n",
       "           0.40841,     0.40941,     0.41041,     0.41141,     0.41241,     0.41341,     0.41441,     0.41542,     0.41642,     0.41742,     0.41842,     0.41942,     0.42042,     0.42142,     0.42242,     0.42342,     0.42442,     0.42543,     0.42643,     0.42743,     0.42843,     0.42943,     0.43043,     0.43143,\n",
       "           0.43243,     0.43343,     0.43443,     0.43544,     0.43644,     0.43744,     0.43844,     0.43944,     0.44044,     0.44144,     0.44244,     0.44344,     0.44444,     0.44545,     0.44645,     0.44745,     0.44845,     0.44945,     0.45045,     0.45145,     0.45245,     0.45345,     0.45445,     0.45546,\n",
       "           0.45646,     0.45746,     0.45846,     0.45946,     0.46046,     0.46146,     0.46246,     0.46346,     0.46446,     0.46547,     0.46647,     0.46747,     0.46847,     0.46947,     0.47047,     0.47147,     0.47247,     0.47347,     0.47447,     0.47548,     0.47648,     0.47748,     0.47848,     0.47948,\n",
       "           0.48048,     0.48148,     0.48248,     0.48348,     0.48448,     0.48549,     0.48649,     0.48749,     0.48849,     0.48949,     0.49049,     0.49149,     0.49249,     0.49349,     0.49449,      0.4955,      0.4965,      0.4975,      0.4985,      0.4995,      0.5005,      0.5015,      0.5025,      0.5035,\n",
       "            0.5045,     0.50551,     0.50651,     0.50751,     0.50851,     0.50951,     0.51051,     0.51151,     0.51251,     0.51351,     0.51451,     0.51552,     0.51652,     0.51752,     0.51852,     0.51952,     0.52052,     0.52152,     0.52252,     0.52352,     0.52452,     0.52553,     0.52653,     0.52753,\n",
       "           0.52853,     0.52953,     0.53053,     0.53153,     0.53253,     0.53353,     0.53453,     0.53554,     0.53654,     0.53754,     0.53854,     0.53954,     0.54054,     0.54154,     0.54254,     0.54354,     0.54454,     0.54555,     0.54655,     0.54755,     0.54855,     0.54955,     0.55055,     0.55155,\n",
       "           0.55255,     0.55355,     0.55455,     0.55556,     0.55656,     0.55756,     0.55856,     0.55956,     0.56056,     0.56156,     0.56256,     0.56356,     0.56456,     0.56557,     0.56657,     0.56757,     0.56857,     0.56957,     0.57057,     0.57157,     0.57257,     0.57357,     0.57457,     0.57558,\n",
       "           0.57658,     0.57758,     0.57858,     0.57958,     0.58058,     0.58158,     0.58258,     0.58358,     0.58458,     0.58559,     0.58659,     0.58759,     0.58859,     0.58959,     0.59059,     0.59159,     0.59259,     0.59359,     0.59459,      0.5956,      0.5966,      0.5976,      0.5986,      0.5996,\n",
       "            0.6006,      0.6016,      0.6026,      0.6036,      0.6046,     0.60561,     0.60661,     0.60761,     0.60861,     0.60961,     0.61061,     0.61161,     0.61261,     0.61361,     0.61461,     0.61562,     0.61662,     0.61762,     0.61862,     0.61962,     0.62062,     0.62162,     0.62262,     0.62362,\n",
       "           0.62462,     0.62563,     0.62663,     0.62763,     0.62863,     0.62963,     0.63063,     0.63163,     0.63263,     0.63363,     0.63463,     0.63564,     0.63664,     0.63764,     0.63864,     0.63964,     0.64064,     0.64164,     0.64264,     0.64364,     0.64464,     0.64565,     0.64665,     0.64765,\n",
       "           0.64865,     0.64965,     0.65065,     0.65165,     0.65265,     0.65365,     0.65465,     0.65566,     0.65666,     0.65766,     0.65866,     0.65966,     0.66066,     0.66166,     0.66266,     0.66366,     0.66466,     0.66567,     0.66667,     0.66767,     0.66867,     0.66967,     0.67067,     0.67167,\n",
       "           0.67267,     0.67367,     0.67467,     0.67568,     0.67668,     0.67768,     0.67868,     0.67968,     0.68068,     0.68168,     0.68268,     0.68368,     0.68468,     0.68569,     0.68669,     0.68769,     0.68869,     0.68969,     0.69069,     0.69169,     0.69269,     0.69369,     0.69469,      0.6957,\n",
       "            0.6967,      0.6977,      0.6987,      0.6997,      0.7007,      0.7017,      0.7027,      0.7037,      0.7047,     0.70571,     0.70671,     0.70771,     0.70871,     0.70971,     0.71071,     0.71171,     0.71271,     0.71371,     0.71471,     0.71572,     0.71672,     0.71772,     0.71872,     0.71972,\n",
       "           0.72072,     0.72172,     0.72272,     0.72372,     0.72472,     0.72573,     0.72673,     0.72773,     0.72873,     0.72973,     0.73073,     0.73173,     0.73273,     0.73373,     0.73473,     0.73574,     0.73674,     0.73774,     0.73874,     0.73974,     0.74074,     0.74174,     0.74274,     0.74374,\n",
       "           0.74474,     0.74575,     0.74675,     0.74775,     0.74875,     0.74975,     0.75075,     0.75175,     0.75275,     0.75375,     0.75475,     0.75576,     0.75676,     0.75776,     0.75876,     0.75976,     0.76076,     0.76176,     0.76276,     0.76376,     0.76476,     0.76577,     0.76677,     0.76777,\n",
       "           0.76877,     0.76977,     0.77077,     0.77177,     0.77277,     0.77377,     0.77477,     0.77578,     0.77678,     0.77778,     0.77878,     0.77978,     0.78078,     0.78178,     0.78278,     0.78378,     0.78478,     0.78579,     0.78679,     0.78779,     0.78879,     0.78979,     0.79079,     0.79179,\n",
       "           0.79279,     0.79379,     0.79479,      0.7958,      0.7968,      0.7978,      0.7988,      0.7998,      0.8008,      0.8018,      0.8028,      0.8038,      0.8048,     0.80581,     0.80681,     0.80781,     0.80881,     0.80981,     0.81081,     0.81181,     0.81281,     0.81381,     0.81481,     0.81582,\n",
       "           0.81682,     0.81782,     0.81882,     0.81982,     0.82082,     0.82182,     0.82282,     0.82382,     0.82482,     0.82583,     0.82683,     0.82783,     0.82883,     0.82983,     0.83083,     0.83183,     0.83283,     0.83383,     0.83483,     0.83584,     0.83684,     0.83784,     0.83884,     0.83984,\n",
       "           0.84084,     0.84184,     0.84284,     0.84384,     0.84484,     0.84585,     0.84685,     0.84785,     0.84885,     0.84985,     0.85085,     0.85185,     0.85285,     0.85385,     0.85485,     0.85586,     0.85686,     0.85786,     0.85886,     0.85986,     0.86086,     0.86186,     0.86286,     0.86386,\n",
       "           0.86486,     0.86587,     0.86687,     0.86787,     0.86887,     0.86987,     0.87087,     0.87187,     0.87287,     0.87387,     0.87487,     0.87588,     0.87688,     0.87788,     0.87888,     0.87988,     0.88088,     0.88188,     0.88288,     0.88388,     0.88488,     0.88589,     0.88689,     0.88789,\n",
       "           0.88889,     0.88989,     0.89089,     0.89189,     0.89289,     0.89389,     0.89489,      0.8959,      0.8969,      0.8979,      0.8989,      0.8999,      0.9009,      0.9019,      0.9029,      0.9039,      0.9049,     0.90591,     0.90691,     0.90791,     0.90891,     0.90991,     0.91091,     0.91191,\n",
       "           0.91291,     0.91391,     0.91491,     0.91592,     0.91692,     0.91792,     0.91892,     0.91992,     0.92092,     0.92192,     0.92292,     0.92392,     0.92492,     0.92593,     0.92693,     0.92793,     0.92893,     0.92993,     0.93093,     0.93193,     0.93293,     0.93393,     0.93493,     0.93594,\n",
       "           0.93694,     0.93794,     0.93894,     0.93994,     0.94094,     0.94194,     0.94294,     0.94394,     0.94494,     0.94595,     0.94695,     0.94795,     0.94895,     0.94995,     0.95095,     0.95195,     0.95295,     0.95395,     0.95495,     0.95596,     0.95696,     0.95796,     0.95896,     0.95996,\n",
       "           0.96096,     0.96196,     0.96296,     0.96396,     0.96496,     0.96597,     0.96697,     0.96797,     0.96897,     0.96997,     0.97097,     0.97197,     0.97297,     0.97397,     0.97497,     0.97598,     0.97698,     0.97798,     0.97898,     0.97998,     0.98098,     0.98198,     0.98298,     0.98398,\n",
       "           0.98498,     0.98599,     0.98699,     0.98799,     0.98899,     0.98999,     0.99099,     0.99199,     0.99299,     0.99399,     0.99499,       0.996,       0.997,       0.998,       0.999,           1]), array([[    0.33516,     0.33516,     0.46858, ...,           0,           0,           0],\n",
       "       [    0.43128,     0.43136,     0.54982, ...,           0,           0,           0],\n",
       "       [    0.53846,     0.53846,     0.62404, ...,           0,           0,           0],\n",
       "       ...,\n",
       "       [        0.3,         0.3,     0.34976, ...,           0,           0,           0],\n",
       "       [    0.51475,     0.51496,     0.58049, ...,           0,           0,           0],\n",
       "       [    0.19753,     0.19882,     0.25852, ...,           0,           0,           0]]), 'Confidence', 'F1'], [array([          0,    0.001001,    0.002002,    0.003003,    0.004004,    0.005005,    0.006006,    0.007007,    0.008008,    0.009009,     0.01001,    0.011011,    0.012012,    0.013013,    0.014014,    0.015015,    0.016016,    0.017017,    0.018018,    0.019019,     0.02002,    0.021021,    0.022022,    0.023023,\n",
       "          0.024024,    0.025025,    0.026026,    0.027027,    0.028028,    0.029029,     0.03003,    0.031031,    0.032032,    0.033033,    0.034034,    0.035035,    0.036036,    0.037037,    0.038038,    0.039039,     0.04004,    0.041041,    0.042042,    0.043043,    0.044044,    0.045045,    0.046046,    0.047047,\n",
       "          0.048048,    0.049049,     0.05005,    0.051051,    0.052052,    0.053053,    0.054054,    0.055055,    0.056056,    0.057057,    0.058058,    0.059059,     0.06006,    0.061061,    0.062062,    0.063063,    0.064064,    0.065065,    0.066066,    0.067067,    0.068068,    0.069069,     0.07007,    0.071071,\n",
       "          0.072072,    0.073073,    0.074074,    0.075075,    0.076076,    0.077077,    0.078078,    0.079079,     0.08008,    0.081081,    0.082082,    0.083083,    0.084084,    0.085085,    0.086086,    0.087087,    0.088088,    0.089089,     0.09009,    0.091091,    0.092092,    0.093093,    0.094094,    0.095095,\n",
       "          0.096096,    0.097097,    0.098098,    0.099099,      0.1001,      0.1011,      0.1021,      0.1031,      0.1041,     0.10511,     0.10611,     0.10711,     0.10811,     0.10911,     0.11011,     0.11111,     0.11211,     0.11311,     0.11411,     0.11512,     0.11612,     0.11712,     0.11812,     0.11912,\n",
       "           0.12012,     0.12112,     0.12212,     0.12312,     0.12412,     0.12513,     0.12613,     0.12713,     0.12813,     0.12913,     0.13013,     0.13113,     0.13213,     0.13313,     0.13413,     0.13514,     0.13614,     0.13714,     0.13814,     0.13914,     0.14014,     0.14114,     0.14214,     0.14314,\n",
       "           0.14414,     0.14515,     0.14615,     0.14715,     0.14815,     0.14915,     0.15015,     0.15115,     0.15215,     0.15315,     0.15415,     0.15516,     0.15616,     0.15716,     0.15816,     0.15916,     0.16016,     0.16116,     0.16216,     0.16316,     0.16416,     0.16517,     0.16617,     0.16717,\n",
       "           0.16817,     0.16917,     0.17017,     0.17117,     0.17217,     0.17317,     0.17417,     0.17518,     0.17618,     0.17718,     0.17818,     0.17918,     0.18018,     0.18118,     0.18218,     0.18318,     0.18418,     0.18519,     0.18619,     0.18719,     0.18819,     0.18919,     0.19019,     0.19119,\n",
       "           0.19219,     0.19319,     0.19419,      0.1952,      0.1962,      0.1972,      0.1982,      0.1992,      0.2002,      0.2012,      0.2022,      0.2032,      0.2042,     0.20521,     0.20621,     0.20721,     0.20821,     0.20921,     0.21021,     0.21121,     0.21221,     0.21321,     0.21421,     0.21522,\n",
       "           0.21622,     0.21722,     0.21822,     0.21922,     0.22022,     0.22122,     0.22222,     0.22322,     0.22422,     0.22523,     0.22623,     0.22723,     0.22823,     0.22923,     0.23023,     0.23123,     0.23223,     0.23323,     0.23423,     0.23524,     0.23624,     0.23724,     0.23824,     0.23924,\n",
       "           0.24024,     0.24124,     0.24224,     0.24324,     0.24424,     0.24525,     0.24625,     0.24725,     0.24825,     0.24925,     0.25025,     0.25125,     0.25225,     0.25325,     0.25425,     0.25526,     0.25626,     0.25726,     0.25826,     0.25926,     0.26026,     0.26126,     0.26226,     0.26326,\n",
       "           0.26426,     0.26527,     0.26627,     0.26727,     0.26827,     0.26927,     0.27027,     0.27127,     0.27227,     0.27327,     0.27427,     0.27528,     0.27628,     0.27728,     0.27828,     0.27928,     0.28028,     0.28128,     0.28228,     0.28328,     0.28428,     0.28529,     0.28629,     0.28729,\n",
       "           0.28829,     0.28929,     0.29029,     0.29129,     0.29229,     0.29329,     0.29429,      0.2953,      0.2963,      0.2973,      0.2983,      0.2993,      0.3003,      0.3013,      0.3023,      0.3033,      0.3043,     0.30531,     0.30631,     0.30731,     0.30831,     0.30931,     0.31031,     0.31131,\n",
       "           0.31231,     0.31331,     0.31431,     0.31532,     0.31632,     0.31732,     0.31832,     0.31932,     0.32032,     0.32132,     0.32232,     0.32332,     0.32432,     0.32533,     0.32633,     0.32733,     0.32833,     0.32933,     0.33033,     0.33133,     0.33233,     0.33333,     0.33433,     0.33534,\n",
       "           0.33634,     0.33734,     0.33834,     0.33934,     0.34034,     0.34134,     0.34234,     0.34334,     0.34434,     0.34535,     0.34635,     0.34735,     0.34835,     0.34935,     0.35035,     0.35135,     0.35235,     0.35335,     0.35435,     0.35536,     0.35636,     0.35736,     0.35836,     0.35936,\n",
       "           0.36036,     0.36136,     0.36236,     0.36336,     0.36436,     0.36537,     0.36637,     0.36737,     0.36837,     0.36937,     0.37037,     0.37137,     0.37237,     0.37337,     0.37437,     0.37538,     0.37638,     0.37738,     0.37838,     0.37938,     0.38038,     0.38138,     0.38238,     0.38338,\n",
       "           0.38438,     0.38539,     0.38639,     0.38739,     0.38839,     0.38939,     0.39039,     0.39139,     0.39239,     0.39339,     0.39439,      0.3954,      0.3964,      0.3974,      0.3984,      0.3994,      0.4004,      0.4014,      0.4024,      0.4034,      0.4044,     0.40541,     0.40641,     0.40741,\n",
       "           0.40841,     0.40941,     0.41041,     0.41141,     0.41241,     0.41341,     0.41441,     0.41542,     0.41642,     0.41742,     0.41842,     0.41942,     0.42042,     0.42142,     0.42242,     0.42342,     0.42442,     0.42543,     0.42643,     0.42743,     0.42843,     0.42943,     0.43043,     0.43143,\n",
       "           0.43243,     0.43343,     0.43443,     0.43544,     0.43644,     0.43744,     0.43844,     0.43944,     0.44044,     0.44144,     0.44244,     0.44344,     0.44444,     0.44545,     0.44645,     0.44745,     0.44845,     0.44945,     0.45045,     0.45145,     0.45245,     0.45345,     0.45445,     0.45546,\n",
       "           0.45646,     0.45746,     0.45846,     0.45946,     0.46046,     0.46146,     0.46246,     0.46346,     0.46446,     0.46547,     0.46647,     0.46747,     0.46847,     0.46947,     0.47047,     0.47147,     0.47247,     0.47347,     0.47447,     0.47548,     0.47648,     0.47748,     0.47848,     0.47948,\n",
       "           0.48048,     0.48148,     0.48248,     0.48348,     0.48448,     0.48549,     0.48649,     0.48749,     0.48849,     0.48949,     0.49049,     0.49149,     0.49249,     0.49349,     0.49449,      0.4955,      0.4965,      0.4975,      0.4985,      0.4995,      0.5005,      0.5015,      0.5025,      0.5035,\n",
       "            0.5045,     0.50551,     0.50651,     0.50751,     0.50851,     0.50951,     0.51051,     0.51151,     0.51251,     0.51351,     0.51451,     0.51552,     0.51652,     0.51752,     0.51852,     0.51952,     0.52052,     0.52152,     0.52252,     0.52352,     0.52452,     0.52553,     0.52653,     0.52753,\n",
       "           0.52853,     0.52953,     0.53053,     0.53153,     0.53253,     0.53353,     0.53453,     0.53554,     0.53654,     0.53754,     0.53854,     0.53954,     0.54054,     0.54154,     0.54254,     0.54354,     0.54454,     0.54555,     0.54655,     0.54755,     0.54855,     0.54955,     0.55055,     0.55155,\n",
       "           0.55255,     0.55355,     0.55455,     0.55556,     0.55656,     0.55756,     0.55856,     0.55956,     0.56056,     0.56156,     0.56256,     0.56356,     0.56456,     0.56557,     0.56657,     0.56757,     0.56857,     0.56957,     0.57057,     0.57157,     0.57257,     0.57357,     0.57457,     0.57558,\n",
       "           0.57658,     0.57758,     0.57858,     0.57958,     0.58058,     0.58158,     0.58258,     0.58358,     0.58458,     0.58559,     0.58659,     0.58759,     0.58859,     0.58959,     0.59059,     0.59159,     0.59259,     0.59359,     0.59459,      0.5956,      0.5966,      0.5976,      0.5986,      0.5996,\n",
       "            0.6006,      0.6016,      0.6026,      0.6036,      0.6046,     0.60561,     0.60661,     0.60761,     0.60861,     0.60961,     0.61061,     0.61161,     0.61261,     0.61361,     0.61461,     0.61562,     0.61662,     0.61762,     0.61862,     0.61962,     0.62062,     0.62162,     0.62262,     0.62362,\n",
       "           0.62462,     0.62563,     0.62663,     0.62763,     0.62863,     0.62963,     0.63063,     0.63163,     0.63263,     0.63363,     0.63463,     0.63564,     0.63664,     0.63764,     0.63864,     0.63964,     0.64064,     0.64164,     0.64264,     0.64364,     0.64464,     0.64565,     0.64665,     0.64765,\n",
       "           0.64865,     0.64965,     0.65065,     0.65165,     0.65265,     0.65365,     0.65465,     0.65566,     0.65666,     0.65766,     0.65866,     0.65966,     0.66066,     0.66166,     0.66266,     0.66366,     0.66466,     0.66567,     0.66667,     0.66767,     0.66867,     0.66967,     0.67067,     0.67167,\n",
       "           0.67267,     0.67367,     0.67467,     0.67568,     0.67668,     0.67768,     0.67868,     0.67968,     0.68068,     0.68168,     0.68268,     0.68368,     0.68468,     0.68569,     0.68669,     0.68769,     0.68869,     0.68969,     0.69069,     0.69169,     0.69269,     0.69369,     0.69469,      0.6957,\n",
       "            0.6967,      0.6977,      0.6987,      0.6997,      0.7007,      0.7017,      0.7027,      0.7037,      0.7047,     0.70571,     0.70671,     0.70771,     0.70871,     0.70971,     0.71071,     0.71171,     0.71271,     0.71371,     0.71471,     0.71572,     0.71672,     0.71772,     0.71872,     0.71972,\n",
       "           0.72072,     0.72172,     0.72272,     0.72372,     0.72472,     0.72573,     0.72673,     0.72773,     0.72873,     0.72973,     0.73073,     0.73173,     0.73273,     0.73373,     0.73473,     0.73574,     0.73674,     0.73774,     0.73874,     0.73974,     0.74074,     0.74174,     0.74274,     0.74374,\n",
       "           0.74474,     0.74575,     0.74675,     0.74775,     0.74875,     0.74975,     0.75075,     0.75175,     0.75275,     0.75375,     0.75475,     0.75576,     0.75676,     0.75776,     0.75876,     0.75976,     0.76076,     0.76176,     0.76276,     0.76376,     0.76476,     0.76577,     0.76677,     0.76777,\n",
       "           0.76877,     0.76977,     0.77077,     0.77177,     0.77277,     0.77377,     0.77477,     0.77578,     0.77678,     0.77778,     0.77878,     0.77978,     0.78078,     0.78178,     0.78278,     0.78378,     0.78478,     0.78579,     0.78679,     0.78779,     0.78879,     0.78979,     0.79079,     0.79179,\n",
       "           0.79279,     0.79379,     0.79479,      0.7958,      0.7968,      0.7978,      0.7988,      0.7998,      0.8008,      0.8018,      0.8028,      0.8038,      0.8048,     0.80581,     0.80681,     0.80781,     0.80881,     0.80981,     0.81081,     0.81181,     0.81281,     0.81381,     0.81481,     0.81582,\n",
       "           0.81682,     0.81782,     0.81882,     0.81982,     0.82082,     0.82182,     0.82282,     0.82382,     0.82482,     0.82583,     0.82683,     0.82783,     0.82883,     0.82983,     0.83083,     0.83183,     0.83283,     0.83383,     0.83483,     0.83584,     0.83684,     0.83784,     0.83884,     0.83984,\n",
       "           0.84084,     0.84184,     0.84284,     0.84384,     0.84484,     0.84585,     0.84685,     0.84785,     0.84885,     0.84985,     0.85085,     0.85185,     0.85285,     0.85385,     0.85485,     0.85586,     0.85686,     0.85786,     0.85886,     0.85986,     0.86086,     0.86186,     0.86286,     0.86386,\n",
       "           0.86486,     0.86587,     0.86687,     0.86787,     0.86887,     0.86987,     0.87087,     0.87187,     0.87287,     0.87387,     0.87487,     0.87588,     0.87688,     0.87788,     0.87888,     0.87988,     0.88088,     0.88188,     0.88288,     0.88388,     0.88488,     0.88589,     0.88689,     0.88789,\n",
       "           0.88889,     0.88989,     0.89089,     0.89189,     0.89289,     0.89389,     0.89489,      0.8959,      0.8969,      0.8979,      0.8989,      0.8999,      0.9009,      0.9019,      0.9029,      0.9039,      0.9049,     0.90591,     0.90691,     0.90791,     0.90891,     0.90991,     0.91091,     0.91191,\n",
       "           0.91291,     0.91391,     0.91491,     0.91592,     0.91692,     0.91792,     0.91892,     0.91992,     0.92092,     0.92192,     0.92292,     0.92392,     0.92492,     0.92593,     0.92693,     0.92793,     0.92893,     0.92993,     0.93093,     0.93193,     0.93293,     0.93393,     0.93493,     0.93594,\n",
       "           0.93694,     0.93794,     0.93894,     0.93994,     0.94094,     0.94194,     0.94294,     0.94394,     0.94494,     0.94595,     0.94695,     0.94795,     0.94895,     0.94995,     0.95095,     0.95195,     0.95295,     0.95395,     0.95495,     0.95596,     0.95696,     0.95796,     0.95896,     0.95996,\n",
       "           0.96096,     0.96196,     0.96296,     0.96396,     0.96496,     0.96597,     0.96697,     0.96797,     0.96897,     0.96997,     0.97097,     0.97197,     0.97297,     0.97397,     0.97497,     0.97598,     0.97698,     0.97798,     0.97898,     0.97998,     0.98098,     0.98198,     0.98298,     0.98398,\n",
       "           0.98498,     0.98599,     0.98699,     0.98799,     0.98899,     0.98999,     0.99099,     0.99199,     0.99299,     0.99399,     0.99499,       0.996,       0.997,       0.998,       0.999,           1]), array([[    0.20539,     0.20539,     0.31547, ...,           1,           1,           1],\n",
       "       [       0.28,     0.28007,     0.38886, ...,           1,           1,           1],\n",
       "       [      0.375,       0.375,     0.46355, ...,           1,           1,           1],\n",
       "       ...,\n",
       "       [    0.17647,     0.17647,     0.21195, ...,           1,           1,           1],\n",
       "       [    0.40506,     0.40533,     0.50428, ...,           1,           1,           1],\n",
       "       [    0.11852,     0.11945,     0.16845, ...,           1,           1,           1]]), 'Confidence', 'Precision'], [array([          0,    0.001001,    0.002002,    0.003003,    0.004004,    0.005005,    0.006006,    0.007007,    0.008008,    0.009009,     0.01001,    0.011011,    0.012012,    0.013013,    0.014014,    0.015015,    0.016016,    0.017017,    0.018018,    0.019019,     0.02002,    0.021021,    0.022022,    0.023023,\n",
       "          0.024024,    0.025025,    0.026026,    0.027027,    0.028028,    0.029029,     0.03003,    0.031031,    0.032032,    0.033033,    0.034034,    0.035035,    0.036036,    0.037037,    0.038038,    0.039039,     0.04004,    0.041041,    0.042042,    0.043043,    0.044044,    0.045045,    0.046046,    0.047047,\n",
       "          0.048048,    0.049049,     0.05005,    0.051051,    0.052052,    0.053053,    0.054054,    0.055055,    0.056056,    0.057057,    0.058058,    0.059059,     0.06006,    0.061061,    0.062062,    0.063063,    0.064064,    0.065065,    0.066066,    0.067067,    0.068068,    0.069069,     0.07007,    0.071071,\n",
       "          0.072072,    0.073073,    0.074074,    0.075075,    0.076076,    0.077077,    0.078078,    0.079079,     0.08008,    0.081081,    0.082082,    0.083083,    0.084084,    0.085085,    0.086086,    0.087087,    0.088088,    0.089089,     0.09009,    0.091091,    0.092092,    0.093093,    0.094094,    0.095095,\n",
       "          0.096096,    0.097097,    0.098098,    0.099099,      0.1001,      0.1011,      0.1021,      0.1031,      0.1041,     0.10511,     0.10611,     0.10711,     0.10811,     0.10911,     0.11011,     0.11111,     0.11211,     0.11311,     0.11411,     0.11512,     0.11612,     0.11712,     0.11812,     0.11912,\n",
       "           0.12012,     0.12112,     0.12212,     0.12312,     0.12412,     0.12513,     0.12613,     0.12713,     0.12813,     0.12913,     0.13013,     0.13113,     0.13213,     0.13313,     0.13413,     0.13514,     0.13614,     0.13714,     0.13814,     0.13914,     0.14014,     0.14114,     0.14214,     0.14314,\n",
       "           0.14414,     0.14515,     0.14615,     0.14715,     0.14815,     0.14915,     0.15015,     0.15115,     0.15215,     0.15315,     0.15415,     0.15516,     0.15616,     0.15716,     0.15816,     0.15916,     0.16016,     0.16116,     0.16216,     0.16316,     0.16416,     0.16517,     0.16617,     0.16717,\n",
       "           0.16817,     0.16917,     0.17017,     0.17117,     0.17217,     0.17317,     0.17417,     0.17518,     0.17618,     0.17718,     0.17818,     0.17918,     0.18018,     0.18118,     0.18218,     0.18318,     0.18418,     0.18519,     0.18619,     0.18719,     0.18819,     0.18919,     0.19019,     0.19119,\n",
       "           0.19219,     0.19319,     0.19419,      0.1952,      0.1962,      0.1972,      0.1982,      0.1992,      0.2002,      0.2012,      0.2022,      0.2032,      0.2042,     0.20521,     0.20621,     0.20721,     0.20821,     0.20921,     0.21021,     0.21121,     0.21221,     0.21321,     0.21421,     0.21522,\n",
       "           0.21622,     0.21722,     0.21822,     0.21922,     0.22022,     0.22122,     0.22222,     0.22322,     0.22422,     0.22523,     0.22623,     0.22723,     0.22823,     0.22923,     0.23023,     0.23123,     0.23223,     0.23323,     0.23423,     0.23524,     0.23624,     0.23724,     0.23824,     0.23924,\n",
       "           0.24024,     0.24124,     0.24224,     0.24324,     0.24424,     0.24525,     0.24625,     0.24725,     0.24825,     0.24925,     0.25025,     0.25125,     0.25225,     0.25325,     0.25425,     0.25526,     0.25626,     0.25726,     0.25826,     0.25926,     0.26026,     0.26126,     0.26226,     0.26326,\n",
       "           0.26426,     0.26527,     0.26627,     0.26727,     0.26827,     0.26927,     0.27027,     0.27127,     0.27227,     0.27327,     0.27427,     0.27528,     0.27628,     0.27728,     0.27828,     0.27928,     0.28028,     0.28128,     0.28228,     0.28328,     0.28428,     0.28529,     0.28629,     0.28729,\n",
       "           0.28829,     0.28929,     0.29029,     0.29129,     0.29229,     0.29329,     0.29429,      0.2953,      0.2963,      0.2973,      0.2983,      0.2993,      0.3003,      0.3013,      0.3023,      0.3033,      0.3043,     0.30531,     0.30631,     0.30731,     0.30831,     0.30931,     0.31031,     0.31131,\n",
       "           0.31231,     0.31331,     0.31431,     0.31532,     0.31632,     0.31732,     0.31832,     0.31932,     0.32032,     0.32132,     0.32232,     0.32332,     0.32432,     0.32533,     0.32633,     0.32733,     0.32833,     0.32933,     0.33033,     0.33133,     0.33233,     0.33333,     0.33433,     0.33534,\n",
       "           0.33634,     0.33734,     0.33834,     0.33934,     0.34034,     0.34134,     0.34234,     0.34334,     0.34434,     0.34535,     0.34635,     0.34735,     0.34835,     0.34935,     0.35035,     0.35135,     0.35235,     0.35335,     0.35435,     0.35536,     0.35636,     0.35736,     0.35836,     0.35936,\n",
       "           0.36036,     0.36136,     0.36236,     0.36336,     0.36436,     0.36537,     0.36637,     0.36737,     0.36837,     0.36937,     0.37037,     0.37137,     0.37237,     0.37337,     0.37437,     0.37538,     0.37638,     0.37738,     0.37838,     0.37938,     0.38038,     0.38138,     0.38238,     0.38338,\n",
       "           0.38438,     0.38539,     0.38639,     0.38739,     0.38839,     0.38939,     0.39039,     0.39139,     0.39239,     0.39339,     0.39439,      0.3954,      0.3964,      0.3974,      0.3984,      0.3994,      0.4004,      0.4014,      0.4024,      0.4034,      0.4044,     0.40541,     0.40641,     0.40741,\n",
       "           0.40841,     0.40941,     0.41041,     0.41141,     0.41241,     0.41341,     0.41441,     0.41542,     0.41642,     0.41742,     0.41842,     0.41942,     0.42042,     0.42142,     0.42242,     0.42342,     0.42442,     0.42543,     0.42643,     0.42743,     0.42843,     0.42943,     0.43043,     0.43143,\n",
       "           0.43243,     0.43343,     0.43443,     0.43544,     0.43644,     0.43744,     0.43844,     0.43944,     0.44044,     0.44144,     0.44244,     0.44344,     0.44444,     0.44545,     0.44645,     0.44745,     0.44845,     0.44945,     0.45045,     0.45145,     0.45245,     0.45345,     0.45445,     0.45546,\n",
       "           0.45646,     0.45746,     0.45846,     0.45946,     0.46046,     0.46146,     0.46246,     0.46346,     0.46446,     0.46547,     0.46647,     0.46747,     0.46847,     0.46947,     0.47047,     0.47147,     0.47247,     0.47347,     0.47447,     0.47548,     0.47648,     0.47748,     0.47848,     0.47948,\n",
       "           0.48048,     0.48148,     0.48248,     0.48348,     0.48448,     0.48549,     0.48649,     0.48749,     0.48849,     0.48949,     0.49049,     0.49149,     0.49249,     0.49349,     0.49449,      0.4955,      0.4965,      0.4975,      0.4985,      0.4995,      0.5005,      0.5015,      0.5025,      0.5035,\n",
       "            0.5045,     0.50551,     0.50651,     0.50751,     0.50851,     0.50951,     0.51051,     0.51151,     0.51251,     0.51351,     0.51451,     0.51552,     0.51652,     0.51752,     0.51852,     0.51952,     0.52052,     0.52152,     0.52252,     0.52352,     0.52452,     0.52553,     0.52653,     0.52753,\n",
       "           0.52853,     0.52953,     0.53053,     0.53153,     0.53253,     0.53353,     0.53453,     0.53554,     0.53654,     0.53754,     0.53854,     0.53954,     0.54054,     0.54154,     0.54254,     0.54354,     0.54454,     0.54555,     0.54655,     0.54755,     0.54855,     0.54955,     0.55055,     0.55155,\n",
       "           0.55255,     0.55355,     0.55455,     0.55556,     0.55656,     0.55756,     0.55856,     0.55956,     0.56056,     0.56156,     0.56256,     0.56356,     0.56456,     0.56557,     0.56657,     0.56757,     0.56857,     0.56957,     0.57057,     0.57157,     0.57257,     0.57357,     0.57457,     0.57558,\n",
       "           0.57658,     0.57758,     0.57858,     0.57958,     0.58058,     0.58158,     0.58258,     0.58358,     0.58458,     0.58559,     0.58659,     0.58759,     0.58859,     0.58959,     0.59059,     0.59159,     0.59259,     0.59359,     0.59459,      0.5956,      0.5966,      0.5976,      0.5986,      0.5996,\n",
       "            0.6006,      0.6016,      0.6026,      0.6036,      0.6046,     0.60561,     0.60661,     0.60761,     0.60861,     0.60961,     0.61061,     0.61161,     0.61261,     0.61361,     0.61461,     0.61562,     0.61662,     0.61762,     0.61862,     0.61962,     0.62062,     0.62162,     0.62262,     0.62362,\n",
       "           0.62462,     0.62563,     0.62663,     0.62763,     0.62863,     0.62963,     0.63063,     0.63163,     0.63263,     0.63363,     0.63463,     0.63564,     0.63664,     0.63764,     0.63864,     0.63964,     0.64064,     0.64164,     0.64264,     0.64364,     0.64464,     0.64565,     0.64665,     0.64765,\n",
       "           0.64865,     0.64965,     0.65065,     0.65165,     0.65265,     0.65365,     0.65465,     0.65566,     0.65666,     0.65766,     0.65866,     0.65966,     0.66066,     0.66166,     0.66266,     0.66366,     0.66466,     0.66567,     0.66667,     0.66767,     0.66867,     0.66967,     0.67067,     0.67167,\n",
       "           0.67267,     0.67367,     0.67467,     0.67568,     0.67668,     0.67768,     0.67868,     0.67968,     0.68068,     0.68168,     0.68268,     0.68368,     0.68468,     0.68569,     0.68669,     0.68769,     0.68869,     0.68969,     0.69069,     0.69169,     0.69269,     0.69369,     0.69469,      0.6957,\n",
       "            0.6967,      0.6977,      0.6987,      0.6997,      0.7007,      0.7017,      0.7027,      0.7037,      0.7047,     0.70571,     0.70671,     0.70771,     0.70871,     0.70971,     0.71071,     0.71171,     0.71271,     0.71371,     0.71471,     0.71572,     0.71672,     0.71772,     0.71872,     0.71972,\n",
       "           0.72072,     0.72172,     0.72272,     0.72372,     0.72472,     0.72573,     0.72673,     0.72773,     0.72873,     0.72973,     0.73073,     0.73173,     0.73273,     0.73373,     0.73473,     0.73574,     0.73674,     0.73774,     0.73874,     0.73974,     0.74074,     0.74174,     0.74274,     0.74374,\n",
       "           0.74474,     0.74575,     0.74675,     0.74775,     0.74875,     0.74975,     0.75075,     0.75175,     0.75275,     0.75375,     0.75475,     0.75576,     0.75676,     0.75776,     0.75876,     0.75976,     0.76076,     0.76176,     0.76276,     0.76376,     0.76476,     0.76577,     0.76677,     0.76777,\n",
       "           0.76877,     0.76977,     0.77077,     0.77177,     0.77277,     0.77377,     0.77477,     0.77578,     0.77678,     0.77778,     0.77878,     0.77978,     0.78078,     0.78178,     0.78278,     0.78378,     0.78478,     0.78579,     0.78679,     0.78779,     0.78879,     0.78979,     0.79079,     0.79179,\n",
       "           0.79279,     0.79379,     0.79479,      0.7958,      0.7968,      0.7978,      0.7988,      0.7998,      0.8008,      0.8018,      0.8028,      0.8038,      0.8048,     0.80581,     0.80681,     0.80781,     0.80881,     0.80981,     0.81081,     0.81181,     0.81281,     0.81381,     0.81481,     0.81582,\n",
       "           0.81682,     0.81782,     0.81882,     0.81982,     0.82082,     0.82182,     0.82282,     0.82382,     0.82482,     0.82583,     0.82683,     0.82783,     0.82883,     0.82983,     0.83083,     0.83183,     0.83283,     0.83383,     0.83483,     0.83584,     0.83684,     0.83784,     0.83884,     0.83984,\n",
       "           0.84084,     0.84184,     0.84284,     0.84384,     0.84484,     0.84585,     0.84685,     0.84785,     0.84885,     0.84985,     0.85085,     0.85185,     0.85285,     0.85385,     0.85485,     0.85586,     0.85686,     0.85786,     0.85886,     0.85986,     0.86086,     0.86186,     0.86286,     0.86386,\n",
       "           0.86486,     0.86587,     0.86687,     0.86787,     0.86887,     0.86987,     0.87087,     0.87187,     0.87287,     0.87387,     0.87487,     0.87588,     0.87688,     0.87788,     0.87888,     0.87988,     0.88088,     0.88188,     0.88288,     0.88388,     0.88488,     0.88589,     0.88689,     0.88789,\n",
       "           0.88889,     0.88989,     0.89089,     0.89189,     0.89289,     0.89389,     0.89489,      0.8959,      0.8969,      0.8979,      0.8989,      0.8999,      0.9009,      0.9019,      0.9029,      0.9039,      0.9049,     0.90591,     0.90691,     0.90791,     0.90891,     0.90991,     0.91091,     0.91191,\n",
       "           0.91291,     0.91391,     0.91491,     0.91592,     0.91692,     0.91792,     0.91892,     0.91992,     0.92092,     0.92192,     0.92292,     0.92392,     0.92492,     0.92593,     0.92693,     0.92793,     0.92893,     0.92993,     0.93093,     0.93193,     0.93293,     0.93393,     0.93493,     0.93594,\n",
       "           0.93694,     0.93794,     0.93894,     0.93994,     0.94094,     0.94194,     0.94294,     0.94394,     0.94494,     0.94595,     0.94695,     0.94795,     0.94895,     0.94995,     0.95095,     0.95195,     0.95295,     0.95395,     0.95495,     0.95596,     0.95696,     0.95796,     0.95896,     0.95996,\n",
       "           0.96096,     0.96196,     0.96296,     0.96396,     0.96496,     0.96597,     0.96697,     0.96797,     0.96897,     0.96997,     0.97097,     0.97197,     0.97297,     0.97397,     0.97497,     0.97598,     0.97698,     0.97798,     0.97898,     0.97998,     0.98098,     0.98198,     0.98298,     0.98398,\n",
       "           0.98498,     0.98599,     0.98699,     0.98799,     0.98899,     0.98999,     0.99099,     0.99199,     0.99299,     0.99399,     0.99499,       0.996,       0.997,       0.998,       0.999,           1]), array([[    0.91045,     0.91045,     0.91045, ...,           0,           0,           0],\n",
       "       [    0.93814,     0.93814,     0.93814, ...,           0,           0,           0],\n",
       "       [    0.95455,     0.95455,     0.95455, ...,           0,           0,           0],\n",
       "       ...,\n",
       "       [          1,           1,           1, ...,           0,           0,           0],\n",
       "       [    0.70588,     0.70588,     0.68382, ...,           0,           0,           0],\n",
       "       [    0.59259,     0.59259,     0.55556, ...,           0,           0,           0]]), 'Confidence', 'Recall']]\n",
       "fitness: 0.7513282388497502\n",
       "keys: ['metrics/precision(B)', 'metrics/recall(B)', 'metrics/mAP50(B)', 'metrics/mAP50-95(B)']\n",
       "maps: array([    0.75878,       0.812,     0.84064,     0.88237,      0.7627,     0.79625,     0.73918,     0.65438,     0.77315,     0.72415,     0.66721,     0.55611,     0.67789,     0.76538,     0.88333,     0.73918,     0.73918,      0.8955,      0.9818,     0.73918,     0.52166,     0.35193])\n",
       "names: {0: 'STOP', 1: 'Yield', 2: 'One-way traffic', 3: 'Pedestrian crossing', 4: 'No entry', 5: 'Speed limit 100 km/h', 6: 'Speed limit 120 km/h', 7: 'Speed limit 20 km/h', 8: 'Speed limit 30 km/h', 9: 'Speed limit 40 km/h', 10: 'Speed limit 50 km/h', 11: 'Speed limit 60 km/h', 12: 'Roadworks', 13: 'Speed limit 80 km/h', 14: 'Dead end', 15: 'End of priority road', 16: 'End of construction works', 17: 'End of play street', 18: 'Play street', 19: 'Road closure', 20: 'Red traffic light', 21: 'Green traffic light'}\n",
       "plot: True\n",
       "results_dict: {'metrics/precision(B)': 0.8862010975978978, 'metrics/recall(B)': 0.798995841276915, 'metrics/mAP50(B)': 0.8606628978845401, 'metrics/mAP50-95(B)': 0.7391799434014402, 'fitness': 0.7513282388497502}\n",
       "save_dir: WindowsPath('runs/detect/train25')\n",
       "speed: {'preprocess': 0.13136045423201204, 'inference': 10.714163460337241, 'loss': 0.0, 'postprocess': 0.4252178620622608}\n",
       "task: 'detect'\n",
       "training: {'epochs': 150, 'seconds': 50110.120722055435}"
      ]
     },
     "execution_count": 5,
     "metadata": {},
     "output_type": "execute_result"
    }
   ],
   "source": [
    "results"
   ]
  },
  {
   "cell_type": "markdown",
   "metadata": {},
   "source": [
    "Run model evaluation on the test dataset"
   ]
  },
  {
   "cell_type": "code",
   "execution_count": 6,
   "metadata": {},
   "outputs": [
    {
     "name": "stdout",
     "output_type": "stream",
     "text": [
      "Ultralytics 8.3.6  Python-3.9.18 torch-2.4.1 CUDA:0 (NVIDIA GeForce RTX 3060 Laptop GPU, 6144MiB)\n",
      "YOLOv10b summary (fused): 383 layers, 20,445,076 parameters, 0 gradients, 98.1 GFLOPs\n"
     ]
    },
    {
     "name": "stderr",
     "output_type": "stream",
     "text": [
      "\u001b[34m\u001b[1mval: \u001b[0mScanning C:\\Users\\henri\\Documents\\Uni.lu\\Semester 5\\BSP\\Other joined DS\\datasets\\New_DS\\test\\labels... 592 images, 0 backgrounds, 1 corrupt: 100%|██████████| 592/592 [00:00<00:00, 1493.49it/s]"
     ]
    },
    {
     "name": "stdout",
     "output_type": "stream",
     "text": [
      "\u001b[34m\u001b[1mval: \u001b[0mWARNING  C:\\Users\\henri\\Documents\\Uni.lu\\Semester 5\\BSP\\Other joined DS\\datasets\\New_DS\\test\\images\\DE_BBBR667_2015-04-21_17-14-11-819495_k0.jpg: ignoring corrupt image/label: negative label values [  -0.016602]\n",
      "\u001b[34m\u001b[1mval: \u001b[0mNew cache created: C:\\Users\\henri\\Documents\\Uni.lu\\Semester 5\\BSP\\Other joined DS\\datasets\\New_DS\\test\\labels.cache\n"
     ]
    },
    {
     "name": "stderr",
     "output_type": "stream",
     "text": [
      "\n",
      "                 Class     Images  Instances      Box(P          R      mAP50  mAP50-95): 100%|██████████| 37/37 [00:09<00:00,  3.74it/s]\n"
     ]
    },
    {
     "name": "stdout",
     "output_type": "stream",
     "text": [
      "                   all        591        789      0.906      0.762      0.842      0.711\n",
      "                  STOP         52         57      0.938      0.789       0.89      0.738\n",
      "                 Yield         95        104      0.969      0.908      0.954      0.767\n",
      "       One-way traffic         45         46          1       0.89      0.958      0.817\n",
      "   Pedestrian crossing         94        103      0.875      0.971      0.987      0.877\n",
      "              No entry         43         45       0.89      0.733      0.835      0.691\n",
      "  Speed limit 100 km/h         19         24      0.937      0.617      0.835      0.713\n",
      "  Speed limit 120 km/h          3          3          1          0      0.174     0.0871\n",
      "   Speed limit 20 km/h          8          8      0.927       0.75      0.762      0.723\n",
      "   Speed limit 30 km/h         60         61      0.934      0.787      0.881      0.738\n",
      "   Speed limit 40 km/h         48         51      0.916      0.725       0.86      0.752\n",
      "   Speed limit 50 km/h         21         23      0.867      0.696      0.781      0.671\n",
      "   Speed limit 60 km/h         33         33      0.752      0.697      0.733      0.666\n",
      "             Roadworks         29         30      0.895      0.855      0.889      0.763\n",
      "   Speed limit 80 km/h         44         48      0.839      0.792      0.899      0.796\n",
      "              Dead end          8          8      0.952          1      0.995      0.878\n",
      "  End of priority road          2          2       0.84          1      0.995      0.789\n",
      "End of construction works          3          3      0.965          1      0.995      0.869\n",
      "    End of play street          3          3      0.862          1      0.995      0.864\n",
      "           Play street          2          2      0.814          1      0.995      0.924\n",
      "     Red traffic light         49         99      0.919      0.456      0.623      0.449\n",
      "   Green traffic light         19         36      0.924      0.337      0.637      0.353\n",
      "Speed: 0.2ms preprocess, 11.2ms inference, 0.0ms loss, 0.2ms postprocess per image\n",
      "Results saved to \u001b[1mruns\\detect\\train252\u001b[0m\n"
     ]
    }
   ],
   "source": [
    "metrics = model.val(split=\"test\", plots=True)"
   ]
  },
  {
   "cell_type": "markdown",
   "metadata": {},
   "source": [
    "0 = Speedlimit 20\n",
    "\n",
    "1 = Speedlimit 30\n",
    "\n",
    "2 = Speedlimit 50\n",
    "\n",
    "3 = Speedlimit 60\n",
    "\n",
    "4 = Speedlimit 70\n",
    "\n",
    "5 = Speedlimit 80\n",
    "\n",
    "6 = Speedlimit 80 End\n",
    "\n",
    "7 = Speedlimit 100\n",
    "\n",
    "8 = Speedlimit 120\n",
    "\n",
    "13 = Yield\n",
    "\n",
    "14 = Stop\n",
    "\n",
    "15 = Entry prohibited\n",
    "\n",
    "17 = No entry - One way road \n",
    "\n",
    "32 = No speed limit\n",
    "\n",
    " https://www.uni-ulm.de/en/in/institute-of-measurement-control-and-microtechnology/research/dataset/driveu-traffic-light-dataset/\n",
    " https://github.com/sntubix/robocar/blob/main/src/libs/tfl_detector/tfl_detector/dtld2yolo.py"
   ]
  },
  {
   "cell_type": "markdown",
   "metadata": {},
   "source": [
    "Load model from previous runs"
   ]
  },
  {
   "cell_type": "code",
   "execution_count": 2,
   "metadata": {},
   "outputs": [],
   "source": [
    "model_m = YOLO(\"best.pt\")"
   ]
  },
  {
   "cell_type": "markdown",
   "metadata": {},
   "source": [
    "Define prediction methods"
   ]
  },
  {
   "cell_type": "code",
   "execution_count": 3,
   "metadata": {},
   "outputs": [],
   "source": [
    "def predict(chosen_model, img, classes=[], conf=0.5):\n",
    "    if classes:\n",
    "        results = chosen_model.predict(img, classes=classes, conf=conf)\n",
    "    else:\n",
    "        results = chosen_model.predict(img, conf=conf)\n",
    "\n",
    "    return results\n",
    "\n",
    "\n",
    "def predict_and_detect(chosen_model, img, classes=[], conf=0.5, rectangle_thickness=3, text_thickness=1):\n",
    "    results = predict(chosen_model, img, classes, conf=conf)\n",
    "    for result in results:\n",
    "        for box in result.boxes:\n",
    "            cv2.rectangle(img, (int(box.xyxy[0][0]), int(box.xyxy[0][1])),\n",
    "                          (int(box.xyxy[0][2]), int(box.xyxy[0][3])), (255, 0, 255), rectangle_thickness)\n",
    "            cv2.putText(img, f\"{result.names[int(box.cls[0])]}\",\n",
    "                        (int(box.xyxy[0][0]), int(box.xyxy[0][1]) - 10),\n",
    "                        cv2.FONT_HERSHEY_PLAIN, 4, (255, 0, 255), text_thickness)\n",
    "    return img, results"
   ]
  },
  {
   "cell_type": "markdown",
   "metadata": {},
   "source": [
    "Run evaluation"
   ]
  },
  {
   "cell_type": "code",
   "execution_count": 47,
   "metadata": {},
   "outputs": [
    {
     "name": "stdout",
     "output_type": "stream",
     "text": [
      "Ultralytics 8.3.6  Python-3.9.18 torch-2.4.1 CUDA:0 (NVIDIA GeForce RTX 3060 Laptop GPU, 6144MiB)\n",
      "YOLO11s summary (fused): 238 layers, 9,421,314 parameters, 0 gradients, 21.3 GFLOPs\n"
     ]
    },
    {
     "name": "stderr",
     "output_type": "stream",
     "text": [
      "\u001b[34m\u001b[1mval: \u001b[0mScanning C:\\Users\\henri\\Documents\\Uni.lu\\Semester 5\\BSP\\Other joined DS\\datasets\\New_DS\\test\\labels.cache... 592 images, 0 backgrounds, 1 corrupt: 100%|██████████| 592/592 [00:00<?, ?it/s]"
     ]
    },
    {
     "name": "stdout",
     "output_type": "stream",
     "text": [
      "\u001b[34m\u001b[1mval: \u001b[0mWARNING  C:\\Users\\henri\\Documents\\Uni.lu\\Semester 5\\BSP\\Other joined DS\\datasets\\New_DS\\test\\images\\DE_BBBR667_2015-04-21_17-14-11-819495_k0.jpg: ignoring corrupt image/label: negative label values [  -0.016602]\n"
     ]
    },
    {
     "name": "stderr",
     "output_type": "stream",
     "text": [
      "\n",
      "                 Class     Images  Instances      Box(P          R      mAP50  mAP50-95): 100%|██████████| 37/37 [00:08<00:00,  4.50it/s]\n"
     ]
    },
    {
     "name": "stdout",
     "output_type": "stream",
     "text": [
      "                   all        591        789      0.838      0.839      0.881      0.752\n",
      "          Warning-STOP         52         57      0.942      0.854      0.905      0.749\n",
      "         Warning-Yield         95        104      0.934      0.952      0.969      0.801\n",
      "Indication-One-way traffic         45         46      0.883      0.913      0.972      0.824\n",
      "Indication-Pedestrian crossing         94        103      0.907       0.99      0.988      0.885\n",
      "  Prohibition-No entry         43         45      0.883      0.843       0.87       0.71\n",
      "Prohibition-Speed limit 100 km/h         19         24      0.948      0.764      0.891      0.755\n",
      "Prohibition-Speed limit 120 km/h          3          3      0.309      0.206      0.337      0.237\n",
      "Prohibition-Speed limit 20 km/h          8          8      0.786      0.875      0.878      0.793\n",
      "Prohibition-Speed limit 30 km/h         60         61      0.859      0.852      0.907      0.778\n",
      "Prohibition-Speed limit 40 km/h         48         51      0.931      0.843      0.891      0.771\n",
      "Prohibition-Speed limit 50 km/h         21         23      0.829      0.783       0.81      0.729\n",
      "Prohibition-Speed limit 60 km/h         33         33      0.747      0.818      0.821      0.732\n",
      "     Warning-Roadworks         29         30      0.794      0.933      0.927      0.786\n",
      "Prohibition-Speed limit 80 km/h         44         48      0.773      0.922      0.951      0.851\n",
      "              Dead end          8          8      0.893          1      0.995      0.899\n",
      "  End of priority road          2          2      0.776          1      0.995      0.895\n",
      "End of construction works          3          3          1      0.937      0.995      0.864\n",
      "    End of play street          3          3       0.84          1      0.995        0.9\n",
      "           Play street          2          2      0.735          1      0.995      0.923\n",
      "     Red traffic light         49         99      0.857      0.596      0.708      0.472\n",
      "   Green traffic light         19         36      0.978      0.528      0.708      0.443\n",
      "Speed: 0.3ms preprocess, 6.4ms inference, 0.0ms loss, 1.4ms postprocess per image\n",
      "Results saved to \u001b[1mruns\\detect\\val7\u001b[0m\n"
     ]
    }
   ],
   "source": [
    "metrics = model_m.val(data=\"data.yaml\", split=\"test\", plots=True)"
   ]
  },
  {
   "cell_type": "markdown",
   "metadata": {},
   "source": [
    "Update labels like this to custom names"
   ]
  },
  {
   "cell_type": "code",
   "execution_count": 4,
   "metadata": {},
   "outputs": [
    {
     "name": "stdout",
     "output_type": "stream",
     "text": [
      "{0: 'STOP', 1: 'Yield', 2: 'One-way traffic', 3: 'Pedestrian crossing', 4: 'No entry', 5: 'Speed limit 100 km/h', 6: 'Speed limit 120 km/h', 7: 'Speed limit 20 km/h', 8: 'Speed limit 30 km/h', 9: 'Speed limit 40 km/h', 10: 'Speed limit 50 km/h', 11: 'Speed limit 60 km/h', 12: 'Roadworks', 13: 'Speed limit 80 km/h', 14: 'Dead end', 15: 'End of priority road', 16: 'End of construction works', 17: 'End of play street', 18: 'Play street', 19: 'Road closure', 20: 'Green traffic light', 21: 'Red traffic light'}\n"
     ]
    }
   ],
   "source": [
    "classes = [\"STOP\",\n",
    " \"Yield\",\n",
    " \"One-way traffic\",\n",
    " \"Pedestrian crossing\",\n",
    " \"No entry\",\n",
    " \"Speed limit 100 km/h\",\n",
    " \"Speed limit 120 km/h\",\n",
    " \"Speed limit 20 km/h\",\n",
    " \"Speed limit 30 km/h\",\n",
    " \"Speed limit 40 km/h\",\n",
    " \"Speed limit 50 km/h\",\n",
    " \"Speed limit 60 km/h\",\n",
    " \"Roadworks\",\n",
    " \"Speed limit 80 km/h\",\n",
    " \"Dead end\",\n",
    " \"End of priority road\",\n",
    " \"End of construction works\",\n",
    " \"End of play street\",\n",
    " \"Play street\",\n",
    " \"Road closure\",\n",
    " \"Green traffic light\",\n",
    " \"Red traffic light\"]\n",
    "class_dict = {i: classes[i] for i in range(len(classes))}\n",
    "print(class_dict)\n",
    "model_m.model.names.update(class_dict)\n",
    "model_m.save(\"best_s.pt\")"
   ]
  },
  {
   "cell_type": "markdown",
   "metadata": {},
   "source": [
    "Make Full scale evaluation and paint it in with OpenCV"
   ]
  },
  {
   "cell_type": "code",
   "execution_count": 67,
   "metadata": {},
   "outputs": [
    {
     "name": "stdout",
     "output_type": "stream",
     "text": [
      "{0: 'STOP', 1: 'Yield', 2: 'One-way traffic', 3: 'Pedestrian crossing', 4: 'No entry', 5: 'Speed limit 100 km/h', 6: 'Speed limit 120 km/h', 7: 'Speed limit 20 km/h', 8: 'Speed limit 30 km/h', 9: 'Speed limit 40 km/h', 10: 'Speed limit 50 km/h', 11: 'Speed limit 60 km/h', 12: 'Roadworks', 13: 'Speed limit 80 km/h', 14: 'Dead end', 15: 'End of priority road', 16: 'End of construction works', 17: 'End of play street', 18: 'Play street', 19: 'Road closure', 20: 'Green traffic light', 21: 'Red traffic light'}\n"
     ]
    },
    {
     "name": "stderr",
     "output_type": "stream",
     "text": [
      "  0%|          | 0/592 [00:00<?, ?it/s]"
     ]
    },
    {
     "name": "stdout",
     "output_type": "stream",
     "text": [
      "\n",
      "0: 448x448 1 Speed limit 40 km/h, 209.3ms\n",
      "Speed: 3.0ms preprocess, 209.3ms inference, 1.0ms postprocess per image at shape (1, 3, 448, 448)\n"
     ]
    },
    {
     "name": "stderr",
     "output_type": "stream",
     "text": [
      "  0%|          | 1/592 [00:00<02:12,  4.45it/s]"
     ]
    },
    {
     "name": "stdout",
     "output_type": "stream",
     "text": [
      "\n",
      "0: 448x448 1 Speed limit 40 km/h, 15.2ms\n",
      "Speed: 1.0ms preprocess, 15.2ms inference, 1.5ms postprocess per image at shape (1, 3, 448, 448)\n",
      "\n",
      "0: 448x448 1 Speed limit 40 km/h, 17.3ms\n",
      "Speed: 1.0ms preprocess, 17.3ms inference, 0.0ms postprocess per image at shape (1, 3, 448, 448)\n",
      "\n",
      "0: 448x448 (no detections), 16.7ms\n",
      "Speed: 2.0ms preprocess, 16.7ms inference, 0.0ms postprocess per image at shape (1, 3, 448, 448)\n",
      "\n",
      "0: 448x448 3 Speed limit 40 km/hs, 16.0ms\n",
      "Speed: 1.0ms preprocess, 16.0ms inference, 1.0ms postprocess per image at shape (1, 3, 448, 448)\n"
     ]
    },
    {
     "name": "stderr",
     "output_type": "stream",
     "text": [
      "  1%|          | 5/592 [00:00<00:33, 17.51it/s]"
     ]
    },
    {
     "name": "stdout",
     "output_type": "stream",
     "text": [
      "\n",
      "0: 448x448 1 Speed limit 80 km/h, 14.5ms\n",
      "Speed: 1.0ms preprocess, 14.5ms inference, 0.0ms postprocess per image at shape (1, 3, 448, 448)\n",
      "\n",
      "0: 448x448 1 Speed limit 60 km/h, 16.5ms\n",
      "Speed: 2.0ms preprocess, 16.5ms inference, 1.0ms postprocess per image at shape (1, 3, 448, 448)\n",
      "\n",
      "0: 448x448 1 Speed limit 80 km/h, 16.4ms\n",
      "Speed: 2.0ms preprocess, 16.4ms inference, 1.0ms postprocess per image at shape (1, 3, 448, 448)\n",
      "\n",
      "0: 448x448 (no detections), 13.0ms\n",
      "Speed: 2.0ms preprocess, 13.0ms inference, 0.0ms postprocess per image at shape (1, 3, 448, 448)\n"
     ]
    },
    {
     "name": "stderr",
     "output_type": "stream",
     "text": [
      "  2%|▏         | 9/592 [00:00<00:23, 24.44it/s]"
     ]
    },
    {
     "name": "stdout",
     "output_type": "stream",
     "text": [
      "\n",
      "0: 448x448 1 Speed limit 80 km/h, 15.0ms\n",
      "Speed: 1.0ms preprocess, 15.0ms inference, 1.0ms postprocess per image at shape (1, 3, 448, 448)\n",
      "\n",
      "0: 448x448 (no detections), 17.0ms\n",
      "Speed: 1.0ms preprocess, 17.0ms inference, 0.0ms postprocess per image at shape (1, 3, 448, 448)\n",
      "\n",
      "0: 448x448 (no detections), 17.0ms\n",
      "Speed: 1.0ms preprocess, 17.0ms inference, 0.0ms postprocess per image at shape (1, 3, 448, 448)\n",
      "\n",
      "0: 448x448 1 Speed limit 80 km/h, 14.0ms\n",
      "Speed: 1.3ms preprocess, 14.0ms inference, 1.0ms postprocess per image at shape (1, 3, 448, 448)\n"
     ]
    },
    {
     "name": "stderr",
     "output_type": "stream",
     "text": [
      "  2%|▏         | 13/592 [00:00<00:20, 28.46it/s]"
     ]
    },
    {
     "name": "stdout",
     "output_type": "stream",
     "text": [
      "\n",
      "0: 256x448 1 Speed limit 40 km/h, 11.5ms\n",
      "Speed: 1.0ms preprocess, 11.5ms inference, 1.0ms postprocess per image at shape (1, 3, 256, 448)\n",
      "\n",
      "0: 256x448 (no detections), 14.0ms\n",
      "Speed: 1.0ms preprocess, 14.0ms inference, 0.0ms postprocess per image at shape (1, 3, 256, 448)\n",
      "\n",
      "0: 256x448 1 Speed limit 40 km/h, 11.7ms\n",
      "Speed: 2.0ms preprocess, 11.7ms inference, 1.0ms postprocess per image at shape (1, 3, 256, 448)\n",
      "\n",
      "0: 256x448 (no detections), 15.5ms\n",
      "Speed: 1.0ms preprocess, 15.5ms inference, 1.0ms postprocess per image at shape (1, 3, 256, 448)\n"
     ]
    },
    {
     "name": "stderr",
     "output_type": "stream",
     "text": [
      "  3%|▎         | 17/592 [00:00<00:21, 26.40it/s]"
     ]
    },
    {
     "name": "stdout",
     "output_type": "stream",
     "text": [
      "\n",
      "0: 448x448 1 Speed limit 100 km/h, 13.0ms\n",
      "Speed: 1.0ms preprocess, 13.0ms inference, 1.5ms postprocess per image at shape (1, 3, 448, 448)\n",
      "\n",
      "0: 448x448 1 Speed limit 40 km/h, 16.0ms\n",
      "Speed: 2.0ms preprocess, 16.0ms inference, 1.2ms postprocess per image at shape (1, 3, 448, 448)\n",
      "\n",
      "0: 352x448 1 Yield, 20.5ms\n",
      "Speed: 1.0ms preprocess, 20.5ms inference, 0.0ms postprocess per image at shape (1, 3, 352, 448)\n"
     ]
    },
    {
     "name": "stderr",
     "output_type": "stream",
     "text": [
      "  3%|▎         | 20/592 [00:00<00:21, 27.05it/s]"
     ]
    },
    {
     "name": "stdout",
     "output_type": "stream",
     "text": [
      "\n",
      "0: 256x448 (no detections), 21.0ms\n",
      "Speed: 1.0ms preprocess, 21.0ms inference, 1.0ms postprocess per image at shape (1, 3, 256, 448)\n",
      "\n",
      "0: 352x448 (no detections), 14.3ms\n",
      "Speed: 1.0ms preprocess, 14.3ms inference, 1.5ms postprocess per image at shape (1, 3, 352, 448)\n",
      "\n",
      "0: 352x448 (no detections), 15.3ms\n",
      "Speed: 2.0ms preprocess, 15.3ms inference, 1.2ms postprocess per image at shape (1, 3, 352, 448)\n"
     ]
    },
    {
     "name": "stderr",
     "output_type": "stream",
     "text": [
      "  4%|▍         | 23/592 [00:01<00:52, 10.86it/s]"
     ]
    },
    {
     "name": "stdout",
     "output_type": "stream",
     "text": [
      "\n",
      "0: 352x448 1 Speed limit 30 km/h, 16.4ms\n",
      "Speed: 2.0ms preprocess, 16.4ms inference, 1.0ms postprocess per image at shape (1, 3, 352, 448)\n",
      "\n",
      "0: 352x448 (no detections), 20.5ms\n",
      "Speed: 2.0ms preprocess, 20.5ms inference, 0.0ms postprocess per image at shape (1, 3, 352, 448)\n",
      "\n",
      "0: 352x448 (no detections), 23.7ms\n",
      "Speed: 2.0ms preprocess, 23.7ms inference, 0.0ms postprocess per image at shape (1, 3, 352, 448)\n"
     ]
    },
    {
     "name": "stderr",
     "output_type": "stream",
     "text": [
      "  4%|▍         | 26/592 [00:02<01:58,  4.77it/s]"
     ]
    },
    {
     "name": "stdout",
     "output_type": "stream",
     "text": [
      "\n",
      "0: 352x448 1 STOP, 26.5ms\n",
      "Speed: 3.0ms preprocess, 26.5ms inference, 1.0ms postprocess per image at shape (1, 3, 352, 448)\n",
      "\n",
      "0: 352x448 (no detections), 34.0ms\n",
      "Speed: 3.0ms preprocess, 34.0ms inference, 1.0ms postprocess per image at shape (1, 3, 352, 448)\n"
     ]
    },
    {
     "name": "stderr",
     "output_type": "stream",
     "text": [
      "  5%|▍         | 28/592 [00:03<02:28,  3.81it/s]"
     ]
    },
    {
     "name": "stdout",
     "output_type": "stream",
     "text": [
      "\n",
      "0: 352x448 (no detections), 34.5ms\n",
      "Speed: 2.0ms preprocess, 34.5ms inference, 1.0ms postprocess per image at shape (1, 3, 352, 448)\n",
      "\n",
      "0: 352x448 1 Speed limit 60 km/h, 75.1ms\n",
      "Speed: 2.0ms preprocess, 75.1ms inference, 1.0ms postprocess per image at shape (1, 3, 352, 448)\n"
     ]
    },
    {
     "name": "stderr",
     "output_type": "stream",
     "text": [
      "  5%|▌         | 30/592 [00:04<02:47,  3.36it/s]"
     ]
    },
    {
     "name": "stdout",
     "output_type": "stream",
     "text": [
      "\n",
      "0: 352x448 (no detections), 54.8ms\n",
      "Speed: 1.9ms preprocess, 54.8ms inference, 1.0ms postprocess per image at shape (1, 3, 352, 448)\n"
     ]
    },
    {
     "name": "stderr",
     "output_type": "stream",
     "text": [
      "  5%|▌         | 31/592 [00:05<02:53,  3.24it/s]"
     ]
    },
    {
     "name": "stdout",
     "output_type": "stream",
     "text": [
      "\n",
      "0: 352x448 1 Speed limit 100 km/h, 66.0ms\n",
      "Speed: 2.0ms preprocess, 66.0ms inference, 1.0ms postprocess per image at shape (1, 3, 352, 448)\n"
     ]
    },
    {
     "name": "stderr",
     "output_type": "stream",
     "text": [
      "  5%|▌         | 32/592 [00:05<02:56,  3.17it/s]"
     ]
    },
    {
     "name": "stdout",
     "output_type": "stream",
     "text": [
      "\n",
      "0: 352x448 1 Speed limit 80 km/h, 72.0ms\n",
      "Speed: 2.0ms preprocess, 72.0ms inference, 1.0ms postprocess per image at shape (1, 3, 352, 448)\n"
     ]
    },
    {
     "name": "stderr",
     "output_type": "stream",
     "text": [
      "  6%|▌         | 33/592 [00:05<03:02,  3.06it/s]"
     ]
    },
    {
     "name": "stdout",
     "output_type": "stream",
     "text": [
      "\n",
      "0: 352x448 1 Speed limit 80 km/h, 63.3ms\n",
      "Speed: 2.0ms preprocess, 63.3ms inference, 1.1ms postprocess per image at shape (1, 3, 352, 448)\n"
     ]
    },
    {
     "name": "stderr",
     "output_type": "stream",
     "text": [
      "  6%|▌         | 34/592 [00:06<03:06,  2.99it/s]"
     ]
    },
    {
     "name": "stdout",
     "output_type": "stream",
     "text": [
      "\n",
      "0: 352x448 1 Speed limit 60 km/h, 62.4ms\n",
      "Speed: 2.0ms preprocess, 62.4ms inference, 1.0ms postprocess per image at shape (1, 3, 352, 448)\n"
     ]
    },
    {
     "name": "stderr",
     "output_type": "stream",
     "text": [
      "  6%|▌         | 35/592 [00:06<03:19,  2.80it/s]"
     ]
    },
    {
     "name": "stdout",
     "output_type": "stream",
     "text": [
      "\n",
      "0: 352x448 1 Speed limit 80 km/h, 61.5ms\n",
      "Speed: 2.0ms preprocess, 61.5ms inference, 1.0ms postprocess per image at shape (1, 3, 352, 448)\n"
     ]
    },
    {
     "name": "stderr",
     "output_type": "stream",
     "text": [
      "  6%|▌         | 36/592 [00:06<03:25,  2.71it/s]"
     ]
    },
    {
     "name": "stdout",
     "output_type": "stream",
     "text": [
      "\n",
      "0: 352x448 (no detections), 74.3ms\n",
      "Speed: 3.0ms preprocess, 74.3ms inference, 1.0ms postprocess per image at shape (1, 3, 352, 448)\n"
     ]
    },
    {
     "name": "stderr",
     "output_type": "stream",
     "text": [
      "  6%|▋         | 37/592 [00:07<03:34,  2.58it/s]"
     ]
    },
    {
     "name": "stdout",
     "output_type": "stream",
     "text": [
      "\n",
      "0: 352x448 (no detections), 135.3ms\n",
      "Speed: 1.7ms preprocess, 135.3ms inference, 2.0ms postprocess per image at shape (1, 3, 352, 448)\n"
     ]
    },
    {
     "name": "stderr",
     "output_type": "stream",
     "text": [
      "  6%|▋         | 38/592 [00:07<03:48,  2.42it/s]"
     ]
    },
    {
     "name": "stdout",
     "output_type": "stream",
     "text": [
      "\n",
      "0: 352x448 2 Speed limit 80 km/hs, 126.3ms\n",
      "Speed: 2.0ms preprocess, 126.3ms inference, 0.6ms postprocess per image at shape (1, 3, 352, 448)\n"
     ]
    },
    {
     "name": "stderr",
     "output_type": "stream",
     "text": [
      "  7%|▋         | 39/592 [00:08<03:58,  2.32it/s]"
     ]
    },
    {
     "name": "stdout",
     "output_type": "stream",
     "text": [
      "\n",
      "0: 352x448 (no detections), 51.4ms\n",
      "Speed: 1.9ms preprocess, 51.4ms inference, 1.0ms postprocess per image at shape (1, 3, 352, 448)\n"
     ]
    },
    {
     "name": "stderr",
     "output_type": "stream",
     "text": [
      "  7%|▋         | 40/592 [00:08<03:53,  2.36it/s]"
     ]
    },
    {
     "name": "stdout",
     "output_type": "stream",
     "text": [
      "\n",
      "0: 352x448 2 Speed limit 100 km/hs, 51.3ms\n",
      "Speed: 3.0ms preprocess, 51.3ms inference, 2.0ms postprocess per image at shape (1, 3, 352, 448)\n"
     ]
    },
    {
     "name": "stderr",
     "output_type": "stream",
     "text": [
      "  7%|▋         | 41/592 [00:09<03:51,  2.38it/s]"
     ]
    },
    {
     "name": "stdout",
     "output_type": "stream",
     "text": [
      "\n",
      "0: 352x448 1 Speed limit 40 km/h, 51.5ms\n",
      "Speed: 3.0ms preprocess, 51.5ms inference, 1.0ms postprocess per image at shape (1, 3, 352, 448)\n"
     ]
    },
    {
     "name": "stderr",
     "output_type": "stream",
     "text": [
      "  7%|▋         | 42/592 [00:09<03:48,  2.41it/s]"
     ]
    },
    {
     "name": "stdout",
     "output_type": "stream",
     "text": [
      "\n",
      "0: 352x448 (no detections), 51.8ms\n",
      "Speed: 2.0ms preprocess, 51.8ms inference, 1.0ms postprocess per image at shape (1, 3, 352, 448)\n"
     ]
    },
    {
     "name": "stderr",
     "output_type": "stream",
     "text": [
      "  7%|▋         | 43/592 [00:10<04:01,  2.28it/s]"
     ]
    },
    {
     "name": "stdout",
     "output_type": "stream",
     "text": [
      "\n",
      "0: 352x448 (no detections), 57.1ms\n",
      "Speed: 3.0ms preprocess, 57.1ms inference, 1.0ms postprocess per image at shape (1, 3, 352, 448)\n"
     ]
    },
    {
     "name": "stderr",
     "output_type": "stream",
     "text": [
      "  7%|▋         | 44/592 [00:10<04:12,  2.17it/s]"
     ]
    },
    {
     "name": "stdout",
     "output_type": "stream",
     "text": [
      "\n",
      "0: 352x448 (no detections), 147.5ms\n",
      "Speed: 4.0ms preprocess, 147.5ms inference, 0.0ms postprocess per image at shape (1, 3, 352, 448)\n"
     ]
    },
    {
     "name": "stderr",
     "output_type": "stream",
     "text": [
      "  8%|▊         | 45/592 [00:11<04:31,  2.01it/s]"
     ]
    },
    {
     "name": "stdout",
     "output_type": "stream",
     "text": [
      "\n",
      "0: 352x448 (no detections), 49.4ms\n",
      "Speed: 2.1ms preprocess, 49.4ms inference, 1.0ms postprocess per image at shape (1, 3, 352, 448)\n"
     ]
    },
    {
     "name": "stderr",
     "output_type": "stream",
     "text": [
      "  8%|▊         | 46/592 [00:11<04:32,  2.00it/s]"
     ]
    },
    {
     "name": "stdout",
     "output_type": "stream",
     "text": [
      "\n",
      "0: 352x448 (no detections), 50.9ms\n",
      "Speed: 2.0ms preprocess, 50.9ms inference, 1.0ms postprocess per image at shape (1, 3, 352, 448)\n"
     ]
    },
    {
     "name": "stderr",
     "output_type": "stream",
     "text": [
      "  8%|▊         | 47/592 [00:12<04:40,  1.94it/s]"
     ]
    },
    {
     "name": "stdout",
     "output_type": "stream",
     "text": [
      "\n",
      "0: 352x448 (no detections), 51.0ms\n",
      "Speed: 2.0ms preprocess, 51.0ms inference, 1.0ms postprocess per image at shape (1, 3, 352, 448)\n"
     ]
    },
    {
     "name": "stderr",
     "output_type": "stream",
     "text": [
      "  8%|▊         | 48/592 [00:12<04:38,  1.95it/s]"
     ]
    },
    {
     "name": "stdout",
     "output_type": "stream",
     "text": [
      "\n",
      "0: 352x448 (no detections), 53.6ms\n",
      "Speed: 1.6ms preprocess, 53.6ms inference, 1.0ms postprocess per image at shape (1, 3, 352, 448)\n"
     ]
    },
    {
     "name": "stderr",
     "output_type": "stream",
     "text": [
      "  8%|▊         | 49/592 [00:13<04:37,  1.95it/s]"
     ]
    },
    {
     "name": "stdout",
     "output_type": "stream",
     "text": [
      "\n",
      "0: 352x448 1 Speed limit 50 km/h, 128.4ms\n",
      "Speed: 3.1ms preprocess, 128.4ms inference, 1.0ms postprocess per image at shape (1, 3, 352, 448)\n"
     ]
    },
    {
     "name": "stderr",
     "output_type": "stream",
     "text": [
      "  8%|▊         | 50/592 [00:13<05:00,  1.81it/s]"
     ]
    },
    {
     "name": "stdout",
     "output_type": "stream",
     "text": [
      "\n",
      "0: 352x448 1 Speed limit 40 km/h, 52.5ms\n",
      "Speed: 4.0ms preprocess, 52.5ms inference, 1.0ms postprocess per image at shape (1, 3, 352, 448)\n"
     ]
    },
    {
     "name": "stderr",
     "output_type": "stream",
     "text": [
      "  9%|▊         | 51/592 [00:14<05:00,  1.80it/s]"
     ]
    },
    {
     "name": "stdout",
     "output_type": "stream",
     "text": [
      "\n",
      "0: 352x448 (no detections), 50.2ms\n",
      "Speed: 3.0ms preprocess, 50.2ms inference, 1.0ms postprocess per image at shape (1, 3, 352, 448)\n"
     ]
    },
    {
     "name": "stderr",
     "output_type": "stream",
     "text": [
      "  9%|▉         | 52/592 [00:15<05:00,  1.80it/s]"
     ]
    },
    {
     "name": "stdout",
     "output_type": "stream",
     "text": [
      "\n",
      "0: 352x448 (no detections), 21.0ms\n",
      "Speed: 2.0ms preprocess, 21.0ms inference, 1.0ms postprocess per image at shape (1, 3, 352, 448)\n"
     ]
    },
    {
     "name": "stderr",
     "output_type": "stream",
     "text": [
      "  9%|▉         | 53/592 [00:15<04:42,  1.91it/s]"
     ]
    },
    {
     "name": "stdout",
     "output_type": "stream",
     "text": [
      "\n",
      "0: 352x448 1 Speed limit 80 km/h, 33.5ms\n",
      "Speed: 3.0ms preprocess, 33.5ms inference, 1.0ms postprocess per image at shape (1, 3, 352, 448)\n"
     ]
    },
    {
     "name": "stderr",
     "output_type": "stream",
     "text": [
      "  9%|▉         | 54/592 [00:15<04:35,  1.95it/s]"
     ]
    },
    {
     "name": "stdout",
     "output_type": "stream",
     "text": [
      "\n",
      "0: 352x448 (no detections), 28.7ms\n",
      "Speed: 3.0ms preprocess, 28.7ms inference, 0.0ms postprocess per image at shape (1, 3, 352, 448)\n"
     ]
    },
    {
     "name": "stderr",
     "output_type": "stream",
     "text": [
      "  9%|▉         | 55/592 [00:16<04:35,  1.95it/s]"
     ]
    },
    {
     "name": "stdout",
     "output_type": "stream",
     "text": [
      "\n",
      "0: 352x448 2 Speed limit 80 km/hs, 18.9ms\n",
      "Speed: 3.0ms preprocess, 18.9ms inference, 1.0ms postprocess per image at shape (1, 3, 352, 448)\n"
     ]
    },
    {
     "name": "stderr",
     "output_type": "stream",
     "text": [
      "  9%|▉         | 56/592 [00:16<04:29,  1.99it/s]"
     ]
    },
    {
     "name": "stdout",
     "output_type": "stream",
     "text": [
      "\n",
      "0: 352x448 (no detections), 15.8ms\n",
      "Speed: 2.1ms preprocess, 15.8ms inference, 0.0ms postprocess per image at shape (1, 3, 352, 448)\n"
     ]
    },
    {
     "name": "stderr",
     "output_type": "stream",
     "text": [
      " 10%|▉         | 57/592 [00:17<04:27,  2.00it/s]"
     ]
    },
    {
     "name": "stdout",
     "output_type": "stream",
     "text": [
      "\n",
      "0: 352x448 1 Speed limit 60 km/h, 20.0ms\n",
      "Speed: 2.0ms preprocess, 20.0ms inference, 0.0ms postprocess per image at shape (1, 3, 352, 448)\n"
     ]
    },
    {
     "name": "stderr",
     "output_type": "stream",
     "text": [
      " 10%|▉         | 58/592 [00:17<04:21,  2.04it/s]"
     ]
    },
    {
     "name": "stdout",
     "output_type": "stream",
     "text": [
      "\n",
      "0: 352x448 (no detections), 28.2ms\n",
      "Speed: 2.0ms preprocess, 28.2ms inference, 1.0ms postprocess per image at shape (1, 3, 352, 448)\n"
     ]
    },
    {
     "name": "stderr",
     "output_type": "stream",
     "text": [
      " 10%|▉         | 59/592 [00:18<04:26,  2.00it/s]"
     ]
    },
    {
     "name": "stdout",
     "output_type": "stream",
     "text": [
      "\n",
      "0: 352x448 (no detections), 29.5ms\n",
      "Speed: 3.5ms preprocess, 29.5ms inference, 1.0ms postprocess per image at shape (1, 3, 352, 448)\n"
     ]
    },
    {
     "name": "stderr",
     "output_type": "stream",
     "text": [
      " 10%|█         | 60/592 [00:18<04:18,  2.06it/s]"
     ]
    },
    {
     "name": "stdout",
     "output_type": "stream",
     "text": [
      "\n",
      "0: 352x448 1 Speed limit 60 km/h, 50.3ms\n",
      "Speed: 3.0ms preprocess, 50.3ms inference, 1.0ms postprocess per image at shape (1, 3, 352, 448)\n"
     ]
    },
    {
     "name": "stderr",
     "output_type": "stream",
     "text": [
      " 10%|█         | 61/592 [00:19<04:26,  1.99it/s]"
     ]
    },
    {
     "name": "stdout",
     "output_type": "stream",
     "text": [
      "\n",
      "0: 352x448 (no detections), 52.5ms\n",
      "Speed: 3.0ms preprocess, 52.5ms inference, 1.0ms postprocess per image at shape (1, 3, 352, 448)\n"
     ]
    },
    {
     "name": "stderr",
     "output_type": "stream",
     "text": [
      " 10%|█         | 62/592 [00:19<04:31,  1.96it/s]"
     ]
    },
    {
     "name": "stdout",
     "output_type": "stream",
     "text": [
      "\n",
      "0: 352x448 (no detections), 58.7ms\n",
      "Speed: 2.0ms preprocess, 58.7ms inference, 1.0ms postprocess per image at shape (1, 3, 352, 448)\n"
     ]
    },
    {
     "name": "stderr",
     "output_type": "stream",
     "text": [
      " 11%|█         | 63/592 [00:20<04:26,  1.98it/s]"
     ]
    },
    {
     "name": "stdout",
     "output_type": "stream",
     "text": [
      "\n",
      "0: 352x448 1 Speed limit 50 km/h, 53.5ms\n",
      "Speed: 2.0ms preprocess, 53.5ms inference, 1.0ms postprocess per image at shape (1, 3, 352, 448)\n"
     ]
    },
    {
     "name": "stderr",
     "output_type": "stream",
     "text": [
      " 11%|█         | 64/592 [00:20<04:26,  1.98it/s]"
     ]
    },
    {
     "name": "stdout",
     "output_type": "stream",
     "text": [
      "\n",
      "0: 352x448 (no detections), 54.5ms\n",
      "Speed: 2.0ms preprocess, 54.5ms inference, 1.0ms postprocess per image at shape (1, 3, 352, 448)\n"
     ]
    },
    {
     "name": "stderr",
     "output_type": "stream",
     "text": [
      " 11%|█         | 65/592 [00:21<04:28,  1.96it/s]"
     ]
    },
    {
     "name": "stdout",
     "output_type": "stream",
     "text": [
      "\n",
      "0: 352x448 1 Speed limit 60 km/h, 1 Roadworks, 54.3ms\n",
      "Speed: 2.0ms preprocess, 54.3ms inference, 1.0ms postprocess per image at shape (1, 3, 352, 448)\n"
     ]
    },
    {
     "name": "stderr",
     "output_type": "stream",
     "text": [
      " 11%|█         | 66/592 [00:22<04:40,  1.88it/s]"
     ]
    },
    {
     "name": "stdout",
     "output_type": "stream",
     "text": [
      "\n",
      "0: 352x448 1 Speed limit 20 km/h, 166.1ms\n",
      "Speed: 2.0ms preprocess, 166.1ms inference, 2.0ms postprocess per image at shape (1, 3, 352, 448)\n"
     ]
    },
    {
     "name": "stderr",
     "output_type": "stream",
     "text": [
      " 11%|█▏        | 67/592 [00:22<04:55,  1.77it/s]"
     ]
    },
    {
     "name": "stdout",
     "output_type": "stream",
     "text": [
      "\n",
      "0: 448x448 2 Pedestrian crossings, 18.2ms\n",
      "Speed: 2.0ms preprocess, 18.2ms inference, 1.0ms postprocess per image at shape (1, 3, 448, 448)\n",
      "\n",
      "0: 448x448 1 One-way traffic, 2 Pedestrian crossings, 16.0ms\n",
      "Speed: 2.0ms preprocess, 16.0ms inference, 1.2ms postprocess per image at shape (1, 3, 448, 448)\n",
      "\n",
      "0: 448x448 1 Pedestrian crossing, 17.0ms\n",
      "Speed: 3.0ms preprocess, 17.0ms inference, 1.0ms postprocess per image at shape (1, 3, 448, 448)\n"
     ]
    },
    {
     "name": "stderr",
     "output_type": "stream",
     "text": [
      " 12%|█▏        | 70/592 [00:22<02:21,  3.68it/s]"
     ]
    },
    {
     "name": "stdout",
     "output_type": "stream",
     "text": [
      "\n",
      "0: 448x448 1 Yield, 1 Pedestrian crossing, 17.0ms\n",
      "Speed: 2.0ms preprocess, 17.0ms inference, 1.0ms postprocess per image at shape (1, 3, 448, 448)\n",
      "\n",
      "0: 448x448 1 Pedestrian crossing, 19.2ms\n",
      "Speed: 2.0ms preprocess, 19.2ms inference, 0.0ms postprocess per image at shape (1, 3, 448, 448)\n",
      "\n",
      "0: 448x448 1 Speed limit 60 km/h, 18.0ms\n",
      "Speed: 2.0ms preprocess, 18.0ms inference, 1.0ms postprocess per image at shape (1, 3, 448, 448)\n"
     ]
    },
    {
     "name": "stderr",
     "output_type": "stream",
     "text": [
      " 12%|█▏        | 73/592 [00:22<01:27,  5.90it/s]"
     ]
    },
    {
     "name": "stdout",
     "output_type": "stream",
     "text": [
      "\n",
      "0: 448x448 1 Speed limit 60 km/h, 21.0ms\n",
      "Speed: 2.0ms preprocess, 21.0ms inference, 3.0ms postprocess per image at shape (1, 3, 448, 448)\n",
      "\n",
      "0: 448x448 1 Speed limit 60 km/h, 19.5ms\n",
      "Speed: 4.0ms preprocess, 19.5ms inference, 2.0ms postprocess per image at shape (1, 3, 448, 448)\n"
     ]
    },
    {
     "name": "stderr",
     "output_type": "stream",
     "text": [
      " 13%|█▎        | 75/592 [00:23<01:10,  7.29it/s]"
     ]
    },
    {
     "name": "stdout",
     "output_type": "stream",
     "text": [
      "\n",
      "0: 448x448 1 Pedestrian crossing, 22.6ms\n",
      "Speed: 1.0ms preprocess, 22.6ms inference, 1.0ms postprocess per image at shape (1, 3, 448, 448)\n",
      "\n",
      "0: 256x448 (no detections), 22.5ms\n",
      "Speed: 1.0ms preprocess, 22.5ms inference, 0.0ms postprocess per image at shape (1, 3, 256, 448)\n",
      "\n",
      "0: 352x448 1 Speed limit 50 km/h, 22.0ms\n",
      "Speed: 3.0ms preprocess, 22.0ms inference, 1.0ms postprocess per image at shape (1, 3, 352, 448)\n"
     ]
    },
    {
     "name": "stderr",
     "output_type": "stream",
     "text": [
      " 13%|█▎        | 78/592 [00:23<00:56,  9.09it/s]"
     ]
    },
    {
     "name": "stdout",
     "output_type": "stream",
     "text": [
      "\n",
      "0: 224x448 (no detections), 35.4ms\n",
      "Speed: 2.1ms preprocess, 35.4ms inference, 1.0ms postprocess per image at shape (1, 3, 224, 448)\n",
      "\n",
      "0: 224x448 2 Red traffic lights, 19.0ms\n",
      "Speed: 1.0ms preprocess, 19.0ms inference, 0.0ms postprocess per image at shape (1, 3, 224, 448)\n"
     ]
    },
    {
     "name": "stderr",
     "output_type": "stream",
     "text": [
      " 14%|█▎        | 80/592 [00:23<00:55,  9.20it/s]"
     ]
    },
    {
     "name": "stdout",
     "output_type": "stream",
     "text": [
      "\n",
      "0: 224x448 1 Green traffic light, 20.5ms\n",
      "Speed: 1.0ms preprocess, 20.5ms inference, 0.0ms postprocess per image at shape (1, 3, 224, 448)\n",
      "\n",
      "0: 224x448 2 Green traffic lights, 24.5ms\n",
      "Speed: 3.0ms preprocess, 24.5ms inference, 0.0ms postprocess per image at shape (1, 3, 224, 448)\n"
     ]
    },
    {
     "name": "stderr",
     "output_type": "stream",
     "text": [
      " 14%|█▍        | 82/592 [00:23<00:55,  9.17it/s]"
     ]
    },
    {
     "name": "stdout",
     "output_type": "stream",
     "text": [
      "\n",
      "0: 224x448 (no detections), 17.7ms\n",
      "Speed: 1.1ms preprocess, 17.7ms inference, 0.5ms postprocess per image at shape (1, 3, 224, 448)\n",
      "\n",
      "0: 224x448 1 Green traffic light, 25.0ms\n",
      "Speed: 1.0ms preprocess, 25.0ms inference, 1.0ms postprocess per image at shape (1, 3, 224, 448)\n"
     ]
    },
    {
     "name": "stderr",
     "output_type": "stream",
     "text": [
      " 14%|█▍        | 84/592 [00:23<00:54,  9.38it/s]"
     ]
    },
    {
     "name": "stdout",
     "output_type": "stream",
     "text": [
      "\n",
      "0: 224x448 1 Green traffic light, 18.5ms\n",
      "Speed: 1.0ms preprocess, 18.5ms inference, 1.0ms postprocess per image at shape (1, 3, 224, 448)\n",
      "\n",
      "0: 224x448 3 Green traffic lights, 19.5ms\n",
      "Speed: 2.0ms preprocess, 19.5ms inference, 0.0ms postprocess per image at shape (1, 3, 224, 448)\n"
     ]
    },
    {
     "name": "stderr",
     "output_type": "stream",
     "text": [
      " 15%|█▍        | 86/592 [00:24<00:53,  9.50it/s]"
     ]
    },
    {
     "name": "stdout",
     "output_type": "stream",
     "text": [
      "\n",
      "0: 224x448 (no detections), 28.6ms\n",
      "Speed: 1.0ms preprocess, 28.6ms inference, 0.0ms postprocess per image at shape (1, 3, 224, 448)\n",
      "\n",
      "0: 224x448 1 Green traffic light, 21.0ms\n",
      "Speed: 2.2ms preprocess, 21.0ms inference, 1.0ms postprocess per image at shape (1, 3, 224, 448)\n"
     ]
    },
    {
     "name": "stderr",
     "output_type": "stream",
     "text": [
      " 15%|█▍        | 88/592 [00:24<00:56,  8.99it/s]"
     ]
    },
    {
     "name": "stdout",
     "output_type": "stream",
     "text": [
      "\n",
      "0: 224x448 (no detections), 29.1ms\n",
      "Speed: 2.0ms preprocess, 29.1ms inference, 1.0ms postprocess per image at shape (1, 3, 224, 448)\n",
      "\n",
      "0: 224x448 (no detections), 18.0ms\n",
      "Speed: 1.0ms preprocess, 18.0ms inference, 1.2ms postprocess per image at shape (1, 3, 224, 448)\n"
     ]
    },
    {
     "name": "stderr",
     "output_type": "stream",
     "text": [
      " 15%|█▌        | 90/592 [00:24<00:54,  9.28it/s]"
     ]
    },
    {
     "name": "stdout",
     "output_type": "stream",
     "text": [
      "\n",
      "0: 224x448 2 Green traffic lights, 15.0ms\n",
      "Speed: 2.0ms preprocess, 15.0ms inference, 1.0ms postprocess per image at shape (1, 3, 224, 448)\n",
      "\n",
      "0: 224x448 (no detections), 18.5ms\n",
      "Speed: 0.9ms preprocess, 18.5ms inference, 1.0ms postprocess per image at shape (1, 3, 224, 448)\n"
     ]
    },
    {
     "name": "stderr",
     "output_type": "stream",
     "text": [
      " 16%|█▌        | 92/592 [00:24<00:52,  9.54it/s]"
     ]
    },
    {
     "name": "stdout",
     "output_type": "stream",
     "text": [
      "\n",
      "0: 224x448 (no detections), 17.0ms\n",
      "Speed: 0.6ms preprocess, 17.0ms inference, 0.0ms postprocess per image at shape (1, 3, 224, 448)\n",
      "\n",
      "0: 224x448 1 Green traffic light, 22.0ms\n",
      "Speed: 2.0ms preprocess, 22.0ms inference, 1.0ms postprocess per image at shape (1, 3, 224, 448)\n"
     ]
    },
    {
     "name": "stderr",
     "output_type": "stream",
     "text": [
      " 16%|█▌        | 94/592 [00:24<00:53,  9.36it/s]"
     ]
    },
    {
     "name": "stdout",
     "output_type": "stream",
     "text": [
      "\n",
      "0: 224x448 1 Green traffic light, 48.5ms\n",
      "Speed: 3.0ms preprocess, 48.5ms inference, 2.0ms postprocess per image at shape (1, 3, 224, 448)\n"
     ]
    },
    {
     "name": "stderr",
     "output_type": "stream",
     "text": [
      " 16%|█▌        | 95/592 [00:25<00:56,  8.83it/s]"
     ]
    },
    {
     "name": "stdout",
     "output_type": "stream",
     "text": [
      "\n",
      "0: 224x448 (no detections), 19.0ms\n",
      "Speed: 2.0ms preprocess, 19.0ms inference, 1.0ms postprocess per image at shape (1, 3, 224, 448)\n"
     ]
    },
    {
     "name": "stderr",
     "output_type": "stream",
     "text": [
      " 16%|█▌        | 96/592 [00:25<00:55,  8.97it/s]"
     ]
    },
    {
     "name": "stdout",
     "output_type": "stream",
     "text": [
      "\n",
      "0: 224x448 (no detections), 44.5ms\n",
      "Speed: 3.5ms preprocess, 44.5ms inference, 1.0ms postprocess per image at shape (1, 3, 224, 448)\n"
     ]
    },
    {
     "name": "stderr",
     "output_type": "stream",
     "text": [
      " 16%|█▋        | 97/592 [00:25<01:00,  8.24it/s]"
     ]
    },
    {
     "name": "stdout",
     "output_type": "stream",
     "text": [
      "\n",
      "0: 224x448 1 Red traffic light, 19.0ms\n",
      "Speed: 1.0ms preprocess, 19.0ms inference, 1.0ms postprocess per image at shape (1, 3, 224, 448)\n"
     ]
    },
    {
     "name": "stderr",
     "output_type": "stream",
     "text": [
      " 17%|█▋        | 98/592 [00:25<00:58,  8.46it/s]"
     ]
    },
    {
     "name": "stdout",
     "output_type": "stream",
     "text": [
      "\n",
      "0: 224x448 (no detections), 17.5ms\n",
      "Speed: 2.0ms preprocess, 17.5ms inference, 0.0ms postprocess per image at shape (1, 3, 224, 448)\n"
     ]
    },
    {
     "name": "stderr",
     "output_type": "stream",
     "text": [
      " 17%|█▋        | 99/592 [00:25<01:00,  8.14it/s]"
     ]
    },
    {
     "name": "stdout",
     "output_type": "stream",
     "text": [
      "\n",
      "0: 224x448 1 Red traffic light, 18.0ms\n",
      "Speed: 2.0ms preprocess, 18.0ms inference, 1.0ms postprocess per image at shape (1, 3, 224, 448)\n"
     ]
    },
    {
     "name": "stderr",
     "output_type": "stream",
     "text": [
      " 17%|█▋        | 100/592 [00:25<00:57,  8.51it/s]"
     ]
    },
    {
     "name": "stdout",
     "output_type": "stream",
     "text": [
      "\n",
      "0: 224x448 1 Red traffic light, 20.0ms\n",
      "Speed: 2.0ms preprocess, 20.0ms inference, 1.0ms postprocess per image at shape (1, 3, 224, 448)\n"
     ]
    },
    {
     "name": "stderr",
     "output_type": "stream",
     "text": [
      " 17%|█▋        | 101/592 [00:25<00:55,  8.77it/s]"
     ]
    },
    {
     "name": "stdout",
     "output_type": "stream",
     "text": [
      "\n",
      "0: 224x448 1 Green traffic light, 1 Red traffic light, 20.6ms\n",
      "Speed: 1.0ms preprocess, 20.6ms inference, 1.0ms postprocess per image at shape (1, 3, 224, 448)\n"
     ]
    },
    {
     "name": "stderr",
     "output_type": "stream",
     "text": [
      " 17%|█▋        | 102/592 [00:25<00:56,  8.70it/s]"
     ]
    },
    {
     "name": "stdout",
     "output_type": "stream",
     "text": [
      "\n",
      "0: 224x448 1 Red traffic light, 24.5ms\n",
      "Speed: 2.5ms preprocess, 24.5ms inference, 0.5ms postprocess per image at shape (1, 3, 224, 448)\n"
     ]
    },
    {
     "name": "stderr",
     "output_type": "stream",
     "text": [
      " 17%|█▋        | 103/592 [00:26<00:56,  8.67it/s]"
     ]
    },
    {
     "name": "stdout",
     "output_type": "stream",
     "text": [
      "\n",
      "0: 224x448 (no detections), 19.0ms\n",
      "Speed: 2.0ms preprocess, 19.0ms inference, 1.0ms postprocess per image at shape (1, 3, 224, 448)\n"
     ]
    },
    {
     "name": "stderr",
     "output_type": "stream",
     "text": [
      " 18%|█▊        | 104/592 [00:26<00:57,  8.54it/s]"
     ]
    },
    {
     "name": "stdout",
     "output_type": "stream",
     "text": [
      "\n",
      "0: 224x448 1 Red traffic light, 28.8ms\n",
      "Speed: 1.9ms preprocess, 28.8ms inference, 1.0ms postprocess per image at shape (1, 3, 224, 448)\n"
     ]
    },
    {
     "name": "stderr",
     "output_type": "stream",
     "text": [
      " 18%|█▊        | 105/592 [00:26<00:55,  8.72it/s]"
     ]
    },
    {
     "name": "stdout",
     "output_type": "stream",
     "text": [
      "\n",
      "0: 224x448 2 Green traffic lights, 20.5ms\n",
      "Speed: 2.0ms preprocess, 20.5ms inference, 1.0ms postprocess per image at shape (1, 3, 224, 448)\n"
     ]
    },
    {
     "name": "stderr",
     "output_type": "stream",
     "text": [
      " 18%|█▊        | 106/592 [00:26<00:55,  8.83it/s]"
     ]
    },
    {
     "name": "stdout",
     "output_type": "stream",
     "text": [
      "\n",
      "0: 224x448 3 Green traffic lights, 38.3ms\n",
      "Speed: 2.0ms preprocess, 38.3ms inference, 1.0ms postprocess per image at shape (1, 3, 224, 448)\n"
     ]
    },
    {
     "name": "stderr",
     "output_type": "stream",
     "text": [
      " 18%|█▊        | 107/592 [00:26<00:56,  8.63it/s]"
     ]
    },
    {
     "name": "stdout",
     "output_type": "stream",
     "text": [
      "\n",
      "0: 224x448 1 Green traffic light, 35.4ms\n",
      "Speed: 3.0ms preprocess, 35.4ms inference, 1.0ms postprocess per image at shape (1, 3, 224, 448)\n"
     ]
    },
    {
     "name": "stderr",
     "output_type": "stream",
     "text": [
      " 18%|█▊        | 108/592 [00:26<00:59,  8.10it/s]"
     ]
    },
    {
     "name": "stdout",
     "output_type": "stream",
     "text": [
      "\n",
      "0: 224x448 (no detections), 33.5ms\n",
      "Speed: 1.0ms preprocess, 33.5ms inference, 1.0ms postprocess per image at shape (1, 3, 224, 448)\n"
     ]
    },
    {
     "name": "stderr",
     "output_type": "stream",
     "text": [
      " 18%|█▊        | 109/592 [00:26<01:00,  7.99it/s]"
     ]
    },
    {
     "name": "stdout",
     "output_type": "stream",
     "text": [
      "\n",
      "0: 224x448 1 Red traffic light, 42.8ms\n",
      "Speed: 2.0ms preprocess, 42.8ms inference, 1.0ms postprocess per image at shape (1, 3, 224, 448)\n"
     ]
    },
    {
     "name": "stderr",
     "output_type": "stream",
     "text": [
      " 19%|█▊        | 110/592 [00:26<01:03,  7.63it/s]"
     ]
    },
    {
     "name": "stdout",
     "output_type": "stream",
     "text": [
      "\n",
      "0: 224x448 (no detections), 34.0ms\n",
      "Speed: 2.0ms preprocess, 34.0ms inference, 1.0ms postprocess per image at shape (1, 3, 224, 448)\n"
     ]
    },
    {
     "name": "stderr",
     "output_type": "stream",
     "text": [
      " 19%|█▉        | 111/592 [00:27<01:02,  7.73it/s]"
     ]
    },
    {
     "name": "stdout",
     "output_type": "stream",
     "text": [
      "\n",
      "0: 224x448 2 Green traffic lights, 36.8ms\n",
      "Speed: 5.0ms preprocess, 36.8ms inference, 1.0ms postprocess per image at shape (1, 3, 224, 448)\n"
     ]
    },
    {
     "name": "stderr",
     "output_type": "stream",
     "text": [
      " 19%|█▉        | 112/592 [00:27<01:02,  7.62it/s]"
     ]
    },
    {
     "name": "stdout",
     "output_type": "stream",
     "text": [
      "\n",
      "0: 224x448 (no detections), 35.0ms\n",
      "Speed: 1.0ms preprocess, 35.0ms inference, 1.0ms postprocess per image at shape (1, 3, 224, 448)\n"
     ]
    },
    {
     "name": "stderr",
     "output_type": "stream",
     "text": [
      " 19%|█▉        | 113/592 [00:27<01:04,  7.47it/s]"
     ]
    },
    {
     "name": "stdout",
     "output_type": "stream",
     "text": [
      "\n",
      "0: 224x448 (no detections), 34.1ms\n",
      "Speed: 3.0ms preprocess, 34.1ms inference, 1.0ms postprocess per image at shape (1, 3, 224, 448)\n"
     ]
    },
    {
     "name": "stderr",
     "output_type": "stream",
     "text": [
      " 19%|█▉        | 114/592 [00:27<01:03,  7.56it/s]"
     ]
    },
    {
     "name": "stdout",
     "output_type": "stream",
     "text": [
      "\n",
      "0: 224x448 (no detections), 35.7ms\n",
      "Speed: 1.0ms preprocess, 35.7ms inference, 2.0ms postprocess per image at shape (1, 3, 224, 448)\n"
     ]
    },
    {
     "name": "stderr",
     "output_type": "stream",
     "text": [
      " 19%|█▉        | 115/592 [00:27<01:07,  7.10it/s]"
     ]
    },
    {
     "name": "stdout",
     "output_type": "stream",
     "text": [
      "\n",
      "0: 224x448 2 Green traffic lights, 38.5ms\n",
      "Speed: 2.0ms preprocess, 38.5ms inference, 1.0ms postprocess per image at shape (1, 3, 224, 448)\n"
     ]
    },
    {
     "name": "stderr",
     "output_type": "stream",
     "text": [
      " 20%|█▉        | 116/592 [00:27<01:08,  6.99it/s]"
     ]
    },
    {
     "name": "stdout",
     "output_type": "stream",
     "text": [
      "\n",
      "0: 224x448 1 Green traffic light, 30.5ms\n",
      "Speed: 2.0ms preprocess, 30.5ms inference, 1.0ms postprocess per image at shape (1, 3, 224, 448)\n"
     ]
    },
    {
     "name": "stderr",
     "output_type": "stream",
     "text": [
      " 20%|█▉        | 117/592 [00:27<01:03,  7.46it/s]"
     ]
    },
    {
     "name": "stdout",
     "output_type": "stream",
     "text": [
      "\n",
      "0: 224x448 (no detections), 30.9ms\n",
      "Speed: 2.0ms preprocess, 30.9ms inference, 2.0ms postprocess per image at shape (1, 3, 224, 448)\n"
     ]
    },
    {
     "name": "stderr",
     "output_type": "stream",
     "text": [
      " 20%|█▉        | 118/592 [00:28<01:03,  7.41it/s]"
     ]
    },
    {
     "name": "stdout",
     "output_type": "stream",
     "text": [
      "\n",
      "0: 224x448 (no detections), 37.5ms\n",
      "Speed: 2.0ms preprocess, 37.5ms inference, 1.0ms postprocess per image at shape (1, 3, 224, 448)\n"
     ]
    },
    {
     "name": "stderr",
     "output_type": "stream",
     "text": [
      " 20%|██        | 119/592 [00:28<01:01,  7.74it/s]"
     ]
    },
    {
     "name": "stdout",
     "output_type": "stream",
     "text": [
      "\n",
      "0: 224x448 (no detections), 35.1ms\n",
      "Speed: 3.0ms preprocess, 35.1ms inference, 1.1ms postprocess per image at shape (1, 3, 224, 448)\n"
     ]
    },
    {
     "name": "stderr",
     "output_type": "stream",
     "text": [
      " 20%|██        | 120/592 [00:28<00:59,  7.98it/s]"
     ]
    },
    {
     "name": "stdout",
     "output_type": "stream",
     "text": [
      "\n",
      "0: 224x448 2 Green traffic lights, 32.6ms\n",
      "Speed: 2.0ms preprocess, 32.6ms inference, 0.0ms postprocess per image at shape (1, 3, 224, 448)\n"
     ]
    },
    {
     "name": "stderr",
     "output_type": "stream",
     "text": [
      " 20%|██        | 121/592 [00:28<00:57,  8.15it/s]"
     ]
    },
    {
     "name": "stdout",
     "output_type": "stream",
     "text": [
      "\n",
      "0: 224x448 2 Green traffic lights, 33.5ms\n",
      "Speed: 2.0ms preprocess, 33.5ms inference, 1.0ms postprocess per image at shape (1, 3, 224, 448)\n"
     ]
    },
    {
     "name": "stderr",
     "output_type": "stream",
     "text": [
      " 21%|██        | 122/592 [00:28<00:59,  7.88it/s]"
     ]
    },
    {
     "name": "stdout",
     "output_type": "stream",
     "text": [
      "\n",
      "0: 224x448 (no detections), 28.5ms\n",
      "Speed: 2.0ms preprocess, 28.5ms inference, 1.0ms postprocess per image at shape (1, 3, 224, 448)\n"
     ]
    },
    {
     "name": "stderr",
     "output_type": "stream",
     "text": [
      " 21%|██        | 123/592 [00:28<00:57,  8.10it/s]"
     ]
    },
    {
     "name": "stdout",
     "output_type": "stream",
     "text": [
      "\n",
      "0: 224x448 (no detections), 31.0ms\n",
      "Speed: 1.0ms preprocess, 31.0ms inference, 0.0ms postprocess per image at shape (1, 3, 224, 448)\n"
     ]
    },
    {
     "name": "stderr",
     "output_type": "stream",
     "text": [
      " 21%|██        | 124/592 [00:28<00:54,  8.53it/s]"
     ]
    },
    {
     "name": "stdout",
     "output_type": "stream",
     "text": [
      "\n",
      "0: 224x448 (no detections), 30.3ms\n",
      "Speed: 1.0ms preprocess, 30.3ms inference, 1.0ms postprocess per image at shape (1, 3, 224, 448)\n"
     ]
    },
    {
     "name": "stderr",
     "output_type": "stream",
     "text": [
      " 21%|██        | 125/592 [00:28<00:54,  8.54it/s]"
     ]
    },
    {
     "name": "stdout",
     "output_type": "stream",
     "text": [
      "\n",
      "0: 224x448 1 Green traffic light, 32.0ms\n",
      "Speed: 1.9ms preprocess, 32.0ms inference, 1.0ms postprocess per image at shape (1, 3, 224, 448)\n"
     ]
    },
    {
     "name": "stderr",
     "output_type": "stream",
     "text": [
      " 21%|██▏       | 126/592 [00:28<00:56,  8.30it/s]"
     ]
    },
    {
     "name": "stdout",
     "output_type": "stream",
     "text": [
      "\n",
      "0: 224x448 1 Green traffic light, 33.4ms\n",
      "Speed: 1.0ms preprocess, 33.4ms inference, 0.0ms postprocess per image at shape (1, 3, 224, 448)\n"
     ]
    },
    {
     "name": "stderr",
     "output_type": "stream",
     "text": [
      " 21%|██▏       | 127/592 [00:29<00:54,  8.47it/s]"
     ]
    },
    {
     "name": "stdout",
     "output_type": "stream",
     "text": [
      "\n",
      "0: 224x448 1 Green traffic light, 28.5ms\n",
      "Speed: 2.0ms preprocess, 28.5ms inference, 1.0ms postprocess per image at shape (1, 3, 224, 448)\n"
     ]
    },
    {
     "name": "stderr",
     "output_type": "stream",
     "text": [
      " 22%|██▏       | 128/592 [00:29<00:53,  8.69it/s]"
     ]
    },
    {
     "name": "stdout",
     "output_type": "stream",
     "text": [
      "\n",
      "0: 224x448 1 Green traffic light, 34.5ms\n",
      "Speed: 1.0ms preprocess, 34.5ms inference, 1.0ms postprocess per image at shape (1, 3, 224, 448)\n"
     ]
    },
    {
     "name": "stderr",
     "output_type": "stream",
     "text": [
      " 22%|██▏       | 129/592 [00:29<00:53,  8.71it/s]"
     ]
    },
    {
     "name": "stdout",
     "output_type": "stream",
     "text": [
      "\n",
      "0: 224x448 1 Green traffic light, 35.5ms\n",
      "Speed: 1.9ms preprocess, 35.5ms inference, 1.0ms postprocess per image at shape (1, 3, 224, 448)\n"
     ]
    },
    {
     "name": "stderr",
     "output_type": "stream",
     "text": [
      " 22%|██▏       | 130/592 [00:29<00:55,  8.39it/s]"
     ]
    },
    {
     "name": "stdout",
     "output_type": "stream",
     "text": [
      "\n",
      "0: 224x448 (no detections), 35.0ms\n",
      "Speed: 2.0ms preprocess, 35.0ms inference, 1.0ms postprocess per image at shape (1, 3, 224, 448)\n"
     ]
    },
    {
     "name": "stderr",
     "output_type": "stream",
     "text": [
      " 22%|██▏       | 131/592 [00:29<00:56,  8.18it/s]"
     ]
    },
    {
     "name": "stdout",
     "output_type": "stream",
     "text": [
      "\n",
      "0: 224x448 2 Green traffic lights, 36.5ms\n",
      "Speed: 2.9ms preprocess, 36.5ms inference, 1.0ms postprocess per image at shape (1, 3, 224, 448)\n"
     ]
    },
    {
     "name": "stderr",
     "output_type": "stream",
     "text": [
      " 22%|██▏       | 132/592 [00:29<00:56,  8.16it/s]"
     ]
    },
    {
     "name": "stdout",
     "output_type": "stream",
     "text": [
      "\n",
      "0: 224x448 1 Green traffic light, 30.5ms\n",
      "Speed: 2.0ms preprocess, 30.5ms inference, 2.0ms postprocess per image at shape (1, 3, 224, 448)\n"
     ]
    },
    {
     "name": "stderr",
     "output_type": "stream",
     "text": [
      " 22%|██▏       | 133/592 [00:29<00:55,  8.20it/s]"
     ]
    },
    {
     "name": "stdout",
     "output_type": "stream",
     "text": [
      "\n",
      "0: 224x448 1 Green traffic light, 31.9ms\n",
      "Speed: 2.0ms preprocess, 31.9ms inference, 1.0ms postprocess per image at shape (1, 3, 224, 448)\n"
     ]
    },
    {
     "name": "stderr",
     "output_type": "stream",
     "text": [
      " 23%|██▎       | 134/592 [00:29<00:55,  8.31it/s]"
     ]
    },
    {
     "name": "stdout",
     "output_type": "stream",
     "text": [
      "\n",
      "0: 224x448 1 Green traffic light, 33.7ms\n",
      "Speed: 2.0ms preprocess, 33.7ms inference, 3.0ms postprocess per image at shape (1, 3, 224, 448)\n"
     ]
    },
    {
     "name": "stderr",
     "output_type": "stream",
     "text": [
      " 23%|██▎       | 135/592 [00:30<00:57,  7.97it/s]"
     ]
    },
    {
     "name": "stdout",
     "output_type": "stream",
     "text": [
      "\n",
      "0: 224x448 (no detections), 34.5ms\n",
      "Speed: 2.0ms preprocess, 34.5ms inference, 0.0ms postprocess per image at shape (1, 3, 224, 448)\n"
     ]
    },
    {
     "name": "stderr",
     "output_type": "stream",
     "text": [
      " 23%|██▎       | 136/592 [00:30<00:57,  7.95it/s]"
     ]
    },
    {
     "name": "stdout",
     "output_type": "stream",
     "text": [
      "\n",
      "0: 224x448 (no detections), 34.5ms\n",
      "Speed: 1.0ms preprocess, 34.5ms inference, 0.0ms postprocess per image at shape (1, 3, 224, 448)\n"
     ]
    },
    {
     "name": "stderr",
     "output_type": "stream",
     "text": [
      " 23%|██▎       | 137/592 [00:30<00:56,  8.07it/s]"
     ]
    },
    {
     "name": "stdout",
     "output_type": "stream",
     "text": [
      "\n",
      "0: 224x448 1 Green traffic light, 36.5ms\n",
      "Speed: 2.0ms preprocess, 36.5ms inference, 1.0ms postprocess per image at shape (1, 3, 224, 448)\n"
     ]
    },
    {
     "name": "stderr",
     "output_type": "stream",
     "text": [
      " 23%|██▎       | 138/592 [00:30<00:55,  8.13it/s]"
     ]
    },
    {
     "name": "stdout",
     "output_type": "stream",
     "text": [
      "\n",
      "0: 224x448 1 Green traffic light, 36.8ms\n",
      "Speed: 4.5ms preprocess, 36.8ms inference, 0.6ms postprocess per image at shape (1, 3, 224, 448)\n"
     ]
    },
    {
     "name": "stderr",
     "output_type": "stream",
     "text": [
      " 23%|██▎       | 139/592 [00:30<00:56,  8.07it/s]"
     ]
    },
    {
     "name": "stdout",
     "output_type": "stream",
     "text": [
      "\n",
      "0: 224x448 (no detections), 35.5ms\n",
      "Speed: 3.0ms preprocess, 35.5ms inference, 1.0ms postprocess per image at shape (1, 3, 224, 448)\n"
     ]
    },
    {
     "name": "stderr",
     "output_type": "stream",
     "text": [
      " 24%|██▎       | 140/592 [00:30<00:55,  8.15it/s]"
     ]
    },
    {
     "name": "stdout",
     "output_type": "stream",
     "text": [
      "\n",
      "0: 224x448 (no detections), 40.8ms\n",
      "Speed: 3.0ms preprocess, 40.8ms inference, 1.0ms postprocess per image at shape (1, 3, 224, 448)\n"
     ]
    },
    {
     "name": "stderr",
     "output_type": "stream",
     "text": [
      " 24%|██▍       | 141/592 [00:30<00:53,  8.37it/s]"
     ]
    },
    {
     "name": "stdout",
     "output_type": "stream",
     "text": [
      "\n",
      "0: 224x448 1 Green traffic light, 34.9ms\n",
      "Speed: 1.0ms preprocess, 34.9ms inference, 1.0ms postprocess per image at shape (1, 3, 224, 448)\n"
     ]
    },
    {
     "name": "stderr",
     "output_type": "stream",
     "text": [
      " 24%|██▍       | 142/592 [00:30<00:53,  8.40it/s]"
     ]
    },
    {
     "name": "stdout",
     "output_type": "stream",
     "text": [
      "\n",
      "0: 224x448 1 Green traffic light, 28.9ms\n",
      "Speed: 2.1ms preprocess, 28.9ms inference, 1.0ms postprocess per image at shape (1, 3, 224, 448)\n"
     ]
    },
    {
     "name": "stderr",
     "output_type": "stream",
     "text": [
      " 24%|██▍       | 143/592 [00:31<00:52,  8.55it/s]"
     ]
    },
    {
     "name": "stdout",
     "output_type": "stream",
     "text": [
      "\n",
      "0: 224x448 1 Green traffic light, 29.0ms\n",
      "Speed: 1.9ms preprocess, 29.0ms inference, 1.0ms postprocess per image at shape (1, 3, 224, 448)\n"
     ]
    },
    {
     "name": "stderr",
     "output_type": "stream",
     "text": [
      " 24%|██▍       | 144/592 [00:31<00:51,  8.66it/s]"
     ]
    },
    {
     "name": "stdout",
     "output_type": "stream",
     "text": [
      "\n",
      "0: 224x448 (no detections), 31.0ms\n",
      "Speed: 1.0ms preprocess, 31.0ms inference, 0.0ms postprocess per image at shape (1, 3, 224, 448)\n"
     ]
    },
    {
     "name": "stderr",
     "output_type": "stream",
     "text": [
      " 24%|██▍       | 145/592 [00:31<00:50,  8.91it/s]"
     ]
    },
    {
     "name": "stdout",
     "output_type": "stream",
     "text": [
      "\n",
      "0: 224x448 1 Green traffic light, 29.1ms\n",
      "Speed: 2.0ms preprocess, 29.1ms inference, 1.0ms postprocess per image at shape (1, 3, 224, 448)\n"
     ]
    },
    {
     "name": "stderr",
     "output_type": "stream",
     "text": [
      " 25%|██▍       | 146/592 [00:31<00:49,  9.04it/s]"
     ]
    },
    {
     "name": "stdout",
     "output_type": "stream",
     "text": [
      "\n",
      "0: 224x448 1 Green traffic light, 34.3ms\n",
      "Speed: 2.5ms preprocess, 34.3ms inference, 2.0ms postprocess per image at shape (1, 3, 224, 448)\n"
     ]
    },
    {
     "name": "stderr",
     "output_type": "stream",
     "text": [
      " 25%|██▍       | 147/592 [00:31<00:52,  8.45it/s]"
     ]
    },
    {
     "name": "stdout",
     "output_type": "stream",
     "text": [
      "\n",
      "0: 288x448 1 Speed limit 30 km/h, 49.5ms\n",
      "Speed: 2.0ms preprocess, 49.5ms inference, 0.0ms postprocess per image at shape (1, 3, 288, 448)\n",
      "\n",
      "0: 352x448 1 Yield, 49.5ms\n",
      "Speed: 3.0ms preprocess, 49.5ms inference, 0.0ms postprocess per image at shape (1, 3, 352, 448)\n"
     ]
    },
    {
     "name": "stderr",
     "output_type": "stream",
     "text": [
      " 25%|██▌       | 149/592 [00:31<00:49,  8.92it/s]"
     ]
    },
    {
     "name": "stdout",
     "output_type": "stream",
     "text": [
      "\n",
      "0: 352x448 1 Dead end, 56.0ms\n",
      "Speed: 2.0ms preprocess, 56.0ms inference, 1.1ms postprocess per image at shape (1, 3, 352, 448)\n"
     ]
    },
    {
     "name": "stderr",
     "output_type": "stream",
     "text": [
      " 25%|██▌       | 150/592 [00:31<00:53,  8.22it/s]"
     ]
    },
    {
     "name": "stdout",
     "output_type": "stream",
     "text": [
      "\n",
      "0: 352x448 1 STOP, 20.0ms\n",
      "Speed: 2.1ms preprocess, 20.0ms inference, 1.0ms postprocess per image at shape (1, 3, 352, 448)\n"
     ]
    },
    {
     "name": "stderr",
     "output_type": "stream",
     "text": [
      " 26%|██▌       | 151/592 [00:31<00:52,  8.46it/s]"
     ]
    },
    {
     "name": "stdout",
     "output_type": "stream",
     "text": [
      "\n",
      "0: 352x448 1 One-way traffic, 20.4ms\n",
      "Speed: 1.0ms preprocess, 20.4ms inference, 0.0ms postprocess per image at shape (1, 3, 352, 448)\n"
     ]
    },
    {
     "name": "stderr",
     "output_type": "stream",
     "text": [
      " 26%|██▌       | 152/592 [00:32<00:50,  8.77it/s]"
     ]
    },
    {
     "name": "stdout",
     "output_type": "stream",
     "text": [
      "\n",
      "0: 352x448 1 Yield, 15.4ms\n",
      "Speed: 1.0ms preprocess, 15.4ms inference, 1.0ms postprocess per image at shape (1, 3, 352, 448)\n",
      "\n",
      "0: 352x448 1 Yield, 20.0ms\n",
      "Speed: 2.0ms preprocess, 20.0ms inference, 1.0ms postprocess per image at shape (1, 3, 352, 448)\n"
     ]
    },
    {
     "name": "stderr",
     "output_type": "stream",
     "text": [
      " 26%|██▌       | 154/592 [00:32<00:48,  9.05it/s]"
     ]
    },
    {
     "name": "stdout",
     "output_type": "stream",
     "text": [
      "\n",
      "0: 352x448 1 Yield, 20.1ms\n",
      "Speed: 2.6ms preprocess, 20.1ms inference, 1.0ms postprocess per image at shape (1, 3, 352, 448)\n"
     ]
    },
    {
     "name": "stderr",
     "output_type": "stream",
     "text": [
      " 26%|██▌       | 155/592 [00:32<00:48,  8.94it/s]"
     ]
    },
    {
     "name": "stdout",
     "output_type": "stream",
     "text": [
      "\n",
      "0: 352x448 1 Yield, 20.5ms\n",
      "Speed: 2.0ms preprocess, 20.5ms inference, 0.0ms postprocess per image at shape (1, 3, 352, 448)\n"
     ]
    },
    {
     "name": "stderr",
     "output_type": "stream",
     "text": [
      " 26%|██▋       | 156/592 [00:32<00:47,  9.13it/s]"
     ]
    },
    {
     "name": "stdout",
     "output_type": "stream",
     "text": [
      "\n",
      "0: 352x448 1 Yield, 20.5ms\n",
      "Speed: 2.0ms preprocess, 20.5ms inference, 1.0ms postprocess per image at shape (1, 3, 352, 448)\n"
     ]
    },
    {
     "name": "stderr",
     "output_type": "stream",
     "text": [
      " 27%|██▋       | 157/592 [00:32<00:47,  9.15it/s]"
     ]
    },
    {
     "name": "stdout",
     "output_type": "stream",
     "text": [
      "\n",
      "0: 352x448 2 Pedestrian crossings, 19.4ms\n",
      "Speed: 2.0ms preprocess, 19.4ms inference, 0.5ms postprocess per image at shape (1, 3, 352, 448)\n",
      "\n",
      "0: 352x448 1 One-way traffic, 18.4ms\n",
      "Speed: 1.8ms preprocess, 18.4ms inference, 0.0ms postprocess per image at shape (1, 3, 352, 448)\n"
     ]
    },
    {
     "name": "stderr",
     "output_type": "stream",
     "text": [
      " 27%|██▋       | 159/592 [00:32<00:46,  9.38it/s]"
     ]
    },
    {
     "name": "stdout",
     "output_type": "stream",
     "text": [
      "\n",
      "0: 352x448 1 Roadworks, 25.0ms\n",
      "Speed: 2.0ms preprocess, 25.0ms inference, 1.0ms postprocess per image at shape (1, 3, 352, 448)\n"
     ]
    },
    {
     "name": "stderr",
     "output_type": "stream",
     "text": [
      " 27%|██▋       | 160/592 [00:32<00:45,  9.49it/s]"
     ]
    },
    {
     "name": "stdout",
     "output_type": "stream",
     "text": [
      "\n",
      "0: 352x448 1 End of construction works, 19.2ms\n",
      "Speed: 2.0ms preprocess, 19.2ms inference, 1.0ms postprocess per image at shape (1, 3, 352, 448)\n"
     ]
    },
    {
     "name": "stderr",
     "output_type": "stream",
     "text": [
      " 27%|██▋       | 161/592 [00:33<00:44,  9.59it/s]"
     ]
    },
    {
     "name": "stdout",
     "output_type": "stream",
     "text": [
      "\n",
      "0: 352x448 1 Dead end, 33.6ms\n",
      "Speed: 1.0ms preprocess, 33.6ms inference, 1.0ms postprocess per image at shape (1, 3, 352, 448)\n"
     ]
    },
    {
     "name": "stderr",
     "output_type": "stream",
     "text": [
      " 27%|██▋       | 162/592 [00:33<00:46,  9.33it/s]"
     ]
    },
    {
     "name": "stdout",
     "output_type": "stream",
     "text": [
      "\n",
      "0: 352x448 1 Yield, 22.0ms\n",
      "Speed: 2.0ms preprocess, 22.0ms inference, 1.0ms postprocess per image at shape (1, 3, 352, 448)\n"
     ]
    },
    {
     "name": "stderr",
     "output_type": "stream",
     "text": [
      " 28%|██▊       | 163/592 [00:33<00:45,  9.36it/s]"
     ]
    },
    {
     "name": "stdout",
     "output_type": "stream",
     "text": [
      "\n",
      "0: 352x448 1 End of play street, 17.0ms\n",
      "Speed: 2.0ms preprocess, 17.0ms inference, 1.0ms postprocess per image at shape (1, 3, 352, 448)\n",
      "\n",
      "0: 352x448 1 Dead end, 19.0ms\n",
      "Speed: 2.0ms preprocess, 19.0ms inference, 1.0ms postprocess per image at shape (1, 3, 352, 448)\n"
     ]
    },
    {
     "name": "stderr",
     "output_type": "stream",
     "text": [
      " 28%|██▊       | 165/592 [00:33<00:44,  9.68it/s]"
     ]
    },
    {
     "name": "stdout",
     "output_type": "stream",
     "text": [
      "\n",
      "0: 352x448 1 Yield, 19.0ms\n",
      "Speed: 1.0ms preprocess, 19.0ms inference, 1.0ms postprocess per image at shape (1, 3, 352, 448)\n",
      "\n",
      "0: 352x448 1 Yield, 16.9ms\n",
      "Speed: 2.0ms preprocess, 16.9ms inference, 1.0ms postprocess per image at shape (1, 3, 352, 448)\n"
     ]
    },
    {
     "name": "stderr",
     "output_type": "stream",
     "text": [
      " 28%|██▊       | 167/592 [00:33<00:43,  9.78it/s]"
     ]
    },
    {
     "name": "stdout",
     "output_type": "stream",
     "text": [
      "\n",
      "0: 352x448 1 End of play street, 56.0ms\n",
      "Speed: 3.0ms preprocess, 56.0ms inference, 3.0ms postprocess per image at shape (1, 3, 352, 448)\n"
     ]
    },
    {
     "name": "stderr",
     "output_type": "stream",
     "text": [
      " 28%|██▊       | 168/592 [00:33<00:46,  9.09it/s]"
     ]
    },
    {
     "name": "stdout",
     "output_type": "stream",
     "text": [
      "\n",
      "0: 352x448 1 Play street, 48.5ms\n",
      "Speed: 2.0ms preprocess, 48.5ms inference, 1.0ms postprocess per image at shape (1, 3, 352, 448)\n"
     ]
    },
    {
     "name": "stderr",
     "output_type": "stream",
     "text": [
      " 29%|██▊       | 169/592 [00:33<00:49,  8.51it/s]"
     ]
    },
    {
     "name": "stdout",
     "output_type": "stream",
     "text": [
      "\n",
      "0: 352x448 1 Yield, 49.2ms\n",
      "Speed: 2.0ms preprocess, 49.2ms inference, 0.0ms postprocess per image at shape (1, 3, 352, 448)\n"
     ]
    },
    {
     "name": "stderr",
     "output_type": "stream",
     "text": [
      " 29%|██▊       | 170/592 [00:34<00:50,  8.41it/s]"
     ]
    },
    {
     "name": "stdout",
     "output_type": "stream",
     "text": [
      "\n",
      "0: 352x448 1 Yield, 43.9ms\n",
      "Speed: 2.0ms preprocess, 43.9ms inference, 1.0ms postprocess per image at shape (1, 3, 352, 448)\n"
     ]
    },
    {
     "name": "stderr",
     "output_type": "stream",
     "text": [
      " 29%|██▉       | 171/592 [00:34<00:51,  8.25it/s]"
     ]
    },
    {
     "name": "stdout",
     "output_type": "stream",
     "text": [
      "\n",
      "0: 352x448 1 Yield, 47.0ms\n",
      "Speed: 2.0ms preprocess, 47.0ms inference, 1.0ms postprocess per image at shape (1, 3, 352, 448)\n"
     ]
    },
    {
     "name": "stderr",
     "output_type": "stream",
     "text": [
      " 29%|██▉       | 172/592 [00:34<00:52,  7.95it/s]"
     ]
    },
    {
     "name": "stdout",
     "output_type": "stream",
     "text": [
      "\n",
      "0: 352x448 1 Play street, 51.5ms\n",
      "Speed: 3.0ms preprocess, 51.5ms inference, 1.0ms postprocess per image at shape (1, 3, 352, 448)\n"
     ]
    },
    {
     "name": "stderr",
     "output_type": "stream",
     "text": [
      " 29%|██▉       | 173/592 [00:34<00:54,  7.65it/s]"
     ]
    },
    {
     "name": "stdout",
     "output_type": "stream",
     "text": [
      "\n",
      "0: 352x448 1 Yield, 18.5ms\n",
      "Speed: 2.0ms preprocess, 18.5ms inference, 1.0ms postprocess per image at shape (1, 3, 352, 448)\n",
      "\n",
      "0: 352x448 1 Pedestrian crossing, 24.0ms\n",
      "Speed: 3.0ms preprocess, 24.0ms inference, 0.0ms postprocess per image at shape (1, 3, 352, 448)\n"
     ]
    },
    {
     "name": "stderr",
     "output_type": "stream",
     "text": [
      " 30%|██▉       | 175/592 [00:34<00:48,  8.58it/s]"
     ]
    },
    {
     "name": "stdout",
     "output_type": "stream",
     "text": [
      "\n",
      "0: 352x448 1 Yield, 29.4ms\n",
      "Speed: 2.0ms preprocess, 29.4ms inference, 1.0ms postprocess per image at shape (1, 3, 352, 448)\n"
     ]
    },
    {
     "name": "stderr",
     "output_type": "stream",
     "text": [
      " 30%|██▉       | 176/592 [00:34<00:47,  8.75it/s]"
     ]
    },
    {
     "name": "stdout",
     "output_type": "stream",
     "text": [
      "\n",
      "0: 352x448 1 Yield, 23.0ms\n",
      "Speed: 1.0ms preprocess, 23.0ms inference, 1.0ms postprocess per image at shape (1, 3, 352, 448)\n"
     ]
    },
    {
     "name": "stderr",
     "output_type": "stream",
     "text": [
      " 30%|██▉       | 177/592 [00:34<00:46,  9.01it/s]"
     ]
    },
    {
     "name": "stdout",
     "output_type": "stream",
     "text": [
      "\n",
      "0: 352x448 1 Yield, 16.5ms\n",
      "Speed: 2.0ms preprocess, 16.5ms inference, 0.0ms postprocess per image at shape (1, 3, 352, 448)\n",
      "\n",
      "0: 352x448 1 Dead end, 19.5ms\n",
      "Speed: 1.7ms preprocess, 19.5ms inference, 0.5ms postprocess per image at shape (1, 3, 352, 448)\n"
     ]
    },
    {
     "name": "stderr",
     "output_type": "stream",
     "text": [
      " 30%|███       | 179/592 [00:35<00:43,  9.58it/s]"
     ]
    },
    {
     "name": "stdout",
     "output_type": "stream",
     "text": [
      "\n",
      "0: 352x448 1 One-way traffic, 21.1ms\n",
      "Speed: 2.0ms preprocess, 21.1ms inference, 0.0ms postprocess per image at shape (1, 3, 352, 448)\n"
     ]
    },
    {
     "name": "stderr",
     "output_type": "stream",
     "text": [
      " 30%|███       | 180/592 [00:35<00:47,  8.66it/s]"
     ]
    },
    {
     "name": "stdout",
     "output_type": "stream",
     "text": [
      "\n",
      "0: 352x448 1 One-way traffic, 19.5ms\n",
      "Speed: 2.0ms preprocess, 19.5ms inference, 1.0ms postprocess per image at shape (1, 3, 352, 448)\n"
     ]
    },
    {
     "name": "stderr",
     "output_type": "stream",
     "text": [
      " 31%|███       | 181/592 [00:35<00:46,  8.89it/s]"
     ]
    },
    {
     "name": "stdout",
     "output_type": "stream",
     "text": [
      "\n",
      "0: 352x448 1 One-way traffic, 16.0ms\n",
      "Speed: 2.0ms preprocess, 16.0ms inference, 1.0ms postprocess per image at shape (1, 3, 352, 448)\n",
      "\n",
      "0: 352x448 1 One-way traffic, 22.8ms\n",
      "Speed: 1.0ms preprocess, 22.8ms inference, 1.0ms postprocess per image at shape (1, 3, 352, 448)\n"
     ]
    },
    {
     "name": "stderr",
     "output_type": "stream",
     "text": [
      " 31%|███       | 183/592 [00:35<00:44,  9.29it/s]"
     ]
    },
    {
     "name": "stdout",
     "output_type": "stream",
     "text": [
      "\n",
      "0: 352x448 1 Yield, 22.5ms\n",
      "Speed: 1.0ms preprocess, 22.5ms inference, 1.0ms postprocess per image at shape (1, 3, 352, 448)\n"
     ]
    },
    {
     "name": "stderr",
     "output_type": "stream",
     "text": [
      " 31%|███       | 184/592 [00:35<00:43,  9.31it/s]"
     ]
    },
    {
     "name": "stdout",
     "output_type": "stream",
     "text": [
      "\n",
      "0: 352x448 1 Yield, 22.4ms\n",
      "Speed: 1.0ms preprocess, 22.4ms inference, 0.0ms postprocess per image at shape (1, 3, 352, 448)\n"
     ]
    },
    {
     "name": "stderr",
     "output_type": "stream",
     "text": [
      " 31%|███▏      | 185/592 [00:35<00:44,  9.22it/s]"
     ]
    },
    {
     "name": "stdout",
     "output_type": "stream",
     "text": [
      "\n",
      "0: 352x448 1 Yield, 18.0ms\n",
      "Speed: 1.0ms preprocess, 18.0ms inference, 1.0ms postprocess per image at shape (1, 3, 352, 448)\n",
      "\n",
      "0: 352x448 1 Yield, 18.0ms\n",
      "Speed: 2.5ms preprocess, 18.0ms inference, 1.0ms postprocess per image at shape (1, 3, 352, 448)\n"
     ]
    },
    {
     "name": "stderr",
     "output_type": "stream",
     "text": [
      " 32%|███▏      | 187/592 [00:35<00:42,  9.55it/s]"
     ]
    },
    {
     "name": "stdout",
     "output_type": "stream",
     "text": [
      "\n",
      "0: 352x448 1 End of play street, 18.0ms\n",
      "Speed: 2.0ms preprocess, 18.0ms inference, 1.0ms postprocess per image at shape (1, 3, 352, 448)\n"
     ]
    },
    {
     "name": "stderr",
     "output_type": "stream",
     "text": [
      " 32%|███▏      | 188/592 [00:36<00:42,  9.56it/s]"
     ]
    },
    {
     "name": "stdout",
     "output_type": "stream",
     "text": [
      "\n",
      "0: 352x448 1 Pedestrian crossing, 16.0ms\n",
      "Speed: 1.9ms preprocess, 16.0ms inference, 1.0ms postprocess per image at shape (1, 3, 352, 448)\n"
     ]
    },
    {
     "name": "stderr",
     "output_type": "stream",
     "text": [
      " 32%|███▏      | 189/592 [00:36<00:42,  9.55it/s]"
     ]
    },
    {
     "name": "stdout",
     "output_type": "stream",
     "text": [
      "\n",
      "0: 352x448 1 End of priority road, 18.9ms\n",
      "Speed: 1.1ms preprocess, 18.9ms inference, 1.0ms postprocess per image at shape (1, 3, 352, 448)\n"
     ]
    },
    {
     "name": "stderr",
     "output_type": "stream",
     "text": [
      " 32%|███▏      | 190/592 [00:36<00:42,  9.45it/s]"
     ]
    },
    {
     "name": "stdout",
     "output_type": "stream",
     "text": [
      "\n",
      "0: 352x448 1 End of construction works, 27.8ms\n",
      "Speed: 1.0ms preprocess, 27.8ms inference, 1.0ms postprocess per image at shape (1, 3, 352, 448)\n"
     ]
    },
    {
     "name": "stderr",
     "output_type": "stream",
     "text": [
      " 32%|███▏      | 191/592 [00:36<00:43,  9.31it/s]"
     ]
    },
    {
     "name": "stdout",
     "output_type": "stream",
     "text": [
      "\n",
      "0: 352x448 1 Yield, 1 End of construction works, 22.5ms\n",
      "Speed: 2.0ms preprocess, 22.5ms inference, 1.0ms postprocess per image at shape (1, 3, 352, 448)\n"
     ]
    },
    {
     "name": "stderr",
     "output_type": "stream",
     "text": [
      " 32%|███▏      | 192/592 [00:36<00:44,  9.03it/s]"
     ]
    },
    {
     "name": "stdout",
     "output_type": "stream",
     "text": [
      "\n",
      "0: 352x448 1 Dead end, 23.6ms\n",
      "Speed: 2.0ms preprocess, 23.6ms inference, 1.0ms postprocess per image at shape (1, 3, 352, 448)\n"
     ]
    },
    {
     "name": "stderr",
     "output_type": "stream",
     "text": [
      " 33%|███▎      | 193/592 [00:36<00:44,  9.07it/s]"
     ]
    },
    {
     "name": "stdout",
     "output_type": "stream",
     "text": [
      "\n",
      "0: 352x448 1 Dead end, 31.1ms\n",
      "Speed: 2.0ms preprocess, 31.1ms inference, 1.0ms postprocess per image at shape (1, 3, 352, 448)\n"
     ]
    },
    {
     "name": "stderr",
     "output_type": "stream",
     "text": [
      " 33%|███▎      | 194/592 [00:36<00:44,  8.92it/s]"
     ]
    },
    {
     "name": "stdout",
     "output_type": "stream",
     "text": [
      "\n",
      "0: 352x448 1 STOP, 29.5ms\n",
      "Speed: 2.0ms preprocess, 29.5ms inference, 1.0ms postprocess per image at shape (1, 3, 352, 448)\n"
     ]
    },
    {
     "name": "stderr",
     "output_type": "stream",
     "text": [
      " 33%|███▎      | 195/592 [00:36<00:43,  9.05it/s]"
     ]
    },
    {
     "name": "stdout",
     "output_type": "stream",
     "text": [
      "\n",
      "0: 352x448 1 End of priority road, 25.5ms\n",
      "Speed: 2.2ms preprocess, 25.5ms inference, 1.0ms postprocess per image at shape (1, 3, 352, 448)\n"
     ]
    },
    {
     "name": "stderr",
     "output_type": "stream",
     "text": [
      " 33%|███▎      | 196/592 [00:36<00:44,  9.00it/s]"
     ]
    },
    {
     "name": "stdout",
     "output_type": "stream",
     "text": [
      "\n",
      "0: 352x448 1 Pedestrian crossing, 27.0ms\n",
      "Speed: 3.0ms preprocess, 27.0ms inference, 1.0ms postprocess per image at shape (1, 3, 352, 448)\n"
     ]
    },
    {
     "name": "stderr",
     "output_type": "stream",
     "text": [
      " 33%|███▎      | 197/592 [00:37<00:44,  8.92it/s]"
     ]
    },
    {
     "name": "stdout",
     "output_type": "stream",
     "text": [
      "\n",
      "0: 352x448 1 Yield, 26.5ms\n",
      "Speed: 2.0ms preprocess, 26.5ms inference, 1.0ms postprocess per image at shape (1, 3, 352, 448)\n"
     ]
    },
    {
     "name": "stderr",
     "output_type": "stream",
     "text": [
      " 33%|███▎      | 198/592 [00:37<00:43,  9.07it/s]"
     ]
    },
    {
     "name": "stdout",
     "output_type": "stream",
     "text": [
      "\n",
      "0: 352x448 1 Pedestrian crossing, 25.3ms\n",
      "Speed: 3.8ms preprocess, 25.3ms inference, 1.2ms postprocess per image at shape (1, 3, 352, 448)\n"
     ]
    },
    {
     "name": "stderr",
     "output_type": "stream",
     "text": [
      " 34%|███▎      | 199/592 [00:37<00:44,  8.90it/s]"
     ]
    },
    {
     "name": "stdout",
     "output_type": "stream",
     "text": [
      "\n",
      "0: 352x448 (no detections), 29.0ms\n",
      "Speed: 2.0ms preprocess, 29.0ms inference, 1.0ms postprocess per image at shape (1, 3, 352, 448)\n"
     ]
    },
    {
     "name": "stderr",
     "output_type": "stream",
     "text": [
      " 34%|███▍      | 200/592 [00:37<00:43,  8.91it/s]"
     ]
    },
    {
     "name": "stdout",
     "output_type": "stream",
     "text": [
      "\n",
      "0: 352x448 (no detections), 27.1ms\n",
      "Speed: 3.0ms preprocess, 27.1ms inference, 6.0ms postprocess per image at shape (1, 3, 352, 448)\n"
     ]
    },
    {
     "name": "stderr",
     "output_type": "stream",
     "text": [
      " 34%|███▍      | 201/592 [00:37<00:45,  8.58it/s]"
     ]
    },
    {
     "name": "stdout",
     "output_type": "stream",
     "text": [
      "\n",
      "0: 352x448 1 Yield, 25.0ms\n",
      "Speed: 1.0ms preprocess, 25.0ms inference, 0.0ms postprocess per image at shape (1, 3, 352, 448)\n"
     ]
    },
    {
     "name": "stderr",
     "output_type": "stream",
     "text": [
      " 34%|███▍      | 202/592 [00:37<00:43,  8.95it/s]"
     ]
    },
    {
     "name": "stdout",
     "output_type": "stream",
     "text": [
      "\n",
      "0: 352x448 1 Dead end, 28.5ms\n",
      "Speed: 2.0ms preprocess, 28.5ms inference, 1.0ms postprocess per image at shape (1, 3, 352, 448)\n"
     ]
    },
    {
     "name": "stderr",
     "output_type": "stream",
     "text": [
      " 34%|███▍      | 203/592 [00:37<00:43,  8.92it/s]"
     ]
    },
    {
     "name": "stdout",
     "output_type": "stream",
     "text": [
      "\n",
      "0: 352x448 1 Dead end, 25.5ms\n",
      "Speed: 2.0ms preprocess, 25.5ms inference, 1.0ms postprocess per image at shape (1, 3, 352, 448)\n"
     ]
    },
    {
     "name": "stderr",
     "output_type": "stream",
     "text": [
      " 34%|███▍      | 204/592 [00:37<00:43,  8.82it/s]"
     ]
    },
    {
     "name": "stdout",
     "output_type": "stream",
     "text": [
      "\n",
      "0: 448x448 1 Speed limit 80 km/h, 31.5ms\n",
      "Speed: 2.4ms preprocess, 31.5ms inference, 2.0ms postprocess per image at shape (1, 3, 448, 448)\n",
      "\n",
      "0: 448x448 1 No entry, 28.6ms\n",
      "Speed: 2.0ms preprocess, 28.6ms inference, 1.0ms postprocess per image at shape (1, 3, 448, 448)\n"
     ]
    },
    {
     "name": "stderr",
     "output_type": "stream",
     "text": [
      " 35%|███▍      | 206/592 [00:37<00:33, 11.61it/s]"
     ]
    },
    {
     "name": "stdout",
     "output_type": "stream",
     "text": [
      "\n",
      "0: 448x448 1 Speed limit 40 km/h, 29.0ms\n",
      "Speed: 2.0ms preprocess, 29.0ms inference, 1.0ms postprocess per image at shape (1, 3, 448, 448)\n",
      "\n",
      "0: 448x448 1 One-way traffic, 28.0ms\n",
      "Speed: 2.0ms preprocess, 28.0ms inference, 4.0ms postprocess per image at shape (1, 3, 448, 448)\n"
     ]
    },
    {
     "name": "stderr",
     "output_type": "stream",
     "text": [
      " 35%|███▌      | 208/592 [00:38<00:28, 13.67it/s]"
     ]
    },
    {
     "name": "stdout",
     "output_type": "stream",
     "text": [
      "\n",
      "0: 448x448 1 One-way traffic, 29.0ms\n",
      "Speed: 2.5ms preprocess, 29.0ms inference, 1.0ms postprocess per image at shape (1, 3, 448, 448)\n",
      "\n",
      "0: 448x448 1 STOP, 29.0ms\n",
      "Speed: 3.0ms preprocess, 29.0ms inference, 1.0ms postprocess per image at shape (1, 3, 448, 448)\n"
     ]
    },
    {
     "name": "stderr",
     "output_type": "stream",
     "text": [
      " 35%|███▌      | 210/592 [00:38<00:25, 15.08it/s]"
     ]
    },
    {
     "name": "stdout",
     "output_type": "stream",
     "text": [
      "\n",
      "0: 448x448 1 STOP, 29.0ms\n",
      "Speed: 3.0ms preprocess, 29.0ms inference, 0.0ms postprocess per image at shape (1, 3, 448, 448)\n",
      "\n",
      "0: 448x448 1 Speed limit 80 km/h, 20.5ms\n",
      "Speed: 2.0ms preprocess, 20.5ms inference, 1.0ms postprocess per image at shape (1, 3, 448, 448)\n",
      "\n",
      "0: 448x448 1 Speed limit 80 km/h, 23.0ms\n",
      "Speed: 1.0ms preprocess, 23.0ms inference, 1.0ms postprocess per image at shape (1, 3, 448, 448)\n"
     ]
    },
    {
     "name": "stderr",
     "output_type": "stream",
     "text": [
      " 36%|███▌      | 213/592 [00:38<00:21, 17.47it/s]"
     ]
    },
    {
     "name": "stdout",
     "output_type": "stream",
     "text": [
      "\n",
      "0: 448x448 1 No entry, 20.0ms\n",
      "Speed: 1.5ms preprocess, 20.0ms inference, 1.0ms postprocess per image at shape (1, 3, 448, 448)\n",
      "\n",
      "0: 448x448 1 Speed limit 80 km/h, 20.5ms\n",
      "Speed: 2.0ms preprocess, 20.5ms inference, 1.0ms postprocess per image at shape (1, 3, 448, 448)\n",
      "\n",
      "0: 384x448 1 Yield, 45.3ms\n",
      "Speed: 1.0ms preprocess, 45.3ms inference, 1.0ms postprocess per image at shape (1, 3, 384, 448)\n"
     ]
    },
    {
     "name": "stderr",
     "output_type": "stream",
     "text": [
      " 36%|███▋      | 216/592 [00:38<00:21, 17.52it/s]"
     ]
    },
    {
     "name": "stdout",
     "output_type": "stream",
     "text": [
      "\n",
      "0: 448x448 1 Speed limit 80 km/h, 23.3ms\n",
      "Speed: 1.9ms preprocess, 23.3ms inference, 0.0ms postprocess per image at shape (1, 3, 448, 448)\n",
      "\n",
      "0: 448x448 (no detections), 20.7ms\n",
      "Speed: 1.0ms preprocess, 20.7ms inference, 0.0ms postprocess per image at shape (1, 3, 448, 448)\n",
      "\n",
      "0: 448x448 1 Speed limit 80 km/h, 19.7ms\n",
      "Speed: 3.0ms preprocess, 19.7ms inference, 0.0ms postprocess per image at shape (1, 3, 448, 448)\n"
     ]
    },
    {
     "name": "stderr",
     "output_type": "stream",
     "text": [
      " 37%|███▋      | 219/592 [00:38<00:19, 19.24it/s]"
     ]
    },
    {
     "name": "stdout",
     "output_type": "stream",
     "text": [
      "\n",
      "0: 256x448 2 Speed limit 40 km/hs, 17.7ms\n",
      "Speed: 1.1ms preprocess, 17.7ms inference, 0.0ms postprocess per image at shape (1, 3, 256, 448)\n",
      "\n",
      "0: 448x448 1 Speed limit 80 km/h, 18.8ms\n",
      "Speed: 2.0ms preprocess, 18.8ms inference, 1.0ms postprocess per image at shape (1, 3, 448, 448)\n",
      "\n",
      "0: 448x448 1 Speed limit 80 km/h, 17.3ms\n",
      "Speed: 0.9ms preprocess, 17.3ms inference, 1.0ms postprocess per image at shape (1, 3, 448, 448)\n"
     ]
    },
    {
     "name": "stderr",
     "output_type": "stream",
     "text": [
      " 38%|███▊      | 222/592 [00:38<00:18, 20.31it/s]"
     ]
    },
    {
     "name": "stdout",
     "output_type": "stream",
     "text": [
      "\n",
      "0: 448x448 1 Speed limit 80 km/h, 18.9ms\n",
      "Speed: 1.0ms preprocess, 18.9ms inference, 1.0ms postprocess per image at shape (1, 3, 448, 448)\n",
      "\n",
      "0: 448x448 1 Speed limit 80 km/h, 19.0ms\n",
      "Speed: 1.1ms preprocess, 19.0ms inference, 1.0ms postprocess per image at shape (1, 3, 448, 448)\n",
      "\n",
      "0: 448x448 1 Speed limit 80 km/h, 18.3ms\n",
      "Speed: 1.0ms preprocess, 18.3ms inference, 1.0ms postprocess per image at shape (1, 3, 448, 448)\n"
     ]
    },
    {
     "name": "stderr",
     "output_type": "stream",
     "text": [
      " 38%|███▊      | 225/592 [00:38<00:16, 21.94it/s]"
     ]
    },
    {
     "name": "stdout",
     "output_type": "stream",
     "text": [
      "\n",
      "0: 448x448 1 Speed limit 80 km/h, 19.0ms\n",
      "Speed: 1.0ms preprocess, 19.0ms inference, 1.0ms postprocess per image at shape (1, 3, 448, 448)\n",
      "\n",
      "0: 448x448 1 Speed limit 80 km/h, 18.5ms\n",
      "Speed: 2.0ms preprocess, 18.5ms inference, 1.0ms postprocess per image at shape (1, 3, 448, 448)\n",
      "\n",
      "0: 448x448 1 Speed limit 80 km/h, 19.3ms\n",
      "Speed: 1.0ms preprocess, 19.3ms inference, 2.1ms postprocess per image at shape (1, 3, 448, 448)\n"
     ]
    },
    {
     "name": "stderr",
     "output_type": "stream",
     "text": [
      " 39%|███▊      | 228/592 [00:38<00:16, 22.31it/s]"
     ]
    },
    {
     "name": "stdout",
     "output_type": "stream",
     "text": [
      "\n",
      "0: 448x448 1 Speed limit 60 km/h, 20.3ms\n",
      "Speed: 2.0ms preprocess, 20.3ms inference, 0.0ms postprocess per image at shape (1, 3, 448, 448)\n",
      "\n",
      "0: 448x448 1 Speed limit 60 km/h, 1 Speed limit 80 km/h, 18.6ms\n",
      "Speed: 2.0ms preprocess, 18.6ms inference, 0.0ms postprocess per image at shape (1, 3, 448, 448)\n",
      "\n",
      "0: 448x448 1 Speed limit 60 km/h, 22.7ms\n",
      "Speed: 2.0ms preprocess, 22.7ms inference, 0.0ms postprocess per image at shape (1, 3, 448, 448)\n"
     ]
    },
    {
     "name": "stderr",
     "output_type": "stream",
     "text": [
      " 39%|███▉      | 231/592 [00:39<00:16, 22.49it/s]"
     ]
    },
    {
     "name": "stdout",
     "output_type": "stream",
     "text": [
      "\n",
      "0: 448x448 1 Speed limit 60 km/h, 18.2ms\n",
      "Speed: 2.0ms preprocess, 18.2ms inference, 1.0ms postprocess per image at shape (1, 3, 448, 448)\n",
      "\n",
      "0: 448x448 1 Speed limit 40 km/h, 20.0ms\n",
      "Speed: 1.9ms preprocess, 20.0ms inference, 1.0ms postprocess per image at shape (1, 3, 448, 448)\n",
      "\n",
      "0: 448x448 1 One-way traffic, 23.1ms\n",
      "Speed: 2.0ms preprocess, 23.1ms inference, 1.0ms postprocess per image at shape (1, 3, 448, 448)\n"
     ]
    },
    {
     "name": "stderr",
     "output_type": "stream",
     "text": [
      " 40%|███▉      | 234/592 [00:39<00:15, 22.64it/s]"
     ]
    },
    {
     "name": "stdout",
     "output_type": "stream",
     "text": [
      "\n",
      "0: 448x448 1 Speed limit 80 km/h, 17.6ms\n",
      "Speed: 1.0ms preprocess, 17.6ms inference, 0.0ms postprocess per image at shape (1, 3, 448, 448)\n",
      "\n",
      "0: 448x448 1 Speed limit 80 km/h, 18.1ms\n",
      "Speed: 1.9ms preprocess, 18.1ms inference, 1.0ms postprocess per image at shape (1, 3, 448, 448)\n",
      "\n",
      "0: 448x448 1 Speed limit 80 km/h, 19.5ms\n",
      "Speed: 1.0ms preprocess, 19.5ms inference, 1.0ms postprocess per image at shape (1, 3, 448, 448)\n"
     ]
    },
    {
     "name": "stderr",
     "output_type": "stream",
     "text": [
      " 40%|████      | 237/592 [00:39<00:15, 22.87it/s]"
     ]
    },
    {
     "name": "stdout",
     "output_type": "stream",
     "text": [
      "\n",
      "0: 448x448 1 Speed limit 80 km/h, 23.9ms\n",
      "Speed: 2.0ms preprocess, 23.9ms inference, 1.0ms postprocess per image at shape (1, 3, 448, 448)\n",
      "\n",
      "0: 448x448 1 No entry, 16.5ms\n",
      "Speed: 1.8ms preprocess, 16.5ms inference, 0.6ms postprocess per image at shape (1, 3, 448, 448)\n",
      "\n",
      "0: 448x448 1 Speed limit 80 km/h, 17.8ms\n",
      "Speed: 1.7ms preprocess, 17.8ms inference, 1.1ms postprocess per image at shape (1, 3, 448, 448)\n"
     ]
    },
    {
     "name": "stderr",
     "output_type": "stream",
     "text": [
      " 41%|████      | 240/592 [00:39<00:15, 23.02it/s]"
     ]
    },
    {
     "name": "stdout",
     "output_type": "stream",
     "text": [
      "\n",
      "0: 448x448 1 Speed limit 40 km/h, 17.6ms\n",
      "Speed: 2.2ms preprocess, 17.6ms inference, 1.1ms postprocess per image at shape (1, 3, 448, 448)\n",
      "\n",
      "0: 448x448 1 Speed limit 30 km/h, 19.0ms\n",
      "Speed: 2.0ms preprocess, 19.0ms inference, 0.0ms postprocess per image at shape (1, 3, 448, 448)\n",
      "\n",
      "0: 448x448 (no detections), 20.0ms\n",
      "Speed: 1.0ms preprocess, 20.0ms inference, 0.0ms postprocess per image at shape (1, 3, 448, 448)\n"
     ]
    },
    {
     "name": "stderr",
     "output_type": "stream",
     "text": [
      " 41%|████      | 243/592 [00:39<00:14, 23.35it/s]"
     ]
    },
    {
     "name": "stdout",
     "output_type": "stream",
     "text": [
      "\n",
      "0: 448x448 1 Speed limit 40 km/h, 25.5ms\n",
      "Speed: 2.0ms preprocess, 25.5ms inference, 1.0ms postprocess per image at shape (1, 3, 448, 448)\n",
      "\n",
      "0: 448x448 1 No entry, 18.0ms\n",
      "Speed: 1.0ms preprocess, 18.0ms inference, 1.3ms postprocess per image at shape (1, 3, 448, 448)\n",
      "\n",
      "0: 448x448 (no detections), 19.8ms\n",
      "Speed: 2.2ms preprocess, 19.8ms inference, 1.0ms postprocess per image at shape (1, 3, 448, 448)\n"
     ]
    },
    {
     "name": "stderr",
     "output_type": "stream",
     "text": [
      " 42%|████▏     | 246/592 [00:39<00:15, 22.71it/s]"
     ]
    },
    {
     "name": "stdout",
     "output_type": "stream",
     "text": [
      "\n",
      "0: 448x448 1 STOP, 19.6ms\n",
      "Speed: 2.0ms preprocess, 19.6ms inference, 1.0ms postprocess per image at shape (1, 3, 448, 448)\n",
      "\n",
      "0: 448x448 1 Speed limit 50 km/h, 18.0ms\n",
      "Speed: 2.1ms preprocess, 18.0ms inference, 1.0ms postprocess per image at shape (1, 3, 448, 448)\n",
      "\n",
      "0: 448x448 1 Yield, 19.6ms\n",
      "Speed: 2.0ms preprocess, 19.6ms inference, 1.0ms postprocess per image at shape (1, 3, 448, 448)\n"
     ]
    },
    {
     "name": "stderr",
     "output_type": "stream",
     "text": [
      " 42%|████▏     | 249/592 [00:39<00:14, 23.03it/s]"
     ]
    },
    {
     "name": "stdout",
     "output_type": "stream",
     "text": [
      "\n",
      "0: 448x448 1 No entry, 19.7ms\n",
      "Speed: 1.0ms preprocess, 19.7ms inference, 0.0ms postprocess per image at shape (1, 3, 448, 448)\n",
      "\n",
      "0: 448x448 1 No entry, 18.5ms\n",
      "Speed: 1.9ms preprocess, 18.5ms inference, 0.0ms postprocess per image at shape (1, 3, 448, 448)\n",
      "\n",
      "0: 448x448 1 Pedestrian crossing, 1 No entry, 20.9ms\n",
      "Speed: 1.1ms preprocess, 20.9ms inference, 1.0ms postprocess per image at shape (1, 3, 448, 448)\n"
     ]
    },
    {
     "name": "stderr",
     "output_type": "stream",
     "text": [
      " 43%|████▎     | 252/592 [00:40<00:14, 22.78it/s]"
     ]
    },
    {
     "name": "stdout",
     "output_type": "stream",
     "text": [
      "\n",
      "0: 448x448 1 Pedestrian crossing, 1 No entry, 17.7ms\n",
      "Speed: 1.9ms preprocess, 17.7ms inference, 1.0ms postprocess per image at shape (1, 3, 448, 448)\n",
      "\n",
      "0: 448x448 1 STOP, 2 Pedestrian crossings, 19.8ms\n",
      "Speed: 1.0ms preprocess, 19.8ms inference, 1.1ms postprocess per image at shape (1, 3, 448, 448)\n",
      "\n",
      "0: 448x448 1 STOP, 1 Pedestrian crossing, 24.1ms\n",
      "Speed: 0.0ms preprocess, 24.1ms inference, 0.0ms postprocess per image at shape (1, 3, 448, 448)\n"
     ]
    },
    {
     "name": "stderr",
     "output_type": "stream",
     "text": [
      " 43%|████▎     | 255/592 [00:40<00:14, 22.65it/s]"
     ]
    },
    {
     "name": "stdout",
     "output_type": "stream",
     "text": [
      "\n",
      "0: 448x448 1 STOP, 1 One-way traffic, 17.1ms\n",
      "Speed: 1.6ms preprocess, 17.1ms inference, 0.0ms postprocess per image at shape (1, 3, 448, 448)\n",
      "\n",
      "0: 448x448 1 STOP, 18.9ms\n",
      "Speed: 2.0ms preprocess, 18.9ms inference, 1.0ms postprocess per image at shape (1, 3, 448, 448)\n",
      "\n",
      "0: 448x448 (no detections), 19.6ms\n",
      "Speed: 2.1ms preprocess, 19.6ms inference, 1.0ms postprocess per image at shape (1, 3, 448, 448)\n"
     ]
    },
    {
     "name": "stderr",
     "output_type": "stream",
     "text": [
      " 44%|████▎     | 258/592 [00:40<00:14, 22.99it/s]"
     ]
    },
    {
     "name": "stdout",
     "output_type": "stream",
     "text": [
      "\n",
      "0: 448x448 1 Yield, 21.7ms\n",
      "Speed: 2.1ms preprocess, 21.7ms inference, 0.0ms postprocess per image at shape (1, 3, 448, 448)\n",
      "\n",
      "0: 448x448 1 Pedestrian crossing, 21.1ms\n",
      "Speed: 2.0ms preprocess, 21.1ms inference, 1.0ms postprocess per image at shape (1, 3, 448, 448)\n",
      "\n",
      "0: 320x448 (no detections), 31.6ms\n",
      "Speed: 1.9ms preprocess, 31.6ms inference, 0.0ms postprocess per image at shape (1, 3, 320, 448)\n"
     ]
    },
    {
     "name": "stderr",
     "output_type": "stream",
     "text": [
      " 44%|████▍     | 261/592 [00:40<00:14, 22.44it/s]"
     ]
    },
    {
     "name": "stdout",
     "output_type": "stream",
     "text": [
      "\n",
      "0: 448x448 1 Speed limit 40 km/h, 21.5ms\n",
      "Speed: 1.9ms preprocess, 21.5ms inference, 1.1ms postprocess per image at shape (1, 3, 448, 448)\n",
      "\n",
      "0: 448x352 1 STOP, 39.0ms\n",
      "Speed: 3.7ms preprocess, 39.0ms inference, 1.0ms postprocess per image at shape (1, 3, 448, 352)\n",
      "\n",
      "0: 448x448 1 Speed limit 40 km/h, 23.2ms\n",
      "Speed: 0.9ms preprocess, 23.2ms inference, 1.0ms postprocess per image at shape (1, 3, 448, 448)\n"
     ]
    },
    {
     "name": "stderr",
     "output_type": "stream",
     "text": [
      " 45%|████▍     | 264/592 [00:40<00:14, 22.13it/s]"
     ]
    },
    {
     "name": "stdout",
     "output_type": "stream",
     "text": [
      "\n",
      "0: 448x448 1 Pedestrian crossing, 2 Speed limit 40 km/hs, 28.9ms\n",
      "Speed: 3.5ms preprocess, 28.9ms inference, 1.4ms postprocess per image at shape (1, 3, 448, 448)\n",
      "\n",
      "0: 448x352 (no detections), 37.1ms\n",
      "Speed: 2.0ms preprocess, 37.1ms inference, 0.0ms postprocess per image at shape (1, 3, 448, 352)\n",
      "\n",
      "0: 448x448 1 Speed limit 40 km/h, 22.4ms\n",
      "Speed: 2.0ms preprocess, 22.4ms inference, 1.0ms postprocess per image at shape (1, 3, 448, 448)\n"
     ]
    },
    {
     "name": "stderr",
     "output_type": "stream",
     "text": [
      " 45%|████▌     | 267/592 [00:40<00:15, 21.45it/s]"
     ]
    },
    {
     "name": "stdout",
     "output_type": "stream",
     "text": [
      "\n",
      "0: 448x352 1 Speed limit 80 km/h, 19.1ms\n",
      "Speed: 1.0ms preprocess, 19.1ms inference, 1.0ms postprocess per image at shape (1, 3, 448, 352)\n",
      "\n",
      "0: 448x448 1 Speed limit 40 km/h, 24.5ms\n",
      "Speed: 1.9ms preprocess, 24.5ms inference, 1.0ms postprocess per image at shape (1, 3, 448, 448)\n",
      "\n",
      "0: 448x448 1 Pedestrian crossing, 1 Speed limit 40 km/h, 24.6ms\n",
      "Speed: 2.0ms preprocess, 24.6ms inference, 1.0ms postprocess per image at shape (1, 3, 448, 448)\n"
     ]
    },
    {
     "name": "stderr",
     "output_type": "stream",
     "text": [
      " 46%|████▌     | 270/592 [00:40<00:14, 22.38it/s]"
     ]
    },
    {
     "name": "stdout",
     "output_type": "stream",
     "text": [
      "\n",
      "0: 448x448 1 Speed limit 80 km/h, 16.1ms\n",
      "Speed: 2.1ms preprocess, 16.1ms inference, 0.0ms postprocess per image at shape (1, 3, 448, 448)\n",
      "\n",
      "0: 448x448 (no detections), 18.4ms\n",
      "Speed: 2.0ms preprocess, 18.4ms inference, 0.9ms postprocess per image at shape (1, 3, 448, 448)\n",
      "\n",
      "0: 448x448 1 Speed limit 100 km/h, 21.5ms\n",
      "Speed: 2.0ms preprocess, 21.5ms inference, 1.1ms postprocess per image at shape (1, 3, 448, 448)\n"
     ]
    },
    {
     "name": "stderr",
     "output_type": "stream",
     "text": [
      " 46%|████▌     | 273/592 [00:40<00:13, 23.90it/s]"
     ]
    },
    {
     "name": "stdout",
     "output_type": "stream",
     "text": [
      "\n",
      "0: 448x352 1 Speed limit 80 km/h, 23.0ms\n",
      "Speed: 2.0ms preprocess, 23.0ms inference, 1.0ms postprocess per image at shape (1, 3, 448, 352)\n",
      "\n",
      "0: 448x448 1 Yield, 23.3ms\n",
      "Speed: 2.0ms preprocess, 23.3ms inference, 1.1ms postprocess per image at shape (1, 3, 448, 448)\n",
      "\n",
      "0: 448x448 1 Yield, 24.6ms\n",
      "Speed: 2.0ms preprocess, 24.6ms inference, 1.0ms postprocess per image at shape (1, 3, 448, 448)\n"
     ]
    },
    {
     "name": "stderr",
     "output_type": "stream",
     "text": [
      " 47%|████▋     | 276/592 [00:41<00:13, 23.21it/s]"
     ]
    },
    {
     "name": "stdout",
     "output_type": "stream",
     "text": [
      "\n",
      "0: 448x448 1 No entry, 19.2ms\n",
      "Speed: 2.0ms preprocess, 19.2ms inference, 1.0ms postprocess per image at shape (1, 3, 448, 448)\n",
      "\n",
      "0: 448x448 1 STOP, 18.5ms\n",
      "Speed: 2.9ms preprocess, 18.5ms inference, 1.0ms postprocess per image at shape (1, 3, 448, 448)\n",
      "\n",
      "0: 448x448 1 Yield, 17.9ms\n",
      "Speed: 1.0ms preprocess, 17.9ms inference, 1.0ms postprocess per image at shape (1, 3, 448, 448)\n"
     ]
    },
    {
     "name": "stderr",
     "output_type": "stream",
     "text": [
      " 47%|████▋     | 279/592 [00:41<00:13, 23.05it/s]"
     ]
    },
    {
     "name": "stdout",
     "output_type": "stream",
     "text": [
      "\n",
      "0: 448x448 1 Yield, 19.4ms\n",
      "Speed: 2.0ms preprocess, 19.4ms inference, 0.0ms postprocess per image at shape (1, 3, 448, 448)\n",
      "\n",
      "0: 448x448 1 STOP, 18.8ms\n",
      "Speed: 2.0ms preprocess, 18.8ms inference, 0.0ms postprocess per image at shape (1, 3, 448, 448)\n",
      "\n",
      "0: 448x448 1 STOP, 20.0ms\n",
      "Speed: 2.0ms preprocess, 20.0ms inference, 1.0ms postprocess per image at shape (1, 3, 448, 448)\n"
     ]
    },
    {
     "name": "stderr",
     "output_type": "stream",
     "text": [
      " 48%|████▊     | 282/592 [00:41<00:13, 22.63it/s]"
     ]
    },
    {
     "name": "stdout",
     "output_type": "stream",
     "text": [
      "\n",
      "0: 448x448 1 STOP, 22.8ms\n",
      "Speed: 1.0ms preprocess, 22.8ms inference, 2.0ms postprocess per image at shape (1, 3, 448, 448)\n",
      "\n",
      "0: 448x448 1 STOP, 17.6ms\n",
      "Speed: 2.0ms preprocess, 17.6ms inference, 1.1ms postprocess per image at shape (1, 3, 448, 448)\n",
      "\n",
      "0: 448x448 1 STOP, 19.6ms\n",
      "Speed: 3.0ms preprocess, 19.6ms inference, 0.0ms postprocess per image at shape (1, 3, 448, 448)\n"
     ]
    },
    {
     "name": "stderr",
     "output_type": "stream",
     "text": [
      " 48%|████▊     | 285/592 [00:41<00:13, 22.31it/s]"
     ]
    },
    {
     "name": "stdout",
     "output_type": "stream",
     "text": [
      "\n",
      "0: 448x448 1 No entry, 19.0ms\n",
      "Speed: 2.0ms preprocess, 19.0ms inference, 0.0ms postprocess per image at shape (1, 3, 448, 448)\n",
      "\n",
      "0: 448x448 1 Roadworks, 22.0ms\n",
      "Speed: 1.0ms preprocess, 22.0ms inference, 0.0ms postprocess per image at shape (1, 3, 448, 448)\n",
      "\n",
      "0: 448x448 1 Yield, 17.5ms\n",
      "Speed: 2.0ms preprocess, 17.5ms inference, 1.0ms postprocess per image at shape (1, 3, 448, 448)\n"
     ]
    },
    {
     "name": "stderr",
     "output_type": "stream",
     "text": [
      " 49%|████▊     | 288/592 [00:41<00:13, 22.18it/s]"
     ]
    },
    {
     "name": "stdout",
     "output_type": "stream",
     "text": [
      "\n",
      "0: 448x448 1 Speed limit 50 km/h, 19.3ms\n",
      "Speed: 2.2ms preprocess, 19.3ms inference, 0.7ms postprocess per image at shape (1, 3, 448, 448)\n",
      "\n",
      "0: 448x448 1 Speed limit 60 km/h, 16.7ms\n",
      "Speed: 1.4ms preprocess, 16.7ms inference, 1.0ms postprocess per image at shape (1, 3, 448, 448)\n",
      "\n",
      "0: 448x448 1 Yield, 1 Pedestrian crossing, 1 Speed limit 30 km/h, 20.7ms\n",
      "Speed: 2.0ms preprocess, 20.7ms inference, 1.0ms postprocess per image at shape (1, 3, 448, 448)\n"
     ]
    },
    {
     "name": "stderr",
     "output_type": "stream",
     "text": [
      " 49%|████▉     | 291/592 [00:41<00:13, 22.08it/s]"
     ]
    },
    {
     "name": "stdout",
     "output_type": "stream",
     "text": [
      "\n",
      "0: 448x448 1 Yield, 1 Pedestrian crossing, 17.4ms\n",
      "Speed: 2.1ms preprocess, 17.4ms inference, 1.1ms postprocess per image at shape (1, 3, 448, 448)\n",
      "\n",
      "0: 448x448 1 Yield, 32.7ms\n",
      "Speed: 4.9ms preprocess, 32.7ms inference, 0.0ms postprocess per image at shape (1, 3, 448, 448)\n",
      "\n",
      "0: 448x448 1 Yield, 18.7ms\n",
      "Speed: 1.0ms preprocess, 18.7ms inference, 1.0ms postprocess per image at shape (1, 3, 448, 448)\n"
     ]
    },
    {
     "name": "stderr",
     "output_type": "stream",
     "text": [
      " 50%|████▉     | 294/592 [00:41<00:14, 20.71it/s]"
     ]
    },
    {
     "name": "stdout",
     "output_type": "stream",
     "text": [
      "\n",
      "0: 448x448 1 Yield, 17.1ms\n",
      "Speed: 2.6ms preprocess, 17.1ms inference, 1.0ms postprocess per image at shape (1, 3, 448, 448)\n",
      "\n",
      "0: 448x448 1 Pedestrian crossing, 19.0ms\n",
      "Speed: 2.1ms preprocess, 19.0ms inference, 1.0ms postprocess per image at shape (1, 3, 448, 448)\n",
      "\n",
      "0: 448x448 1 One-way traffic, 1 Pedestrian crossing, 20.7ms\n",
      "Speed: 2.0ms preprocess, 20.7ms inference, 1.0ms postprocess per image at shape (1, 3, 448, 448)\n"
     ]
    },
    {
     "name": "stderr",
     "output_type": "stream",
     "text": [
      " 50%|█████     | 297/592 [00:42<00:13, 21.19it/s]"
     ]
    },
    {
     "name": "stdout",
     "output_type": "stream",
     "text": [
      "\n",
      "0: 448x448 1 One-way traffic, 20.2ms\n",
      "Speed: 2.0ms preprocess, 20.2ms inference, 0.0ms postprocess per image at shape (1, 3, 448, 448)\n",
      "\n",
      "0: 448x448 1 One-way traffic, 19.8ms\n",
      "Speed: 2.0ms preprocess, 19.8ms inference, 1.1ms postprocess per image at shape (1, 3, 448, 448)\n",
      "\n",
      "0: 448x448 1 STOP, 18.0ms\n",
      "Speed: 2.0ms preprocess, 18.0ms inference, 1.0ms postprocess per image at shape (1, 3, 448, 448)\n"
     ]
    },
    {
     "name": "stderr",
     "output_type": "stream",
     "text": [
      " 51%|█████     | 300/592 [00:42<00:13, 21.37it/s]"
     ]
    },
    {
     "name": "stdout",
     "output_type": "stream",
     "text": [
      "\n",
      "0: 448x448 1 One-way traffic, 20.2ms\n",
      "Speed: 2.0ms preprocess, 20.2ms inference, 1.0ms postprocess per image at shape (1, 3, 448, 448)\n",
      "\n",
      "0: 448x448 1 One-way traffic, 19.4ms\n",
      "Speed: 1.0ms preprocess, 19.4ms inference, 1.0ms postprocess per image at shape (1, 3, 448, 448)\n",
      "\n",
      "0: 448x448 1 No entry, 17.9ms\n",
      "Speed: 2.0ms preprocess, 17.9ms inference, 1.0ms postprocess per image at shape (1, 3, 448, 448)\n"
     ]
    },
    {
     "name": "stderr",
     "output_type": "stream",
     "text": [
      " 51%|█████     | 303/592 [00:42<00:13, 21.75it/s]"
     ]
    },
    {
     "name": "stdout",
     "output_type": "stream",
     "text": [
      "\n",
      "0: 448x448 1 STOP, 1 No entry, 20.0ms\n",
      "Speed: 1.6ms preprocess, 20.0ms inference, 1.0ms postprocess per image at shape (1, 3, 448, 448)\n",
      "\n",
      "0: 448x448 1 Yield, 25.0ms\n",
      "Speed: 2.0ms preprocess, 25.0ms inference, 1.0ms postprocess per image at shape (1, 3, 448, 448)\n",
      "\n",
      "0: 448x448 1 Yield, 23.7ms\n",
      "Speed: 2.0ms preprocess, 23.7ms inference, 1.0ms postprocess per image at shape (1, 3, 448, 448)\n"
     ]
    },
    {
     "name": "stderr",
     "output_type": "stream",
     "text": [
      " 52%|█████▏    | 306/592 [00:42<00:13, 21.05it/s]"
     ]
    },
    {
     "name": "stdout",
     "output_type": "stream",
     "text": [
      "\n",
      "0: 448x448 1 STOP, 22.5ms\n",
      "Speed: 1.0ms preprocess, 22.5ms inference, 1.0ms postprocess per image at shape (1, 3, 448, 448)\n",
      "\n",
      "0: 448x448 1 Speed limit 40 km/h, 23.2ms\n",
      "Speed: 2.0ms preprocess, 23.2ms inference, 1.0ms postprocess per image at shape (1, 3, 448, 448)\n",
      "\n",
      "0: 448x448 1 Roadworks, 18.7ms\n",
      "Speed: 2.0ms preprocess, 18.7ms inference, 1.5ms postprocess per image at shape (1, 3, 448, 448)\n"
     ]
    },
    {
     "name": "stderr",
     "output_type": "stream",
     "text": [
      " 52%|█████▏    | 309/592 [00:42<00:13, 20.89it/s]"
     ]
    },
    {
     "name": "stdout",
     "output_type": "stream",
     "text": [
      "\n",
      "0: 448x448 1 One-way traffic, 19.6ms\n",
      "Speed: 1.5ms preprocess, 19.6ms inference, 0.0ms postprocess per image at shape (1, 3, 448, 448)\n",
      "\n",
      "0: 448x448 (no detections), 20.0ms\n",
      "Speed: 1.0ms preprocess, 20.0ms inference, 1.0ms postprocess per image at shape (1, 3, 448, 448)\n",
      "\n",
      "0: 448x448 2 STOPs, 17.7ms\n",
      "Speed: 2.0ms preprocess, 17.7ms inference, 1.0ms postprocess per image at shape (1, 3, 448, 448)\n"
     ]
    },
    {
     "name": "stderr",
     "output_type": "stream",
     "text": [
      " 53%|█████▎    | 312/592 [00:42<00:13, 20.92it/s]"
     ]
    },
    {
     "name": "stdout",
     "output_type": "stream",
     "text": [
      "\n",
      "0: 448x448 1 Pedestrian crossing, 1 No entry, 21.0ms\n",
      "Speed: 3.0ms preprocess, 21.0ms inference, 1.1ms postprocess per image at shape (1, 3, 448, 448)\n",
      "\n",
      "0: 448x448 1 One-way traffic, 17.5ms\n",
      "Speed: 2.2ms preprocess, 17.5ms inference, 0.0ms postprocess per image at shape (1, 3, 448, 448)\n",
      "\n",
      "0: 448x448 1 Pedestrian crossing, 18.0ms\n",
      "Speed: 2.0ms preprocess, 18.0ms inference, 0.0ms postprocess per image at shape (1, 3, 448, 448)\n"
     ]
    },
    {
     "name": "stderr",
     "output_type": "stream",
     "text": [
      " 53%|█████▎    | 315/592 [00:42<00:12, 21.56it/s]"
     ]
    },
    {
     "name": "stdout",
     "output_type": "stream",
     "text": [
      "\n",
      "0: 448x448 2 Yields, 1 Pedestrian crossing, 18.9ms\n",
      "Speed: 1.1ms preprocess, 18.9ms inference, 0.0ms postprocess per image at shape (1, 3, 448, 448)\n",
      "\n",
      "0: 448x448 1 One-way traffic, 18.2ms\n",
      "Speed: 1.0ms preprocess, 18.2ms inference, 2.1ms postprocess per image at shape (1, 3, 448, 448)\n",
      "\n",
      "0: 448x448 1 Pedestrian crossing, 1 Speed limit 30 km/h, 17.5ms\n",
      "Speed: 2.0ms preprocess, 17.5ms inference, 1.0ms postprocess per image at shape (1, 3, 448, 448)\n"
     ]
    },
    {
     "name": "stderr",
     "output_type": "stream",
     "text": [
      " 54%|█████▎    | 318/592 [00:43<00:12, 21.81it/s]"
     ]
    },
    {
     "name": "stdout",
     "output_type": "stream",
     "text": [
      "\n",
      "0: 448x448 1 Pedestrian crossing, 19.6ms\n",
      "Speed: 2.0ms preprocess, 19.6ms inference, 0.0ms postprocess per image at shape (1, 3, 448, 448)\n",
      "\n",
      "0: 448x448 2 No entrys, 19.5ms\n",
      "Speed: 2.1ms preprocess, 19.5ms inference, 1.0ms postprocess per image at shape (1, 3, 448, 448)\n",
      "\n",
      "0: 448x448 1 One-way traffic, 1 Pedestrian crossing, 1 Speed limit 30 km/h, 18.1ms\n",
      "Speed: 2.0ms preprocess, 18.1ms inference, 1.1ms postprocess per image at shape (1, 3, 448, 448)\n"
     ]
    },
    {
     "name": "stderr",
     "output_type": "stream",
     "text": [
      " 54%|█████▍    | 321/592 [00:43<00:12, 22.03it/s]"
     ]
    },
    {
     "name": "stdout",
     "output_type": "stream",
     "text": [
      "\n",
      "0: 448x448 1 One-way traffic, 24.7ms\n",
      "Speed: 3.0ms preprocess, 24.7ms inference, 1.0ms postprocess per image at shape (1, 3, 448, 448)\n",
      "\n",
      "0: 448x448 1 Speed limit 30 km/h, 16.9ms\n",
      "Speed: 2.0ms preprocess, 16.9ms inference, 1.0ms postprocess per image at shape (1, 3, 448, 448)\n",
      "\n",
      "0: 448x448 1 Pedestrian crossing, 20.9ms\n",
      "Speed: 2.1ms preprocess, 20.9ms inference, 1.0ms postprocess per image at shape (1, 3, 448, 448)\n"
     ]
    },
    {
     "name": "stderr",
     "output_type": "stream",
     "text": [
      " 55%|█████▍    | 324/592 [00:43<00:12, 21.56it/s]"
     ]
    },
    {
     "name": "stdout",
     "output_type": "stream",
     "text": [
      "\n",
      "0: 448x448 1 Pedestrian crossing, 1 Roadworks, 17.7ms\n",
      "Speed: 2.0ms preprocess, 17.7ms inference, 1.0ms postprocess per image at shape (1, 3, 448, 448)\n",
      "\n",
      "0: 448x448 1 Yield, 18.0ms\n",
      "Speed: 2.0ms preprocess, 18.0ms inference, 1.0ms postprocess per image at shape (1, 3, 448, 448)\n",
      "\n",
      "0: 448x448 1 Speed limit 30 km/h, 27.9ms\n",
      "Speed: 4.6ms preprocess, 27.9ms inference, 3.0ms postprocess per image at shape (1, 3, 448, 448)\n"
     ]
    },
    {
     "name": "stderr",
     "output_type": "stream",
     "text": [
      " 55%|█████▌    | 327/592 [00:43<00:12, 20.80it/s]"
     ]
    },
    {
     "name": "stdout",
     "output_type": "stream",
     "text": [
      "\n",
      "0: 448x448 1 No entry, 20.0ms\n",
      "Speed: 2.0ms preprocess, 20.0ms inference, 1.0ms postprocess per image at shape (1, 3, 448, 448)\n",
      "\n",
      "0: 448x448 1 Yield, 16.2ms\n",
      "Speed: 2.1ms preprocess, 16.2ms inference, 1.1ms postprocess per image at shape (1, 3, 448, 448)\n",
      "\n",
      "0: 448x448 1 Roadworks, 19.2ms\n",
      "Speed: 2.0ms preprocess, 19.2ms inference, 1.0ms postprocess per image at shape (1, 3, 448, 448)\n"
     ]
    },
    {
     "name": "stderr",
     "output_type": "stream",
     "text": [
      " 56%|█████▌    | 330/592 [00:43<00:12, 21.06it/s]"
     ]
    },
    {
     "name": "stdout",
     "output_type": "stream",
     "text": [
      "\n",
      "0: 448x448 1 Roadworks, 19.9ms\n",
      "Speed: 2.0ms preprocess, 19.9ms inference, 0.0ms postprocess per image at shape (1, 3, 448, 448)\n",
      "\n",
      "0: 448x448 1 Pedestrian crossing, 18.1ms\n",
      "Speed: 2.7ms preprocess, 18.1ms inference, 0.0ms postprocess per image at shape (1, 3, 448, 448)\n",
      "\n",
      "0: 448x448 1 One-way traffic, 1 Pedestrian crossing, 18.8ms\n",
      "Speed: 1.5ms preprocess, 18.8ms inference, 1.0ms postprocess per image at shape (1, 3, 448, 448)\n"
     ]
    },
    {
     "name": "stderr",
     "output_type": "stream",
     "text": [
      " 56%|█████▋    | 333/592 [00:43<00:12, 21.21it/s]"
     ]
    },
    {
     "name": "stdout",
     "output_type": "stream",
     "text": [
      "\n",
      "0: 448x448 1 Pedestrian crossing, 20.6ms\n",
      "Speed: 2.0ms preprocess, 20.6ms inference, 1.0ms postprocess per image at shape (1, 3, 448, 448)\n",
      "\n",
      "0: 448x448 1 Pedestrian crossing, 20.8ms\n",
      "Speed: 1.9ms preprocess, 20.8ms inference, 0.9ms postprocess per image at shape (1, 3, 448, 448)\n",
      "\n",
      "0: 448x448 (no detections), 17.5ms\n",
      "Speed: 2.0ms preprocess, 17.5ms inference, 0.0ms postprocess per image at shape (1, 3, 448, 448)\n"
     ]
    },
    {
     "name": "stderr",
     "output_type": "stream",
     "text": [
      " 57%|█████▋    | 336/592 [00:43<00:12, 21.13it/s]"
     ]
    },
    {
     "name": "stdout",
     "output_type": "stream",
     "text": [
      "\n",
      "0: 448x448 1 Yield, 1 Pedestrian crossing, 1 Roadworks, 21.0ms\n",
      "Speed: 2.0ms preprocess, 21.0ms inference, 0.6ms postprocess per image at shape (1, 3, 448, 448)\n",
      "\n",
      "0: 448x448 1 One-way traffic, 1 Pedestrian crossing, 1 No entry, 19.6ms\n",
      "Speed: 1.7ms preprocess, 19.6ms inference, 1.1ms postprocess per image at shape (1, 3, 448, 448)\n",
      "\n",
      "0: 448x448 1 Pedestrian crossing, 19.5ms\n",
      "Speed: 1.8ms preprocess, 19.5ms inference, 1.1ms postprocess per image at shape (1, 3, 448, 448)\n"
     ]
    },
    {
     "name": "stderr",
     "output_type": "stream",
     "text": [
      " 57%|█████▋    | 339/592 [00:44<00:11, 21.12it/s]"
     ]
    },
    {
     "name": "stdout",
     "output_type": "stream",
     "text": [
      "\n",
      "0: 448x448 1 Speed limit 30 km/h, 16.7ms\n",
      "Speed: 1.0ms preprocess, 16.7ms inference, 1.1ms postprocess per image at shape (1, 3, 448, 448)\n",
      "\n",
      "0: 448x448 1 Pedestrian crossing, 17.4ms\n",
      "Speed: 2.0ms preprocess, 17.4ms inference, 0.0ms postprocess per image at shape (1, 3, 448, 448)\n",
      "\n",
      "0: 448x448 1 Speed limit 40 km/h, 50.9ms\n",
      "Speed: 2.0ms preprocess, 50.9ms inference, 1.0ms postprocess per image at shape (1, 3, 448, 448)\n"
     ]
    },
    {
     "name": "stderr",
     "output_type": "stream",
     "text": [
      " 58%|█████▊    | 342/592 [00:44<00:12, 19.59it/s]"
     ]
    },
    {
     "name": "stdout",
     "output_type": "stream",
     "text": [
      "\n",
      "0: 448x448 (no detections), 23.5ms\n",
      "Speed: 2.0ms preprocess, 23.5ms inference, 1.0ms postprocess per image at shape (1, 3, 448, 448)\n",
      "\n",
      "0: 448x448 1 Speed limit 30 km/h, 1 Roadworks, 17.0ms\n",
      "Speed: 2.0ms preprocess, 17.0ms inference, 0.9ms postprocess per image at shape (1, 3, 448, 448)\n",
      "\n",
      "0: 448x448 1 Speed limit 20 km/h, 19.8ms\n",
      "Speed: 2.0ms preprocess, 19.8ms inference, 0.0ms postprocess per image at shape (1, 3, 448, 448)\n"
     ]
    },
    {
     "name": "stderr",
     "output_type": "stream",
     "text": [
      " 58%|█████▊    | 345/592 [00:44<00:12, 20.13it/s]"
     ]
    },
    {
     "name": "stdout",
     "output_type": "stream",
     "text": [
      "\n",
      "0: 448x448 1 Speed limit 60 km/h, 22.5ms\n",
      "Speed: 2.0ms preprocess, 22.5ms inference, 1.0ms postprocess per image at shape (1, 3, 448, 448)\n",
      "\n",
      "0: 448x448 1 Speed limit 40 km/h, 16.7ms\n",
      "Speed: 2.3ms preprocess, 16.7ms inference, 0.9ms postprocess per image at shape (1, 3, 448, 448)\n",
      "\n",
      "0: 448x448 1 Speed limit 40 km/h, 19.3ms\n",
      "Speed: 2.1ms preprocess, 19.3ms inference, 1.0ms postprocess per image at shape (1, 3, 448, 448)\n"
     ]
    },
    {
     "name": "stderr",
     "output_type": "stream",
     "text": [
      " 59%|█████▉    | 348/592 [00:44<00:11, 20.58it/s]"
     ]
    },
    {
     "name": "stdout",
     "output_type": "stream",
     "text": [
      "\n",
      "0: 448x448 1 Speed limit 40 km/h, 19.8ms\n",
      "Speed: 2.9ms preprocess, 19.8ms inference, 0.0ms postprocess per image at shape (1, 3, 448, 448)\n",
      "\n",
      "0: 448x448 1 Speed limit 40 km/h, 20.1ms\n",
      "Speed: 2.0ms preprocess, 20.1ms inference, 1.0ms postprocess per image at shape (1, 3, 448, 448)\n",
      "\n",
      "0: 448x448 1 Pedestrian crossing, 36.6ms\n",
      "Speed: 5.0ms preprocess, 36.6ms inference, 1.0ms postprocess per image at shape (1, 3, 448, 448)\n"
     ]
    },
    {
     "name": "stderr",
     "output_type": "stream",
     "text": [
      " 59%|█████▉    | 351/592 [00:44<00:12, 19.79it/s]"
     ]
    },
    {
     "name": "stdout",
     "output_type": "stream",
     "text": [
      "\n",
      "0: 448x448 1 Pedestrian crossing, 17.7ms\n",
      "Speed: 1.0ms preprocess, 17.7ms inference, 1.0ms postprocess per image at shape (1, 3, 448, 448)\n",
      "\n",
      "0: 448x448 2 Pedestrian crossings, 18.6ms\n",
      "Speed: 2.0ms preprocess, 18.6ms inference, 0.0ms postprocess per image at shape (1, 3, 448, 448)\n",
      "\n",
      "0: 448x448 1 Speed limit 40 km/h, 17.7ms\n",
      "Speed: 2.0ms preprocess, 17.7ms inference, 1.0ms postprocess per image at shape (1, 3, 448, 448)\n"
     ]
    },
    {
     "name": "stderr",
     "output_type": "stream",
     "text": [
      " 60%|█████▉    | 354/592 [00:44<00:11, 20.63it/s]"
     ]
    },
    {
     "name": "stdout",
     "output_type": "stream",
     "text": [
      "\n",
      "0: 448x448 1 Speed limit 30 km/h, 18.1ms\n",
      "Speed: 1.9ms preprocess, 18.1ms inference, 0.0ms postprocess per image at shape (1, 3, 448, 448)\n",
      "\n",
      "0: 448x448 1 Speed limit 60 km/h, 17.4ms\n",
      "Speed: 2.2ms preprocess, 17.4ms inference, 1.0ms postprocess per image at shape (1, 3, 448, 448)\n",
      "\n",
      "0: 448x448 1 Speed limit 60 km/h, 16.5ms\n",
      "Speed: 3.0ms preprocess, 16.5ms inference, 0.0ms postprocess per image at shape (1, 3, 448, 448)\n"
     ]
    },
    {
     "name": "stderr",
     "output_type": "stream",
     "text": [
      " 60%|██████    | 357/592 [00:44<00:10, 21.74it/s]"
     ]
    },
    {
     "name": "stdout",
     "output_type": "stream",
     "text": [
      "\n",
      "0: 448x448 1 Speed limit 30 km/h, 1 Roadworks, 19.1ms\n",
      "Speed: 1.6ms preprocess, 19.1ms inference, 1.0ms postprocess per image at shape (1, 3, 448, 448)\n",
      "\n",
      "0: 448x448 1 Speed limit 60 km/h, 1 Roadworks, 19.7ms\n",
      "Speed: 3.0ms preprocess, 19.7ms inference, 1.0ms postprocess per image at shape (1, 3, 448, 448)\n",
      "\n",
      "0: 448x448 1 Roadworks, 18.9ms\n",
      "Speed: 1.1ms preprocess, 18.9ms inference, 1.0ms postprocess per image at shape (1, 3, 448, 448)\n"
     ]
    },
    {
     "name": "stderr",
     "output_type": "stream",
     "text": [
      " 61%|██████    | 360/592 [00:45<00:10, 22.06it/s]"
     ]
    },
    {
     "name": "stdout",
     "output_type": "stream",
     "text": [
      "\n",
      "0: 448x448 1 Roadworks, 19.1ms\n",
      "Speed: 2.0ms preprocess, 19.1ms inference, 0.0ms postprocess per image at shape (1, 3, 448, 448)\n",
      "\n",
      "0: 448x448 1 Speed limit 50 km/h, 17.7ms\n",
      "Speed: 1.9ms preprocess, 17.7ms inference, 1.0ms postprocess per image at shape (1, 3, 448, 448)\n",
      "\n",
      "0: 448x448 1 One-way traffic, 20.2ms\n",
      "Speed: 1.9ms preprocess, 20.2ms inference, 1.0ms postprocess per image at shape (1, 3, 448, 448)\n"
     ]
    },
    {
     "name": "stderr",
     "output_type": "stream",
     "text": [
      " 61%|██████▏   | 363/592 [00:45<00:10, 21.36it/s]"
     ]
    },
    {
     "name": "stdout",
     "output_type": "stream",
     "text": [
      "\n",
      "0: 448x448 1 Pedestrian crossing, 23.6ms\n",
      "Speed: 1.0ms preprocess, 23.6ms inference, 1.0ms postprocess per image at shape (1, 3, 448, 448)\n",
      "\n",
      "0: 448x448 1 Pedestrian crossing, 22.0ms\n",
      "Speed: 2.0ms preprocess, 22.0ms inference, 0.7ms postprocess per image at shape (1, 3, 448, 448)\n",
      "\n",
      "0: 448x448 1 Pedestrian crossing, 18.6ms\n",
      "Speed: 2.0ms preprocess, 18.6ms inference, 1.1ms postprocess per image at shape (1, 3, 448, 448)\n"
     ]
    },
    {
     "name": "stderr",
     "output_type": "stream",
     "text": [
      " 62%|██████▏   | 366/592 [00:45<00:10, 21.05it/s]"
     ]
    },
    {
     "name": "stdout",
     "output_type": "stream",
     "text": [
      "\n",
      "0: 448x448 1 Speed limit 80 km/h, 19.7ms\n",
      "Speed: 2.3ms preprocess, 19.7ms inference, 0.9ms postprocess per image at shape (1, 3, 448, 448)\n",
      "\n",
      "0: 448x448 (no detections), 18.1ms\n",
      "Speed: 2.0ms preprocess, 18.1ms inference, 0.0ms postprocess per image at shape (1, 3, 448, 448)\n",
      "\n",
      "0: 448x448 1 Pedestrian crossing, 21.5ms\n",
      "Speed: 2.1ms preprocess, 21.5ms inference, 1.0ms postprocess per image at shape (1, 3, 448, 448)\n"
     ]
    },
    {
     "name": "stderr",
     "output_type": "stream",
     "text": [
      " 62%|██████▏   | 369/592 [00:45<00:10, 21.86it/s]"
     ]
    },
    {
     "name": "stdout",
     "output_type": "stream",
     "text": [
      "\n",
      "0: 448x448 1 Speed limit 30 km/h, 19.0ms\n",
      "Speed: 1.0ms preprocess, 19.0ms inference, 0.0ms postprocess per image at shape (1, 3, 448, 448)\n",
      "\n",
      "0: 448x448 1 Roadworks, 20.0ms\n",
      "Speed: 1.1ms preprocess, 20.0ms inference, 0.0ms postprocess per image at shape (1, 3, 448, 448)\n",
      "\n",
      "0: 448x448 1 One-way traffic, 18.9ms\n",
      "Speed: 1.0ms preprocess, 18.9ms inference, 1.0ms postprocess per image at shape (1, 3, 448, 448)\n"
     ]
    },
    {
     "name": "stderr",
     "output_type": "stream",
     "text": [
      " 63%|██████▎   | 372/592 [00:45<00:09, 22.20it/s]"
     ]
    },
    {
     "name": "stdout",
     "output_type": "stream",
     "text": [
      "\n",
      "0: 448x448 1 No entry, 18.5ms\n",
      "Speed: 2.0ms preprocess, 18.5ms inference, 1.1ms postprocess per image at shape (1, 3, 448, 448)\n",
      "\n",
      "0: 448x448 1 Pedestrian crossing, 19.8ms\n",
      "Speed: 1.3ms preprocess, 19.8ms inference, 1.0ms postprocess per image at shape (1, 3, 448, 448)\n",
      "\n",
      "0: 448x448 1 Speed limit 40 km/h, 1 Roadworks, 18.7ms\n",
      "Speed: 2.0ms preprocess, 18.7ms inference, 2.3ms postprocess per image at shape (1, 3, 448, 448)\n"
     ]
    },
    {
     "name": "stderr",
     "output_type": "stream",
     "text": [
      " 63%|██████▎   | 375/592 [00:45<00:09, 22.11it/s]"
     ]
    },
    {
     "name": "stdout",
     "output_type": "stream",
     "text": [
      "\n",
      "0: 448x448 1 Pedestrian crossing, 18.4ms\n",
      "Speed: 2.0ms preprocess, 18.4ms inference, 1.0ms postprocess per image at shape (1, 3, 448, 448)\n",
      "\n",
      "0: 448x448 1 STOP, 1 Pedestrian crossing, 19.1ms\n",
      "Speed: 3.0ms preprocess, 19.1ms inference, 1.0ms postprocess per image at shape (1, 3, 448, 448)\n",
      "\n",
      "0: 448x448 1 Pedestrian crossing, 16.4ms\n",
      "Speed: 2.1ms preprocess, 16.4ms inference, 1.0ms postprocess per image at shape (1, 3, 448, 448)\n"
     ]
    },
    {
     "name": "stderr",
     "output_type": "stream",
     "text": [
      " 64%|██████▍   | 378/592 [00:45<00:09, 22.28it/s]"
     ]
    },
    {
     "name": "stdout",
     "output_type": "stream",
     "text": [
      "\n",
      "0: 448x448 1 One-way traffic, 1 Speed limit 30 km/h, 20.2ms\n",
      "Speed: 1.9ms preprocess, 20.2ms inference, 1.0ms postprocess per image at shape (1, 3, 448, 448)\n",
      "\n",
      "0: 448x448 1 Pedestrian crossing, 22.1ms\n",
      "Speed: 2.1ms preprocess, 22.1ms inference, 1.0ms postprocess per image at shape (1, 3, 448, 448)\n",
      "\n",
      "0: 448x448 2 Pedestrian crossings, 19.0ms\n",
      "Speed: 2.1ms preprocess, 19.0ms inference, 1.0ms postprocess per image at shape (1, 3, 448, 448)\n"
     ]
    },
    {
     "name": "stderr",
     "output_type": "stream",
     "text": [
      " 64%|██████▍   | 381/592 [00:45<00:09, 21.41it/s]"
     ]
    },
    {
     "name": "stdout",
     "output_type": "stream",
     "text": [
      "\n",
      "0: 448x448 1 Pedestrian crossing, 21.2ms\n",
      "Speed: 2.0ms preprocess, 21.2ms inference, 0.0ms postprocess per image at shape (1, 3, 448, 448)\n",
      "\n",
      "0: 448x448 1 Pedestrian crossing, 18.0ms\n",
      "Speed: 2.0ms preprocess, 18.0ms inference, 1.0ms postprocess per image at shape (1, 3, 448, 448)\n",
      "\n",
      "0: 448x448 1 Yield, 18.0ms\n",
      "Speed: 1.0ms preprocess, 18.0ms inference, 0.6ms postprocess per image at shape (1, 3, 448, 448)\n"
     ]
    },
    {
     "name": "stderr",
     "output_type": "stream",
     "text": [
      " 65%|██████▍   | 384/592 [00:46<00:09, 21.65it/s]"
     ]
    },
    {
     "name": "stdout",
     "output_type": "stream",
     "text": [
      "\n",
      "0: 448x448 1 STOP, 20.4ms\n",
      "Speed: 1.8ms preprocess, 20.4ms inference, 0.6ms postprocess per image at shape (1, 3, 448, 448)\n",
      "\n",
      "0: 448x448 2 Pedestrian crossings, 19.5ms\n",
      "Speed: 1.7ms preprocess, 19.5ms inference, 0.6ms postprocess per image at shape (1, 3, 448, 448)\n",
      "\n",
      "0: 448x448 1 Yield, 20.3ms\n",
      "Speed: 1.0ms preprocess, 20.3ms inference, 1.0ms postprocess per image at shape (1, 3, 448, 448)\n"
     ]
    },
    {
     "name": "stderr",
     "output_type": "stream",
     "text": [
      " 65%|██████▌   | 387/592 [00:46<00:09, 21.99it/s]"
     ]
    },
    {
     "name": "stdout",
     "output_type": "stream",
     "text": [
      "\n",
      "0: 448x448 1 Speed limit 30 km/h, 21.4ms\n",
      "Speed: 1.0ms preprocess, 21.4ms inference, 1.0ms postprocess per image at shape (1, 3, 448, 448)\n",
      "\n",
      "0: 448x448 1 Pedestrian crossing, 17.9ms\n",
      "Speed: 1.0ms preprocess, 17.9ms inference, 0.0ms postprocess per image at shape (1, 3, 448, 448)\n",
      "\n",
      "0: 448x448 1 Speed limit 30 km/h, 19.0ms\n",
      "Speed: 2.0ms preprocess, 19.0ms inference, 1.0ms postprocess per image at shape (1, 3, 448, 448)\n"
     ]
    },
    {
     "name": "stderr",
     "output_type": "stream",
     "text": [
      " 66%|██████▌   | 390/592 [00:46<00:09, 21.79it/s]"
     ]
    },
    {
     "name": "stdout",
     "output_type": "stream",
     "text": [
      "\n",
      "0: 448x448 1 Speed limit 30 km/h, 21.4ms\n",
      "Speed: 3.0ms preprocess, 21.4ms inference, 0.0ms postprocess per image at shape (1, 3, 448, 448)\n",
      "\n",
      "0: 448x448 1 Pedestrian crossing, 21.0ms\n",
      "Speed: 2.0ms preprocess, 21.0ms inference, 1.0ms postprocess per image at shape (1, 3, 448, 448)\n",
      "\n",
      "0: 448x448 1 One-way traffic, 19.7ms\n",
      "Speed: 2.1ms preprocess, 19.7ms inference, 0.0ms postprocess per image at shape (1, 3, 448, 448)\n"
     ]
    },
    {
     "name": "stderr",
     "output_type": "stream",
     "text": [
      " 66%|██████▋   | 393/592 [00:46<00:09, 21.51it/s]"
     ]
    },
    {
     "name": "stdout",
     "output_type": "stream",
     "text": [
      "\n",
      "0: 448x448 1 Yield, 1 Pedestrian crossing, 19.0ms\n",
      "Speed: 2.0ms preprocess, 19.0ms inference, 1.0ms postprocess per image at shape (1, 3, 448, 448)\n",
      "\n",
      "0: 448x448 1 One-way traffic, 22.9ms\n",
      "Speed: 2.0ms preprocess, 22.9ms inference, 1.0ms postprocess per image at shape (1, 3, 448, 448)\n",
      "\n",
      "0: 448x448 1 Speed limit 30 km/h, 17.6ms\n",
      "Speed: 2.0ms preprocess, 17.6ms inference, 0.0ms postprocess per image at shape (1, 3, 448, 448)\n"
     ]
    },
    {
     "name": "stderr",
     "output_type": "stream",
     "text": [
      " 67%|██████▋   | 396/592 [00:46<00:08, 21.78it/s]"
     ]
    },
    {
     "name": "stdout",
     "output_type": "stream",
     "text": [
      "\n",
      "0: 448x448 1 Yield, 20.2ms\n",
      "Speed: 2.0ms preprocess, 20.2ms inference, 1.0ms postprocess per image at shape (1, 3, 448, 448)\n",
      "\n",
      "0: 448x448 1 One-way traffic, 28.7ms\n",
      "Speed: 2.0ms preprocess, 28.7ms inference, 0.0ms postprocess per image at shape (1, 3, 448, 448)\n",
      "\n",
      "0: 448x448 1 Yield, 1 Speed limit 30 km/h, 17.0ms\n",
      "Speed: 1.1ms preprocess, 17.0ms inference, 1.1ms postprocess per image at shape (1, 3, 448, 448)\n"
     ]
    },
    {
     "name": "stderr",
     "output_type": "stream",
     "text": [
      " 67%|██████▋   | 399/592 [00:46<00:09, 20.86it/s]"
     ]
    },
    {
     "name": "stdout",
     "output_type": "stream",
     "text": [
      "\n",
      "0: 448x448 1 Yield, 18.0ms\n",
      "Speed: 2.0ms preprocess, 18.0ms inference, 1.0ms postprocess per image at shape (1, 3, 448, 448)\n",
      "\n",
      "0: 448x448 2 Pedestrian crossings, 1 No entry, 18.3ms\n",
      "Speed: 1.0ms preprocess, 18.3ms inference, 0.0ms postprocess per image at shape (1, 3, 448, 448)\n",
      "\n",
      "0: 448x448 1 Pedestrian crossing, 1 Speed limit 30 km/h, 17.3ms\n",
      "Speed: 1.6ms preprocess, 17.3ms inference, 0.0ms postprocess per image at shape (1, 3, 448, 448)\n"
     ]
    },
    {
     "name": "stderr",
     "output_type": "stream",
     "text": [
      " 68%|██████▊   | 402/592 [00:46<00:08, 21.69it/s]"
     ]
    },
    {
     "name": "stdout",
     "output_type": "stream",
     "text": [
      "\n",
      "0: 448x448 1 Yield, 1 No entry, 21.7ms\n",
      "Speed: 2.1ms preprocess, 21.7ms inference, 1.0ms postprocess per image at shape (1, 3, 448, 448)\n",
      "\n",
      "0: 448x448 1 Yield, 23.9ms\n",
      "Speed: 3.0ms preprocess, 23.9ms inference, 1.0ms postprocess per image at shape (1, 3, 448, 448)\n",
      "\n",
      "0: 448x448 1 Speed limit 30 km/h, 1 Roadworks, 20.6ms\n",
      "Speed: 2.0ms preprocess, 20.6ms inference, 0.0ms postprocess per image at shape (1, 3, 448, 448)\n"
     ]
    },
    {
     "name": "stderr",
     "output_type": "stream",
     "text": [
      " 68%|██████▊   | 405/592 [00:47<00:08, 20.94it/s]"
     ]
    },
    {
     "name": "stdout",
     "output_type": "stream",
     "text": [
      "\n",
      "0: 448x448 1 Speed limit 30 km/h, 1 Roadworks, 22.0ms\n",
      "Speed: 2.0ms preprocess, 22.0ms inference, 1.0ms postprocess per image at shape (1, 3, 448, 448)\n",
      "\n",
      "0: 448x448 1 Pedestrian crossing, 1 Speed limit 30 km/h, 17.0ms\n",
      "Speed: 1.0ms preprocess, 17.0ms inference, 1.0ms postprocess per image at shape (1, 3, 448, 448)\n",
      "\n",
      "0: 448x448 1 Yield, 1 Pedestrian crossing, 17.7ms\n",
      "Speed: 3.0ms preprocess, 17.7ms inference, 0.0ms postprocess per image at shape (1, 3, 448, 448)\n"
     ]
    },
    {
     "name": "stderr",
     "output_type": "stream",
     "text": [
      " 69%|██████▉   | 408/592 [00:47<00:08, 20.82it/s]"
     ]
    },
    {
     "name": "stdout",
     "output_type": "stream",
     "text": [
      "\n",
      "0: 448x448 1 Speed limit 40 km/h, 20.4ms\n",
      "Speed: 2.0ms preprocess, 20.4ms inference, 0.6ms postprocess per image at shape (1, 3, 448, 448)\n",
      "\n",
      "0: 448x448 1 Pedestrian crossing, 17.7ms\n",
      "Speed: 2.0ms preprocess, 17.7ms inference, 1.5ms postprocess per image at shape (1, 3, 448, 448)\n",
      "\n",
      "0: 448x448 2 Yields, 20.0ms\n",
      "Speed: 2.1ms preprocess, 20.0ms inference, 0.0ms postprocess per image at shape (1, 3, 448, 448)\n"
     ]
    },
    {
     "name": "stderr",
     "output_type": "stream",
     "text": [
      " 69%|██████▉   | 411/592 [00:47<00:08, 20.86it/s]"
     ]
    },
    {
     "name": "stdout",
     "output_type": "stream",
     "text": [
      "\n",
      "0: 448x448 1 Pedestrian crossing, 18.6ms\n",
      "Speed: 1.0ms preprocess, 18.6ms inference, 1.0ms postprocess per image at shape (1, 3, 448, 448)\n",
      "\n",
      "0: 448x448 2 Pedestrian crossings, 18.0ms\n",
      "Speed: 2.0ms preprocess, 18.0ms inference, 1.0ms postprocess per image at shape (1, 3, 448, 448)\n",
      "\n",
      "0: 448x448 1 One-way traffic, 1 Speed limit 50 km/h, 20.7ms\n",
      "Speed: 2.0ms preprocess, 20.7ms inference, 1.0ms postprocess per image at shape (1, 3, 448, 448)\n"
     ]
    },
    {
     "name": "stderr",
     "output_type": "stream",
     "text": [
      " 70%|██████▉   | 414/592 [00:47<00:08, 21.06it/s]"
     ]
    },
    {
     "name": "stdout",
     "output_type": "stream",
     "text": [
      "\n",
      "0: 448x448 2 Yields, 18.3ms\n",
      "Speed: 1.0ms preprocess, 18.3ms inference, 0.0ms postprocess per image at shape (1, 3, 448, 448)\n",
      "\n",
      "0: 448x448 1 No entry, 1 Speed limit 30 km/h, 1 Roadworks, 21.5ms\n",
      "Speed: 2.0ms preprocess, 21.5ms inference, 1.0ms postprocess per image at shape (1, 3, 448, 448)\n",
      "\n",
      "0: 448x448 1 One-way traffic, 1 No entry, 23.6ms\n",
      "Speed: 6.0ms preprocess, 23.6ms inference, 0.9ms postprocess per image at shape (1, 3, 448, 448)\n"
     ]
    },
    {
     "name": "stderr",
     "output_type": "stream",
     "text": [
      " 70%|███████   | 417/592 [00:47<00:08, 20.88it/s]"
     ]
    },
    {
     "name": "stdout",
     "output_type": "stream",
     "text": [
      "\n",
      "0: 448x448 1 Yield, 1 Pedestrian crossing, 1 No entry, 20.0ms\n",
      "Speed: 1.6ms preprocess, 20.0ms inference, 1.1ms postprocess per image at shape (1, 3, 448, 448)\n",
      "\n",
      "0: 448x448 1 Yield, 1 Pedestrian crossing, 21.0ms\n",
      "Speed: 2.0ms preprocess, 21.0ms inference, 1.0ms postprocess per image at shape (1, 3, 448, 448)\n",
      "\n",
      "0: 448x448 1 One-way traffic, 20.1ms\n",
      "Speed: 1.6ms preprocess, 20.1ms inference, 1.1ms postprocess per image at shape (1, 3, 448, 448)\n"
     ]
    },
    {
     "name": "stderr",
     "output_type": "stream",
     "text": [
      " 71%|███████   | 420/592 [00:47<00:08, 20.89it/s]"
     ]
    },
    {
     "name": "stdout",
     "output_type": "stream",
     "text": [
      "\n",
      "0: 448x448 3 Yields, 1 One-way traffic, 1 Pedestrian crossing, 1 Speed limit 20 km/h, 22.5ms\n",
      "Speed: 2.0ms preprocess, 22.5ms inference, 1.0ms postprocess per image at shape (1, 3, 448, 448)\n",
      "\n",
      "0: 448x448 1 Speed limit 20 km/h, 20.0ms\n",
      "Speed: 2.0ms preprocess, 20.0ms inference, 1.0ms postprocess per image at shape (1, 3, 448, 448)\n",
      "\n",
      "0: 448x448 1 Speed limit 20 km/h, 19.7ms\n",
      "Speed: 2.1ms preprocess, 19.7ms inference, 1.0ms postprocess per image at shape (1, 3, 448, 448)\n"
     ]
    },
    {
     "name": "stderr",
     "output_type": "stream",
     "text": [
      " 71%|███████▏  | 423/592 [00:47<00:08, 20.77it/s]"
     ]
    },
    {
     "name": "stdout",
     "output_type": "stream",
     "text": [
      "\n",
      "0: 448x448 1 One-way traffic, 18.6ms\n",
      "Speed: 2.0ms preprocess, 18.6ms inference, 1.2ms postprocess per image at shape (1, 3, 448, 448)\n",
      "\n",
      "0: 448x448 1 No entry, 1 Speed limit 20 km/h, 23.0ms\n",
      "Speed: 2.3ms preprocess, 23.0ms inference, 1.1ms postprocess per image at shape (1, 3, 448, 448)\n",
      "\n",
      "0: 448x448 1 STOP, 1 Pedestrian crossing, 18.6ms\n",
      "Speed: 1.9ms preprocess, 18.6ms inference, 1.0ms postprocess per image at shape (1, 3, 448, 448)\n"
     ]
    },
    {
     "name": "stderr",
     "output_type": "stream",
     "text": [
      " 72%|███████▏  | 426/592 [00:48<00:08, 20.71it/s]"
     ]
    },
    {
     "name": "stdout",
     "output_type": "stream",
     "text": [
      "\n",
      "0: 448x448 1 STOP, 1 Pedestrian crossing, 17.5ms\n",
      "Speed: 2.0ms preprocess, 17.5ms inference, 1.0ms postprocess per image at shape (1, 3, 448, 448)\n",
      "\n",
      "0: 448x448 1 Roadworks, 17.0ms\n",
      "Speed: 1.0ms preprocess, 17.0ms inference, 1.0ms postprocess per image at shape (1, 3, 448, 448)\n",
      "\n",
      "0: 448x448 1 Speed limit 30 km/h, 15.8ms\n",
      "Speed: 3.0ms preprocess, 15.8ms inference, 1.0ms postprocess per image at shape (1, 3, 448, 448)\n"
     ]
    },
    {
     "name": "stderr",
     "output_type": "stream",
     "text": [
      " 72%|███████▏  | 429/592 [00:48<00:07, 21.43it/s]"
     ]
    },
    {
     "name": "stdout",
     "output_type": "stream",
     "text": [
      "\n",
      "0: 448x448 1 Speed limit 30 km/h, 15.9ms\n",
      "Speed: 1.9ms preprocess, 15.9ms inference, 1.0ms postprocess per image at shape (1, 3, 448, 448)\n",
      "\n",
      "0: 448x448 1 Speed limit 30 km/h, 18.2ms\n",
      "Speed: 2.0ms preprocess, 18.2ms inference, 1.0ms postprocess per image at shape (1, 3, 448, 448)\n",
      "\n",
      "0: 448x448 1 Speed limit 50 km/h, 21.0ms\n",
      "Speed: 1.5ms preprocess, 21.0ms inference, 1.2ms postprocess per image at shape (1, 3, 448, 448)\n"
     ]
    },
    {
     "name": "stderr",
     "output_type": "stream",
     "text": [
      " 73%|███████▎  | 432/592 [00:48<00:07, 21.87it/s]"
     ]
    },
    {
     "name": "stdout",
     "output_type": "stream",
     "text": [
      "\n",
      "0: 448x448 1 Speed limit 50 km/h, 23.9ms\n",
      "Speed: 3.0ms preprocess, 23.9ms inference, 0.6ms postprocess per image at shape (1, 3, 448, 448)\n",
      "\n",
      "0: 448x448 1 Yield, 1 Speed limit 30 km/h, 17.1ms\n",
      "Speed: 2.3ms preprocess, 17.1ms inference, 1.0ms postprocess per image at shape (1, 3, 448, 448)\n",
      "\n",
      "0: 448x448 1 Speed limit 100 km/h, 29.9ms\n",
      "Speed: 2.0ms preprocess, 29.9ms inference, 1.0ms postprocess per image at shape (1, 3, 448, 448)\n"
     ]
    },
    {
     "name": "stderr",
     "output_type": "stream",
     "text": [
      " 73%|███████▎  | 435/592 [00:48<00:07, 21.38it/s]"
     ]
    },
    {
     "name": "stdout",
     "output_type": "stream",
     "text": [
      "\n",
      "0: 448x448 1 Yield, 1 Speed limit 30 km/h, 16.7ms\n",
      "Speed: 1.3ms preprocess, 16.7ms inference, 1.1ms postprocess per image at shape (1, 3, 448, 448)\n",
      "\n",
      "0: 448x448 1 Speed limit 50 km/h, 14.8ms\n",
      "Speed: 1.1ms preprocess, 14.8ms inference, 1.1ms postprocess per image at shape (1, 3, 448, 448)\n",
      "\n",
      "0: 448x448 1 Speed limit 50 km/h, 16.5ms\n",
      "Speed: 2.1ms preprocess, 16.5ms inference, 0.0ms postprocess per image at shape (1, 3, 448, 448)\n"
     ]
    },
    {
     "name": "stderr",
     "output_type": "stream",
     "text": [
      " 74%|███████▍  | 438/592 [00:48<00:06, 22.08it/s]"
     ]
    },
    {
     "name": "stdout",
     "output_type": "stream",
     "text": [
      "\n",
      "0: 448x448 1 Speed limit 50 km/h, 17.9ms\n",
      "Speed: 2.0ms preprocess, 17.9ms inference, 1.0ms postprocess per image at shape (1, 3, 448, 448)\n",
      "\n",
      "0: 448x448 1 Yield, 16.9ms\n",
      "Speed: 1.0ms preprocess, 16.9ms inference, 1.0ms postprocess per image at shape (1, 3, 448, 448)\n",
      "\n",
      "0: 448x448 1 Yield, 20.1ms\n",
      "Speed: 1.9ms preprocess, 20.1ms inference, 0.0ms postprocess per image at shape (1, 3, 448, 448)\n"
     ]
    },
    {
     "name": "stderr",
     "output_type": "stream",
     "text": [
      " 74%|███████▍  | 441/592 [00:48<00:06, 22.10it/s]"
     ]
    },
    {
     "name": "stdout",
     "output_type": "stream",
     "text": [
      "\n",
      "0: 448x448 1 Yield, 1 Pedestrian crossing, 18.0ms\n",
      "Speed: 2.0ms preprocess, 18.0ms inference, 1.0ms postprocess per image at shape (1, 3, 448, 448)\n",
      "\n",
      "0: 448x448 1 Speed limit 30 km/h, 17.0ms\n",
      "Speed: 2.0ms preprocess, 17.0ms inference, 0.0ms postprocess per image at shape (1, 3, 448, 448)\n",
      "\n",
      "0: 448x448 1 Speed limit 30 km/h, 16.1ms\n",
      "Speed: 2.0ms preprocess, 16.1ms inference, 1.0ms postprocess per image at shape (1, 3, 448, 448)\n"
     ]
    },
    {
     "name": "stderr",
     "output_type": "stream",
     "text": [
      " 75%|███████▌  | 444/592 [00:48<00:06, 22.65it/s]"
     ]
    },
    {
     "name": "stdout",
     "output_type": "stream",
     "text": [
      "\n",
      "0: 448x448 1 One-way traffic, 25.8ms\n",
      "Speed: 1.5ms preprocess, 25.8ms inference, 1.0ms postprocess per image at shape (1, 3, 448, 448)\n",
      "\n",
      "0: 448x448 1 Yield, 1 Pedestrian crossing, 20.6ms\n",
      "Speed: 2.0ms preprocess, 20.6ms inference, 1.0ms postprocess per image at shape (1, 3, 448, 448)\n",
      "\n",
      "0: 448x448 1 STOP, 20.5ms\n",
      "Speed: 2.0ms preprocess, 20.5ms inference, 0.0ms postprocess per image at shape (1, 3, 448, 448)\n"
     ]
    },
    {
     "name": "stderr",
     "output_type": "stream",
     "text": [
      " 76%|███████▌  | 447/592 [00:49<00:06, 21.87it/s]"
     ]
    },
    {
     "name": "stdout",
     "output_type": "stream",
     "text": [
      "\n",
      "0: 448x448 1 Pedestrian crossing, 20.9ms\n",
      "Speed: 2.0ms preprocess, 20.9ms inference, 0.0ms postprocess per image at shape (1, 3, 448, 448)\n",
      "\n",
      "0: 448x448 1 One-way traffic, 21.5ms\n",
      "Speed: 2.0ms preprocess, 21.5ms inference, 0.0ms postprocess per image at shape (1, 3, 448, 448)\n",
      "\n",
      "0: 448x448 1 One-way traffic, 19.5ms\n",
      "Speed: 1.8ms preprocess, 19.5ms inference, 1.1ms postprocess per image at shape (1, 3, 448, 448)\n"
     ]
    },
    {
     "name": "stderr",
     "output_type": "stream",
     "text": [
      " 76%|███████▌  | 450/592 [00:49<00:06, 21.73it/s]"
     ]
    },
    {
     "name": "stdout",
     "output_type": "stream",
     "text": [
      "\n",
      "0: 448x448 1 Pedestrian crossing, 20.8ms\n",
      "Speed: 2.0ms preprocess, 20.8ms inference, 1.0ms postprocess per image at shape (1, 3, 448, 448)\n",
      "\n",
      "0: 448x448 1 Speed limit 30 km/h, 17.1ms\n",
      "Speed: 2.0ms preprocess, 17.1ms inference, 1.0ms postprocess per image at shape (1, 3, 448, 448)\n",
      "\n",
      "0: 448x448 1 No entry, 1 Roadworks, 18.3ms\n",
      "Speed: 3.1ms preprocess, 18.3ms inference, 1.0ms postprocess per image at shape (1, 3, 448, 448)\n"
     ]
    },
    {
     "name": "stderr",
     "output_type": "stream",
     "text": [
      " 77%|███████▋  | 453/592 [00:49<00:06, 21.44it/s]"
     ]
    },
    {
     "name": "stdout",
     "output_type": "stream",
     "text": [
      "\n",
      "0: 448x448 1 STOP, 1 Pedestrian crossing, 17.0ms\n",
      "Speed: 0.9ms preprocess, 17.0ms inference, 0.0ms postprocess per image at shape (1, 3, 448, 448)\n",
      "\n",
      "0: 448x448 1 Speed limit 30 km/h, 25.6ms\n",
      "Speed: 2.0ms preprocess, 25.6ms inference, 1.1ms postprocess per image at shape (1, 3, 448, 448)\n",
      "\n",
      "0: 448x448 1 STOP, 1 Yield, 2 Pedestrian crossings, 21.0ms\n",
      "Speed: 2.0ms preprocess, 21.0ms inference, 1.0ms postprocess per image at shape (1, 3, 448, 448)\n"
     ]
    },
    {
     "name": "stderr",
     "output_type": "stream",
     "text": [
      " 77%|███████▋  | 456/592 [00:49<00:06, 21.32it/s]"
     ]
    },
    {
     "name": "stdout",
     "output_type": "stream",
     "text": [
      "\n",
      "0: 448x448 1 STOP, 1 Pedestrian crossing, 18.0ms\n",
      "Speed: 2.2ms preprocess, 18.0ms inference, 1.0ms postprocess per image at shape (1, 3, 448, 448)\n",
      "\n",
      "0: 448x448 1 Pedestrian crossing, 18.9ms\n",
      "Speed: 2.0ms preprocess, 18.9ms inference, 1.0ms postprocess per image at shape (1, 3, 448, 448)\n",
      "\n",
      "0: 448x448 1 STOP, 2 Pedestrian crossings, 20.1ms\n",
      "Speed: 2.0ms preprocess, 20.1ms inference, 1.0ms postprocess per image at shape (1, 3, 448, 448)\n"
     ]
    },
    {
     "name": "stderr",
     "output_type": "stream",
     "text": [
      " 78%|███████▊  | 459/592 [00:49<00:06, 20.95it/s]"
     ]
    },
    {
     "name": "stdout",
     "output_type": "stream",
     "text": [
      "\n",
      "0: 448x448 1 STOP, 1 Pedestrian crossing, 17.0ms\n",
      "Speed: 3.0ms preprocess, 17.0ms inference, 1.0ms postprocess per image at shape (1, 3, 448, 448)\n",
      "\n",
      "0: 448x448 1 Pedestrian crossing, 1 No entry, 18.4ms\n",
      "Speed: 2.1ms preprocess, 18.4ms inference, 1.0ms postprocess per image at shape (1, 3, 448, 448)\n",
      "\n",
      "0: 448x448 1 STOP, 19.1ms\n",
      "Speed: 2.0ms preprocess, 19.1ms inference, 1.0ms postprocess per image at shape (1, 3, 448, 448)\n"
     ]
    },
    {
     "name": "stderr",
     "output_type": "stream",
     "text": [
      " 78%|███████▊  | 462/592 [00:49<00:06, 21.41it/s]"
     ]
    },
    {
     "name": "stdout",
     "output_type": "stream",
     "text": [
      "\n",
      "0: 448x448 1 STOP, 1 Pedestrian crossing, 15.5ms\n",
      "Speed: 2.0ms preprocess, 15.5ms inference, 1.1ms postprocess per image at shape (1, 3, 448, 448)\n",
      "\n",
      "0: 448x448 1 Yield, 25.9ms\n",
      "Speed: 1.6ms preprocess, 25.9ms inference, 1.0ms postprocess per image at shape (1, 3, 448, 448)\n",
      "\n",
      "0: 448x448 1 Yield, 1 Pedestrian crossing, 27.1ms\n",
      "Speed: 2.0ms preprocess, 27.1ms inference, 1.9ms postprocess per image at shape (1, 3, 448, 448)\n"
     ]
    },
    {
     "name": "stderr",
     "output_type": "stream",
     "text": [
      " 79%|███████▊  | 465/592 [00:49<00:06, 20.42it/s]"
     ]
    },
    {
     "name": "stdout",
     "output_type": "stream",
     "text": [
      "\n",
      "0: 448x448 1 Yield, 19.0ms\n",
      "Speed: 2.0ms preprocess, 19.0ms inference, 1.0ms postprocess per image at shape (1, 3, 448, 448)\n",
      "\n",
      "0: 448x448 1 Speed limit 50 km/h, 17.9ms\n",
      "Speed: 2.0ms preprocess, 17.9ms inference, 0.0ms postprocess per image at shape (1, 3, 448, 448)\n",
      "\n",
      "0: 448x448 1 Pedestrian crossing, 1 Speed limit 30 km/h, 17.6ms\n",
      "Speed: 2.0ms preprocess, 17.6ms inference, 0.0ms postprocess per image at shape (1, 3, 448, 448)\n"
     ]
    },
    {
     "name": "stderr",
     "output_type": "stream",
     "text": [
      " 79%|███████▉  | 468/592 [00:50<00:05, 20.69it/s]"
     ]
    },
    {
     "name": "stdout",
     "output_type": "stream",
     "text": [
      "\n",
      "0: 448x448 1 Speed limit 50 km/h, 19.8ms\n",
      "Speed: 1.0ms preprocess, 19.8ms inference, 1.0ms postprocess per image at shape (1, 3, 448, 448)\n",
      "\n",
      "0: 448x448 1 Yield, 1 Speed limit 30 km/h, 18.0ms\n",
      "Speed: 2.0ms preprocess, 18.0ms inference, 0.0ms postprocess per image at shape (1, 3, 448, 448)\n",
      "\n",
      "0: 448x448 1 Speed limit 50 km/h, 19.1ms\n",
      "Speed: 2.0ms preprocess, 19.1ms inference, 1.0ms postprocess per image at shape (1, 3, 448, 448)\n"
     ]
    },
    {
     "name": "stderr",
     "output_type": "stream",
     "text": [
      " 80%|███████▉  | 471/592 [00:50<00:06, 19.96it/s]"
     ]
    },
    {
     "name": "stdout",
     "output_type": "stream",
     "text": [
      "\n",
      "0: 448x448 1 Speed limit 30 km/h, 19.5ms\n",
      "Speed: 4.1ms preprocess, 19.5ms inference, 1.0ms postprocess per image at shape (1, 3, 448, 448)\n",
      "\n",
      "0: 448x448 1 Yield, 17.2ms\n",
      "Speed: 2.2ms preprocess, 17.2ms inference, 1.0ms postprocess per image at shape (1, 3, 448, 448)\n",
      "\n",
      "0: 448x448 1 Speed limit 50 km/h, 18.7ms\n",
      "Speed: 2.0ms preprocess, 18.7ms inference, 0.0ms postprocess per image at shape (1, 3, 448, 448)\n"
     ]
    },
    {
     "name": "stderr",
     "output_type": "stream",
     "text": [
      " 80%|████████  | 474/592 [00:50<00:05, 20.33it/s]"
     ]
    },
    {
     "name": "stdout",
     "output_type": "stream",
     "text": [
      "\n",
      "0: 448x448 1 Speed limit 30 km/h, 20.7ms\n",
      "Speed: 1.1ms preprocess, 20.7ms inference, 1.0ms postprocess per image at shape (1, 3, 448, 448)\n",
      "\n",
      "0: 448x448 1 Speed limit 30 km/h, 21.0ms\n",
      "Speed: 1.0ms preprocess, 21.0ms inference, 1.0ms postprocess per image at shape (1, 3, 448, 448)\n",
      "\n",
      "0: 448x448 1 Speed limit 30 km/h, 16.0ms\n",
      "Speed: 2.7ms preprocess, 16.0ms inference, 1.0ms postprocess per image at shape (1, 3, 448, 448)\n"
     ]
    },
    {
     "name": "stderr",
     "output_type": "stream",
     "text": [
      " 81%|████████  | 477/592 [00:50<00:05, 20.65it/s]"
     ]
    },
    {
     "name": "stdout",
     "output_type": "stream",
     "text": [
      "\n",
      "0: 448x448 1 Speed limit 30 km/h, 19.0ms\n",
      "Speed: 1.6ms preprocess, 19.0ms inference, 0.0ms postprocess per image at shape (1, 3, 448, 448)\n",
      "\n",
      "0: 448x448 1 STOP, 1 Pedestrian crossing, 23.8ms\n",
      "Speed: 2.2ms preprocess, 23.8ms inference, 0.0ms postprocess per image at shape (1, 3, 448, 448)\n",
      "\n",
      "0: 448x448 1 STOP, 1 Pedestrian crossing, 24.6ms\n",
      "Speed: 2.5ms preprocess, 24.6ms inference, 1.0ms postprocess per image at shape (1, 3, 448, 448)\n"
     ]
    },
    {
     "name": "stderr",
     "output_type": "stream",
     "text": [
      " 81%|████████  | 480/592 [00:50<00:05, 20.46it/s]"
     ]
    },
    {
     "name": "stdout",
     "output_type": "stream",
     "text": [
      "\n",
      "0: 448x448 1 Pedestrian crossing, 24.7ms\n",
      "Speed: 1.4ms preprocess, 24.7ms inference, 0.5ms postprocess per image at shape (1, 3, 448, 448)\n",
      "\n",
      "0: 448x448 1 Roadworks, 20.2ms\n",
      "Speed: 2.1ms preprocess, 20.2ms inference, 1.8ms postprocess per image at shape (1, 3, 448, 448)\n",
      "\n",
      "0: 448x448 1 Yield, 23.9ms\n",
      "Speed: 2.3ms preprocess, 23.9ms inference, 1.0ms postprocess per image at shape (1, 3, 448, 448)\n"
     ]
    },
    {
     "name": "stderr",
     "output_type": "stream",
     "text": [
      " 82%|████████▏ | 483/592 [00:50<00:05, 20.30it/s]"
     ]
    },
    {
     "name": "stdout",
     "output_type": "stream",
     "text": [
      "\n",
      "0: 448x448 1 One-way traffic, 16.2ms\n",
      "Speed: 2.0ms preprocess, 16.2ms inference, 1.0ms postprocess per image at shape (1, 3, 448, 448)\n",
      "\n",
      "0: 448x448 1 Yield, 17.0ms\n",
      "Speed: 2.8ms preprocess, 17.0ms inference, 0.0ms postprocess per image at shape (1, 3, 448, 448)\n",
      "\n",
      "0: 448x448 1 Speed limit 40 km/h, 18.8ms\n",
      "Speed: 3.0ms preprocess, 18.8ms inference, 1.0ms postprocess per image at shape (1, 3, 448, 448)\n"
     ]
    },
    {
     "name": "stderr",
     "output_type": "stream",
     "text": [
      " 82%|████████▏ | 486/592 [00:50<00:05, 20.82it/s]"
     ]
    },
    {
     "name": "stdout",
     "output_type": "stream",
     "text": [
      "\n",
      "0: 448x448 (no detections), 22.4ms\n",
      "Speed: 1.0ms preprocess, 22.4ms inference, 1.0ms postprocess per image at shape (1, 3, 448, 448)\n",
      "\n",
      "0: 448x448 1 Pedestrian crossing, 37.9ms\n",
      "Speed: 2.2ms preprocess, 37.9ms inference, 0.9ms postprocess per image at shape (1, 3, 448, 448)\n",
      "\n",
      "0: 448x448 1 Speed limit 30 km/h, 19.3ms\n",
      "Speed: 1.0ms preprocess, 19.3ms inference, 0.0ms postprocess per image at shape (1, 3, 448, 448)\n"
     ]
    },
    {
     "name": "stderr",
     "output_type": "stream",
     "text": [
      " 83%|████████▎ | 489/592 [00:51<00:05, 20.23it/s]"
     ]
    },
    {
     "name": "stdout",
     "output_type": "stream",
     "text": [
      "\n",
      "0: 448x448 2 Yields, 1 Pedestrian crossing, 18.3ms\n",
      "Speed: 1.0ms preprocess, 18.3ms inference, 1.1ms postprocess per image at shape (1, 3, 448, 448)\n",
      "\n",
      "0: 448x448 1 Pedestrian crossing, 21.7ms\n",
      "Speed: 2.0ms preprocess, 21.7ms inference, 0.9ms postprocess per image at shape (1, 3, 448, 448)\n",
      "\n",
      "0: 448x448 1 Pedestrian crossing, 20.6ms\n",
      "Speed: 2.1ms preprocess, 20.6ms inference, 1.0ms postprocess per image at shape (1, 3, 448, 448)\n"
     ]
    },
    {
     "name": "stderr",
     "output_type": "stream",
     "text": [
      " 83%|████████▎ | 492/592 [00:51<00:04, 20.55it/s]"
     ]
    },
    {
     "name": "stdout",
     "output_type": "stream",
     "text": [
      "\n",
      "0: 448x448 1 Yield, 1 No entry, 19.5ms\n",
      "Speed: 2.0ms preprocess, 19.5ms inference, 1.1ms postprocess per image at shape (1, 3, 448, 448)\n",
      "\n",
      "0: 448x448 1 Pedestrian crossing, 18.1ms\n",
      "Speed: 1.1ms preprocess, 18.1ms inference, 0.0ms postprocess per image at shape (1, 3, 448, 448)\n",
      "\n",
      "0: 448x448 1 Speed limit 30 km/h, 27.0ms\n",
      "Speed: 3.0ms preprocess, 27.0ms inference, 1.0ms postprocess per image at shape (1, 3, 448, 448)\n"
     ]
    },
    {
     "name": "stderr",
     "output_type": "stream",
     "text": [
      " 84%|████████▎ | 495/592 [00:51<00:04, 20.26it/s]"
     ]
    },
    {
     "name": "stdout",
     "output_type": "stream",
     "text": [
      "\n",
      "0: 448x448 1 Pedestrian crossing, 24.6ms\n",
      "Speed: 3.0ms preprocess, 24.6ms inference, 1.0ms postprocess per image at shape (1, 3, 448, 448)\n",
      "\n",
      "0: 448x448 1 Speed limit 30 km/h, 18.5ms\n",
      "Speed: 2.0ms preprocess, 18.5ms inference, 1.0ms postprocess per image at shape (1, 3, 448, 448)\n",
      "\n",
      "0: 448x448 1 Speed limit 60 km/h, 17.8ms\n",
      "Speed: 3.0ms preprocess, 17.8ms inference, 2.0ms postprocess per image at shape (1, 3, 448, 448)\n"
     ]
    },
    {
     "name": "stderr",
     "output_type": "stream",
     "text": [
      " 84%|████████▍ | 498/592 [00:51<00:04, 20.24it/s]"
     ]
    },
    {
     "name": "stdout",
     "output_type": "stream",
     "text": [
      "\n",
      "0: 448x448 1 Speed limit 40 km/h, 20.7ms\n",
      "Speed: 2.0ms preprocess, 20.7ms inference, 0.0ms postprocess per image at shape (1, 3, 448, 448)\n",
      "\n",
      "0: 448x448 1 Pedestrian crossing, 21.5ms\n",
      "Speed: 3.2ms preprocess, 21.5ms inference, 1.1ms postprocess per image at shape (1, 3, 448, 448)\n",
      "\n",
      "0: 448x448 (no detections), 29.5ms\n",
      "Speed: 2.0ms preprocess, 29.5ms inference, 0.0ms postprocess per image at shape (1, 3, 448, 448)\n"
     ]
    },
    {
     "name": "stderr",
     "output_type": "stream",
     "text": [
      " 85%|████████▍ | 501/592 [00:51<00:04, 19.94it/s]"
     ]
    },
    {
     "name": "stdout",
     "output_type": "stream",
     "text": [
      "\n",
      "0: 448x448 (no detections), 18.7ms\n",
      "Speed: 2.0ms preprocess, 18.7ms inference, 0.0ms postprocess per image at shape (1, 3, 448, 448)\n",
      "\n",
      "0: 448x448 1 Speed limit 60 km/h, 17.0ms\n",
      "Speed: 0.9ms preprocess, 17.0ms inference, 1.0ms postprocess per image at shape (1, 3, 448, 448)\n",
      "\n",
      "0: 448x448 1 Yield, 21.7ms\n",
      "Speed: 3.2ms preprocess, 21.7ms inference, 1.0ms postprocess per image at shape (1, 3, 448, 448)\n"
     ]
    },
    {
     "name": "stderr",
     "output_type": "stream",
     "text": [
      " 85%|████████▌ | 504/592 [00:51<00:04, 20.60it/s]"
     ]
    },
    {
     "name": "stdout",
     "output_type": "stream",
     "text": [
      "\n",
      "0: 448x448 1 One-way traffic, 23.4ms\n",
      "Speed: 1.0ms preprocess, 23.4ms inference, 1.0ms postprocess per image at shape (1, 3, 448, 448)\n",
      "\n",
      "0: 448x448 1 Speed limit 80 km/h, 19.5ms\n",
      "Speed: 2.0ms preprocess, 19.5ms inference, 1.1ms postprocess per image at shape (1, 3, 448, 448)\n",
      "\n",
      "0: 448x448 1 Speed limit 80 km/h, 26.0ms\n",
      "Speed: 2.0ms preprocess, 26.0ms inference, 1.0ms postprocess per image at shape (1, 3, 448, 448)\n"
     ]
    },
    {
     "name": "stderr",
     "output_type": "stream",
     "text": [
      " 86%|████████▌ | 507/592 [00:51<00:04, 20.56it/s]"
     ]
    },
    {
     "name": "stdout",
     "output_type": "stream",
     "text": [
      "\n",
      "0: 448x448 1 Yield, 1 Speed limit 40 km/h, 20.0ms\n",
      "Speed: 2.0ms preprocess, 20.0ms inference, 0.0ms postprocess per image at shape (1, 3, 448, 448)\n",
      "\n",
      "0: 448x448 1 Speed limit 80 km/h, 22.1ms\n",
      "Speed: 1.3ms preprocess, 22.1ms inference, 1.0ms postprocess per image at shape (1, 3, 448, 448)\n",
      "\n",
      "0: 448x448 1 Speed limit 40 km/h, 17.6ms\n",
      "Speed: 2.2ms preprocess, 17.6ms inference, 0.0ms postprocess per image at shape (1, 3, 448, 448)\n"
     ]
    },
    {
     "name": "stderr",
     "output_type": "stream",
     "text": [
      " 86%|████████▌ | 510/592 [00:52<00:03, 20.96it/s]"
     ]
    },
    {
     "name": "stdout",
     "output_type": "stream",
     "text": [
      "\n",
      "0: 448x448 1 Speed limit 40 km/h, 18.6ms\n",
      "Speed: 1.6ms preprocess, 18.6ms inference, 0.0ms postprocess per image at shape (1, 3, 448, 448)\n",
      "\n",
      "0: 448x448 1 Speed limit 60 km/h, 16.6ms\n",
      "Speed: 1.0ms preprocess, 16.6ms inference, 1.1ms postprocess per image at shape (1, 3, 448, 448)\n",
      "\n",
      "0: 448x448 1 Speed limit 60 km/h, 18.2ms\n",
      "Speed: 2.0ms preprocess, 18.2ms inference, 1.0ms postprocess per image at shape (1, 3, 448, 448)\n"
     ]
    },
    {
     "name": "stderr",
     "output_type": "stream",
     "text": [
      " 87%|████████▋ | 513/592 [00:52<00:03, 21.40it/s]"
     ]
    },
    {
     "name": "stdout",
     "output_type": "stream",
     "text": [
      "\n",
      "0: 448x448 1 Speed limit 60 km/h, 19.6ms\n",
      "Speed: 2.1ms preprocess, 19.6ms inference, 0.9ms postprocess per image at shape (1, 3, 448, 448)\n",
      "\n",
      "0: 448x448 1 No entry, 18.9ms\n",
      "Speed: 2.8ms preprocess, 18.9ms inference, 0.3ms postprocess per image at shape (1, 3, 448, 448)\n",
      "\n",
      "0: 448x448 1 Speed limit 30 km/h, 20.9ms\n",
      "Speed: 1.0ms preprocess, 20.9ms inference, 0.0ms postprocess per image at shape (1, 3, 448, 448)\n"
     ]
    },
    {
     "name": "stderr",
     "output_type": "stream",
     "text": [
      " 87%|████████▋ | 516/592 [00:52<00:03, 21.63it/s]"
     ]
    },
    {
     "name": "stdout",
     "output_type": "stream",
     "text": [
      "\n",
      "0: 448x448 1 Speed limit 80 km/h, 16.1ms\n",
      "Speed: 1.0ms preprocess, 16.1ms inference, 1.1ms postprocess per image at shape (1, 3, 448, 448)\n",
      "\n",
      "0: 448x448 1 Speed limit 60 km/h, 18.8ms\n",
      "Speed: 1.0ms preprocess, 18.8ms inference, 1.1ms postprocess per image at shape (1, 3, 448, 448)\n",
      "\n",
      "0: 448x448 1 Speed limit 60 km/h, 18.7ms\n",
      "Speed: 2.1ms preprocess, 18.7ms inference, 1.0ms postprocess per image at shape (1, 3, 448, 448)\n"
     ]
    },
    {
     "name": "stderr",
     "output_type": "stream",
     "text": [
      " 88%|████████▊ | 519/592 [00:52<00:03, 21.75it/s]"
     ]
    },
    {
     "name": "stdout",
     "output_type": "stream",
     "text": [
      "\n",
      "0: 448x448 1 Speed limit 100 km/h, 18.1ms\n",
      "Speed: 1.0ms preprocess, 18.1ms inference, 0.9ms postprocess per image at shape (1, 3, 448, 448)\n",
      "\n",
      "0: 448x448 1 Speed limit 100 km/h, 23.4ms\n",
      "Speed: 4.0ms preprocess, 23.4ms inference, 0.0ms postprocess per image at shape (1, 3, 448, 448)\n",
      "\n",
      "0: 448x448 1 Speed limit 80 km/h, 18.6ms\n",
      "Speed: 3.0ms preprocess, 18.6ms inference, 1.0ms postprocess per image at shape (1, 3, 448, 448)\n"
     ]
    },
    {
     "name": "stderr",
     "output_type": "stream",
     "text": [
      " 88%|████████▊ | 522/592 [00:52<00:03, 21.71it/s]"
     ]
    },
    {
     "name": "stdout",
     "output_type": "stream",
     "text": [
      "\n",
      "0: 448x448 1 Speed limit 60 km/h, 14.7ms\n",
      "Speed: 2.0ms preprocess, 14.7ms inference, 1.0ms postprocess per image at shape (1, 3, 448, 448)\n",
      "\n",
      "0: 448x448 1 STOP, 1 Speed limit 50 km/h, 21.2ms\n",
      "Speed: 2.0ms preprocess, 21.2ms inference, 0.0ms postprocess per image at shape (1, 3, 448, 448)\n",
      "\n",
      "0: 448x448 1 Speed limit 100 km/h, 36.1ms\n",
      "Speed: 2.0ms preprocess, 36.1ms inference, 2.0ms postprocess per image at shape (1, 3, 448, 448)\n"
     ]
    },
    {
     "name": "stderr",
     "output_type": "stream",
     "text": [
      " 89%|████████▊ | 525/592 [00:52<00:03, 20.66it/s]"
     ]
    },
    {
     "name": "stdout",
     "output_type": "stream",
     "text": [
      "\n",
      "0: 448x448 1 Speed limit 100 km/h, 20.3ms\n",
      "Speed: 1.1ms preprocess, 20.3ms inference, 1.0ms postprocess per image at shape (1, 3, 448, 448)\n",
      "\n",
      "0: 448x448 1 Speed limit 100 km/h, 42.4ms\n",
      "Speed: 2.5ms preprocess, 42.4ms inference, 1.5ms postprocess per image at shape (1, 3, 448, 448)\n",
      "\n",
      "0: 448x448 1 Speed limit 100 km/h, 20.3ms\n",
      "Speed: 2.4ms preprocess, 20.3ms inference, 1.1ms postprocess per image at shape (1, 3, 448, 448)\n"
     ]
    },
    {
     "name": "stderr",
     "output_type": "stream",
     "text": [
      " 89%|████████▉ | 528/592 [00:53<00:03, 19.40it/s]"
     ]
    },
    {
     "name": "stdout",
     "output_type": "stream",
     "text": [
      "\n",
      "0: 448x448 1 Speed limit 100 km/h, 17.9ms\n",
      "Speed: 2.2ms preprocess, 17.9ms inference, 0.5ms postprocess per image at shape (1, 3, 448, 448)\n",
      "\n",
      "0: 448x448 1 One-way traffic, 1 Speed limit 60 km/h, 18.9ms\n",
      "Speed: 3.0ms preprocess, 18.9ms inference, 1.0ms postprocess per image at shape (1, 3, 448, 448)\n",
      "\n",
      "0: 448x448 1 Roadworks, 20.5ms\n",
      "Speed: 2.0ms preprocess, 20.5ms inference, 1.5ms postprocess per image at shape (1, 3, 448, 448)\n"
     ]
    },
    {
     "name": "stderr",
     "output_type": "stream",
     "text": [
      " 90%|████████▉ | 531/592 [00:53<00:03, 19.89it/s]"
     ]
    },
    {
     "name": "stdout",
     "output_type": "stream",
     "text": [
      "\n",
      "0: 448x448 1 Speed limit 100 km/h, 21.0ms\n",
      "Speed: 2.1ms preprocess, 21.0ms inference, 1.0ms postprocess per image at shape (1, 3, 448, 448)\n",
      "\n",
      "0: 448x448 1 Speed limit 60 km/h, 17.2ms\n",
      "Speed: 1.0ms preprocess, 17.2ms inference, 1.1ms postprocess per image at shape (1, 3, 448, 448)\n",
      "\n",
      "0: 448x448 1 Speed limit 60 km/h, 24.4ms\n",
      "Speed: 1.0ms preprocess, 24.4ms inference, 1.0ms postprocess per image at shape (1, 3, 448, 448)\n"
     ]
    },
    {
     "name": "stderr",
     "output_type": "stream",
     "text": [
      " 90%|█████████ | 534/592 [00:53<00:02, 20.67it/s]"
     ]
    },
    {
     "name": "stdout",
     "output_type": "stream",
     "text": [
      "\n",
      "0: 448x448 2 Roadworkss, 20.6ms\n",
      "Speed: 1.0ms preprocess, 20.6ms inference, 1.0ms postprocess per image at shape (1, 3, 448, 448)\n",
      "\n",
      "0: 448x448 1 Yield, 22.6ms\n",
      "Speed: 1.1ms preprocess, 22.6ms inference, 1.0ms postprocess per image at shape (1, 3, 448, 448)\n",
      "\n",
      "0: 448x448 1 One-way traffic, 18.5ms\n",
      "Speed: 2.0ms preprocess, 18.5ms inference, 0.9ms postprocess per image at shape (1, 3, 448, 448)\n"
     ]
    },
    {
     "name": "stderr",
     "output_type": "stream",
     "text": [
      " 91%|█████████ | 537/592 [00:53<00:02, 21.07it/s]"
     ]
    },
    {
     "name": "stdout",
     "output_type": "stream",
     "text": [
      "\n",
      "0: 448x448 1 Speed limit 80 km/h, 18.4ms\n",
      "Speed: 1.5ms preprocess, 18.4ms inference, 1.0ms postprocess per image at shape (1, 3, 448, 448)\n",
      "\n",
      "0: 448x448 1 Pedestrian crossing, 19.8ms\n",
      "Speed: 2.0ms preprocess, 19.8ms inference, 1.0ms postprocess per image at shape (1, 3, 448, 448)\n",
      "\n",
      "0: 448x448 1 Yield, 1 Pedestrian crossing, 19.3ms\n",
      "Speed: 2.0ms preprocess, 19.3ms inference, 1.1ms postprocess per image at shape (1, 3, 448, 448)\n"
     ]
    },
    {
     "name": "stderr",
     "output_type": "stream",
     "text": [
      " 91%|█████████ | 540/592 [00:53<00:02, 21.27it/s]"
     ]
    },
    {
     "name": "stdout",
     "output_type": "stream",
     "text": [
      "\n",
      "0: 448x448 1 Pedestrian crossing, 17.9ms\n",
      "Speed: 1.3ms preprocess, 17.9ms inference, 1.0ms postprocess per image at shape (1, 3, 448, 448)\n",
      "\n",
      "0: 448x448 1 No entry, 23.2ms\n",
      "Speed: 2.5ms preprocess, 23.2ms inference, 0.0ms postprocess per image at shape (1, 3, 448, 448)\n",
      "\n",
      "0: 448x448 1 No entry, 17.9ms\n",
      "Speed: 1.1ms preprocess, 17.9ms inference, 1.0ms postprocess per image at shape (1, 3, 448, 448)\n"
     ]
    },
    {
     "name": "stderr",
     "output_type": "stream",
     "text": [
      " 92%|█████████▏| 543/592 [00:53<00:02, 21.27it/s]"
     ]
    },
    {
     "name": "stdout",
     "output_type": "stream",
     "text": [
      "\n",
      "0: 448x448 1 No entry, 26.9ms\n",
      "Speed: 1.7ms preprocess, 26.9ms inference, 0.0ms postprocess per image at shape (1, 3, 448, 448)\n",
      "\n",
      "0: 448x448 1 Yield, 18.3ms\n",
      "Speed: 1.5ms preprocess, 18.3ms inference, 1.4ms postprocess per image at shape (1, 3, 448, 448)\n",
      "\n",
      "0: 448x448 1 Yield, 22.7ms\n",
      "Speed: 1.0ms preprocess, 22.7ms inference, 1.0ms postprocess per image at shape (1, 3, 448, 448)\n"
     ]
    },
    {
     "name": "stderr",
     "output_type": "stream",
     "text": [
      " 92%|█████████▏| 546/592 [00:53<00:02, 21.29it/s]"
     ]
    },
    {
     "name": "stdout",
     "output_type": "stream",
     "text": [
      "\n",
      "0: 448x448 1 No entry, 21.1ms\n",
      "Speed: 2.0ms preprocess, 21.1ms inference, 1.0ms postprocess per image at shape (1, 3, 448, 448)\n",
      "\n",
      "0: 448x448 1 Yield, 18.0ms\n",
      "Speed: 1.0ms preprocess, 18.0ms inference, 0.0ms postprocess per image at shape (1, 3, 448, 448)\n",
      "\n",
      "0: 448x448 1 STOP, 18.0ms\n",
      "Speed: 2.0ms preprocess, 18.0ms inference, 0.0ms postprocess per image at shape (1, 3, 448, 448)\n"
     ]
    },
    {
     "name": "stderr",
     "output_type": "stream",
     "text": [
      " 93%|█████████▎| 549/592 [00:53<00:01, 21.79it/s]"
     ]
    },
    {
     "name": "stdout",
     "output_type": "stream",
     "text": [
      "\n",
      "0: 448x448 1 Yield, 18.1ms\n",
      "Speed: 2.0ms preprocess, 18.1ms inference, 1.0ms postprocess per image at shape (1, 3, 448, 448)\n",
      "\n",
      "0: 448x448 1 Pedestrian crossing, 16.0ms\n",
      "Speed: 2.0ms preprocess, 16.0ms inference, 0.9ms postprocess per image at shape (1, 3, 448, 448)\n",
      "\n",
      "0: 448x448 1 No entry, 20.9ms\n",
      "Speed: 2.0ms preprocess, 20.9ms inference, 1.1ms postprocess per image at shape (1, 3, 448, 448)\n"
     ]
    },
    {
     "name": "stderr",
     "output_type": "stream",
     "text": [
      " 93%|█████████▎| 552/592 [00:54<00:01, 22.45it/s]"
     ]
    },
    {
     "name": "stdout",
     "output_type": "stream",
     "text": [
      "\n",
      "0: 448x448 1 Yield, 1 Pedestrian crossing, 17.5ms\n",
      "Speed: 2.0ms preprocess, 17.5ms inference, 1.0ms postprocess per image at shape (1, 3, 448, 448)\n",
      "\n",
      "0: 320x448 1 STOP, 22.9ms\n",
      "Speed: 2.0ms preprocess, 22.9ms inference, 1.0ms postprocess per image at shape (1, 3, 320, 448)\n",
      "\n",
      "0: 320x448 1 STOP, 17.8ms\n",
      "Speed: 2.0ms preprocess, 17.8ms inference, 1.5ms postprocess per image at shape (1, 3, 320, 448)\n"
     ]
    },
    {
     "name": "stderr",
     "output_type": "stream",
     "text": [
      " 94%|█████████▍| 555/592 [00:54<00:01, 19.65it/s]"
     ]
    },
    {
     "name": "stdout",
     "output_type": "stream",
     "text": [
      "\n",
      "0: 320x448 1 Speed limit 30 km/h, 19.8ms\n",
      "Speed: 1.9ms preprocess, 19.8ms inference, 1.0ms postprocess per image at shape (1, 3, 320, 448)\n",
      "\n",
      "0: 448x320 1 STOP, 41.2ms\n",
      "Speed: 1.5ms preprocess, 41.2ms inference, 1.6ms postprocess per image at shape (1, 3, 448, 320)\n",
      "\n",
      "0: 224x448 1 Speed limit 30 km/h, 18.9ms\n",
      "Speed: 2.0ms preprocess, 18.9ms inference, 0.0ms postprocess per image at shape (1, 3, 224, 448)\n"
     ]
    },
    {
     "name": "stderr",
     "output_type": "stream",
     "text": [
      " 94%|█████████▍| 558/592 [00:54<00:02, 16.91it/s]"
     ]
    },
    {
     "name": "stdout",
     "output_type": "stream",
     "text": [
      "\n",
      "0: 224x448 (no detections), 18.5ms\n",
      "Speed: 1.1ms preprocess, 18.5ms inference, 0.9ms postprocess per image at shape (1, 3, 224, 448)\n",
      "\n",
      "0: 224x448 1 Pedestrian crossing, 15.6ms\n",
      "Speed: 1.0ms preprocess, 15.6ms inference, 1.1ms postprocess per image at shape (1, 3, 224, 448)\n"
     ]
    },
    {
     "name": "stderr",
     "output_type": "stream",
     "text": [
      " 95%|█████████▍| 560/592 [00:54<00:01, 16.39it/s]"
     ]
    },
    {
     "name": "stdout",
     "output_type": "stream",
     "text": [
      "\n",
      "0: 224x448 (no detections), 18.3ms\n",
      "Speed: 2.0ms preprocess, 18.3ms inference, 1.0ms postprocess per image at shape (1, 3, 224, 448)\n",
      "\n",
      "0: 224x448 2 Yields, 20.3ms\n",
      "Speed: 0.6ms preprocess, 20.3ms inference, 0.0ms postprocess per image at shape (1, 3, 224, 448)\n"
     ]
    },
    {
     "name": "stderr",
     "output_type": "stream",
     "text": [
      " 95%|█████████▍| 562/592 [00:54<00:01, 16.37it/s]"
     ]
    },
    {
     "name": "stdout",
     "output_type": "stream",
     "text": [
      "\n",
      "0: 224x448 (no detections), 18.3ms\n",
      "Speed: 1.0ms preprocess, 18.3ms inference, 1.0ms postprocess per image at shape (1, 3, 224, 448)\n",
      "\n",
      "0: 224x448 1 Yield, 20.1ms\n",
      "Speed: 2.0ms preprocess, 20.1ms inference, 0.0ms postprocess per image at shape (1, 3, 224, 448)\n"
     ]
    },
    {
     "name": "stderr",
     "output_type": "stream",
     "text": [
      " 95%|█████████▌| 564/592 [00:54<00:01, 16.60it/s]"
     ]
    },
    {
     "name": "stdout",
     "output_type": "stream",
     "text": [
      "\n",
      "0: 224x448 (no detections), 22.5ms\n",
      "Speed: 2.0ms preprocess, 22.5ms inference, 0.0ms postprocess per image at shape (1, 3, 224, 448)\n",
      "\n",
      "0: 224x448 (no detections), 33.9ms\n",
      "Speed: 1.0ms preprocess, 33.9ms inference, 1.0ms postprocess per image at shape (1, 3, 224, 448)\n"
     ]
    },
    {
     "name": "stderr",
     "output_type": "stream",
     "text": [
      " 96%|█████████▌| 566/592 [00:55<00:01, 15.80it/s]"
     ]
    },
    {
     "name": "stdout",
     "output_type": "stream",
     "text": [
      "\n",
      "0: 224x448 1 Speed limit 50 km/h, 1 Speed limit 60 km/h, 17.4ms\n",
      "Speed: 1.1ms preprocess, 17.4ms inference, 1.3ms postprocess per image at shape (1, 3, 224, 448)\n",
      "\n",
      "0: 224x448 1 Yield, 19.1ms\n",
      "Speed: 1.3ms preprocess, 19.1ms inference, 1.0ms postprocess per image at shape (1, 3, 224, 448)\n"
     ]
    },
    {
     "name": "stderr",
     "output_type": "stream",
     "text": [
      " 96%|█████████▌| 568/592 [00:55<00:01, 16.27it/s]"
     ]
    },
    {
     "name": "stdout",
     "output_type": "stream",
     "text": [
      "\n",
      "0: 224x448 (no detections), 22.0ms\n",
      "Speed: 1.5ms preprocess, 22.0ms inference, 0.5ms postprocess per image at shape (1, 3, 224, 448)\n",
      "\n",
      "0: 224x448 2 Roadworkss, 18.5ms\n",
      "Speed: 1.6ms preprocess, 18.5ms inference, 0.6ms postprocess per image at shape (1, 3, 224, 448)\n"
     ]
    },
    {
     "name": "stderr",
     "output_type": "stream",
     "text": [
      " 96%|█████████▋| 570/592 [00:55<00:01, 16.68it/s]"
     ]
    },
    {
     "name": "stdout",
     "output_type": "stream",
     "text": [
      "\n",
      "0: 224x448 (no detections), 20.2ms\n",
      "Speed: 1.0ms preprocess, 20.2ms inference, 1.1ms postprocess per image at shape (1, 3, 224, 448)\n",
      "\n",
      "0: 224x448 1 Roadworks, 18.0ms\n",
      "Speed: 1.1ms preprocess, 18.0ms inference, 1.0ms postprocess per image at shape (1, 3, 224, 448)\n"
     ]
    },
    {
     "name": "stderr",
     "output_type": "stream",
     "text": [
      " 97%|█████████▋| 572/592 [00:55<00:01, 16.68it/s]"
     ]
    },
    {
     "name": "stdout",
     "output_type": "stream",
     "text": [
      "\n",
      "0: 224x448 1 Yield, 26.2ms\n",
      "Speed: 1.0ms preprocess, 26.2ms inference, 1.0ms postprocess per image at shape (1, 3, 224, 448)\n",
      "\n",
      "0: 224x448 2 STOPs, 19.6ms\n",
      "Speed: 1.1ms preprocess, 19.6ms inference, 1.0ms postprocess per image at shape (1, 3, 224, 448)\n"
     ]
    },
    {
     "name": "stderr",
     "output_type": "stream",
     "text": [
      " 97%|█████████▋| 574/592 [00:55<00:01, 16.61it/s]"
     ]
    },
    {
     "name": "stdout",
     "output_type": "stream",
     "text": [
      "\n",
      "0: 224x448 1 Yield, 1 Speed limit 80 km/h, 18.3ms\n",
      "Speed: 2.0ms preprocess, 18.3ms inference, 1.1ms postprocess per image at shape (1, 3, 224, 448)\n",
      "\n",
      "0: 224x448 1 Yield, 21.2ms\n",
      "Speed: 1.0ms preprocess, 21.2ms inference, 1.0ms postprocess per image at shape (1, 3, 224, 448)\n"
     ]
    },
    {
     "name": "stderr",
     "output_type": "stream",
     "text": [
      " 97%|█████████▋| 576/592 [00:55<00:00, 16.65it/s]"
     ]
    },
    {
     "name": "stdout",
     "output_type": "stream",
     "text": [
      "\n",
      "0: 224x448 (no detections), 17.7ms\n",
      "Speed: 2.0ms preprocess, 17.7ms inference, 0.0ms postprocess per image at shape (1, 3, 224, 448)\n",
      "\n",
      "0: 224x448 (no detections), 23.0ms\n",
      "Speed: 1.0ms preprocess, 23.0ms inference, 0.0ms postprocess per image at shape (1, 3, 224, 448)\n"
     ]
    },
    {
     "name": "stderr",
     "output_type": "stream",
     "text": [
      " 98%|█████████▊| 578/592 [00:55<00:00, 16.93it/s]"
     ]
    },
    {
     "name": "stdout",
     "output_type": "stream",
     "text": [
      "\n",
      "0: 224x448 2 STOPs, 21.3ms\n",
      "Speed: 1.0ms preprocess, 21.3ms inference, 0.9ms postprocess per image at shape (1, 3, 224, 448)\n",
      "\n",
      "0: 224x448 (no detections), 19.7ms\n",
      "Speed: 1.3ms preprocess, 19.7ms inference, 0.0ms postprocess per image at shape (1, 3, 224, 448)\n"
     ]
    },
    {
     "name": "stderr",
     "output_type": "stream",
     "text": [
      " 98%|█████████▊| 580/592 [00:55<00:00, 16.97it/s]"
     ]
    },
    {
     "name": "stdout",
     "output_type": "stream",
     "text": [
      "\n",
      "0: 224x448 2 STOPs, 15.6ms\n",
      "Speed: 2.0ms preprocess, 15.6ms inference, 0.0ms postprocess per image at shape (1, 3, 224, 448)\n",
      "\n",
      "0: 224x448 (no detections), 19.2ms\n",
      "Speed: 1.0ms preprocess, 19.2ms inference, 1.4ms postprocess per image at shape (1, 3, 224, 448)\n"
     ]
    },
    {
     "name": "stderr",
     "output_type": "stream",
     "text": [
      " 98%|█████████▊| 582/592 [00:55<00:00, 17.14it/s]"
     ]
    },
    {
     "name": "stdout",
     "output_type": "stream",
     "text": [
      "\n",
      "0: 224x448 (no detections), 18.2ms\n",
      "Speed: 1.3ms preprocess, 18.2ms inference, 1.0ms postprocess per image at shape (1, 3, 224, 448)\n",
      "\n",
      "0: 224x448 2 No entrys, 18.1ms\n",
      "Speed: 1.5ms preprocess, 18.1ms inference, 1.0ms postprocess per image at shape (1, 3, 224, 448)\n"
     ]
    },
    {
     "name": "stderr",
     "output_type": "stream",
     "text": [
      " 99%|█████████▊| 584/592 [00:56<00:00, 17.22it/s]"
     ]
    },
    {
     "name": "stdout",
     "output_type": "stream",
     "text": [
      "\n",
      "0: 224x448 1 Speed limit 30 km/h, 19.0ms\n",
      "Speed: 2.1ms preprocess, 19.0ms inference, 0.0ms postprocess per image at shape (1, 3, 224, 448)\n",
      "\n",
      "0: 224x448 (no detections), 18.8ms\n",
      "Speed: 2.0ms preprocess, 18.8ms inference, 0.0ms postprocess per image at shape (1, 3, 224, 448)\n"
     ]
    },
    {
     "name": "stderr",
     "output_type": "stream",
     "text": [
      " 99%|█████████▉| 586/592 [00:56<00:00, 15.82it/s]"
     ]
    },
    {
     "name": "stdout",
     "output_type": "stream",
     "text": [
      "\n",
      "0: 224x448 1 Speed limit 30 km/h, 17.5ms\n",
      "Speed: 2.1ms preprocess, 17.5ms inference, 0.0ms postprocess per image at shape (1, 3, 224, 448)\n",
      "\n",
      "0: 224x448 1 No entry, 19.6ms\n",
      "Speed: 2.2ms preprocess, 19.6ms inference, 0.9ms postprocess per image at shape (1, 3, 224, 448)\n"
     ]
    },
    {
     "name": "stderr",
     "output_type": "stream",
     "text": [
      " 99%|█████████▉| 588/592 [00:56<00:00, 15.28it/s]"
     ]
    },
    {
     "name": "stdout",
     "output_type": "stream",
     "text": [
      "\n",
      "0: 224x448 1 One-way traffic, 18.0ms\n",
      "Speed: 0.9ms preprocess, 18.0ms inference, 2.1ms postprocess per image at shape (1, 3, 224, 448)\n",
      "\n",
      "0: 224x448 (no detections), 17.6ms\n",
      "Speed: 1.0ms preprocess, 17.6ms inference, 1.1ms postprocess per image at shape (1, 3, 224, 448)\n"
     ]
    },
    {
     "name": "stderr",
     "output_type": "stream",
     "text": [
      "100%|█████████▉| 590/592 [00:56<00:00, 14.61it/s]"
     ]
    },
    {
     "name": "stdout",
     "output_type": "stream",
     "text": [
      "\n",
      "0: 224x448 (no detections), 20.0ms\n",
      "Speed: 2.0ms preprocess, 20.0ms inference, 0.0ms postprocess per image at shape (1, 3, 224, 448)\n",
      "\n",
      "0: 448x448 2 Yields, 23.0ms\n",
      "Speed: 3.1ms preprocess, 23.0ms inference, 1.0ms postprocess per image at shape (1, 3, 448, 448)\n"
     ]
    },
    {
     "name": "stderr",
     "output_type": "stream",
     "text": [
      "100%|██████████| 592/592 [00:56<00:00, 10.45it/s]\n"
     ]
    }
   ],
   "source": [
    "for i in tqdm(os.listdir(path=\"test/images\")):\n",
    "    image = cv2.imread(\"test/images/\"+i)\n",
    "    result_img, results = predict_and_detect(model_m, image, classes=[], conf=0.5)\n",
    "    cv2.imwrite(f\"target2/{i}\", result_img)\n"
   ]
  }
 ],
 "metadata": {
  "kernelspec": {
   "display_name": "tf-gpu",
   "language": "python",
   "name": "python3"
  },
  "language_info": {
   "codemirror_mode": {
    "name": "ipython",
    "version": 3
   },
   "file_extension": ".py",
   "mimetype": "text/x-python",
   "name": "python",
   "nbconvert_exporter": "python",
   "pygments_lexer": "ipython3",
   "version": "3.9.18"
  }
 },
 "nbformat": 4,
 "nbformat_minor": 2
}
